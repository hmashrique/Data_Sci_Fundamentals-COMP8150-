{
 "cells": [
  {
   "cell_type": "markdown",
   "id": "622d6456-0b57-4071-b6c6-f6ede8c7fab3",
   "metadata": {
    "tags": []
   },
   "source": [
    "### Assignment 6\n",
    "\n",
    "**Deadline: 4/22/2024 before midnight**"
   ]
  },
  {
   "cell_type": "markdown",
   "id": "d58df792-9a9d-4735-94dd-43a81e15b58d",
   "metadata": {},
   "source": [
    "YOUR NAME:____"
   ]
  },
  {
   "cell_type": "markdown",
   "id": "440b3015-8ec9-4921-bd00-3c8fb1332907",
   "metadata": {},
   "source": [
    "---\n",
    "In this assignment, we analyze the diabetes dataset to predict the onset of diabetes based on diagnostic measures. We employ machine learning models, specifically K-nearest neighbors (KNN) and a dummy classifier, to evaluate their performance."
   ]
  },
  {
   "cell_type": "code",
   "execution_count": 2,
   "id": "decf501e-2f34-4246-a5ec-7cf65836e601",
   "metadata": {},
   "outputs": [
    {
     "data": {
      "text/html": [
       "<div>\n",
       "<style scoped>\n",
       "    .dataframe tbody tr th:only-of-type {\n",
       "        vertical-align: middle;\n",
       "    }\n",
       "\n",
       "    .dataframe tbody tr th {\n",
       "        vertical-align: top;\n",
       "    }\n",
       "\n",
       "    .dataframe thead th {\n",
       "        text-align: right;\n",
       "    }\n",
       "</style>\n",
       "<table border=\"1\" class=\"dataframe\">\n",
       "  <thead>\n",
       "    <tr style=\"text-align: right;\">\n",
       "      <th></th>\n",
       "      <th>Pregnancies</th>\n",
       "      <th>Glucose</th>\n",
       "      <th>BloodPressure</th>\n",
       "      <th>SkinThickness</th>\n",
       "      <th>Insulin</th>\n",
       "      <th>BMI</th>\n",
       "      <th>DiabetesPedigreeFunction</th>\n",
       "      <th>Age</th>\n",
       "      <th>Outcome</th>\n",
       "    </tr>\n",
       "  </thead>\n",
       "  <tbody>\n",
       "    <tr>\n",
       "      <th>299</th>\n",
       "      <td>8</td>\n",
       "      <td>112</td>\n",
       "      <td>72</td>\n",
       "      <td>0</td>\n",
       "      <td>0</td>\n",
       "      <td>23.6</td>\n",
       "      <td>0.840</td>\n",
       "      <td>58</td>\n",
       "      <td>0</td>\n",
       "    </tr>\n",
       "    <tr>\n",
       "      <th>92</th>\n",
       "      <td>7</td>\n",
       "      <td>81</td>\n",
       "      <td>78</td>\n",
       "      <td>40</td>\n",
       "      <td>48</td>\n",
       "      <td>46.7</td>\n",
       "      <td>0.261</td>\n",
       "      <td>42</td>\n",
       "      <td>0</td>\n",
       "    </tr>\n",
       "    <tr>\n",
       "      <th>235</th>\n",
       "      <td>4</td>\n",
       "      <td>171</td>\n",
       "      <td>72</td>\n",
       "      <td>0</td>\n",
       "      <td>0</td>\n",
       "      <td>43.6</td>\n",
       "      <td>0.479</td>\n",
       "      <td>26</td>\n",
       "      <td>1</td>\n",
       "    </tr>\n",
       "  </tbody>\n",
       "</table>\n",
       "</div>"
      ],
      "text/plain": [
       "     Pregnancies  Glucose  BloodPressure  SkinThickness  Insulin   BMI  \\\n",
       "299            8      112             72              0        0  23.6   \n",
       "92             7       81             78             40       48  46.7   \n",
       "235            4      171             72              0        0  43.6   \n",
       "\n",
       "     DiabetesPedigreeFunction  Age  Outcome  \n",
       "299                     0.840   58        0  \n",
       "92                      0.261   42        0  \n",
       "235                     0.479   26        1  "
      ]
     },
     "execution_count": 2,
     "metadata": {},
     "output_type": "execute_result"
    }
   ],
   "source": [
    "import pandas\n",
    "diabetes = pandas.read_csv('../Datasets/diabetes.csv')\n",
    "diabetes.sample(3)"
   ]
  },
  {
   "cell_type": "markdown",
   "id": "319df09e-5c47-406b-be11-814e8b96856d",
   "metadata": {},
   "source": [
    "---\n",
    "**Problem 1**\n",
    "\n",
    "Construct a KNN classifier with 7 nearest neighbors. to predict the Outcome of the dataset.\n",
    "\n",
    "To predict the Outcome variable, use all of the othe variables as features.  \n",
    "\n",
    "Features must be standardized before training the KNN model because distance-based algorithms are sensitive to the scale of the data.\n",
    "\n",
    "Use the `train_test_split` method with a `random_state` of 1234, allocating 97% of the data for training and 3% for testing."
   ]
  },
  {
   "cell_type": "markdown",
   "id": "93a1ec6d-3e41-4420-b2e1-867a9f4a60a8",
   "metadata": {},
   "source": [
    "---\n",
    "**Problem 2**\n",
    "\n",
    "Extract and display the features and target variable from the test set before standardization to analyze their distributions and characteristics.\n"
   ]
  },
  {
   "cell_type": "markdown",
   "id": "ddadc1d7-bbdd-4a5f-bd9b-90daf7352a3a",
   "metadata": {},
   "source": [
    "---\n",
    "**Problem 3**\n",
    "\n",
    "Utilize the KNN model to predict the test set outcomes and display these predictions."
   ]
  },
  {
   "cell_type": "markdown",
   "id": "57d19949-3198-4cf9-9760-373bdc4a405a",
   "metadata": {},
   "source": [
    "---\n",
    "**Problem 4**\n",
    "\n",
    "What does this function do?  Explain using predictions of the test data obtained in Problem 1.\n",
    "\n",
    "```python\n",
    "def get_posneg_indices( predictions ):\n",
    "    pidx = [ i for i in range(len(predictions)) if predictions[i]==1 ]\n",
    "    nidx = [ i for i in range(len(predictions)) if predictions[i]==0 ]\n",
    "    return pidx, nidx\n",
    "```"
   ]
  },
  {
   "cell_type": "markdown",
   "id": "e6a155ac-1adf-4882-89f3-96a25f273579",
   "metadata": {},
   "source": [
    "---\n",
    "**Problem 5**\n",
    "\n",
    "Use `get_posneg_indices` to calculate the number of true positives, false postives, true negatives, and false negatives, when the KNN model in Problem 1 makes predictions with the testing data in Problem 1."
   ]
  },
  {
   "cell_type": "markdown",
   "id": "f647e94d-755d-4987-900a-f4fae79ac860",
   "metadata": {},
   "source": [
    "---\n",
    "**Problem 6**\n",
    "\n",
    "Calculate and report the accuracy, precision, and recall of the KNN model using the predictions and actual outcomes of the test data. These metrics are crucial for understanding the effectiveness of the model in predicting diabetes onset."
   ]
  },
  {
   "cell_type": "markdown",
   "id": "0158f7a4-e530-4bc3-8e9b-bbc89a80e24e",
   "metadata": {},
   "source": [
    "---\n",
    "**Problem 7**\n",
    "\n",
    "Cnstruct a dummy classifier using the `stratified` strategy.  How many positives and negatives, do you expect this model predicts?  How many positives and negatives, does it actually predict?\n",
    "\n",
    "Similar to `DummyRegressor` we previously learned, `DummyClassifier` in scikit-learn is a simple algorithm used as a baseline for comparison with more sophisticated machine learning models. When the `strategy` parameter is set to `\"stratified\"`, the `DummyClassifier` predicts outputs based on the training set's class distribution. \n",
    "\n",
    "This means that it generates predictions by randomly choosing a class according to the observed frequency of each class in the training data. For example, if 20% of the training samples belong to Class A and 80% to Class B, the stratified `DummyClassifier` will predict Class A approximately 20% of the time and Class B approximately 80% of the time. This approach reflects the inherent class probabilities of the dataset, providing a baseline that indicates the performance of a purely random classification model respecting the original class distribution.\n",
    "\n",
    "https://scikit-learn.org/stable/modules/generated/sklearn.dummy.DummyClassifier.html\n"
   ]
  },
  {
   "cell_type": "markdown",
   "id": "7e240400-4fab-4c11-9a87-cd95b6c265f6",
   "metadata": {},
   "source": [
    "---\n",
    "**Problem 8**\n",
    "\n",
    "Calculate the number of true positives, false positives, true negatives, and false negatives for the dummy classifier, using the same test data as the KNN model."
   ]
  },
  {
   "cell_type": "markdown",
   "id": "64a6e2c5-2e96-44f1-9c15-849fea763025",
   "metadata": {},
   "source": [
    "---\n",
    "**Problem 9**\n",
    "\n",
    "Compute the accuracy, precision, and recall for the dummy classifier to evaluate its performance relative to random guessing based on the class distribution in the training data."
   ]
  },
  {
   "cell_type": "markdown",
   "id": "675bea24-b7a1-490a-8fd5-1ead301a613d",
   "metadata": {},
   "source": [
    "---\n",
    "**Problem 10**\n",
    "\n",
    "Conduct a comparative analysis of the KNN classifier and the dummy classifier with a stratified strategy. Discuss the following aspects:\n",
    "\n",
    "* Compare the accuracy of both classifiers to evaluate their overall effectiveness in predicting the correct outcomes.\n",
    "* Assess how precisely the classifiers make positive predictions and their ability to capture actual positive instances respectively.\n"
   ]
  }
 ],
 "metadata": {
  "kernelspec": {
   "display_name": "Python 3 (ipykernel)",
   "language": "python",
   "name": "python3"
  },
  "language_info": {
   "codemirror_mode": {
    "name": "ipython",
    "version": 3
   },
   "file_extension": ".py",
   "mimetype": "text/x-python",
   "name": "python",
   "nbconvert_exporter": "python",
   "pygments_lexer": "ipython3",
   "version": "3.11.5"
  }
 },
 "nbformat": 4,
 "nbformat_minor": 5
}
