{
 "cells": [
  {
   "cell_type": "markdown",
   "id": "622d6456-0b57-4071-b6c6-f6ede8c7fab3",
   "metadata": {
    "tags": []
   },
   "source": [
    "### Assignment 6\n",
    "\n",
    "**Deadline: 4/22/2024 before midnight**"
   ]
  },
  {
   "cell_type": "markdown",
   "id": "d58df792-9a9d-4735-94dd-43a81e15b58d",
   "metadata": {},
   "source": [
    "YOUR NAME:____"
   ]
  },
  {
   "cell_type": "markdown",
   "id": "440b3015-8ec9-4921-bd00-3c8fb1332907",
   "metadata": {},
   "source": [
    "---\n",
    "In this assignment, we analyze the diabetes dataset to predict the onset of diabetes based on diagnostic measures. We employ machine learning models, specifically K-nearest neighbors (KNN) and a dummy classifier, to evaluate their performance."
   ]
  },
  {
   "cell_type": "code",
   "execution_count": 1,
   "id": "decf501e-2f34-4246-a5ec-7cf65836e601",
   "metadata": {},
   "outputs": [
    {
     "data": {
      "text/html": [
       "<div>\n",
       "<style scoped>\n",
       "    .dataframe tbody tr th:only-of-type {\n",
       "        vertical-align: middle;\n",
       "    }\n",
       "\n",
       "    .dataframe tbody tr th {\n",
       "        vertical-align: top;\n",
       "    }\n",
       "\n",
       "    .dataframe thead th {\n",
       "        text-align: right;\n",
       "    }\n",
       "</style>\n",
       "<table border=\"1\" class=\"dataframe\">\n",
       "  <thead>\n",
       "    <tr style=\"text-align: right;\">\n",
       "      <th></th>\n",
       "      <th>Pregnancies</th>\n",
       "      <th>Glucose</th>\n",
       "      <th>BloodPressure</th>\n",
       "      <th>SkinThickness</th>\n",
       "      <th>Insulin</th>\n",
       "      <th>BMI</th>\n",
       "      <th>DiabetesPedigreeFunction</th>\n",
       "      <th>Age</th>\n",
       "      <th>Outcome</th>\n",
       "    </tr>\n",
       "  </thead>\n",
       "  <tbody>\n",
       "    <tr>\n",
       "      <th>289</th>\n",
       "      <td>5</td>\n",
       "      <td>108</td>\n",
       "      <td>72</td>\n",
       "      <td>43</td>\n",
       "      <td>75</td>\n",
       "      <td>36.1</td>\n",
       "      <td>0.263</td>\n",
       "      <td>33</td>\n",
       "      <td>0</td>\n",
       "    </tr>\n",
       "    <tr>\n",
       "      <th>116</th>\n",
       "      <td>5</td>\n",
       "      <td>124</td>\n",
       "      <td>74</td>\n",
       "      <td>0</td>\n",
       "      <td>0</td>\n",
       "      <td>34.0</td>\n",
       "      <td>0.220</td>\n",
       "      <td>38</td>\n",
       "      <td>1</td>\n",
       "    </tr>\n",
       "    <tr>\n",
       "      <th>740</th>\n",
       "      <td>11</td>\n",
       "      <td>120</td>\n",
       "      <td>80</td>\n",
       "      <td>37</td>\n",
       "      <td>150</td>\n",
       "      <td>42.3</td>\n",
       "      <td>0.785</td>\n",
       "      <td>48</td>\n",
       "      <td>1</td>\n",
       "    </tr>\n",
       "  </tbody>\n",
       "</table>\n",
       "</div>"
      ],
      "text/plain": [
       "     Pregnancies  Glucose  BloodPressure  SkinThickness  Insulin   BMI  \\\n",
       "289            5      108             72             43       75  36.1   \n",
       "116            5      124             74              0        0  34.0   \n",
       "740           11      120             80             37      150  42.3   \n",
       "\n",
       "     DiabetesPedigreeFunction  Age  Outcome  \n",
       "289                     0.263   33        0  \n",
       "116                     0.220   38        1  \n",
       "740                     0.785   48        1  "
      ]
     },
     "execution_count": 1,
     "metadata": {},
     "output_type": "execute_result"
    }
   ],
   "source": [
    "import pandas\n",
    "diabetes = pandas.read_csv('../Datasets/diabetes.csv')\n",
    "diabetes.sample(3)"
   ]
  },
  {
   "cell_type": "code",
   "execution_count": null,
   "id": "2306cd40-222a-432e-841b-443e22661b27",
   "metadata": {},
   "outputs": [],
   "source": []
  },
  {
   "cell_type": "markdown",
   "id": "319df09e-5c47-406b-be11-814e8b96856d",
   "metadata": {},
   "source": [
    "---\n",
    "**Problem 1**\n",
    "\n",
    "Construct a KNN classifier with 7 nearest neighbors. to predict the Outcome of the dataset.\n",
    "\n",
    "To predict the Outcome variable, use all of the othe variables as features.  \n",
    "\n",
    "Features must be standardized before training the KNN model because distance-based algorithms are sensitive to the scale of the data.\n",
    "\n",
    "Use the `train_test_split` method with a `random_state` of 1234, allocating 97% of the data for training and 3% for testing."
   ]
  },
  {
   "cell_type": "code",
   "execution_count": 2,
   "id": "615378ea-4195-4517-a828-264fe4677a4c",
   "metadata": {},
   "outputs": [
    {
     "data": {
      "text/html": [
       "<style>#sk-container-id-1 {color: black;}#sk-container-id-1 pre{padding: 0;}#sk-container-id-1 div.sk-toggleable {background-color: white;}#sk-container-id-1 label.sk-toggleable__label {cursor: pointer;display: block;width: 100%;margin-bottom: 0;padding: 0.3em;box-sizing: border-box;text-align: center;}#sk-container-id-1 label.sk-toggleable__label-arrow:before {content: \"▸\";float: left;margin-right: 0.25em;color: #696969;}#sk-container-id-1 label.sk-toggleable__label-arrow:hover:before {color: black;}#sk-container-id-1 div.sk-estimator:hover label.sk-toggleable__label-arrow:before {color: black;}#sk-container-id-1 div.sk-toggleable__content {max-height: 0;max-width: 0;overflow: hidden;text-align: left;background-color: #f0f8ff;}#sk-container-id-1 div.sk-toggleable__content pre {margin: 0.2em;color: black;border-radius: 0.25em;background-color: #f0f8ff;}#sk-container-id-1 input.sk-toggleable__control:checked~div.sk-toggleable__content {max-height: 200px;max-width: 100%;overflow: auto;}#sk-container-id-1 input.sk-toggleable__control:checked~label.sk-toggleable__label-arrow:before {content: \"▾\";}#sk-container-id-1 div.sk-estimator input.sk-toggleable__control:checked~label.sk-toggleable__label {background-color: #d4ebff;}#sk-container-id-1 div.sk-label input.sk-toggleable__control:checked~label.sk-toggleable__label {background-color: #d4ebff;}#sk-container-id-1 input.sk-hidden--visually {border: 0;clip: rect(1px 1px 1px 1px);clip: rect(1px, 1px, 1px, 1px);height: 1px;margin: -1px;overflow: hidden;padding: 0;position: absolute;width: 1px;}#sk-container-id-1 div.sk-estimator {font-family: monospace;background-color: #f0f8ff;border: 1px dotted black;border-radius: 0.25em;box-sizing: border-box;margin-bottom: 0.5em;}#sk-container-id-1 div.sk-estimator:hover {background-color: #d4ebff;}#sk-container-id-1 div.sk-parallel-item::after {content: \"\";width: 100%;border-bottom: 1px solid gray;flex-grow: 1;}#sk-container-id-1 div.sk-label:hover label.sk-toggleable__label {background-color: #d4ebff;}#sk-container-id-1 div.sk-serial::before {content: \"\";position: absolute;border-left: 1px solid gray;box-sizing: border-box;top: 0;bottom: 0;left: 50%;z-index: 0;}#sk-container-id-1 div.sk-serial {display: flex;flex-direction: column;align-items: center;background-color: white;padding-right: 0.2em;padding-left: 0.2em;position: relative;}#sk-container-id-1 div.sk-item {position: relative;z-index: 1;}#sk-container-id-1 div.sk-parallel {display: flex;align-items: stretch;justify-content: center;background-color: white;position: relative;}#sk-container-id-1 div.sk-item::before, #sk-container-id-1 div.sk-parallel-item::before {content: \"\";position: absolute;border-left: 1px solid gray;box-sizing: border-box;top: 0;bottom: 0;left: 50%;z-index: -1;}#sk-container-id-1 div.sk-parallel-item {display: flex;flex-direction: column;z-index: 1;position: relative;background-color: white;}#sk-container-id-1 div.sk-parallel-item:first-child::after {align-self: flex-end;width: 50%;}#sk-container-id-1 div.sk-parallel-item:last-child::after {align-self: flex-start;width: 50%;}#sk-container-id-1 div.sk-parallel-item:only-child::after {width: 0;}#sk-container-id-1 div.sk-dashed-wrapped {border: 1px dashed gray;margin: 0 0.4em 0.5em 0.4em;box-sizing: border-box;padding-bottom: 0.4em;background-color: white;}#sk-container-id-1 div.sk-label label {font-family: monospace;font-weight: bold;display: inline-block;line-height: 1.2em;}#sk-container-id-1 div.sk-label-container {text-align: center;}#sk-container-id-1 div.sk-container {/* jupyter's `normalize.less` sets `[hidden] { display: none; }` but bootstrap.min.css set `[hidden] { display: none !important; }` so we also need the `!important` here to be able to override the default hidden behavior on the sphinx rendered scikit-learn.org. See: https://github.com/scikit-learn/scikit-learn/issues/21755 */display: inline-block !important;position: relative;}#sk-container-id-1 div.sk-text-repr-fallback {display: none;}</style><div id=\"sk-container-id-1\" class=\"sk-top-container\"><div class=\"sk-text-repr-fallback\"><pre>KNeighborsClassifier(n_neighbors=7)</pre><b>In a Jupyter environment, please rerun this cell to show the HTML representation or trust the notebook. <br />On GitHub, the HTML representation is unable to render, please try loading this page with nbviewer.org.</b></div><div class=\"sk-container\" hidden><div class=\"sk-item\"><div class=\"sk-estimator sk-toggleable\"><input class=\"sk-toggleable__control sk-hidden--visually\" id=\"sk-estimator-id-1\" type=\"checkbox\" checked><label for=\"sk-estimator-id-1\" class=\"sk-toggleable__label sk-toggleable__label-arrow\">KNeighborsClassifier</label><div class=\"sk-toggleable__content\"><pre>KNeighborsClassifier(n_neighbors=7)</pre></div></div></div></div></div>"
      ],
      "text/plain": [
       "KNeighborsClassifier(n_neighbors=7)"
      ]
     },
     "execution_count": 2,
     "metadata": {},
     "output_type": "execute_result"
    }
   ],
   "source": [
    "from sklearn.model_selection import train_test_split\n",
    "from sklearn.preprocessing import StandardScaler\n",
    "from sklearn.neighbors import KNeighborsClassifier\n",
    "\n",
    "y = diabetes['Outcome']\n",
    "X = diabetes.drop(columns=['Outcome'])\n",
    "X = StandardScaler().fit_transform(X)\n",
    "X_train, X_test, y_train, y_test = train_test_split(\n",
    "    X, \n",
    "    y, \n",
    "    random_state=1234, \n",
    "    test_size=0.03,\n",
    ")\n",
    "\n",
    "model = KNeighborsClassifier(n_neighbors=7)\n",
    "model.fit(X_train, y_train)\n"
   ]
  },
  {
   "cell_type": "code",
   "execution_count": null,
   "id": "afd77c03-1080-4e4d-aebc-50e68c880ed8",
   "metadata": {},
   "outputs": [],
   "source": []
  },
  {
   "cell_type": "markdown",
   "id": "93a1ec6d-3e41-4420-b2e1-867a9f4a60a8",
   "metadata": {},
   "source": [
    "---\n",
    "**Problem 2**\n",
    "\n",
    "Extract and display the features and target variable from the test set before standardization to analyze their distributions and characteristics.\n"
   ]
  },
  {
   "cell_type": "code",
   "execution_count": 3,
   "id": "cdacc1f6-64a4-4386-beb5-19622a897af1",
   "metadata": {},
   "outputs": [
    {
     "data": {
      "text/html": [
       "<div>\n",
       "<style scoped>\n",
       "    .dataframe tbody tr th:only-of-type {\n",
       "        vertical-align: middle;\n",
       "    }\n",
       "\n",
       "    .dataframe tbody tr th {\n",
       "        vertical-align: top;\n",
       "    }\n",
       "\n",
       "    .dataframe thead th {\n",
       "        text-align: right;\n",
       "    }\n",
       "</style>\n",
       "<table border=\"1\" class=\"dataframe\">\n",
       "  <thead>\n",
       "    <tr style=\"text-align: right;\">\n",
       "      <th></th>\n",
       "      <th>Pregnancies</th>\n",
       "      <th>Glucose</th>\n",
       "      <th>BloodPressure</th>\n",
       "      <th>SkinThickness</th>\n",
       "      <th>Insulin</th>\n",
       "      <th>BMI</th>\n",
       "      <th>DiabetesPedigreeFunction</th>\n",
       "      <th>Age</th>\n",
       "    </tr>\n",
       "  </thead>\n",
       "  <tbody>\n",
       "    <tr>\n",
       "      <th>718</th>\n",
       "      <td>1</td>\n",
       "      <td>108</td>\n",
       "      <td>60</td>\n",
       "      <td>46</td>\n",
       "      <td>178</td>\n",
       "      <td>35.5</td>\n",
       "      <td>0.415</td>\n",
       "      <td>24</td>\n",
       "    </tr>\n",
       "  </tbody>\n",
       "</table>\n",
       "</div>"
      ],
      "text/plain": [
       "     Pregnancies  Glucose  BloodPressure  SkinThickness  Insulin   BMI  \\\n",
       "718            1      108             60             46      178  35.5   \n",
       "\n",
       "     DiabetesPedigreeFunction  Age  \n",
       "718                     0.415   24  "
      ]
     },
     "execution_count": 3,
     "metadata": {},
     "output_type": "execute_result"
    }
   ],
   "source": [
    "X = diabetes.drop(columns=['Outcome'])\n",
    "y = diabetes['Outcome']\n",
    "X_train, X_test, y_train, y_test = train_test_split(\n",
    "    X, \n",
    "    y, \n",
    "    random_state=1234, \n",
    "    test_size=0.03)\n",
    "X_test.sample()"
   ]
  },
  {
   "cell_type": "code",
   "execution_count": 4,
   "id": "b903a7d6-e94b-4da4-b7c8-f76253d72c96",
   "metadata": {},
   "outputs": [
    {
     "data": {
      "text/plain": [
       "<seaborn.axisgrid.FacetGrid at 0x144c7c880>"
      ]
     },
     "execution_count": 4,
     "metadata": {},
     "output_type": "execute_result"
    },
    {
     "data": {
      "image/png": "[encoded data removed]",
      "text/plain": [
       "<Figure size 200x200 with 1 Axes>"
      ]
     },
     "metadata": {},
     "output_type": "display_data"
    },
    {
     "data": {
      "image/png": "[encoded data removed]",
      "text/plain": [
       "<Figure size 200x200 with 1 Axes>"
      ]
     },
     "metadata": {},
     "output_type": "display_data"
    }
   ],
   "source": [
    "import seaborn\n",
    "import warnings\n",
    "warnings.filterwarnings('ignore')\n",
    "seaborn.displot(data=X_test, x='BMI', height=2)\n",
    "seaborn.displot(data=X_test, x='Glucose', height=2)"
   ]
  },
  {
   "cell_type": "markdown",
   "id": "73602415-94a8-498e-ae5d-dc9964affc7c",
   "metadata": {},
   "source": [
    "What can we say about this test data?  BMI looks like normally distributed.\n",
    "This is not quite \"normal\".  Most of these patients in this test set are obese.\n",
    "\n",
    "Glucose levels are also high.\n",
    "\n"
   ]
  },
  {
   "cell_type": "code",
   "execution_count": 5,
   "id": "0db6453c-7af5-4331-8d12-ac9d13e4280f",
   "metadata": {},
   "outputs": [
    {
     "data": {
      "text/plain": [
       "0    14\n",
       "1    10\n",
       "Name: Outcome, dtype: int64"
      ]
     },
     "execution_count": 5,
     "metadata": {},
     "output_type": "execute_result"
    }
   ],
   "source": [
    "y_test.value_counts()"
   ]
  },
  {
   "cell_type": "code",
   "execution_count": null,
   "id": "7701485a-48b9-4ff7-9065-9263f3f08b46",
   "metadata": {},
   "outputs": [],
   "source": []
  },
  {
   "cell_type": "markdown",
   "id": "ddadc1d7-bbdd-4a5f-bd9b-90daf7352a3a",
   "metadata": {},
   "source": [
    "---\n",
    "**Problem 3**\n",
    "\n",
    "Utilize the KNN model to predict the test set outcomes and display these predictions."
   ]
  },
  {
   "cell_type": "code",
   "execution_count": 6,
   "id": "9ea16921-d3b4-41c0-95a8-8f1e78036a4a",
   "metadata": {},
   "outputs": [],
   "source": [
    "X = diabetes.drop(columns=['Outcome'])\n",
    "y = diabetes['Outcome']\n",
    "X = StandardScaler().fit_transform(X)\n",
    "X_train, X_test, y_train, y_test = train_test_split(\n",
    "    X, \n",
    "    y, \n",
    "    random_state=1234, \n",
    "    test_size=0.03)"
   ]
  },
  {
   "cell_type": "code",
   "execution_count": 7,
   "id": "a1859c7b-7c40-4dd2-98ef-6279fc0dff56",
   "metadata": {},
   "outputs": [],
   "source": [
    "from sklearn.neighbors import KNeighborsClassifier\n",
    "model = KNeighborsClassifier()\n",
    "model.fit(X_train, y_train)\n",
    "predictions = model.predict(X_test)"
   ]
  },
  {
   "cell_type": "code",
   "execution_count": 8,
   "id": "14591552-d9ad-4c58-8ee0-090143d00fdc",
   "metadata": {},
   "outputs": [
    {
     "data": {
      "text/plain": [
       "array([0, 1, 0, 1, 0, 0, 0, 0, 0, 0, 1, 0, 1, 0, 0, 0, 1, 0, 0, 1, 1, 0,\n",
       "       0, 1])"
      ]
     },
     "execution_count": 8,
     "metadata": {},
     "output_type": "execute_result"
    }
   ],
   "source": [
    "predictions"
   ]
  },
  {
   "cell_type": "code",
   "execution_count": null,
   "id": "9196ce93-ef2d-4a3a-9522-a4c5bdf90eb5",
   "metadata": {},
   "outputs": [],
   "source": []
  },
  {
   "cell_type": "markdown",
   "id": "57d19949-3198-4cf9-9760-373bdc4a405a",
   "metadata": {},
   "source": [
    "---\n",
    "**Problem 4**\n",
    "\n",
    "What does this function do?  Explain using predictions of the test data obtained in Problem 1.\n",
    "\n",
    "```python\n",
    "def get_posneg_indices( predictions ):\n",
    "    pidx = [ i for i in range(len(predictions)) if predictions[i]==1 ]\n",
    "    nidx = [ i for i in range(len(predictions)) if predictions[i]==0 ]\n",
    "    return pidx, nidx\n",
    "```"
   ]
  },
  {
   "cell_type": "code",
   "execution_count": null,
   "id": "1221c0a7-024a-4487-836d-e1da1f0525ec",
   "metadata": {},
   "outputs": [],
   "source": []
  },
  {
   "cell_type": "markdown",
   "id": "f30b8b6c-e465-4583-8d9d-91106367c720",
   "metadata": {},
   "source": [
    "`get_posneg_indices` returns two lists. The first is the indices of the positive predictions. The second is the indices of the negative predictions."
   ]
  },
  {
   "cell_type": "code",
   "execution_count": 9,
   "id": "39ad3029-3428-41c0-89d7-50371593bfb9",
   "metadata": {},
   "outputs": [],
   "source": [
    "def get_posneg_indices( predictions ):\n",
    "    pidx = [ i for i in range(len(predictions)) if predictions[i]==1 ]\n",
    "    nidx = [ i for i in range(len(predictions)) if predictions[i]==0 ]\n",
    "    return pidx, nidx"
   ]
  },
  {
   "cell_type": "code",
   "execution_count": 10,
   "id": "1cb6200b-98f7-4578-9489-88514898c2dc",
   "metadata": {},
   "outputs": [
    {
     "data": {
      "text/plain": [
       "([1, 3, 10, 12, 16, 19, 20, 23],\n",
       " [0, 2, 4, 5, 6, 7, 8, 9, 11, 13, 14, 15, 17, 18, 21, 22])"
      ]
     },
     "execution_count": 10,
     "metadata": {},
     "output_type": "execute_result"
    }
   ],
   "source": [
    "pos, neg = get_posneg_indices(predictions)\n",
    "pos, neg"
   ]
  },
  {
   "cell_type": "code",
   "execution_count": 11,
   "id": "d8380284-422e-4529-b0c1-7ac019bfc43d",
   "metadata": {},
   "outputs": [
    {
     "data": {
      "text/plain": [
       "array([0, 1, 0, 1, 0, 0, 0, 0, 0, 0, 1, 0, 1, 0, 0, 0, 1, 0, 0, 1, 1, 0,\n",
       "       0, 1])"
      ]
     },
     "execution_count": 11,
     "metadata": {},
     "output_type": "execute_result"
    }
   ],
   "source": [
    "predictions"
   ]
  },
  {
   "cell_type": "markdown",
   "id": "e6a155ac-1adf-4882-89f3-96a25f273579",
   "metadata": {},
   "source": [
    "---\n",
    "**Problem 5**\n",
    "\n",
    "Use `get_posneg_indices` to calculate the number of true positives, false postives, true negatives, and false negatives, when the KNN model in Problem 1 makes predictions with the testing data in Problem 1."
   ]
  },
  {
   "cell_type": "markdown",
   "id": "a98b1a6c-56b3-4f39-bda8-828520ddb80d",
   "metadata": {},
   "source": [
    "```\n",
    "TP = 6\n",
    "FP = 2\n",
    "TN = 12\n",
    "FN = 4\n",
    "```"
   ]
  },
  {
   "cell_type": "code",
   "execution_count": 12,
   "id": "42f75c56-79cd-4ed6-a81f-93d66154c157",
   "metadata": {},
   "outputs": [
    {
     "data": {
      "text/plain": [
       "array([0, 1, 0, 1, 0, 0, 0, 0, 0, 0, 1, 0, 1, 0, 0, 0, 1, 0, 0, 1, 1, 0,\n",
       "       0, 1])"
      ]
     },
     "execution_count": 12,
     "metadata": {},
     "output_type": "execute_result"
    }
   ],
   "source": [
    "predictions"
   ]
  },
  {
   "cell_type": "code",
   "execution_count": 13,
   "id": "06b00add-48d7-41b4-b70d-87091df20a32",
   "metadata": {},
   "outputs": [
    {
     "data": {
      "text/plain": [
       "array([0, 0, 1, 1, 0, 0, 0, 0, 1, 0, 1, 0, 0, 0, 0, 0, 1, 1, 0, 1, 1, 1,\n",
       "       0, 1])"
      ]
     },
     "execution_count": 13,
     "metadata": {},
     "output_type": "execute_result"
    }
   ],
   "source": [
    "y_test.values"
   ]
  },
  {
   "cell_type": "code",
   "execution_count": null,
   "id": "41d0afcf-2dca-4436-b18d-4ba5384c2b37",
   "metadata": {},
   "outputs": [],
   "source": []
  },
  {
   "cell_type": "markdown",
   "id": "f647e94d-755d-4987-900a-f4fae79ac860",
   "metadata": {},
   "source": [
    "---\n",
    "**Problem 6**\n",
    "\n",
    "Calculate and report the accuracy, precision, and recall of the KNN model using the predictions and actual outcomes of the test data. These metrics are crucial for understanding the effectiveness of the model in predicting diabetes onset."
   ]
  },
  {
   "cell_type": "markdown",
   "id": "23348d2b-ab85-4394-a5e1-e764bc9ec003",
   "metadata": {},
   "source": [
    "```\n",
    "Accuracy = (6+12)/24 = 18/24\n",
    "Precision = 6/(6 + 2) = 6/8\n",
    "Recall = 6/(6 + 4) = 6/10\n",
    "\n",
    "```"
   ]
  },
  {
   "cell_type": "code",
   "execution_count": null,
   "id": "974ba8a7-ca4b-41b2-a925-9ac3a2ce41e8",
   "metadata": {},
   "outputs": [],
   "source": []
  },
  {
   "cell_type": "markdown",
   "id": "0158f7a4-e530-4bc3-8e9b-bbc89a80e24e",
   "metadata": {},
   "source": [
    "---\n",
    "**Problem 7**\n",
    "\n",
    "Cnstruct a dummy classifier using the `stratified` strategy.  How many positives and negatives, do you expect this model predicts?  How many positives and negatives, does it actually predict?\n",
    "\n",
    "Similar to `DummyRegressor` we previously learned, `DummyClassifier` in scikit-learn is a simple algorithm used as a baseline for comparison with more sophisticated machine learning models. When the `strategy` parameter is set to `\"stratified\"`, the `DummyClassifier` predicts outputs based on the training set's class distribution. \n",
    "\n",
    "This means that it generates predictions by randomly choosing a class according to the observed frequency of each class in the training data. For example, if 20% of the training samples belong to Class A and 80% to Class B, the stratified `DummyClassifier` will predict Class A approximately 20% of the time and Class B approximately 80% of the time. This approach reflects the inherent class probabilities of the dataset, providing a baseline that indicates the performance of a purely random classification model respecting the original class distribution.\n",
    "\n",
    "https://scikit-learn.org/stable/modules/generated/sklearn.dummy.DummyClassifier.html\n"
   ]
  },
  {
   "cell_type": "code",
   "execution_count": null,
   "id": "3c99a8b9-ba06-4bc5-9410-90edfddde6ee",
   "metadata": {},
   "outputs": [],
   "source": []
  },
  {
   "cell_type": "code",
   "execution_count": 14,
   "id": "a02d0ba1-e8fd-4bb6-80d8-11e7870c7566",
   "metadata": {},
   "outputs": [
    {
     "data": {
      "text/plain": [
       "([0, 7, 9, 10, 12, 13, 16, 22],\n",
       " [1, 2, 3, 4, 5, 6, 8, 11, 14, 15, 17, 18, 19, 20, 21, 23])"
      ]
     },
     "execution_count": 14,
     "metadata": {},
     "output_type": "execute_result"
    }
   ],
   "source": [
    "from sklearn.dummy import DummyClassifier\n",
    "\n",
    "baseline = DummyClassifier(strategy='stratified')\n",
    "baseline.fit(X_train, y_train)\n",
    "predictions = baseline.predict(X_test)\n",
    "pos, neg = get_posneg_indices(predictions)\n",
    "pos, neg\n"
   ]
  },
  {
   "cell_type": "code",
   "execution_count": 15,
   "id": "e953ea7e-7e83-4e0c-b8ce-b1c690358027",
   "metadata": {},
   "outputs": [
    {
     "data": {
      "text/plain": [
       "0    0.653226\n",
       "1    0.346774\n",
       "Name: Outcome, dtype: float64"
      ]
     },
     "execution_count": 15,
     "metadata": {},
     "output_type": "execute_result"
    }
   ],
   "source": [
    "y_train.value_counts(1)"
   ]
  },
  {
   "cell_type": "code",
   "execution_count": 16,
   "id": "c45ef3fc-94b6-40ee-be82-a8f37129b858",
   "metadata": {},
   "outputs": [
    {
     "data": {
      "text/plain": [
       "0    16.0\n",
       "1     8.0\n",
       "Name: Outcome, dtype: float64"
      ]
     },
     "execution_count": 16,
     "metadata": {},
     "output_type": "execute_result"
    }
   ],
   "source": [
    "(y_train.value_counts(1) * len(y_test)).round(0)"
   ]
  },
  {
   "cell_type": "markdown",
   "id": "68c7bbb2-c154-4a34-bf0f-6777334dd7e1",
   "metadata": {},
   "source": [
    "We expect 16 negative predictions, and 8 positive predictions from stratified dummy classifier."
   ]
  },
  {
   "cell_type": "markdown",
   "id": "e626fd93-0387-472e-9094-e3c079527e51",
   "metadata": {},
   "source": [
    "In actuality, this classifier made 9 positive predictions, and 15 negative predictions."
   ]
  },
  {
   "cell_type": "markdown",
   "id": "7e240400-4fab-4c11-9a87-cd95b6c265f6",
   "metadata": {},
   "source": [
    "---\n",
    "**Problem 8**\n",
    "\n",
    "Calculate the number of true positives, false positives, true negatives, and false negatives for the dummy classifier, using the same test data as the KNN model."
   ]
  },
  {
   "cell_type": "markdown",
   "id": "73fa1b51-a862-4733-8995-f7a12766b279",
   "metadata": {},
   "source": [
    "```\n",
    "TP = 6\n",
    "FP = 2\n",
    "TN = 12\n",
    "FN = 4\n",
    "\n",
    "```"
   ]
  },
  {
   "cell_type": "code",
   "execution_count": 17,
   "id": "4dbff1f6-8fbb-46c1-8096-1dea24358ca5",
   "metadata": {},
   "outputs": [
    {
     "name": "stdout",
     "output_type": "stream",
     "text": [
      "[1 0 0 0 0 0 0 1 0 1 1 0 1 1 0 0 1 0 0 0 0 0 1 0]\n",
      "[0 0 1 1 0 0 0 0 1 0 1 0 0 0 0 0 1 1 0 1 1 1 0 1]\n"
     ]
    },
    {
     "data": {
      "text/plain": [
       "24"
      ]
     },
     "execution_count": 17,
     "metadata": {},
     "output_type": "execute_result"
    }
   ],
   "source": [
    "print(predictions)\n",
    "print(y_test.values)\n",
    "len(predictions)"
   ]
  },
  {
   "cell_type": "markdown",
   "id": "64a6e2c5-2e96-44f1-9c15-849fea763025",
   "metadata": {},
   "source": [
    "---\n",
    "**Problem 9**\n",
    "\n",
    "Compute the accuracy, precision, and recall for the dummy classifier to evaluate its performance relative to random guessing based on the class distribution in the training data."
   ]
  },
  {
   "cell_type": "markdown",
   "id": "053d621b-4c45-45c6-aadb-e46777849bee",
   "metadata": {},
   "source": [
    "```\n",
    "Accuracy = 18/24\n",
    "Precision = 6/8\n",
    "Recall = 6/18\n",
    "\n",
    "```"
   ]
  },
  {
   "cell_type": "code",
   "execution_count": 18,
   "id": "df935bbe-872b-4757-b87b-d2e8a9b124b0",
   "metadata": {},
   "outputs": [
    {
     "data": {
      "text/plain": [
       "0    58.0\n",
       "1    42.0\n",
       "Name: Outcome, dtype: float64"
      ]
     },
     "execution_count": 18,
     "metadata": {},
     "output_type": "execute_result"
    }
   ],
   "source": [
    "y_test.value_counts(1).round(2)*100"
   ]
  },
  {
   "cell_type": "code",
   "execution_count": 19,
   "id": "4a9f4e04-fb30-45ec-ad80-bece394c0e61",
   "metadata": {},
   "outputs": [
    {
     "data": {
      "text/plain": [
       "0.75"
      ]
     },
     "execution_count": 19,
     "metadata": {},
     "output_type": "execute_result"
    }
   ],
   "source": [
    "18/24"
   ]
  },
  {
   "cell_type": "markdown",
   "id": "2ee5241b-c1e6-45ca-a415-776245b56f2b",
   "metadata": {},
   "source": [
    "Random guessing based on the distribution of y_test should be about 58% accurate.  This classifier is 0.75% accuracy."
   ]
  },
  {
   "cell_type": "markdown",
   "id": "675bea24-b7a1-490a-8fd5-1ead301a613d",
   "metadata": {},
   "source": [
    "---\n",
    "**Problem 10**\n",
    "\n",
    "Conduct a comparative analysis of the KNN classifier and the dummy classifier with a stratified strategy. Discuss the following aspects:\n",
    "\n",
    "* Compare the accuracy of both classifiers to evaluate their overall effectiveness in predicting the correct outcomes.\n",
    "* Assess how precisely the classifiers make positive predictions and their ability to capture actual positive instances respectively.\n"
   ]
  },
  {
   "cell_type": "code",
   "execution_count": null,
   "id": "6895a4ad-976c-463b-8a07-e108f5dbb3fc",
   "metadata": {},
   "outputs": [],
   "source": []
  },
  {
   "cell_type": "code",
   "execution_count": 20,
   "id": "6d5e61c7-9c96-4d1d-83d5-b1ed6d925cd1",
   "metadata": {},
   "outputs": [],
   "source": [
    "X = diabetes.drop(columns=['Outcome'])\n",
    "y = diabetes['Outcome']\n",
    "X = StandardScaler().fit_transform(X)\n"
   ]
  },
  {
   "cell_type": "code",
   "execution_count": 21,
   "id": "be3b1361-6874-454c-9d3c-6625e65b62e7",
   "metadata": {},
   "outputs": [],
   "source": [
    "from sklearn.neighbors import KNeighborsClassifier\n",
    "from sklearn.dummy import DummyClassifier\n",
    "\n",
    "model = KNeighborsClassifier()\n",
    "baseline = DummyClassifier(strategy='stratified')\n",
    "\n"
   ]
  },
  {
   "cell_type": "code",
   "execution_count": 22,
   "id": "42d35bb0-5a1d-46ce-9ec7-acf8a4c3d4fd",
   "metadata": {},
   "outputs": [
    {
     "name": "stdout",
     "output_type": "stream",
     "text": [
      "0.74\n",
      "0.66\n",
      "0.54\n"
     ]
    }
   ],
   "source": [
    "from sklearn.model_selection import cross_validate, ShuffleSplit\n",
    "cv = ShuffleSplit(n_splits=100)\n",
    "result = cross_validate(model, X, y, cv=cv, scoring=['accuracy','precision','recall'])\n",
    "print(result['test_accuracy'].mean().round(2))\n",
    "print(result['test_precision'].mean().round(2))\n",
    "print(result['test_recall'].mean().round(2))"
   ]
  },
  {
   "cell_type": "code",
   "execution_count": 23,
   "id": "ff8121ae-7fc7-4a88-855f-f6526e31f8d8",
   "metadata": {},
   "outputs": [
    {
     "name": "stdout",
     "output_type": "stream",
     "text": [
      "0.55\n",
      "0.36\n",
      "0.35\n"
     ]
    }
   ],
   "source": [
    "result = cross_validate(baseline, X, y, cv=cv, scoring=['accuracy','recall','precision'])\n",
    "print(result['test_accuracy'].mean().round(2))\n",
    "print(result['test_precision'].mean().round(2))\n",
    "print(result['test_recall'].mean().round(2))"
   ]
  },
  {
   "cell_type": "code",
   "execution_count": 25,
   "id": "f50143ac-254f-4578-9640-cb76a8d8264f",
   "metadata": {},
   "outputs": [
    {
     "data": {
      "text/plain": [
       "dict_keys(['fit_time', 'score_time', 'test_accuracy', 'test_recall', 'test_precision'])"
      ]
     },
     "execution_count": 25,
     "metadata": {},
     "output_type": "execute_result"
    }
   ],
   "source": [
    "result.keys()"
   ]
  },
  {
   "cell_type": "markdown",
   "id": "7ddbefce-3d89-489d-a4d1-b3682f588202",
   "metadata": {},
   "source": [
    "KNN is more accurate (0.73 vs 0.54) and more precise (0.64 vs 0.34)."
   ]
  },
  {
   "cell_type": "code",
   "execution_count": null,
   "id": "f000371e-1a04-4e37-aff0-e8e030694db7",
   "metadata": {},
   "outputs": [],
   "source": []
  }
 ],
 "metadata": {
  "kernelspec": {
   "display_name": "Python 3 (ipykernel)",
   "language": "python",
   "name": "python3"
  },
  "language_info": {
   "codemirror_mode": {
    "name": "ipython",
    "version": 3
   },
   "file_extension": ".py",
   "mimetype": "text/x-python",
   "name": "python",
   "nbconvert_exporter": "python",
   "pygments_lexer": "ipython3",
   "version": "3.9.16"
  }
 },
 "nbformat": 4,
 "nbformat_minor": 5
}
