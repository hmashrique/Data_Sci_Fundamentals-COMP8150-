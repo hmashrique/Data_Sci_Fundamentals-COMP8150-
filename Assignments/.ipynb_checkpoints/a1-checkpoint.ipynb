{
 "cells": [
  {
   "cell_type": "markdown",
   "id": "f5074219-7448-4bc3-b680-63c7e7315f39",
   "metadata": {},
   "source": [
    "# COMP 7150 Assignment 1\n",
    "\n",
    "**Deadline**: 02/14/2024 midnight"
   ]
  },
  {
   "cell_type": "markdown",
   "id": "37b32ec3-3ec5-4c27-ae64-0d40609a26d4",
   "metadata": {},
   "source": [
    "NAME: _______________"
   ]
  },
  {
   "cell_type": "markdown",
   "id": "6a0bc79e-40bb-4741-9169-838ba7a01c50",
   "metadata": {},
   "source": [
    "**Objective**: This assignment is designed to reinforce your skills in data manipulation and visualization using Pandas and Seaborn with the Auto MPG dataset. By completing this assignment, you will practice techniques including data selection, querying, creating new columns, and visualization."
   ]
  },
  {
   "cell_type": "markdown",
   "id": "2f4119ce-dd92-4664-9297-de83afa56bff",
   "metadata": {},
   "source": [
    "---\n",
    "**Note on academic honesty**\n",
    "\n",
    "All the work you write down and submit in this assignment, must be already discussed in class.\n",
    "\n",
    "If you use code from other source, you must provide the links to where you use it.\n",
    "\n",
    "The work must be yours.  Violation receives a zero for the assignment.\n",
    "\n",
    "---"
   ]
  },
  {
   "cell_type": "markdown",
   "id": "0b6eeb6c-9a3e-49ed-9ef7-2c6dbdac6d61",
   "metadata": {},
   "source": [
    "**Submission Requirements**:\n",
    "\n",
    "* Ensure your code is well-commented to explain your logic and steps.\n",
    "* Include markdown cells in your Jupyter Notebook to briefly describe your approach and findings for each question.\n",
    "* Turn in a Jupyter notebook to Canvas before the due date\n",
    "* Late submissions receive a 10-point deduction.\n",
    "* No submission is accepted after the Assignment 1 submission folder is closed.\n",
    "\n",
    "Each problem is worth 10 points."
   ]
  },
  {
   "cell_type": "markdown",
   "id": "252b4155-2ad3-4ebe-b16d-a720d37948ed",
   "metadata": {},
   "source": [
    "---\n",
    "**Problem 1**\n",
    "\n",
    "Select and display the rows where the vehicles have 4 cylinders."
   ]
  },
  {
   "cell_type": "markdown",
   "id": "069af5b5-7f06-4d89-b1b2-0962435b4d23",
   "metadata": {},
   "source": [
    "---\n",
    "**Problem 2**\n",
    "\n",
    "Query and display vehicles with 'mpg' greater than 30 and 'cylinders' equal to 4.\n"
   ]
  },
  {
   "cell_type": "markdown",
   "id": "661a16d4-7162-4a37-a644-c65546856673",
   "metadata": {},
   "source": [
    "---\n",
    "**Problem 3**\n",
    "\n",
    "Create a new column named 'weight_kg' by converting 'weight' from pounds to kilograms. (1 pound = 0.453592 kg)\n"
   ]
  },
  {
   "cell_type": "markdown",
   "id": "3c45c96f-0637-406e-a7ad-4a8a04ba9169",
   "metadata": {},
   "source": [
    "---\n",
    "**Problem 4**\n",
    "\n",
    "Calculate and display the average 'mpg' for vehicles with 6 cylinders.\n"
   ]
  },
  {
   "cell_type": "markdown",
   "id": "8fa4ed3c-6cbd-4352-91bb-0d6361db89db",
   "metadata": {},
   "source": [
    "---\n",
    "**Problem 5**\n",
    "\n",
    "Use Seaborn to create a histogram of the 'mpg' column. Adjust the bins to improve readability.\n"
   ]
  },
  {
   "cell_type": "markdown",
   "id": "4432e35e-7757-4530-9633-a2eb1e8b7c10",
   "metadata": {},
   "source": [
    "---\n",
    "**Problem 6**\n",
    "\n",
    "Visualize the relationship between 'weight_kg' and 'mpg'. Describe the trend."
   ]
  },
  {
   "cell_type": "markdown",
   "id": "78a745e5-50d9-429f-919c-06ba8109835c",
   "metadata": {},
   "source": [
    "---\n",
    "**Problem 7**\n",
    "\n",
    "Group the dataset by 'cylinders' and calculate the mean 'mpg' for each group. Display the result.\n"
   ]
  },
  {
   "cell_type": "markdown",
   "id": "f924e6d7-5a2a-49cc-ab79-a6db6c192acb",
   "metadata": {},
   "source": [
    "---\n",
    "**Problem 8**\n",
    "\n",
    "Select and display vehicles that are above the 75th percentile in 'mpg' within their respective 'cylinder' category.\n"
   ]
  },
  {
   "cell_type": "markdown",
   "id": "57d48afe-06f0-458a-ad1c-44c8874464a9",
   "metadata": {},
   "source": [
    "---\n",
    "**Problem 9**\n",
    "\n",
    "Define a custom function to calculate the range (difference between max and min) of 'mpg' values for each 'cylinders' group.\n",
    "\n",
    "Use this custom function in a `groupby` operation to calculate the 'mpg' range for each 'cylinders' group and display the results.\n",
    "\n",
    "Display the results, and then analyze whether vehicles with more cylinders tend to have a reduced range of 'mpg' values compared to those with fewer cylinders."
   ]
  },
  {
   "cell_type": "markdown",
   "id": "683bacf8-3cdd-4918-a52c-3f3bc3921748",
   "metadata": {},
   "source": [
    "---\n",
    "**Problem 10**\n",
    "\n",
    "Categorizes vehicles into 'Light', 'Medium', and 'Heavy' based on 'weight_kg'. Use the following criteria: 'Light' (< 1500 kg), 'Medium' (1500-2000 kg), 'Heavy' (> 2000 kg). Use the `apply` method to create a new column 'weight_category' based on this custom function.\n",
    "\n",
    "Analyze the results to determine the relationship between vehicle weight/weight_category and fuel efficiency.\n"
   ]
  },
  {
   "cell_type": "markdown",
   "id": "48e3167a-1f81-4ac3-8560-b8d9b87925c9",
   "metadata": {},
   "source": [
    "---\n",
    "**Problem 11**\n",
    "\n",
    "Explore how the origin of vehicles affects their 'mpg'. Calculate the average 'mpg' for vehicles from each origin.\n",
    "\n",
    "Utilize groupby on the 'origin' column and aggregate using a mean function to find the average 'mpg'.\n",
    "\n",
    "Discuss the findings to understand if vehicle origin is indicative of fuel efficiency.\n",
    "\n"
   ]
  }
 ],
 "metadata": {
  "kernelspec": {
   "display_name": "Python 3 (ipykernel)",
   "language": "python",
   "name": "python3"
  },
  "language_info": {
   "codemirror_mode": {
    "name": "ipython",
    "version": 3
   },
   "file_extension": ".py",
   "mimetype": "text/x-python",
   "name": "python",
   "nbconvert_exporter": "python",
   "pygments_lexer": "ipython3",
   "version": "3.9.18"
  }
 },
 "nbformat": 4,
 "nbformat_minor": 5
}
