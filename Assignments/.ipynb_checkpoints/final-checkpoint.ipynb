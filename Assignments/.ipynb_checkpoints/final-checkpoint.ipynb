{
 "cells": [
  {
   "cell_type": "markdown",
   "id": "70fef74a-207c-4165-b534-201b0d75abe4",
   "metadata": {},
   "source": [
    "# COMP 7150 Final Exam"
   ]
  },
  {
   "cell_type": "markdown",
   "id": "4f70f349-3677-45de-ab01-282a6721d04d",
   "metadata": {},
   "source": [
    "WRITE YOUR NAME HERE: Hasan Mashrique\n",
    "\n",
    "Note: a violation of academic misconduct results in failing the course."
   ]
  },
  {
   "cell_type": "markdown",
   "id": "914f9a93-8c4a-49e4-a2cd-4efff0037750",
   "metadata": {},
   "source": [
    "----\n",
    "\n",
    "We use the kidney disease dataset for this exam. Each row represents one person.  The target variable (classification) indicates if the person has kidney disease for not (value of 1 means having the disease; 0 mean not having the disease).  Here are the features:\n",
    "```\n",
    "age - age \n",
    "bp - blood pressure \n",
    "sg - specific gravity \n",
    "al - albumin \n",
    "su - sugar \n",
    "rbc - red blood cells \n",
    "pc - pus cell \n",
    "pcc - pus cell clumps \n",
    "ba - bacteria \n",
    "bgr - glucose in blood (aka blood glucose random)\n",
    "bu - blood urea \n",
    "sc - serum creatinine \n",
    "sod - sodium \n",
    "pot - potassium \n",
    "hemo - hemoglobin \n",
    "pcv - packed cell volume \n",
    "wc - white blood cell count \n",
    "rc - red blood cell count \n",
    "htn - hypertension \n",
    "dm - diabetes mellitus \n",
    "cad - coronary artery disease \n",
    "appet - appetite \n",
    "pe - pedal edema \n",
    "ane - anemia \n",
    "```\n"
   ]
  },
  {
   "cell_type": "code",
   "execution_count": 25,
   "id": "dd04189a-f267-4f13-87c0-b8c3478f19c7",
   "metadata": {},
   "outputs": [],
   "source": [
    "import pandas,seaborn\n",
    "%matplotlib inline\n",
    "\n",
    "\n"
   ]
  },
  {
   "cell_type": "code",
   "execution_count": 18,
   "id": "e63e4a81-64dc-4173-9a07-af23e33fb596",
   "metadata": {},
   "outputs": [
    {
     "data": {
      "text/html": [
       "<div>\n",
       "<style scoped>\n",
       "    .dataframe tbody tr th:only-of-type {\n",
       "        vertical-align: middle;\n",
       "    }\n",
       "\n",
       "    .dataframe tbody tr th {\n",
       "        vertical-align: top;\n",
       "    }\n",
       "\n",
       "    .dataframe thead th {\n",
       "        text-align: right;\n",
       "    }\n",
       "</style>\n",
       "<table border=\"1\" class=\"dataframe\">\n",
       "  <thead>\n",
       "    <tr style=\"text-align: right;\">\n",
       "      <th></th>\n",
       "      <th>age</th>\n",
       "      <th>bp</th>\n",
       "      <th>sg</th>\n",
       "      <th>al</th>\n",
       "      <th>su</th>\n",
       "      <th>rbc</th>\n",
       "      <th>pc</th>\n",
       "      <th>pcc</th>\n",
       "      <th>ba</th>\n",
       "      <th>bgr</th>\n",
       "      <th>...</th>\n",
       "      <th>pcv</th>\n",
       "      <th>wc</th>\n",
       "      <th>rc</th>\n",
       "      <th>htn</th>\n",
       "      <th>dm</th>\n",
       "      <th>cad</th>\n",
       "      <th>appet</th>\n",
       "      <th>pe</th>\n",
       "      <th>ane</th>\n",
       "      <th>classification</th>\n",
       "    </tr>\n",
       "  </thead>\n",
       "  <tbody>\n",
       "    <tr>\n",
       "      <th>324</th>\n",
       "      <td>40.0</td>\n",
       "      <td>80.0</td>\n",
       "      <td>1.02</td>\n",
       "      <td>0.0</td>\n",
       "      <td>0.0</td>\n",
       "      <td>normal</td>\n",
       "      <td>normal</td>\n",
       "      <td>notpresent</td>\n",
       "      <td>notpresent</td>\n",
       "      <td>119.0</td>\n",
       "      <td>...</td>\n",
       "      <td>NaN</td>\n",
       "      <td>NaN</td>\n",
       "      <td>NaN</td>\n",
       "      <td>no</td>\n",
       "      <td>no</td>\n",
       "      <td>no</td>\n",
       "      <td>good</td>\n",
       "      <td>no</td>\n",
       "      <td>no</td>\n",
       "      <td>0</td>\n",
       "    </tr>\n",
       "    <tr>\n",
       "      <th>89</th>\n",
       "      <td>50.0</td>\n",
       "      <td>70.0</td>\n",
       "      <td>1.02</td>\n",
       "      <td>0.0</td>\n",
       "      <td>0.0</td>\n",
       "      <td>NaN</td>\n",
       "      <td>normal</td>\n",
       "      <td>notpresent</td>\n",
       "      <td>notpresent</td>\n",
       "      <td>109.0</td>\n",
       "      <td>...</td>\n",
       "      <td>NaN</td>\n",
       "      <td>NaN</td>\n",
       "      <td>NaN</td>\n",
       "      <td>no</td>\n",
       "      <td>no</td>\n",
       "      <td>no</td>\n",
       "      <td>poor</td>\n",
       "      <td>no</td>\n",
       "      <td>no</td>\n",
       "      <td>1</td>\n",
       "    </tr>\n",
       "    <tr>\n",
       "      <th>190</th>\n",
       "      <td>6.0</td>\n",
       "      <td>60.0</td>\n",
       "      <td>1.01</td>\n",
       "      <td>4.0</td>\n",
       "      <td>0.0</td>\n",
       "      <td>abnormal</td>\n",
       "      <td>abnormal</td>\n",
       "      <td>notpresent</td>\n",
       "      <td>present</td>\n",
       "      <td>94.0</td>\n",
       "      <td>...</td>\n",
       "      <td>30</td>\n",
       "      <td>16700</td>\n",
       "      <td>4.8</td>\n",
       "      <td>no</td>\n",
       "      <td>no</td>\n",
       "      <td>no</td>\n",
       "      <td>poor</td>\n",
       "      <td>no</td>\n",
       "      <td>no</td>\n",
       "      <td>1</td>\n",
       "    </tr>\n",
       "  </tbody>\n",
       "</table>\n",
       "<p>3 rows × 25 columns</p>\n",
       "</div>"
      ],
      "text/plain": [
       "      age    bp    sg   al   su       rbc        pc         pcc          ba  \\\n",
       "324  40.0  80.0  1.02  0.0  0.0    normal    normal  notpresent  notpresent   \n",
       "89   50.0  70.0  1.02  0.0  0.0       NaN    normal  notpresent  notpresent   \n",
       "190   6.0  60.0  1.01  4.0  0.0  abnormal  abnormal  notpresent     present   \n",
       "\n",
       "       bgr  ...  pcv     wc   rc  htn  dm cad appet  pe ane classification  \n",
       "324  119.0  ...  NaN    NaN  NaN   no  no  no  good  no  no              0  \n",
       "89   109.0  ...  NaN    NaN  NaN   no  no  no  poor  no  no              1  \n",
       "190   94.0  ...   30  16700  4.8   no  no  no  poor  no  no              1  \n",
       "\n",
       "[3 rows x 25 columns]"
      ]
     },
     "execution_count": 18,
     "metadata": {},
     "output_type": "execute_result"
    }
   ],
   "source": [
    "data = pandas.read_csv('../Datasets/kidney_disease.csv')\n",
    "\n",
    "data.sample(3)"
   ]
  },
  {
   "cell_type": "code",
   "execution_count": 19,
   "id": "fe5c99af-e293-40a9-bfe1-0a43c9614db4",
   "metadata": {},
   "outputs": [
    {
     "data": {
      "text/plain": [
       "Index(['age', 'bp', 'sg', 'al', 'su', 'rbc', 'pc', 'pcc', 'ba', 'bgr', 'bu',\n",
       "       'sc', 'sod', 'pot', 'hemo', 'pcv', 'wc', 'rc', 'htn', 'dm', 'cad',\n",
       "       'appet', 'pe', 'ane', 'classification'],\n",
       "      dtype='object')"
      ]
     },
     "execution_count": 19,
     "metadata": {},
     "output_type": "execute_result"
    }
   ],
   "source": [
    "data.columns"
   ]
  },
  {
   "cell_type": "code",
   "execution_count": 20,
   "id": "cc5102e2-900e-4af8-8ee4-c9e7bac9ced7",
   "metadata": {},
   "outputs": [
    {
     "data": {
      "text/plain": [
       "400"
      ]
     },
     "execution_count": 20,
     "metadata": {},
     "output_type": "execute_result"
    }
   ],
   "source": [
    "len(data)"
   ]
  },
  {
   "cell_type": "markdown",
   "id": "6ebcd50b-ebc3-4d27-b67c-4581e86218f1",
   "metadata": {},
   "source": [
    "\n",
    "**Note: subsequent problems implicitly refer to previous questions.**"
   ]
  },
  {
   "cell_type": "markdown",
   "id": "6fd25285-6400-4a55-a8ed-56cf0098e633",
   "metadata": {},
   "source": [
    "---\n",
    "**Problem 1**\n",
    "\n",
    "Which features have more than 100 missing data points?  Create a new dataset (dataframe) without these features. Do not drop the remaining missing data at this point. You will use this new dataset for the next problems."
   ]
  },
  {
   "cell_type": "code",
   "execution_count": 21,
   "id": "40c729d6-efc5-4116-9544-7a4f0ea5494c",
   "metadata": {},
   "outputs": [
    {
     "data": {
      "text/plain": [
       "age                 9\n",
       "bp                 12\n",
       "sg                 47\n",
       "al                 46\n",
       "su                 49\n",
       "rbc               152\n",
       "pc                 65\n",
       "pcc                 4\n",
       "ba                  4\n",
       "bgr                44\n",
       "bu                 19\n",
       "sc                 17\n",
       "sod                87\n",
       "pot                88\n",
       "hemo               52\n",
       "pcv                70\n",
       "wc                105\n",
       "rc                130\n",
       "htn                 2\n",
       "dm                  2\n",
       "cad                 2\n",
       "appet               1\n",
       "pe                  1\n",
       "ane                 1\n",
       "classification      0\n",
       "dtype: int64"
      ]
     },
     "execution_count": 21,
     "metadata": {},
     "output_type": "execute_result"
    }
   ],
   "source": [
    "data.isna().sum()"
   ]
  },
  {
   "cell_type": "markdown",
   "id": "7844047e-6c68-48a3-be06-5eae5e03886d",
   "metadata": {},
   "source": [
    "3 columns `rbc` , `wc` and `rc` have more than 100 null values. So, we remove them."
   ]
  },
  {
   "cell_type": "code",
   "execution_count": 22,
   "id": "cc250c0c-6c3e-49db-8b24-8caefa05d503",
   "metadata": {},
   "outputs": [
    {
     "data": {
      "text/html": [
       "<div>\n",
       "<style scoped>\n",
       "    .dataframe tbody tr th:only-of-type {\n",
       "        vertical-align: middle;\n",
       "    }\n",
       "\n",
       "    .dataframe tbody tr th {\n",
       "        vertical-align: top;\n",
       "    }\n",
       "\n",
       "    .dataframe thead th {\n",
       "        text-align: right;\n",
       "    }\n",
       "</style>\n",
       "<table border=\"1\" class=\"dataframe\">\n",
       "  <thead>\n",
       "    <tr style=\"text-align: right;\">\n",
       "      <th></th>\n",
       "      <th>age</th>\n",
       "      <th>bp</th>\n",
       "      <th>sg</th>\n",
       "      <th>al</th>\n",
       "      <th>su</th>\n",
       "      <th>pc</th>\n",
       "      <th>pcc</th>\n",
       "      <th>ba</th>\n",
       "      <th>bgr</th>\n",
       "      <th>bu</th>\n",
       "      <th>...</th>\n",
       "      <th>pot</th>\n",
       "      <th>hemo</th>\n",
       "      <th>pcv</th>\n",
       "      <th>htn</th>\n",
       "      <th>dm</th>\n",
       "      <th>cad</th>\n",
       "      <th>appet</th>\n",
       "      <th>pe</th>\n",
       "      <th>ane</th>\n",
       "      <th>classification</th>\n",
       "    </tr>\n",
       "  </thead>\n",
       "  <tbody>\n",
       "    <tr>\n",
       "      <th>367</th>\n",
       "      <td>68.0</td>\n",
       "      <td>60.0</td>\n",
       "      <td>1.025</td>\n",
       "      <td>0.0</td>\n",
       "      <td>0.0</td>\n",
       "      <td>normal</td>\n",
       "      <td>notpresent</td>\n",
       "      <td>notpresent</td>\n",
       "      <td>125.0</td>\n",
       "      <td>41.0</td>\n",
       "      <td>...</td>\n",
       "      <td>3.8</td>\n",
       "      <td>17.4</td>\n",
       "      <td>50</td>\n",
       "      <td>no</td>\n",
       "      <td>no</td>\n",
       "      <td>no</td>\n",
       "      <td>good</td>\n",
       "      <td>no</td>\n",
       "      <td>no</td>\n",
       "      <td>0</td>\n",
       "    </tr>\n",
       "    <tr>\n",
       "      <th>51</th>\n",
       "      <td>54.0</td>\n",
       "      <td>100.0</td>\n",
       "      <td>1.015</td>\n",
       "      <td>3.0</td>\n",
       "      <td>0.0</td>\n",
       "      <td>normal</td>\n",
       "      <td>present</td>\n",
       "      <td>notpresent</td>\n",
       "      <td>162.0</td>\n",
       "      <td>66.0</td>\n",
       "      <td>...</td>\n",
       "      <td>4.4</td>\n",
       "      <td>10.3</td>\n",
       "      <td>33</td>\n",
       "      <td>yes</td>\n",
       "      <td>yes</td>\n",
       "      <td>no</td>\n",
       "      <td>poor</td>\n",
       "      <td>yes</td>\n",
       "      <td>no</td>\n",
       "      <td>1</td>\n",
       "    </tr>\n",
       "  </tbody>\n",
       "</table>\n",
       "<p>2 rows × 22 columns</p>\n",
       "</div>"
      ],
      "text/plain": [
       "      age     bp     sg   al   su      pc         pcc          ba    bgr  \\\n",
       "367  68.0   60.0  1.025  0.0  0.0  normal  notpresent  notpresent  125.0   \n",
       "51   54.0  100.0  1.015  3.0  0.0  normal     present  notpresent  162.0   \n",
       "\n",
       "       bu  ...  pot  hemo  pcv  htn   dm cad appet   pe ane classification  \n",
       "367  41.0  ...  3.8  17.4   50   no   no  no  good   no  no              0  \n",
       "51   66.0  ...  4.4  10.3   33  yes  yes  no  poor  yes  no              1  \n",
       "\n",
       "[2 rows x 22 columns]"
      ]
     },
     "execution_count": 22,
     "metadata": {},
     "output_type": "execute_result"
    }
   ],
   "source": [
    "#data= data[~data['rbc','wc','rc']]\n",
    "newdata= data.drop(columns=['rbc', 'wc','rc'])\n",
    "\n",
    "newdata.sample(2)"
   ]
  },
  {
   "cell_type": "markdown",
   "id": "a4ecf015-d97f-4d83-936a-8e9d33542a07",
   "metadata": {},
   "source": [
    "---\n",
    "## **Problem 2**\n",
    "\n",
    "Use one figure to show the distribution of `age` and `glucose in blood` of the people who have kidney disease. Based on the visualization, describe the characteristics of these two variables."
   ]
  },
  {
   "cell_type": "code",
   "execution_count": 23,
   "id": "af077e46-d528-48e9-b29f-18040872cf38",
   "metadata": {},
   "outputs": [
    {
     "data": {
      "text/html": [
       "<div>\n",
       "<style scoped>\n",
       "    .dataframe tbody tr th:only-of-type {\n",
       "        vertical-align: middle;\n",
       "    }\n",
       "\n",
       "    .dataframe tbody tr th {\n",
       "        vertical-align: top;\n",
       "    }\n",
       "\n",
       "    .dataframe thead th {\n",
       "        text-align: right;\n",
       "    }\n",
       "</style>\n",
       "<table border=\"1\" class=\"dataframe\">\n",
       "  <thead>\n",
       "    <tr style=\"text-align: right;\">\n",
       "      <th></th>\n",
       "      <th>age</th>\n",
       "      <th>bp</th>\n",
       "      <th>sg</th>\n",
       "      <th>al</th>\n",
       "      <th>su</th>\n",
       "      <th>pc</th>\n",
       "      <th>pcc</th>\n",
       "      <th>ba</th>\n",
       "      <th>bgr</th>\n",
       "      <th>bu</th>\n",
       "      <th>...</th>\n",
       "      <th>pot</th>\n",
       "      <th>hemo</th>\n",
       "      <th>pcv</th>\n",
       "      <th>htn</th>\n",
       "      <th>dm</th>\n",
       "      <th>cad</th>\n",
       "      <th>appet</th>\n",
       "      <th>pe</th>\n",
       "      <th>ane</th>\n",
       "      <th>classification</th>\n",
       "    </tr>\n",
       "  </thead>\n",
       "  <tbody>\n",
       "    <tr>\n",
       "      <th>200</th>\n",
       "      <td>90.0</td>\n",
       "      <td>90.0</td>\n",
       "      <td>1.025</td>\n",
       "      <td>1.0</td>\n",
       "      <td>0.0</td>\n",
       "      <td>normal</td>\n",
       "      <td>notpresent</td>\n",
       "      <td>notpresent</td>\n",
       "      <td>139.0</td>\n",
       "      <td>89.0</td>\n",
       "      <td>...</td>\n",
       "      <td>4.1</td>\n",
       "      <td>12.0</td>\n",
       "      <td>37</td>\n",
       "      <td>yes</td>\n",
       "      <td>yes</td>\n",
       "      <td>no</td>\n",
       "      <td>good</td>\n",
       "      <td>no</td>\n",
       "      <td>no</td>\n",
       "      <td>1</td>\n",
       "    </tr>\n",
       "    <tr>\n",
       "      <th>225</th>\n",
       "      <td>60.0</td>\n",
       "      <td>90.0</td>\n",
       "      <td>1.010</td>\n",
       "      <td>3.0</td>\n",
       "      <td>5.0</td>\n",
       "      <td>normal</td>\n",
       "      <td>notpresent</td>\n",
       "      <td>present</td>\n",
       "      <td>490.0</td>\n",
       "      <td>95.0</td>\n",
       "      <td>...</td>\n",
       "      <td>3.8</td>\n",
       "      <td>11.5</td>\n",
       "      <td>35</td>\n",
       "      <td>yes</td>\n",
       "      <td>yes</td>\n",
       "      <td>no</td>\n",
       "      <td>good</td>\n",
       "      <td>no</td>\n",
       "      <td>no</td>\n",
       "      <td>1</td>\n",
       "    </tr>\n",
       "  </tbody>\n",
       "</table>\n",
       "<p>2 rows × 22 columns</p>\n",
       "</div>"
      ],
      "text/plain": [
       "      age    bp     sg   al   su      pc         pcc          ba    bgr    bu  \\\n",
       "200  90.0  90.0  1.025  1.0  0.0  normal  notpresent  notpresent  139.0  89.0   \n",
       "225  60.0  90.0  1.010  3.0  5.0  normal  notpresent     present  490.0  95.0   \n",
       "\n",
       "     ...  pot  hemo  pcv  htn   dm cad appet  pe ane classification  \n",
       "200  ...  4.1  12.0   37  yes  yes  no  good  no  no              1  \n",
       "225  ...  3.8  11.5   35  yes  yes  no  good  no  no              1  \n",
       "\n",
       "[2 rows x 22 columns]"
      ]
     },
     "execution_count": 23,
     "metadata": {},
     "output_type": "execute_result"
    }
   ],
   "source": [
    "kidney_ppl= newdata[newdata['classification']==1]\n",
    "\n",
    "kidney_ppl.sample(2)\n",
    "\n",
    "#len(kidney_ppl)"
   ]
  },
  {
   "cell_type": "code",
   "execution_count": 27,
   "id": "953b8c76-9070-4964-9f65-3499f0f098d1",
   "metadata": {},
   "outputs": [
    {
     "data": {
      "text/plain": [
       "<seaborn.axisgrid.FacetGrid at 0x16a5f4dc0>"
      ]
     },
     "execution_count": 27,
     "metadata": {},
     "output_type": "execute_result"
    },
    {
     "data": {
      "image/png": "[encoded data removed]",
      "text/plain": [
       "<Figure size 300x300 with 1 Axes>"
      ]
     },
     "metadata": {},
     "output_type": "display_data"
    }
   ],
   "source": [
    "seaborn.relplot(data=kidney_ppl, \n",
    "                x='age', \n",
    "                y='bgr', \n",
    "               # kind= 'scatter',\n",
    "               # style='cluster',\n",
    "               # hue= 'cluster', \n",
    "                height=3)"
   ]
  },
  {
   "cell_type": "markdown",
   "id": "16403f03-5aea-4a99-b706-42e147c5bccc",
   "metadata": {},
   "source": [
    "We plotted a relplot to find the relationship between `age` and `gloucose in blood`. From the relplot, we can say that \n",
    "people having kidney disease who are older(age>40) have high glouce level than younger people (age<35).  \n",
    "\n",
    "Younger people sample is small in this data suggesting they are less prone to kidney disease at a young age . But people over 40 who have high gloucose level(gloucose>100) have a high chance of having kidney disease."
   ]
  },
  {
   "cell_type": "markdown",
   "id": "0d6b668f-deef-4061-baf3-8f12d95c9ef2",
   "metadata": {},
   "source": [
    "---\n",
    "**Problem 3**\n",
    "\n",
    "Evaluate the prediction performance of a dummy classifier using the `stratified` strategy in terms precision and recall.\n",
    "\n",
    "Use `age`, `blood pressure`, and `sugar` as features to make prediction of the target variable `classification`.  \n",
    "\n",
    "Do not remove missing data unnecessarily.\n",
    "\n",
    "Use ShuffleSplit with 100 splits, and random state 300424 to evaluate its performance.\n",
    "\n",
    "Define features and the target explicitly.\n",
    "\n",
    "Do you think that using more or better features will improve the performance of the dummy classifier?  Explain."
   ]
  },
  {
   "cell_type": "code",
   "execution_count": 33,
   "id": "d3479aa9-febf-43d1-9e5b-5b46492ad3f5",
   "metadata": {},
   "outputs": [
    {
     "data": {
      "text/html": [
       "<div>\n",
       "<style scoped>\n",
       "    .dataframe tbody tr th:only-of-type {\n",
       "        vertical-align: middle;\n",
       "    }\n",
       "\n",
       "    .dataframe tbody tr th {\n",
       "        vertical-align: top;\n",
       "    }\n",
       "\n",
       "    .dataframe thead th {\n",
       "        text-align: right;\n",
       "    }\n",
       "</style>\n",
       "<table border=\"1\" class=\"dataframe\">\n",
       "  <thead>\n",
       "    <tr style=\"text-align: right;\">\n",
       "      <th></th>\n",
       "      <th>age</th>\n",
       "      <th>bp</th>\n",
       "      <th>sg</th>\n",
       "      <th>al</th>\n",
       "      <th>su</th>\n",
       "      <th>pc</th>\n",
       "      <th>pcc</th>\n",
       "      <th>ba</th>\n",
       "      <th>bgr</th>\n",
       "      <th>bu</th>\n",
       "      <th>...</th>\n",
       "      <th>pot</th>\n",
       "      <th>hemo</th>\n",
       "      <th>pcv</th>\n",
       "      <th>htn</th>\n",
       "      <th>dm</th>\n",
       "      <th>cad</th>\n",
       "      <th>appet</th>\n",
       "      <th>pe</th>\n",
       "      <th>ane</th>\n",
       "      <th>classification</th>\n",
       "    </tr>\n",
       "  </thead>\n",
       "  <tbody>\n",
       "    <tr>\n",
       "      <th>172</th>\n",
       "      <td>62.0</td>\n",
       "      <td>80.0</td>\n",
       "      <td>1.010</td>\n",
       "      <td>1.0</td>\n",
       "      <td>2.0</td>\n",
       "      <td>NaN</td>\n",
       "      <td>notpresent</td>\n",
       "      <td>notpresent</td>\n",
       "      <td>309.0</td>\n",
       "      <td>113.0</td>\n",
       "      <td>...</td>\n",
       "      <td>2.5</td>\n",
       "      <td>10.6</td>\n",
       "      <td>34</td>\n",
       "      <td>no</td>\n",
       "      <td>no</td>\n",
       "      <td>no</td>\n",
       "      <td>good</td>\n",
       "      <td>no</td>\n",
       "      <td>no</td>\n",
       "      <td>1</td>\n",
       "    </tr>\n",
       "    <tr>\n",
       "      <th>204</th>\n",
       "      <td>65.0</td>\n",
       "      <td>90.0</td>\n",
       "      <td>1.010</td>\n",
       "      <td>4.0</td>\n",
       "      <td>2.0</td>\n",
       "      <td>normal</td>\n",
       "      <td>notpresent</td>\n",
       "      <td>notpresent</td>\n",
       "      <td>172.0</td>\n",
       "      <td>82.0</td>\n",
       "      <td>...</td>\n",
       "      <td>6.3</td>\n",
       "      <td>8.8</td>\n",
       "      <td>31</td>\n",
       "      <td>yes</td>\n",
       "      <td>yes</td>\n",
       "      <td>no</td>\n",
       "      <td>good</td>\n",
       "      <td>yes</td>\n",
       "      <td>yes</td>\n",
       "      <td>1</td>\n",
       "    </tr>\n",
       "    <tr>\n",
       "      <th>181</th>\n",
       "      <td>45.0</td>\n",
       "      <td>70.0</td>\n",
       "      <td>1.025</td>\n",
       "      <td>2.0</td>\n",
       "      <td>0.0</td>\n",
       "      <td>abnormal</td>\n",
       "      <td>present</td>\n",
       "      <td>notpresent</td>\n",
       "      <td>117.0</td>\n",
       "      <td>52.0</td>\n",
       "      <td>...</td>\n",
       "      <td>3.8</td>\n",
       "      <td>10.0</td>\n",
       "      <td>30</td>\n",
       "      <td>no</td>\n",
       "      <td>no</td>\n",
       "      <td>no</td>\n",
       "      <td>good</td>\n",
       "      <td>no</td>\n",
       "      <td>no</td>\n",
       "      <td>1</td>\n",
       "    </tr>\n",
       "    <tr>\n",
       "      <th>39</th>\n",
       "      <td>82.0</td>\n",
       "      <td>80.0</td>\n",
       "      <td>1.010</td>\n",
       "      <td>2.0</td>\n",
       "      <td>2.0</td>\n",
       "      <td>NaN</td>\n",
       "      <td>notpresent</td>\n",
       "      <td>notpresent</td>\n",
       "      <td>140.0</td>\n",
       "      <td>70.0</td>\n",
       "      <td>...</td>\n",
       "      <td>4.2</td>\n",
       "      <td>13.0</td>\n",
       "      <td>40</td>\n",
       "      <td>yes</td>\n",
       "      <td>yes</td>\n",
       "      <td>no</td>\n",
       "      <td>good</td>\n",
       "      <td>no</td>\n",
       "      <td>no</td>\n",
       "      <td>1</td>\n",
       "    </tr>\n",
       "    <tr>\n",
       "      <th>288</th>\n",
       "      <td>56.0</td>\n",
       "      <td>70.0</td>\n",
       "      <td>1.025</td>\n",
       "      <td>0.0</td>\n",
       "      <td>0.0</td>\n",
       "      <td>normal</td>\n",
       "      <td>notpresent</td>\n",
       "      <td>notpresent</td>\n",
       "      <td>70.0</td>\n",
       "      <td>46.0</td>\n",
       "      <td>...</td>\n",
       "      <td>4.9</td>\n",
       "      <td>15.9</td>\n",
       "      <td>50</td>\n",
       "      <td>NaN</td>\n",
       "      <td>NaN</td>\n",
       "      <td>NaN</td>\n",
       "      <td>good</td>\n",
       "      <td>no</td>\n",
       "      <td>no</td>\n",
       "      <td>0</td>\n",
       "    </tr>\n",
       "  </tbody>\n",
       "</table>\n",
       "<p>5 rows × 22 columns</p>\n",
       "</div>"
      ],
      "text/plain": [
       "      age    bp     sg   al   su        pc         pcc          ba    bgr  \\\n",
       "172  62.0  80.0  1.010  1.0  2.0       NaN  notpresent  notpresent  309.0   \n",
       "204  65.0  90.0  1.010  4.0  2.0    normal  notpresent  notpresent  172.0   \n",
       "181  45.0  70.0  1.025  2.0  0.0  abnormal     present  notpresent  117.0   \n",
       "39   82.0  80.0  1.010  2.0  2.0       NaN  notpresent  notpresent  140.0   \n",
       "288  56.0  70.0  1.025  0.0  0.0    normal  notpresent  notpresent   70.0   \n",
       "\n",
       "        bu  ...  pot  hemo  pcv  htn   dm  cad appet   pe  ane classification  \n",
       "172  113.0  ...  2.5  10.6   34   no   no   no  good   no   no              1  \n",
       "204   82.0  ...  6.3   8.8   31  yes  yes   no  good  yes  yes              1  \n",
       "181   52.0  ...  3.8  10.0   30   no   no   no  good   no   no              1  \n",
       "39    70.0  ...  4.2  13.0   40  yes  yes   no  good   no   no              1  \n",
       "288   46.0  ...  4.9  15.9   50  NaN  NaN  NaN  good   no   no              0  \n",
       "\n",
       "[5 rows x 22 columns]"
      ]
     },
     "execution_count": 33,
     "metadata": {},
     "output_type": "execute_result"
    }
   ],
   "source": [
    "newdata.sample(5)\n",
    "\n",
    "#len(newdata)"
   ]
  },
  {
   "cell_type": "code",
   "execution_count": 37,
   "id": "2fe063e5-ab11-462e-86a8-7571734b0191",
   "metadata": {},
   "outputs": [],
   "source": [
    "from sklearn.dummy import DummyClassifier\n",
    "from sklearn.preprocessing import MinMaxScaler, StandardScaler\n",
    "\n",
    "from sklearn.model_selection import ShuffleSplit\n",
    "from sklearn.metrics import accuracy_score\n",
    "#from sklearn.dummy import DummyClassifier\n",
    "\n",
    "from sklearn.model_selection import cross_validate\n"
   ]
  },
  {
   "cell_type": "code",
   "execution_count": 36,
   "id": "a15dc32b-1f98-4e01-9baf-5587ee7b55c1",
   "metadata": {},
   "outputs": [
    {
     "data": {
      "text/html": [
       "<div>\n",
       "<style scoped>\n",
       "    .dataframe tbody tr th:only-of-type {\n",
       "        vertical-align: middle;\n",
       "    }\n",
       "\n",
       "    .dataframe tbody tr th {\n",
       "        vertical-align: top;\n",
       "    }\n",
       "\n",
       "    .dataframe thead th {\n",
       "        text-align: right;\n",
       "    }\n",
       "</style>\n",
       "<table border=\"1\" class=\"dataframe\">\n",
       "  <thead>\n",
       "    <tr style=\"text-align: right;\">\n",
       "      <th></th>\n",
       "      <th>age</th>\n",
       "      <th>bp</th>\n",
       "      <th>su</th>\n",
       "    </tr>\n",
       "  </thead>\n",
       "  <tbody>\n",
       "    <tr>\n",
       "      <th>75</th>\n",
       "      <td>0.034091</td>\n",
       "      <td>NaN</td>\n",
       "      <td>0.0</td>\n",
       "    </tr>\n",
       "    <tr>\n",
       "      <th>319</th>\n",
       "      <td>0.318182</td>\n",
       "      <td>0.076923</td>\n",
       "      <td>0.0</td>\n",
       "    </tr>\n",
       "    <tr>\n",
       "      <th>384</th>\n",
       "      <td>0.625000</td>\n",
       "      <td>0.076923</td>\n",
       "      <td>0.0</td>\n",
       "    </tr>\n",
       "  </tbody>\n",
       "</table>\n",
       "</div>"
      ],
      "text/plain": [
       "          age        bp   su\n",
       "75   0.034091       NaN  0.0\n",
       "319  0.318182  0.076923  0.0\n",
       "384  0.625000  0.076923  0.0"
      ]
     },
     "execution_count": 36,
     "metadata": {},
     "output_type": "execute_result"
    }
   ],
   "source": [
    "dummy_X=newdata[['age','bp','su']]\n",
    "\n",
    "dummy_X = pandas.DataFrame(\n",
    "    data = MinMaxScaler().fit_transform(dummy_X),\n",
    "    columns = dummy_X.columns,\n",
    ")\n",
    "\n",
    "dummy_y= newdata['classification']\n",
    "\n",
    "dummy_X.sample(3)\n",
    "\n",
    "#dummy_y.sample(3)"
   ]
  },
  {
   "cell_type": "code",
   "execution_count": 38,
   "id": "01fcd1c7-914c-4867-9594-cff8d5f73ff6",
   "metadata": {},
   "outputs": [],
   "source": [
    "dummy_model = DummyClassifier(strategy=\"stratified\")\n",
    "\n",
    "validator = ShuffleSplit(n_splits=100, random_state=300424)\n",
    "\n",
    "dummy_result = cross_validate(dummy_model, dummy_X, dummy_y, cv=validator, scoring=['accuracy'])"
   ]
  },
  {
   "cell_type": "code",
   "execution_count": 42,
   "id": "294f735e-967a-4718-8152-580e25247691",
   "metadata": {},
   "outputs": [
    {
     "data": {
      "text/plain": [
       "dict_keys(['fit_time', 'score_time', 'test_accuracy'])"
      ]
     },
     "execution_count": 42,
     "metadata": {},
     "output_type": "execute_result"
    }
   ],
   "source": [
    "dummy_result.keys()"
   ]
  },
  {
   "cell_type": "code",
   "execution_count": 39,
   "id": "14b1fc6e-3ec2-41db-bde0-22ecaa01875f",
   "metadata": {},
   "outputs": [
    {
     "data": {
      "text/plain": [
       "0.54"
      ]
     },
     "execution_count": 39,
     "metadata": {},
     "output_type": "execute_result"
    }
   ],
   "source": [
    "dummy_result['test_accuracy'].mean().round(2)"
   ]
  },
  {
   "cell_type": "code",
   "execution_count": 41,
   "id": "73af827d-ffb3-4155-97cc-1e15f33af1b6",
   "metadata": {},
   "outputs": [
    {
     "data": {
      "text/plain": [
       "1    0.62\n",
       "0    0.38\n",
       "Name: classification, dtype: float64"
      ]
     },
     "execution_count": 41,
     "metadata": {},
     "output_type": "execute_result"
    }
   ],
   "source": [
    "dummy_y.value_counts(1).round(2)"
   ]
  },
  {
   "cell_type": "markdown",
   "id": "edb28638-3bfc-4e35-9268-54b50d65f1eb",
   "metadata": {},
   "source": [
    "So, a dummy classifier using a `stratified` strategy basically uses probabilistic approach to classify the data.\n",
    "This means is maintains the probability of the data labels used in the data training. For our data, the probability is around 62% and 38%. So, whatever feature we add in the dataset, it will always try to keep the predictions closer to this ratio of percentage, meaning the 62% of the time it will predict class 1 .\n",
    "\n",
    "Adding new features wont change this performance since the strategy is based on the output features distribution."
   ]
  },
  {
   "cell_type": "markdown",
   "id": "d2ca6be8-0f58-41b6-88ab-1fb75e99ece8",
   "metadata": {},
   "source": [
    "---\n",
    "**Problem 4**\n",
    "\n",
    "Use precision and recall to evaluate the performance of a 9-nearest neighbor classifer to predict `classification`.\n",
    "\n",
    "Use all features to make prediction. \n",
    "\n",
    "Define features and the target explicitly.\n",
    "\n",
    "1. Which cross validator should be used to validate the performance of the model?\n",
    "2. Explain which processing step(s) to the data must be done and why.\n",
    "3. Explain which steps need to be done to properly evaluate the performance of the model."
   ]
  },
  {
   "cell_type": "markdown",
   "id": "5005a04e-03c9-453a-93cf-9183890136fe",
   "metadata": {},
   "source": [
    "### **Answer**: \n",
    "\n",
    "\n",
    "- To get the precision and recall performance, we need to split the data into train and test. For this example, we use 5% of data as testing and 95% data as training."
   ]
  },
  {
   "cell_type": "code",
   "execution_count": 99,
   "id": "7ac75851-d090-41c2-bef1-c82da906f05e",
   "metadata": {},
   "outputs": [
    {
     "name": "stdout",
     "output_type": "stream",
     "text": [
      "228 228\n"
     ]
    }
   ],
   "source": [
    "knn_y = newdata['classification']\n",
    "\n",
    "#knn_X = newdata.drop(columns=['classification'])\n",
    "\n",
    "\n",
    "knn_X= pandas.get_dummies(newdata) \n",
    "\n",
    "clean_X= knn_X.dropna()\n",
    "\n",
    "clean_X\n",
    "\n",
    "new_X= clean_X.drop(columns=['classification'])\n",
    "\n",
    "new_X = pandas.DataFrame(\n",
    "    data = StandardScaler().fit_transform(new_X),\n",
    "    columns = new_X.columns,\n",
    ")\n",
    "\n",
    "\n",
    "\n",
    "new_y= clean_X['classification']\n",
    "\n",
    "print(len(new_X), len(new_y))"
   ]
  },
  {
   "cell_type": "code",
   "execution_count": 100,
   "id": "402e6a26-9e59-49cc-a433-a5c181f0b355",
   "metadata": {},
   "outputs": [],
   "source": [
    "from sklearn.model_selection import train_test_split\n",
    "\n",
    "X_train, X_test, y_train, y_test = train_test_split(new_X, new_y, test_size=0.1)"
   ]
  },
  {
   "cell_type": "code",
   "execution_count": 101,
   "id": "8187b11c-3c8d-4a75-9296-9477f89cdfe9",
   "metadata": {},
   "outputs": [
    {
     "data": {
      "text/html": [
       "<style>#sk-container-id-3 {color: black;}#sk-container-id-3 pre{padding: 0;}#sk-container-id-3 div.sk-toggleable {background-color: white;}#sk-container-id-3 label.sk-toggleable__label {cursor: pointer;display: block;width: 100%;margin-bottom: 0;padding: 0.3em;box-sizing: border-box;text-align: center;}#sk-container-id-3 label.sk-toggleable__label-arrow:before {content: \"▸\";float: left;margin-right: 0.25em;color: #696969;}#sk-container-id-3 label.sk-toggleable__label-arrow:hover:before {color: black;}#sk-container-id-3 div.sk-estimator:hover label.sk-toggleable__label-arrow:before {color: black;}#sk-container-id-3 div.sk-toggleable__content {max-height: 0;max-width: 0;overflow: hidden;text-align: left;background-color: #f0f8ff;}#sk-container-id-3 div.sk-toggleable__content pre {margin: 0.2em;color: black;border-radius: 0.25em;background-color: #f0f8ff;}#sk-container-id-3 input.sk-toggleable__control:checked~div.sk-toggleable__content {max-height: 200px;max-width: 100%;overflow: auto;}#sk-container-id-3 input.sk-toggleable__control:checked~label.sk-toggleable__label-arrow:before {content: \"▾\";}#sk-container-id-3 div.sk-estimator input.sk-toggleable__control:checked~label.sk-toggleable__label {background-color: #d4ebff;}#sk-container-id-3 div.sk-label input.sk-toggleable__control:checked~label.sk-toggleable__label {background-color: #d4ebff;}#sk-container-id-3 input.sk-hidden--visually {border: 0;clip: rect(1px 1px 1px 1px);clip: rect(1px, 1px, 1px, 1px);height: 1px;margin: -1px;overflow: hidden;padding: 0;position: absolute;width: 1px;}#sk-container-id-3 div.sk-estimator {font-family: monospace;background-color: #f0f8ff;border: 1px dotted black;border-radius: 0.25em;box-sizing: border-box;margin-bottom: 0.5em;}#sk-container-id-3 div.sk-estimator:hover {background-color: #d4ebff;}#sk-container-id-3 div.sk-parallel-item::after {content: \"\";width: 100%;border-bottom: 1px solid gray;flex-grow: 1;}#sk-container-id-3 div.sk-label:hover label.sk-toggleable__label {background-color: #d4ebff;}#sk-container-id-3 div.sk-serial::before {content: \"\";position: absolute;border-left: 1px solid gray;box-sizing: border-box;top: 0;bottom: 0;left: 50%;z-index: 0;}#sk-container-id-3 div.sk-serial {display: flex;flex-direction: column;align-items: center;background-color: white;padding-right: 0.2em;padding-left: 0.2em;position: relative;}#sk-container-id-3 div.sk-item {position: relative;z-index: 1;}#sk-container-id-3 div.sk-parallel {display: flex;align-items: stretch;justify-content: center;background-color: white;position: relative;}#sk-container-id-3 div.sk-item::before, #sk-container-id-3 div.sk-parallel-item::before {content: \"\";position: absolute;border-left: 1px solid gray;box-sizing: border-box;top: 0;bottom: 0;left: 50%;z-index: -1;}#sk-container-id-3 div.sk-parallel-item {display: flex;flex-direction: column;z-index: 1;position: relative;background-color: white;}#sk-container-id-3 div.sk-parallel-item:first-child::after {align-self: flex-end;width: 50%;}#sk-container-id-3 div.sk-parallel-item:last-child::after {align-self: flex-start;width: 50%;}#sk-container-id-3 div.sk-parallel-item:only-child::after {width: 0;}#sk-container-id-3 div.sk-dashed-wrapped {border: 1px dashed gray;margin: 0 0.4em 0.5em 0.4em;box-sizing: border-box;padding-bottom: 0.4em;background-color: white;}#sk-container-id-3 div.sk-label label {font-family: monospace;font-weight: bold;display: inline-block;line-height: 1.2em;}#sk-container-id-3 div.sk-label-container {text-align: center;}#sk-container-id-3 div.sk-container {/* jupyter's `normalize.less` sets `[hidden] { display: none; }` but bootstrap.min.css set `[hidden] { display: none !important; }` so we also need the `!important` here to be able to override the default hidden behavior on the sphinx rendered scikit-learn.org. See: https://github.com/scikit-learn/scikit-learn/issues/21755 */display: inline-block !important;position: relative;}#sk-container-id-3 div.sk-text-repr-fallback {display: none;}</style><div id=\"sk-container-id-3\" class=\"sk-top-container\"><div class=\"sk-text-repr-fallback\"><pre>KNeighborsClassifier(n_neighbors=9)</pre><b>In a Jupyter environment, please rerun this cell to show the HTML representation or trust the notebook. <br />On GitHub, the HTML representation is unable to render, please try loading this page with nbviewer.org.</b></div><div class=\"sk-container\" hidden><div class=\"sk-item\"><div class=\"sk-estimator sk-toggleable\"><input class=\"sk-toggleable__control sk-hidden--visually\" id=\"sk-estimator-id-3\" type=\"checkbox\" checked><label for=\"sk-estimator-id-3\" class=\"sk-toggleable__label sk-toggleable__label-arrow\">KNeighborsClassifier</label><div class=\"sk-toggleable__content\"><pre>KNeighborsClassifier(n_neighbors=9)</pre></div></div></div></div></div>"
      ],
      "text/plain": [
       "KNeighborsClassifier(n_neighbors=9)"
      ]
     },
     "execution_count": 101,
     "metadata": {},
     "output_type": "execute_result"
    }
   ],
   "source": [
    "from sklearn.neighbors import KNeighborsClassifier\n",
    "\n",
    "knn_model = KNeighborsClassifier(n_neighbors=9)\n",
    "\n",
    "knn_model.fit(X_train,y_train)"
   ]
  },
  {
   "cell_type": "markdown",
   "id": "1a411915-a33a-420c-80a5-6b907ffa1627",
   "metadata": {},
   "source": [
    "#### make the predictions using KNN"
   ]
  },
  {
   "cell_type": "code",
   "execution_count": 102,
   "id": "f8fe9058-75b9-46fc-883f-9c936979c573",
   "metadata": {},
   "outputs": [
    {
     "name": "stderr",
     "output_type": "stream",
     "text": [
      "/opt/homebrew/Caskroom/miniforge/base/lib/python3.9/site-packages/sklearn/base.py:464: UserWarning: X does not have valid feature names, but KNeighborsClassifier was fitted with feature names\n",
      "  warnings.warn(\n"
     ]
    },
    {
     "data": {
      "text/plain": [
       "array([0, 0, 0, 0, 1, 1, 0, 0, 1, 1, 0, 0, 0, 1, 0, 0, 1, 0, 1, 1, 0, 1,\n",
       "       0])"
      ]
     },
     "execution_count": 102,
     "metadata": {},
     "output_type": "execute_result"
    }
   ],
   "source": [
    "predictions= knn_model.predict(X_test.values)\n",
    "\n",
    "predictions"
   ]
  },
  {
   "cell_type": "code",
   "execution_count": 103,
   "id": "17b8bcd5-ea34-4bbf-8cb6-ee5d5529e119",
   "metadata": {},
   "outputs": [
    {
     "data": {
      "text/plain": [
       "[0, 0, 1, 0, 1, 1, 0, 1, 1, 1, 0, 0, 0, 1, 0, 0, 1, 0, 1, 1, 0, 1, 0]"
      ]
     },
     "execution_count": 103,
     "metadata": {},
     "output_type": "execute_result"
    }
   ],
   "source": [
    "y_test.to_list()"
   ]
  },
  {
   "cell_type": "code",
   "execution_count": 105,
   "id": "1d6e01ec-86a7-40fb-a1b6-bb0c18ff0d3f",
   "metadata": {},
   "outputs": [
    {
     "data": {
      "text/plain": [
       "23"
      ]
     },
     "execution_count": 105,
     "metadata": {},
     "output_type": "execute_result"
    }
   ],
   "source": [
    "len(y_test)"
   ]
  },
  {
   "cell_type": "code",
   "execution_count": 104,
   "id": "9f1ea01d-e438-4a9d-a882-c0930a5c5b30",
   "metadata": {},
   "outputs": [
    {
     "name": "stdout",
     "output_type": "stream",
     "text": [
      "(0, 0) (0, 0) (1, 0) (0, 0) (1, 1) (1, 1) (0, 0) (1, 0) (1, 1) (1, 1) (0, 0) (0, 0) (0, 0) (1, 1) (0, 0) (0, 0) (1, 1) (0, 0) (1, 1) (1, 1) (0, 0) (1, 1) (0, 0) "
     ]
    }
   ],
   "source": [
    "true_pred =list(zip(y_test, predictions))\n",
    "\n",
    "for item in true_pred:\n",
    "    print(item, end=' ')"
   ]
  },
  {
   "cell_type": "markdown",
   "id": "7139abd5-8dce-41f5-9095-d2b38040aab8",
   "metadata": {},
   "source": [
    "From the predictions and actual data above,\n",
    "\n",
    "- TP = 1 1 1 1 1 1 1 1 1 =9 \n",
    "- FP = 0\n",
    "- TN = 1 1 1 1 1 1 1 1 1 1 1 1  = 12\n",
    "- FN = 1 1 = 2\n"
   ]
  },
  {
   "cell_type": "markdown",
   "id": "a6f99582-8d6e-48bb-bfaa-14dfc95a474b",
   "metadata": {},
   "source": [
    "### KNN Accuracy Measure:\n",
    "\n",
    "\n",
    " Accuracy = total correct predictions / total predictions\n",
    "             = (TP + TN) / (TP + FP + TN + FN)\n",
    "             \n",
    "**Accuracy** = 21/23 = 0.91\n",
    "\n",
    "\n",
    "**Precision** = TP / (TP + FP) = 9 / (9 + 0)= 9/ 9= 1\n",
    "\n",
    "**Recall** = TP / (TP + FN) = 9 / (9 + 2)= 9/11= 0.81"
   ]
  },
  {
   "cell_type": "markdown",
   "id": "fc31140f-ee5d-448e-a78e-c586d18b8096",
   "metadata": {},
   "source": [
    "---\n",
    "## **Problem 5**\n",
    "\n",
    "Based on the value of recall you get, explain the meaning of this value.\n"
   ]
  },
  {
   "cell_type": "markdown",
   "id": "391d381b-30b1-4d5c-9faa-391b4582af21",
   "metadata": {},
   "source": [
    "### **Answer 5**\n",
    "\n",
    "The recall of the model performance is 0.81. It means out of all the kidney patients , the model predicts 81% of the kidney patients properly."
   ]
  },
  {
   "cell_type": "markdown",
   "id": "1fa03d31-7b4c-4cef-baae-dca78e50812e",
   "metadata": {},
   "source": [
    "---\n",
    "**Problem 6**\n",
    "\n",
    "Transform the features using PCA with two principal components.  Visualize the transformed data on these two principal components in such a way that patients who have kidney disease and do not have the disease  have different colors.\n",
    "\n",
    "Define the features and target explicitly.  Rescale the features before transforming them with PCA.\n"
   ]
  },
  {
   "cell_type": "code",
   "execution_count": 84,
   "id": "71b07354-8bc4-4ba0-9cd4-be995b3d8e75",
   "metadata": {},
   "outputs": [],
   "source": [
    "from sklearn.decomposition import PCA\n"
   ]
  },
  {
   "cell_type": "code",
   "execution_count": 112,
   "id": "07174596-3fe8-41ed-a9e4-6e8d45038083",
   "metadata": {},
   "outputs": [
    {
     "data": {
      "text/plain": [
       "228"
      ]
     },
     "execution_count": 112,
     "metadata": {},
     "output_type": "execute_result"
    }
   ],
   "source": [
    "features= newdata\n",
    "\n",
    "\n",
    "features= pandas.get_dummies(features) \n",
    "\n",
    "\n",
    "## dropped the missings NAN\n",
    "\n",
    "features= features.dropna()\n",
    "\n",
    "we= features['classification']\n",
    "\n",
    "features = features.drop(columns=['classification'])\n",
    "\n",
    "len(features)"
   ]
  },
  {
   "cell_type": "code",
   "execution_count": 121,
   "id": "a31addf2-7653-4052-a8ce-2d83acf5aa03",
   "metadata": {},
   "outputs": [
    {
     "data": {
      "text/plain": [
       "0    127\n",
       "1    101\n",
       "Name: classification, dtype: int64"
      ]
     },
     "execution_count": 121,
     "metadata": {},
     "output_type": "execute_result"
    }
   ],
   "source": [
    "we.value_counts()"
   ]
  },
  {
   "cell_type": "code",
   "execution_count": 113,
   "id": "944c2b81-450f-4c99-88fd-f68129141f55",
   "metadata": {},
   "outputs": [
    {
     "data": {
      "text/html": [
       "<div>\n",
       "<style scoped>\n",
       "    .dataframe tbody tr th:only-of-type {\n",
       "        vertical-align: middle;\n",
       "    }\n",
       "\n",
       "    .dataframe tbody tr th {\n",
       "        vertical-align: top;\n",
       "    }\n",
       "\n",
       "    .dataframe thead th {\n",
       "        text-align: right;\n",
       "    }\n",
       "</style>\n",
       "<table border=\"1\" class=\"dataframe\">\n",
       "  <thead>\n",
       "    <tr style=\"text-align: right;\">\n",
       "      <th></th>\n",
       "      <th>0</th>\n",
       "      <th>1</th>\n",
       "    </tr>\n",
       "  </thead>\n",
       "  <tbody>\n",
       "    <tr>\n",
       "      <th>175</th>\n",
       "      <td>-2.787146</td>\n",
       "      <td>0.331150</td>\n",
       "    </tr>\n",
       "    <tr>\n",
       "      <th>86</th>\n",
       "      <td>5.452877</td>\n",
       "      <td>-1.712631</td>\n",
       "    </tr>\n",
       "    <tr>\n",
       "      <th>190</th>\n",
       "      <td>-2.767995</td>\n",
       "      <td>-0.183891</td>\n",
       "    </tr>\n",
       "  </tbody>\n",
       "</table>\n",
       "</div>"
      ],
      "text/plain": [
       "            0         1\n",
       "175 -2.787146  0.331150\n",
       "86   5.452877 -1.712631\n",
       "190 -2.767995 -0.183891"
      ]
     },
     "execution_count": 113,
     "metadata": {},
     "output_type": "execute_result"
    }
   ],
   "source": [
    "standardized_data = pandas.DataFrame(\n",
    "    StandardScaler().fit_transform(features).round(4),\n",
    "    columns = features.columns\n",
    ")\n",
    "\n",
    "\n",
    "pca = PCA(n_components=2)\n",
    "converted_pca = pandas.DataFrame(pca.fit_transform(standardized_data))\n",
    "\n",
    "converted_pca.sample(3)"
   ]
  },
  {
   "cell_type": "code",
   "execution_count": 132,
   "id": "090ce15e-74ef-4998-b403-b17b1fcf4dd1",
   "metadata": {},
   "outputs": [
    {
     "data": {
      "text/plain": [
       "228"
      ]
     },
     "execution_count": 132,
     "metadata": {},
     "output_type": "execute_result"
    }
   ],
   "source": [
    "len(converted_pca)"
   ]
  },
  {
   "cell_type": "markdown",
   "id": "6b00c8d9-af07-4b7f-88fb-d84c3011e89a",
   "metadata": {},
   "source": [
    "---\n",
    "**Problem 7**\n",
    "\n",
    "Based on the visualization on problem 6, characterize the difference between patients who have kidney disease and do not have the disease in terms of the two principal components.\n"
   ]
  },
  {
   "cell_type": "code",
   "execution_count": 122,
   "id": "67c0d6d2-b1f5-4dfb-a5dc-1ba4f3b55614",
   "metadata": {},
   "outputs": [
    {
     "name": "stderr",
     "output_type": "stream",
     "text": [
      "/opt/homebrew/Caskroom/miniforge/base/lib/python3.9/site-packages/seaborn/distributions.py:1106: UserWarning: Dataset has 0 variance; skipping density estimate. Pass `warn_singular=False` to disable this warning.\n",
      "  warnings.warn(msg, UserWarning)\n"
     ]
    },
    {
     "data": {
      "text/plain": [
       "<seaborn.axisgrid.FacetGrid at 0x17c794d60>"
      ]
     },
     "execution_count": 122,
     "metadata": {},
     "output_type": "execute_result"
    },
    {
     "data": {
      "image/png": "[encoded data removed]",
      "text/plain": [
       "<Figure size 401.111x300 with 1 Axes>"
      ]
     },
     "metadata": {},
     "output_type": "display_data"
    }
   ],
   "source": [
    "#seaborn.relplot(data=converted_pca, x=0, y=1, hue=we , height=3)\n",
    "\n",
    "seaborn.displot(data=converted_pca, x=0, y=1, kind='kde', hue=we, height=3)\n",
    "\n",
    "#seaborn.displot(data=converted_pca, x=0, y=1, hue=newdata['classification'], kind='kde', height=3)"
   ]
  },
  {
   "cell_type": "markdown",
   "id": "f3e9bb91-3e28-4bd9-b610-492ad26a4297",
   "metadata": {},
   "source": [
    "---\n",
    "**Problem 8**\n",
    "\n",
    "Evaluate the performance of the same KNN model in problem 4, but with features that are transformed with the first 2 principal components.\n",
    "\n",
    "Define the features and target explicitly.  \n"
   ]
  },
  {
   "cell_type": "markdown",
   "id": "5b4418d7-6d44-4645-8bb3-6019975b579f",
   "metadata": {},
   "source": [
    "### Answer 8\n",
    "\n",
    "For this problem, the model we are going to use is the use the knn model .\n",
    "\n",
    "the validator is the shufflesplit. The features will be the `converted_pca` data and the y labels will be the `classifications` of the features."
   ]
  },
  {
   "cell_type": "code",
   "execution_count": 134,
   "id": "772a1888-11e3-4e8b-b16a-018ea1644475",
   "metadata": {},
   "outputs": [
    {
     "name": "stdout",
     "output_type": "stream",
     "text": [
      "0.95\n"
     ]
    }
   ],
   "source": [
    "ss = ShuffleSplit(n_splits=100)\n",
    "\n",
    "\n",
    "result_knn= cross_validate(knn_model, converted_pca, we , cv=ss, scoring=['f1'])\n",
    "\n",
    "print(result_knn['test_f1'].mean().round(2))"
   ]
  },
  {
   "cell_type": "markdown",
   "id": "02c99068-becd-49ea-b461-e47172c918fd",
   "metadata": {},
   "source": [
    "#### In terms of model performance(f1 score), for the converted pca data, the knn model performs better."
   ]
  },
  {
   "cell_type": "code",
   "execution_count": null,
   "id": "652e5952-d347-4bb0-b086-a2c7d7267d40",
   "metadata": {},
   "outputs": [],
   "source": []
  },
  {
   "cell_type": "markdown",
   "id": "992c7080-6212-4c07-9d2e-d195e5d237ba",
   "metadata": {},
   "source": [
    "---\n",
    "**Problem 9**\n",
    "\n",
    "Compare the performance of the a decision tree to the KNN model in the previous problem, using features that are not transformed with PCA.\n",
    "\n",
    "Define the features and target explicitly.  "
   ]
  },
  {
   "cell_type": "markdown",
   "id": "9654999d-8ff2-49aa-9d42-3c8169d18b23",
   "metadata": {},
   "source": [
    "### Answer 9"
   ]
  },
  {
   "cell_type": "code",
   "execution_count": 129,
   "id": "63683181-a35f-4a87-b79f-6d4da9aceeaa",
   "metadata": {},
   "outputs": [
    {
     "name": "stdout",
     "output_type": "stream",
     "text": [
      "0.98\n"
     ]
    }
   ],
   "source": [
    "#from sklearn.neighbors import KNeighborsClassifier\n",
    "from sklearn.tree import DecisionTreeClassifier\n",
    "\n",
    "dt = DecisionTreeClassifier()\n",
    "\n",
    "# validator\n",
    "ss = ShuffleSplit(n_splits=100)\n",
    "\n",
    "\n",
    "result_dt = cross_validate(dt, X_train, y_train, cv=ss, scoring=['f1'])\n",
    "print(result_dt['test_f1'].mean().round(2))"
   ]
  },
  {
   "cell_type": "markdown",
   "id": "0de20be0-022b-41f1-b952-1d38c3d6a4a6",
   "metadata": {},
   "source": [
    "#### The features are the same features that were used to train the knn model in problem 4."
   ]
  },
  {
   "cell_type": "code",
   "execution_count": 131,
   "id": "8f394a33-8d39-4866-9363-77c1fc9fa266",
   "metadata": {},
   "outputs": [
    {
     "name": "stdout",
     "output_type": "stream",
     "text": [
      "0.86\n"
     ]
    }
   ],
   "source": [
    "result_knn= cross_validate(knn_model, X_train.values, y_train.values, cv=ss, scoring=['f1'])\n",
    "\n",
    "print(result_knn['test_f1'].mean().round(2))"
   ]
  },
  {
   "cell_type": "markdown",
   "id": "6ffffe6d-f643-4efe-89d9-11ddabf6eef5",
   "metadata": {},
   "source": [
    "#### Based on the f1 score of both the models, we can see the decision tree classifier performs better in classifying the kidney patients than the knn model."
   ]
  },
  {
   "cell_type": "markdown",
   "id": "688e2644-b024-48b0-a19d-d2188f727ec6",
   "metadata": {},
   "source": [
    "---\n",
    "**Problem 10**\n",
    "\n",
    "Identify the 3 most important features contributing to predicting kidney disease.  Explain how you got this.\n"
   ]
  },
  {
   "cell_type": "code",
   "execution_count": null,
   "id": "1a7dc3fb-12d1-451e-9ab9-c565ff3e3fea",
   "metadata": {},
   "outputs": [],
   "source": []
  }
 ],
 "metadata": {
  "kernelspec": {
   "display_name": "Python 3 (ipykernel)",
   "language": "python",
   "name": "python3"
  },
  "language_info": {
   "codemirror_mode": {
    "name": "ipython",
    "version": 3
   },
   "file_extension": ".py",
   "mimetype": "text/x-python",
   "name": "python",
   "nbconvert_exporter": "python",
   "pygments_lexer": "ipython3",
   "version": "3.9.16"
  }
 },
 "nbformat": 4,
 "nbformat_minor": 5
}
