{
 "cells": [
  {
   "cell_type": "markdown",
   "id": "70fef74a-207c-4165-b534-201b0d75abe4",
   "metadata": {},
   "source": [
    "# COMP 7150 Midterm Exam"
   ]
  },
  {
   "cell_type": "markdown",
   "id": "4f70f349-3677-45de-ab01-282a6721d04d",
   "metadata": {},
   "source": [
    "WRITE YOUR NAME HERE: ____"
   ]
  },
  {
   "cell_type": "markdown",
   "id": "f0327817-85a3-4f68-9609-beb2d9430c69",
   "metadata": {},
   "source": [
    "---\n",
    "\n",
    "The instructor will explictly review these policies at the beginning of the exam. If you have questions about the exam policy, you must ask the instructor for clarification.\n",
    "\n",
    "Exam policy:\n",
    "+ You may view materials that are available on Canvas.\n",
    "+ To analyze or visualize data, you may only use code that we have discussed in this course.  Using code or methods that have not been taught is considered cheating.  There are exceptions that I may allow. But you will have to get approvals from me first. \n",
    "+ You may not view other materials (code/methodologies/etc.) from other sources. You may not get help from anyone other than the instructor. A violation is considered cheating.  Cheating results in failing the course (getting an F).\n",
    "\n",
    "Grading policy: to get most of the points on each problem, follow this guidline:\n",
    "+ If the problem ask question(s), you must answer the question(s) in English.  Further, you will need perform an analysis to justify your answer.\n",
    "+ Your analysis consists of code and possibly reasoning to support your answer.\n",
    "+ If I ask for specific types of analyses or procedures, to get points, you have to use those.  If I do not ask for specific technical procedures, you are open to use anything we've discussed in this course.\n",
    "\n",
    "There are 9 questions.  Each is worth 12 points.  Anything over 100 points is bonus.\n",
    "\n",
    "---\n"
   ]
  },
  {
   "cell_type": "markdown",
   "id": "d2461d90-99bb-45ae-9e63-1ad7a78af6de",
   "metadata": {},
   "source": [
    "In this exam, you will use the \"Mall_Customers\" dataset."
   ]
  },
  {
   "cell_type": "code",
   "execution_count": 46,
   "id": "d0d91cdf-1f5d-4890-8ccd-608fd20de8b6",
   "metadata": {},
   "outputs": [
    {
     "data": {
      "text/html": [
       "<div>\n",
       "<style scoped>\n",
       "    .dataframe tbody tr th:only-of-type {\n",
       "        vertical-align: middle;\n",
       "    }\n",
       "\n",
       "    .dataframe tbody tr th {\n",
       "        vertical-align: top;\n",
       "    }\n",
       "\n",
       "    .dataframe thead th {\n",
       "        text-align: right;\n",
       "    }\n",
       "</style>\n",
       "<table border=\"1\" class=\"dataframe\">\n",
       "  <thead>\n",
       "    <tr style=\"text-align: right;\">\n",
       "      <th></th>\n",
       "      <th>CustomerID</th>\n",
       "      <th>Gender</th>\n",
       "      <th>Age</th>\n",
       "      <th>Annual Income (k$)</th>\n",
       "      <th>Spending Score (1-100)</th>\n",
       "    </tr>\n",
       "  </thead>\n",
       "  <tbody>\n",
       "    <tr>\n",
       "      <th>99</th>\n",
       "      <td>100</td>\n",
       "      <td>Male</td>\n",
       "      <td>20</td>\n",
       "      <td>61</td>\n",
       "      <td>49</td>\n",
       "    </tr>\n",
       "    <tr>\n",
       "      <th>180</th>\n",
       "      <td>181</td>\n",
       "      <td>Female</td>\n",
       "      <td>37</td>\n",
       "      <td>97</td>\n",
       "      <td>32</td>\n",
       "    </tr>\n",
       "  </tbody>\n",
       "</table>\n",
       "</div>"
      ],
      "text/plain": [
       "     CustomerID  Gender  Age  Annual Income (k$)  Spending Score (1-100)\n",
       "99          100    Male   20                  61                      49\n",
       "180         181  Female   37                  97                      32"
      ]
     },
     "execution_count": 46,
     "metadata": {},
     "output_type": "execute_result"
    }
   ],
   "source": [
    "import pandas\n",
    "\n",
    "customers = pandas.read_csv('../Datasets/Mall_Customers.csv')\n",
    "customers.sample(2)"
   ]
  },
  {
   "cell_type": "markdown",
   "id": "59785de9-3bb8-4d37-a33e-c5c87e525045",
   "metadata": {},
   "source": [
    "---\n",
    "\n",
    "**Problem 1**\n",
    "\n",
    "Visualize the distribution of annual incomes.\n",
    "\n"
   ]
  },
  {
   "cell_type": "markdown",
   "id": "0af6a661-ca59-448b-ac7b-cb1fad96faa2",
   "metadata": {},
   "source": [
    "---\n",
    "\n",
    "**Problem 2**\n",
    "\n",
    "Is the distribution of annual incomes normal?  Explain both visually and by using a statistical test."
   ]
  },
  {
   "cell_type": "markdown",
   "id": "c3bcac93-c938-43e0-9883-9a8b71b2a25d",
   "metadata": {},
   "source": [
    "---\n",
    "\n",
    "**Problem 3**\n",
    "\n",
    "What is the test hypothesis of the t-test?  Explain your conclusion when a t-test between two series A and B returns a p-value of 0.003."
   ]
  },
  {
   "cell_type": "markdown",
   "id": "2fde3e0a-0087-48e0-b66f-621f88e7ea31",
   "metadata": {},
   "source": [
    "---\n",
    "\n",
    "**Problem 4**\n",
    "\n",
    "Create a dataframe that contains all data points with gender \"Male\", and another dataframe that contains all data points with gender \"Female\".\n"
   ]
  },
  {
   "cell_type": "markdown",
   "id": "f7592862-addf-4dc6-ad8c-c48e8865c1aa",
   "metadata": {},
   "source": [
    "---\n",
    "\n",
    "**Problem 5**\n",
    "\n",
    "Is there a significant difference between males' and females' annual incomes?\n"
   ]
  },
  {
   "cell_type": "markdown",
   "id": "b3dc5025-91ac-494a-beb9-ec8e32469e6d",
   "metadata": {},
   "source": [
    "---\n",
    "\n",
    "**Problem 6**\n",
    "\n",
    "Given this dataframe:\n",
    "```python\n",
    "customers = pandas.read_csv('../Datasets/Mall_Customers.csv')\n",
    "```\n",
    "\n",
    "Create a new column in this dataframe called `income_class`, based on this definition:\n",
    "+ `low` - if the annual income is less than 40k.\n",
    "+ `middle` - if the annual income is between 40k and 70k.\n",
    "+ `high` - if the annual income is more than 70k."
   ]
  },
  {
   "cell_type": "markdown",
   "id": "ffd5c897-abe1-4109-b29e-e98d80580963",
   "metadata": {},
   "source": [
    "---\n",
    "\n",
    "**Problem 7**\n",
    "\n",
    "A person with a high spending score more likely spends the money to buy things.  The average spending scores of low-income, middle-income, and high-income people are actually very similar (around 50).\n",
    "\n",
    "But there are similarities and differences beyond this average value.\n",
    "\n",
    "Compare the similarities and differences in spending between these three groups of people. "
   ]
  },
  {
   "cell_type": "markdown",
   "id": "c59d3772-f0e8-4c01-b179-2b789bf0a14b",
   "metadata": {},
   "source": [
    "---\n",
    "\n",
    "**Problem 8**\n",
    "\n",
    "This code will group the data into 5 different clusters, based on age and spending score.\n",
    "\n",
    "```python\n",
    "from sklearn.cluster import KMeans\n",
    "model = KMeans(n_clusters=5, random_state=2024)\n",
    "X = customers[['Age','Spending Score (1-100)']]\n",
    "model.fit(X)\n",
    "```\n",
    "\n",
    "Show that incomes of the people in clusters 1 and 4 are very similar."
   ]
  },
  {
   "cell_type": "markdown",
   "id": "aecb6915-6f3a-42a8-a729-16dc3de71e92",
   "metadata": {},
   "source": [
    "---\n",
    "\n",
    "**Problem 9**\n",
    "\n",
    "Suppose you need to provide business analytics to a company, do you recommend your company to attract people in cluster 1 or cluster 4?"
   ]
  }
 ],
 "metadata": {
  "kernelspec": {
   "display_name": "Python 3 (ipykernel)",
   "language": "python",
   "name": "python3"
  },
  "language_info": {
   "codemirror_mode": {
    "name": "ipython",
    "version": 3
   },
   "file_extension": ".py",
   "mimetype": "text/x-python",
   "name": "python",
   "nbconvert_exporter": "python",
   "pygments_lexer": "ipython3",
   "version": "3.9.18"
  }
 },
 "nbformat": 4,
 "nbformat_minor": 5
}
