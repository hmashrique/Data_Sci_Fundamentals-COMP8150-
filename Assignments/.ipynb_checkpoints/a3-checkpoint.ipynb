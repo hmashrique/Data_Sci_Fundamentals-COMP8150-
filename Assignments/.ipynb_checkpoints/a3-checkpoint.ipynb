{
 "cells": [
  {
   "cell_type": "markdown",
   "id": "a27afb3a-2cc4-475c-a3f8-8ddd2c31c447",
   "metadata": {},
   "source": [
    "# COMP 7150 Assignment 3\n",
    "Due date: 03/25/2024, before midnight"
   ]
  },
  {
   "cell_type": "markdown",
   "id": "8084b056-4f61-4d0f-a091-1f26da99c211",
   "metadata": {},
   "source": [
    "**YOUR NAME**: ____________\n",
    "\n",
    "----"
   ]
  },
  {
   "cell_type": "code",
   "execution_count": 3,
   "id": "503628f2-c8af-4473-845b-75462c7b8d94",
   "metadata": {},
   "outputs": [],
   "source": [
    "import pandas, seaborn\n",
    "from sklearn.cluster import KMeans\n",
    "from sklearn.preprocessing import StandardScaler"
   ]
  },
  {
   "cell_type": "code",
   "execution_count": 46,
   "id": "5eb41642-7d14-4ac6-aa8e-20a3d79e2d15",
   "metadata": {},
   "outputs": [],
   "source": [
    "df = pandas.read_csv('../Datasets/Mall_Customers.csv')"
   ]
  },
  {
   "cell_type": "markdown",
   "id": "26fa5ccd-89ed-4b92-8b8a-ea5d98d7158f",
   "metadata": {},
   "source": [
    "---\n",
    "**Problem 1**\n",
    "\n",
    "Create a KMeans model (use random state of 2024) based on Age, Annual Income, and Spending Score.  Rescale the features appropriately.\n",
    "\n",
    "Visualize the number of clusters (k) versus inertia, and visually identify the below.\n"
   ]
  },
  {
   "cell_type": "markdown",
   "id": "6baefe75-a546-4954-a596-16b59c953d23",
   "metadata": {},
   "source": [
    "---\n",
    "**Problem 2**\n",
    "\n",
    "Build a model based on the value of k at the elbow.  Are older people more frugal than younger people?\n",
    "\n",
    "Explain what you think being \"frugal\" means in this context.  And explain your answer.  It's not a simple \"Yes\" or \"No\"."
   ]
  },
  {
   "cell_type": "markdown",
   "id": "d68c9cba-453e-45b0-9b25-4ff6b3ff8fe0",
   "metadata": {},
   "source": [
    "---\n",
    "\n",
    "**Problem 3**\n",
    "\n",
    "Do older people tend to live within their means and younger people don't?\n",
    "\n",
    "Explain your answer.  It's not a simple \"Yes\" or \"No\"."
   ]
  },
  {
   "cell_type": "markdown",
   "id": "4924ab79-f9cf-4bc0-a11c-d63c0773d3ca",
   "metadata": {},
   "source": [
    "---\n",
    "**Problem 4**\n",
    "\n",
    "What is the extend to which younger and older people live beyond their means? "
   ]
  },
  {
   "cell_type": "markdown",
   "id": "b3e90051-5835-416a-b5d8-28a5ed3601bf",
   "metadata": {},
   "source": [
    "---\n",
    "**Problem 5**\n",
    "\n",
    "Is there any characteristic that is unique to male or female?"
   ]
  }
 ],
 "metadata": {
  "kernelspec": {
   "display_name": "Python 3 (ipykernel)",
   "language": "python",
   "name": "python3"
  },
  "language_info": {
   "codemirror_mode": {
    "name": "ipython",
    "version": 3
   },
   "file_extension": ".py",
   "mimetype": "text/x-python",
   "name": "python",
   "nbconvert_exporter": "python",
   "pygments_lexer": "ipython3",
   "version": "3.9.18"
  }
 },
 "nbformat": 4,
 "nbformat_minor": 5
}
