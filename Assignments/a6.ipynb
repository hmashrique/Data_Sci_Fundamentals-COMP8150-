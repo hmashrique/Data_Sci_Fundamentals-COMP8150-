{
 "cells": [
  {
   "cell_type": "markdown",
   "id": "622d6456-0b57-4071-b6c6-f6ede8c7fab3",
   "metadata": {
    "tags": []
   },
   "source": [
    "### Assignment 6\n",
    "\n",
    "**Deadline: 4/22/2024 before midnight**"
   ]
  },
  {
   "cell_type": "markdown",
   "id": "d58df792-9a9d-4735-94dd-43a81e15b58d",
   "metadata": {},
   "source": [
    "YOUR NAME: Hasan Mashrique"
   ]
  },
  {
   "cell_type": "markdown",
   "id": "440b3015-8ec9-4921-bd00-3c8fb1332907",
   "metadata": {},
   "source": [
    "---\n",
    "In this assignment, we analyze the diabetes dataset to predict the onset of diabetes based on diagnostic measures. We employ machine learning models, specifically K-nearest neighbors (KNN) and a dummy classifier, to evaluate their performance."
   ]
  },
  {
   "cell_type": "code",
   "execution_count": 147,
   "id": "030fe036-24d9-4f20-9d2a-0e3a9e454c5c",
   "metadata": {},
   "outputs": [],
   "source": [
    "from sklearn.model_selection import ShuffleSplit\n",
    "from sklearn.metrics import accuracy_score\n",
    "from sklearn.dummy import DummyClassifier\n",
    "from sklearn.model_selection import train_test_split\n",
    "from sklearn.model_selection import cross_validate\n",
    "from sklearn.preprocessing import StandardScaler\n",
    "import seaborn as sns\n",
    "from matplotlib import pyplot as plt\n",
    "%matplotlib inline"
   ]
  },
  {
   "cell_type": "code",
   "execution_count": 129,
   "id": "6622843d-387c-4cdf-b7a3-336b176fc4c9",
   "metadata": {},
   "outputs": [],
   "source": [
    "import pandas\n",
    "diabetes = pandas.read_csv('../Datasets/diabetes.csv')"
   ]
  },
  {
   "cell_type": "code",
   "execution_count": 130,
   "id": "afcbb28c-3c54-412f-9076-824840ade147",
   "metadata": {},
   "outputs": [
    {
     "data": {
      "text/html": [
       "<div>\n",
       "<style scoped>\n",
       "    .dataframe tbody tr th:only-of-type {\n",
       "        vertical-align: middle;\n",
       "    }\n",
       "\n",
       "    .dataframe tbody tr th {\n",
       "        vertical-align: top;\n",
       "    }\n",
       "\n",
       "    .dataframe thead th {\n",
       "        text-align: right;\n",
       "    }\n",
       "</style>\n",
       "<table border=\"1\" class=\"dataframe\">\n",
       "  <thead>\n",
       "    <tr style=\"text-align: right;\">\n",
       "      <th></th>\n",
       "      <th>Pregnancies</th>\n",
       "      <th>Glucose</th>\n",
       "      <th>BloodPressure</th>\n",
       "      <th>SkinThickness</th>\n",
       "      <th>Insulin</th>\n",
       "      <th>BMI</th>\n",
       "      <th>DiabetesPedigreeFunction</th>\n",
       "      <th>Age</th>\n",
       "      <th>Outcome</th>\n",
       "    </tr>\n",
       "  </thead>\n",
       "  <tbody>\n",
       "    <tr>\n",
       "      <th>452</th>\n",
       "      <td>0</td>\n",
       "      <td>91</td>\n",
       "      <td>68</td>\n",
       "      <td>32</td>\n",
       "      <td>210</td>\n",
       "      <td>39.9</td>\n",
       "      <td>0.381</td>\n",
       "      <td>25</td>\n",
       "      <td>0</td>\n",
       "    </tr>\n",
       "    <tr>\n",
       "      <th>177</th>\n",
       "      <td>0</td>\n",
       "      <td>129</td>\n",
       "      <td>110</td>\n",
       "      <td>46</td>\n",
       "      <td>130</td>\n",
       "      <td>67.1</td>\n",
       "      <td>0.319</td>\n",
       "      <td>26</td>\n",
       "      <td>1</td>\n",
       "    </tr>\n",
       "    <tr>\n",
       "      <th>741</th>\n",
       "      <td>3</td>\n",
       "      <td>102</td>\n",
       "      <td>44</td>\n",
       "      <td>20</td>\n",
       "      <td>94</td>\n",
       "      <td>30.8</td>\n",
       "      <td>0.400</td>\n",
       "      <td>26</td>\n",
       "      <td>0</td>\n",
       "    </tr>\n",
       "  </tbody>\n",
       "</table>\n",
       "</div>"
      ],
      "text/plain": [
       "     Pregnancies  Glucose  BloodPressure  SkinThickness  Insulin   BMI  \\\n",
       "452            0       91             68             32      210  39.9   \n",
       "177            0      129            110             46      130  67.1   \n",
       "741            3      102             44             20       94  30.8   \n",
       "\n",
       "     DiabetesPedigreeFunction  Age  Outcome  \n",
       "452                     0.381   25        0  \n",
       "177                     0.319   26        1  \n",
       "741                     0.400   26        0  "
      ]
     },
     "execution_count": 130,
     "metadata": {},
     "output_type": "execute_result"
    }
   ],
   "source": [
    "diabetes.sample(3)"
   ]
  },
  {
   "cell_type": "code",
   "execution_count": 131,
   "id": "1746a206-ffe8-4626-9619-191b4c7dfe8f",
   "metadata": {},
   "outputs": [
    {
     "data": {
      "text/plain": [
       "768"
      ]
     },
     "execution_count": 131,
     "metadata": {},
     "output_type": "execute_result"
    }
   ],
   "source": [
    "len(diabetes)"
   ]
  },
  {
   "cell_type": "markdown",
   "id": "319df09e-5c47-406b-be11-814e8b96856d",
   "metadata": {},
   "source": [
    "---\n",
    "## **Problem 1**\n",
    "\n",
    "Construct a KNN classifier with 7 nearest neighbors. to predict the Outcome of the dataset.\n",
    "\n",
    "To predict the Outcome variable, use all of the othe variables as features.  \n",
    "\n",
    "Features must be standardized before training the KNN model because distance-based algorithms are sensitive to the scale of the data.\n",
    "\n",
    "Use the `train_test_split` method with a `random_state` of 1234, allocating 97% of the data for training and 3% for testing."
   ]
  },
  {
   "cell_type": "markdown",
   "id": "ae5a03f2-5a1c-49c7-8836-3f3e741fcd66",
   "metadata": {},
   "source": [
    "## Solution 1"
   ]
  },
  {
   "cell_type": "code",
   "execution_count": 132,
   "id": "fbfbbfa2-32d8-4825-94ac-ffc8e7282a57",
   "metadata": {},
   "outputs": [],
   "source": [
    "## define the input and output features\n",
    "\n",
    "y = diabetes['Outcome']\n",
    "\n",
    "X = diabetes.drop(columns=['Outcome'])\n",
    "\n",
    "X_analyze= X     ## for problem 2 analysis\n",
    "\n",
    "X = pandas.DataFrame(\n",
    "    data = StandardScaler().fit_transform(X),\n",
    "    columns = X.columns,\n",
    ")"
   ]
  },
  {
   "cell_type": "code",
   "execution_count": 133,
   "id": "3f5919a8-f9de-46d8-ae06-5c22a8fa561a",
   "metadata": {},
   "outputs": [
    {
     "data": {
      "text/html": [
       "<div>\n",
       "<style scoped>\n",
       "    .dataframe tbody tr th:only-of-type {\n",
       "        vertical-align: middle;\n",
       "    }\n",
       "\n",
       "    .dataframe tbody tr th {\n",
       "        vertical-align: top;\n",
       "    }\n",
       "\n",
       "    .dataframe thead th {\n",
       "        text-align: right;\n",
       "    }\n",
       "</style>\n",
       "<table border=\"1\" class=\"dataframe\">\n",
       "  <thead>\n",
       "    <tr style=\"text-align: right;\">\n",
       "      <th></th>\n",
       "      <th>Pregnancies</th>\n",
       "      <th>Glucose</th>\n",
       "      <th>BloodPressure</th>\n",
       "      <th>SkinThickness</th>\n",
       "      <th>Insulin</th>\n",
       "      <th>BMI</th>\n",
       "      <th>DiabetesPedigreeFunction</th>\n",
       "      <th>Age</th>\n",
       "    </tr>\n",
       "  </thead>\n",
       "  <tbody>\n",
       "    <tr>\n",
       "      <th>193</th>\n",
       "      <td>2.124780</td>\n",
       "      <td>0.441461</td>\n",
       "      <td>-3.572597</td>\n",
       "      <td>-1.288212</td>\n",
       "      <td>-0.692891</td>\n",
       "      <td>2.577403</td>\n",
       "      <td>0.320506</td>\n",
       "      <td>0.575118</td>\n",
       "    </tr>\n",
       "    <tr>\n",
       "      <th>29</th>\n",
       "      <td>0.342981</td>\n",
       "      <td>-0.121888</td>\n",
       "      <td>1.183596</td>\n",
       "      <td>-1.288212</td>\n",
       "      <td>-0.692891</td>\n",
       "      <td>0.267472</td>\n",
       "      <td>-0.407342</td>\n",
       "      <td>0.404942</td>\n",
       "    </tr>\n",
       "    <tr>\n",
       "      <th>759</th>\n",
       "      <td>0.639947</td>\n",
       "      <td>2.162804</td>\n",
       "      <td>1.183596</td>\n",
       "      <td>-1.288212</td>\n",
       "      <td>-0.692891</td>\n",
       "      <td>0.445159</td>\n",
       "      <td>-0.585529</td>\n",
       "      <td>2.787399</td>\n",
       "    </tr>\n",
       "  </tbody>\n",
       "</table>\n",
       "</div>"
      ],
      "text/plain": [
       "     Pregnancies   Glucose  BloodPressure  SkinThickness   Insulin       BMI  \\\n",
       "193     2.124780  0.441461      -3.572597      -1.288212 -0.692891  2.577403   \n",
       "29      0.342981 -0.121888       1.183596      -1.288212 -0.692891  0.267472   \n",
       "759     0.639947  2.162804       1.183596      -1.288212 -0.692891  0.445159   \n",
       "\n",
       "     DiabetesPedigreeFunction       Age  \n",
       "193                  0.320506  0.575118  \n",
       "29                  -0.407342  0.404942  \n",
       "759                 -0.585529  2.787399  "
      ]
     },
     "execution_count": 133,
     "metadata": {},
     "output_type": "execute_result"
    }
   ],
   "source": [
    "X.sample(3)"
   ]
  },
  {
   "cell_type": "code",
   "execution_count": 134,
   "id": "9829d2bf-5ae2-4de4-a04f-6941d3457ac2",
   "metadata": {},
   "outputs": [
    {
     "data": {
      "text/plain": [
       "228    0\n",
       "129    1\n",
       "61     1\n",
       "Name: Outcome, dtype: int64"
      ]
     },
     "execution_count": 134,
     "metadata": {},
     "output_type": "execute_result"
    }
   ],
   "source": [
    "y.sample(3)"
   ]
  },
  {
   "cell_type": "code",
   "execution_count": 135,
   "id": "10e18387-1ab7-457d-a03c-07397190176c",
   "metadata": {},
   "outputs": [],
   "source": [
    "## split the data into train test\n",
    "\n",
    "X_train, X_test, y_train, y_test = train_test_split(X, y, test_size=0.03, random_state=1234)"
   ]
  },
  {
   "cell_type": "code",
   "execution_count": 136,
   "id": "994c4afd-2f81-4bbc-9461-73bef0d304fd",
   "metadata": {},
   "outputs": [
    {
     "data": {
      "text/html": [
       "<style>#sk-container-id-6 {color: black;}#sk-container-id-6 pre{padding: 0;}#sk-container-id-6 div.sk-toggleable {background-color: white;}#sk-container-id-6 label.sk-toggleable__label {cursor: pointer;display: block;width: 100%;margin-bottom: 0;padding: 0.3em;box-sizing: border-box;text-align: center;}#sk-container-id-6 label.sk-toggleable__label-arrow:before {content: \"▸\";float: left;margin-right: 0.25em;color: #696969;}#sk-container-id-6 label.sk-toggleable__label-arrow:hover:before {color: black;}#sk-container-id-6 div.sk-estimator:hover label.sk-toggleable__label-arrow:before {color: black;}#sk-container-id-6 div.sk-toggleable__content {max-height: 0;max-width: 0;overflow: hidden;text-align: left;background-color: #f0f8ff;}#sk-container-id-6 div.sk-toggleable__content pre {margin: 0.2em;color: black;border-radius: 0.25em;background-color: #f0f8ff;}#sk-container-id-6 input.sk-toggleable__control:checked~div.sk-toggleable__content {max-height: 200px;max-width: 100%;overflow: auto;}#sk-container-id-6 input.sk-toggleable__control:checked~label.sk-toggleable__label-arrow:before {content: \"▾\";}#sk-container-id-6 div.sk-estimator input.sk-toggleable__control:checked~label.sk-toggleable__label {background-color: #d4ebff;}#sk-container-id-6 div.sk-label input.sk-toggleable__control:checked~label.sk-toggleable__label {background-color: #d4ebff;}#sk-container-id-6 input.sk-hidden--visually {border: 0;clip: rect(1px 1px 1px 1px);clip: rect(1px, 1px, 1px, 1px);height: 1px;margin: -1px;overflow: hidden;padding: 0;position: absolute;width: 1px;}#sk-container-id-6 div.sk-estimator {font-family: monospace;background-color: #f0f8ff;border: 1px dotted black;border-radius: 0.25em;box-sizing: border-box;margin-bottom: 0.5em;}#sk-container-id-6 div.sk-estimator:hover {background-color: #d4ebff;}#sk-container-id-6 div.sk-parallel-item::after {content: \"\";width: 100%;border-bottom: 1px solid gray;flex-grow: 1;}#sk-container-id-6 div.sk-label:hover label.sk-toggleable__label {background-color: #d4ebff;}#sk-container-id-6 div.sk-serial::before {content: \"\";position: absolute;border-left: 1px solid gray;box-sizing: border-box;top: 0;bottom: 0;left: 50%;z-index: 0;}#sk-container-id-6 div.sk-serial {display: flex;flex-direction: column;align-items: center;background-color: white;padding-right: 0.2em;padding-left: 0.2em;position: relative;}#sk-container-id-6 div.sk-item {position: relative;z-index: 1;}#sk-container-id-6 div.sk-parallel {display: flex;align-items: stretch;justify-content: center;background-color: white;position: relative;}#sk-container-id-6 div.sk-item::before, #sk-container-id-6 div.sk-parallel-item::before {content: \"\";position: absolute;border-left: 1px solid gray;box-sizing: border-box;top: 0;bottom: 0;left: 50%;z-index: -1;}#sk-container-id-6 div.sk-parallel-item {display: flex;flex-direction: column;z-index: 1;position: relative;background-color: white;}#sk-container-id-6 div.sk-parallel-item:first-child::after {align-self: flex-end;width: 50%;}#sk-container-id-6 div.sk-parallel-item:last-child::after {align-self: flex-start;width: 50%;}#sk-container-id-6 div.sk-parallel-item:only-child::after {width: 0;}#sk-container-id-6 div.sk-dashed-wrapped {border: 1px dashed gray;margin: 0 0.4em 0.5em 0.4em;box-sizing: border-box;padding-bottom: 0.4em;background-color: white;}#sk-container-id-6 div.sk-label label {font-family: monospace;font-weight: bold;display: inline-block;line-height: 1.2em;}#sk-container-id-6 div.sk-label-container {text-align: center;}#sk-container-id-6 div.sk-container {/* jupyter's `normalize.less` sets `[hidden] { display: none; }` but bootstrap.min.css set `[hidden] { display: none !important; }` so we also need the `!important` here to be able to override the default hidden behavior on the sphinx rendered scikit-learn.org. See: https://github.com/scikit-learn/scikit-learn/issues/21755 */display: inline-block !important;position: relative;}#sk-container-id-6 div.sk-text-repr-fallback {display: none;}</style><div id=\"sk-container-id-6\" class=\"sk-top-container\"><div class=\"sk-text-repr-fallback\"><pre>KNeighborsClassifier(n_neighbors=7)</pre><b>In a Jupyter environment, please rerun this cell to show the HTML representation or trust the notebook. <br />On GitHub, the HTML representation is unable to render, please try loading this page with nbviewer.org.</b></div><div class=\"sk-container\" hidden><div class=\"sk-item\"><div class=\"sk-estimator sk-toggleable\"><input class=\"sk-toggleable__control sk-hidden--visually\" id=\"sk-estimator-id-6\" type=\"checkbox\" checked><label for=\"sk-estimator-id-6\" class=\"sk-toggleable__label sk-toggleable__label-arrow\">KNeighborsClassifier</label><div class=\"sk-toggleable__content\"><pre>KNeighborsClassifier(n_neighbors=7)</pre></div></div></div></div></div>"
      ],
      "text/plain": [
       "KNeighborsClassifier(n_neighbors=7)"
      ]
     },
     "execution_count": 136,
     "metadata": {},
     "output_type": "execute_result"
    }
   ],
   "source": [
    "## define the KNN classifier and fit the data\n",
    "\n",
    "from sklearn.neighbors import KNeighborsClassifier\n",
    "\n",
    "knn_model = KNeighborsClassifier(n_neighbors=7)\n",
    "\n",
    "knn_model.fit(X_train,y_train)"
   ]
  },
  {
   "cell_type": "code",
   "execution_count": 137,
   "id": "e035118f-1ddf-4812-aa23-dada0752fa28",
   "metadata": {},
   "outputs": [
    {
     "data": {
      "text/plain": [
       "24"
      ]
     },
     "execution_count": 137,
     "metadata": {},
     "output_type": "execute_result"
    }
   ],
   "source": [
    "len(y_test)"
   ]
  },
  {
   "cell_type": "markdown",
   "id": "93a1ec6d-3e41-4420-b2e1-867a9f4a60a8",
   "metadata": {},
   "source": [
    "---\n",
    "## **Problem 2**\n",
    "\n",
    "Extract and display the features and target variable from the test set before standardization to analyze their distributions and characteristics.\n"
   ]
  },
  {
   "cell_type": "code",
   "execution_count": 138,
   "id": "cbe786df-ae8e-4298-8fc2-9580ae1ed764",
   "metadata": {},
   "outputs": [],
   "source": [
    "# split the data into train test before normalizing them\n",
    "\n",
    "X_train1, X_test1, y_train1, y_test1 = train_test_split(X_analyze, y, test_size=0.03, random_state=1234)"
   ]
  },
  {
   "cell_type": "code",
   "execution_count": 139,
   "id": "e9d82196-048b-48d4-8172-ffd52e2e4b85",
   "metadata": {},
   "outputs": [
    {
     "data": {
      "text/html": [
       "<div>\n",
       "<style scoped>\n",
       "    .dataframe tbody tr th:only-of-type {\n",
       "        vertical-align: middle;\n",
       "    }\n",
       "\n",
       "    .dataframe tbody tr th {\n",
       "        vertical-align: top;\n",
       "    }\n",
       "\n",
       "    .dataframe thead th {\n",
       "        text-align: right;\n",
       "    }\n",
       "</style>\n",
       "<table border=\"1\" class=\"dataframe\">\n",
       "  <thead>\n",
       "    <tr style=\"text-align: right;\">\n",
       "      <th></th>\n",
       "      <th>Pregnancies</th>\n",
       "      <th>Glucose</th>\n",
       "      <th>BloodPressure</th>\n",
       "      <th>SkinThickness</th>\n",
       "      <th>Insulin</th>\n",
       "      <th>BMI</th>\n",
       "      <th>DiabetesPedigreeFunction</th>\n",
       "      <th>Age</th>\n",
       "    </tr>\n",
       "  </thead>\n",
       "  <tbody>\n",
       "    <tr>\n",
       "      <th>200</th>\n",
       "      <td>0</td>\n",
       "      <td>113</td>\n",
       "      <td>80</td>\n",
       "      <td>16</td>\n",
       "      <td>0</td>\n",
       "      <td>31.0</td>\n",
       "      <td>0.874</td>\n",
       "      <td>21</td>\n",
       "    </tr>\n",
       "    <tr>\n",
       "      <th>40</th>\n",
       "      <td>3</td>\n",
       "      <td>180</td>\n",
       "      <td>64</td>\n",
       "      <td>25</td>\n",
       "      <td>70</td>\n",
       "      <td>34.0</td>\n",
       "      <td>0.271</td>\n",
       "      <td>26</td>\n",
       "    </tr>\n",
       "    <tr>\n",
       "      <th>630</th>\n",
       "      <td>7</td>\n",
       "      <td>114</td>\n",
       "      <td>64</td>\n",
       "      <td>0</td>\n",
       "      <td>0</td>\n",
       "      <td>27.4</td>\n",
       "      <td>0.732</td>\n",
       "      <td>34</td>\n",
       "    </tr>\n",
       "    <tr>\n",
       "      <th>356</th>\n",
       "      <td>1</td>\n",
       "      <td>125</td>\n",
       "      <td>50</td>\n",
       "      <td>40</td>\n",
       "      <td>167</td>\n",
       "      <td>33.3</td>\n",
       "      <td>0.962</td>\n",
       "      <td>28</td>\n",
       "    </tr>\n",
       "    <tr>\n",
       "      <th>305</th>\n",
       "      <td>2</td>\n",
       "      <td>120</td>\n",
       "      <td>76</td>\n",
       "      <td>37</td>\n",
       "      <td>105</td>\n",
       "      <td>39.7</td>\n",
       "      <td>0.215</td>\n",
       "      <td>29</td>\n",
       "    </tr>\n",
       "    <tr>\n",
       "      <th>267</th>\n",
       "      <td>2</td>\n",
       "      <td>128</td>\n",
       "      <td>64</td>\n",
       "      <td>42</td>\n",
       "      <td>0</td>\n",
       "      <td>40.0</td>\n",
       "      <td>1.101</td>\n",
       "      <td>24</td>\n",
       "    </tr>\n",
       "    <tr>\n",
       "      <th>351</th>\n",
       "      <td>4</td>\n",
       "      <td>137</td>\n",
       "      <td>84</td>\n",
       "      <td>0</td>\n",
       "      <td>0</td>\n",
       "      <td>31.2</td>\n",
       "      <td>0.252</td>\n",
       "      <td>30</td>\n",
       "    </tr>\n",
       "    <tr>\n",
       "      <th>644</th>\n",
       "      <td>3</td>\n",
       "      <td>103</td>\n",
       "      <td>72</td>\n",
       "      <td>30</td>\n",
       "      <td>152</td>\n",
       "      <td>27.6</td>\n",
       "      <td>0.730</td>\n",
       "      <td>27</td>\n",
       "    </tr>\n",
       "    <tr>\n",
       "      <th>759</th>\n",
       "      <td>6</td>\n",
       "      <td>190</td>\n",
       "      <td>92</td>\n",
       "      <td>0</td>\n",
       "      <td>0</td>\n",
       "      <td>35.5</td>\n",
       "      <td>0.278</td>\n",
       "      <td>66</td>\n",
       "    </tr>\n",
       "    <tr>\n",
       "      <th>157</th>\n",
       "      <td>1</td>\n",
       "      <td>109</td>\n",
       "      <td>56</td>\n",
       "      <td>21</td>\n",
       "      <td>135</td>\n",
       "      <td>25.2</td>\n",
       "      <td>0.833</td>\n",
       "      <td>23</td>\n",
       "    </tr>\n",
       "    <tr>\n",
       "      <th>606</th>\n",
       "      <td>1</td>\n",
       "      <td>181</td>\n",
       "      <td>78</td>\n",
       "      <td>42</td>\n",
       "      <td>293</td>\n",
       "      <td>40.0</td>\n",
       "      <td>1.258</td>\n",
       "      <td>22</td>\n",
       "    </tr>\n",
       "    <tr>\n",
       "      <th>449</th>\n",
       "      <td>0</td>\n",
       "      <td>120</td>\n",
       "      <td>74</td>\n",
       "      <td>18</td>\n",
       "      <td>63</td>\n",
       "      <td>30.5</td>\n",
       "      <td>0.285</td>\n",
       "      <td>26</td>\n",
       "    </tr>\n",
       "    <tr>\n",
       "      <th>473</th>\n",
       "      <td>7</td>\n",
       "      <td>136</td>\n",
       "      <td>90</td>\n",
       "      <td>0</td>\n",
       "      <td>0</td>\n",
       "      <td>29.9</td>\n",
       "      <td>0.210</td>\n",
       "      <td>50</td>\n",
       "    </tr>\n",
       "    <tr>\n",
       "      <th>461</th>\n",
       "      <td>1</td>\n",
       "      <td>71</td>\n",
       "      <td>62</td>\n",
       "      <td>0</td>\n",
       "      <td>0</td>\n",
       "      <td>21.8</td>\n",
       "      <td>0.416</td>\n",
       "      <td>26</td>\n",
       "    </tr>\n",
       "    <tr>\n",
       "      <th>169</th>\n",
       "      <td>3</td>\n",
       "      <td>111</td>\n",
       "      <td>90</td>\n",
       "      <td>12</td>\n",
       "      <td>78</td>\n",
       "      <td>28.4</td>\n",
       "      <td>0.495</td>\n",
       "      <td>29</td>\n",
       "    </tr>\n",
       "    <tr>\n",
       "      <th>718</th>\n",
       "      <td>1</td>\n",
       "      <td>108</td>\n",
       "      <td>60</td>\n",
       "      <td>46</td>\n",
       "      <td>178</td>\n",
       "      <td>35.5</td>\n",
       "      <td>0.415</td>\n",
       "      <td>24</td>\n",
       "    </tr>\n",
       "    <tr>\n",
       "      <th>230</th>\n",
       "      <td>4</td>\n",
       "      <td>142</td>\n",
       "      <td>86</td>\n",
       "      <td>0</td>\n",
       "      <td>0</td>\n",
       "      <td>44.0</td>\n",
       "      <td>0.645</td>\n",
       "      <td>22</td>\n",
       "    </tr>\n",
       "    <tr>\n",
       "      <th>666</th>\n",
       "      <td>4</td>\n",
       "      <td>145</td>\n",
       "      <td>82</td>\n",
       "      <td>18</td>\n",
       "      <td>0</td>\n",
       "      <td>32.5</td>\n",
       "      <td>0.235</td>\n",
       "      <td>70</td>\n",
       "    </tr>\n",
       "    <tr>\n",
       "      <th>234</th>\n",
       "      <td>3</td>\n",
       "      <td>74</td>\n",
       "      <td>68</td>\n",
       "      <td>28</td>\n",
       "      <td>45</td>\n",
       "      <td>29.7</td>\n",
       "      <td>0.293</td>\n",
       "      <td>23</td>\n",
       "    </tr>\n",
       "    <tr>\n",
       "      <th>539</th>\n",
       "      <td>3</td>\n",
       "      <td>129</td>\n",
       "      <td>92</td>\n",
       "      <td>49</td>\n",
       "      <td>155</td>\n",
       "      <td>36.4</td>\n",
       "      <td>0.968</td>\n",
       "      <td>32</td>\n",
       "    </tr>\n",
       "    <tr>\n",
       "      <th>100</th>\n",
       "      <td>1</td>\n",
       "      <td>163</td>\n",
       "      <td>72</td>\n",
       "      <td>0</td>\n",
       "      <td>0</td>\n",
       "      <td>39.0</td>\n",
       "      <td>1.222</td>\n",
       "      <td>33</td>\n",
       "    </tr>\n",
       "    <tr>\n",
       "      <th>693</th>\n",
       "      <td>7</td>\n",
       "      <td>129</td>\n",
       "      <td>68</td>\n",
       "      <td>49</td>\n",
       "      <td>125</td>\n",
       "      <td>38.5</td>\n",
       "      <td>0.439</td>\n",
       "      <td>43</td>\n",
       "    </tr>\n",
       "    <tr>\n",
       "      <th>534</th>\n",
       "      <td>1</td>\n",
       "      <td>77</td>\n",
       "      <td>56</td>\n",
       "      <td>30</td>\n",
       "      <td>56</td>\n",
       "      <td>33.3</td>\n",
       "      <td>1.251</td>\n",
       "      <td>24</td>\n",
       "    </tr>\n",
       "    <tr>\n",
       "      <th>131</th>\n",
       "      <td>9</td>\n",
       "      <td>122</td>\n",
       "      <td>56</td>\n",
       "      <td>0</td>\n",
       "      <td>0</td>\n",
       "      <td>33.3</td>\n",
       "      <td>1.114</td>\n",
       "      <td>33</td>\n",
       "    </tr>\n",
       "  </tbody>\n",
       "</table>\n",
       "</div>"
      ],
      "text/plain": [
       "     Pregnancies  Glucose  BloodPressure  SkinThickness  Insulin   BMI  \\\n",
       "200            0      113             80             16        0  31.0   \n",
       "40             3      180             64             25       70  34.0   \n",
       "630            7      114             64              0        0  27.4   \n",
       "356            1      125             50             40      167  33.3   \n",
       "305            2      120             76             37      105  39.7   \n",
       "267            2      128             64             42        0  40.0   \n",
       "351            4      137             84              0        0  31.2   \n",
       "644            3      103             72             30      152  27.6   \n",
       "759            6      190             92              0        0  35.5   \n",
       "157            1      109             56             21      135  25.2   \n",
       "606            1      181             78             42      293  40.0   \n",
       "449            0      120             74             18       63  30.5   \n",
       "473            7      136             90              0        0  29.9   \n",
       "461            1       71             62              0        0  21.8   \n",
       "169            3      111             90             12       78  28.4   \n",
       "718            1      108             60             46      178  35.5   \n",
       "230            4      142             86              0        0  44.0   \n",
       "666            4      145             82             18        0  32.5   \n",
       "234            3       74             68             28       45  29.7   \n",
       "539            3      129             92             49      155  36.4   \n",
       "100            1      163             72              0        0  39.0   \n",
       "693            7      129             68             49      125  38.5   \n",
       "534            1       77             56             30       56  33.3   \n",
       "131            9      122             56              0        0  33.3   \n",
       "\n",
       "     DiabetesPedigreeFunction  Age  \n",
       "200                     0.874   21  \n",
       "40                      0.271   26  \n",
       "630                     0.732   34  \n",
       "356                     0.962   28  \n",
       "305                     0.215   29  \n",
       "267                     1.101   24  \n",
       "351                     0.252   30  \n",
       "644                     0.730   27  \n",
       "759                     0.278   66  \n",
       "157                     0.833   23  \n",
       "606                     1.258   22  \n",
       "449                     0.285   26  \n",
       "473                     0.210   50  \n",
       "461                     0.416   26  \n",
       "169                     0.495   29  \n",
       "718                     0.415   24  \n",
       "230                     0.645   22  \n",
       "666                     0.235   70  \n",
       "234                     0.293   23  \n",
       "539                     0.968   32  \n",
       "100                     1.222   33  \n",
       "693                     0.439   43  \n",
       "534                     1.251   24  \n",
       "131                     1.114   33  "
      ]
     },
     "execution_count": 139,
     "metadata": {},
     "output_type": "execute_result"
    }
   ],
   "source": [
    "X_test1"
   ]
  },
  {
   "cell_type": "markdown",
   "id": "f7c694df-5a52-4814-9c70-4f7edaf5c016",
   "metadata": {},
   "source": [
    "#### Range for `BMI` and `Glucose`"
   ]
  },
  {
   "cell_type": "code",
   "execution_count": 140,
   "id": "780370d9-71fe-43b2-bf04-3c220e6d0ea4",
   "metadata": {},
   "outputs": [
    {
     "data": {
      "text/plain": [
       "22.2"
      ]
     },
     "execution_count": 140,
     "metadata": {},
     "output_type": "execute_result"
    }
   ],
   "source": [
    "range_BMI= X_test1['BMI'].max() - X_test1['BMI'].min()\n",
    "\n",
    "range_BMI"
   ]
  },
  {
   "cell_type": "code",
   "execution_count": 141,
   "id": "0c99d0b0-4738-4852-a5bc-8372e7c7deb7",
   "metadata": {},
   "outputs": [
    {
     "data": {
      "text/plain": [
       "119"
      ]
     },
     "execution_count": 141,
     "metadata": {},
     "output_type": "execute_result"
    }
   ],
   "source": [
    "range_glucose= X_test1['Glucose'].max() - X_test1['Glucose'].min()\n",
    "\n",
    "range_glucose"
   ]
  },
  {
   "cell_type": "markdown",
   "id": "8d5de350-1fba-4930-8ca1-c25fef2997ab",
   "metadata": {},
   "source": [
    "#### Distribution of `BMI` and `Glucose`"
   ]
  },
  {
   "cell_type": "code",
   "execution_count": 142,
   "id": "da4c3b00-3f4c-410a-8f97-5e4f123708db",
   "metadata": {},
   "outputs": [
    {
     "data": {
      "image/png": "[encoded data removed]",
      "text/plain": [
       "<Figure size 300x300 with 1 Axes>"
      ]
     },
     "metadata": {},
     "output_type": "display_data"
    }
   ],
   "source": [
    "sns.displot(data=X_test1, x='Glucose', kind='kde', height=3)\n",
    "\n",
    "plt.show()"
   ]
  },
  {
   "cell_type": "code",
   "execution_count": 143,
   "id": "344d9573-f62d-4c3b-a8cc-699263a0b295",
   "metadata": {},
   "outputs": [
    {
     "data": {
      "image/png": "[encoded data removed]",
      "text/plain": [
       "<Figure size 300x300 with 1 Axes>"
      ]
     },
     "metadata": {},
     "output_type": "display_data"
    }
   ],
   "source": [
    "sns.displot(data=X_test1, x='BMI', kind='kde', height=3)\n",
    "\n",
    "plt.show()"
   ]
  },
  {
   "cell_type": "code",
   "execution_count": 149,
   "id": "df2539b3-c4db-4701-9e57-55def1008e6a",
   "metadata": {},
   "outputs": [
    {
     "data": {
      "text/plain": [
       "<seaborn.axisgrid.FacetGrid at 0x16a91f6d0>"
      ]
     },
     "execution_count": 149,
     "metadata": {},
     "output_type": "execute_result"
    },
    {
     "data": {
      "image/png": "[encoded data removed]",
      "text/plain": [
       "<Figure size 300x300 with 1 Axes>"
      ]
     },
     "metadata": {},
     "output_type": "display_data"
    }
   ],
   "source": [
    "sns.relplot(data=X_test1, \n",
    "                x='Glucose', \n",
    "                y='BMI', \n",
    "                kind= 'scatter',\n",
    "               # style='Gender_Male',\n",
    "               # hue= 'cluster', \n",
    "                height=3)"
   ]
  },
  {
   "cell_type": "code",
   "execution_count": 95,
   "id": "fb9e1875-f466-42d7-a219-7f070cd40f52",
   "metadata": {},
   "outputs": [
    {
     "data": {
      "text/plain": [
       "200    0\n",
       "40     0\n",
       "630    1\n",
       "356    1\n",
       "305    0\n",
       "267    0\n",
       "351    0\n",
       "644    0\n",
       "759    1\n",
       "157    0\n",
       "606    1\n",
       "449    0\n",
       "473    0\n",
       "461    0\n",
       "169    0\n",
       "718    0\n",
       "230    1\n",
       "666    1\n",
       "234    0\n",
       "539    1\n",
       "100    1\n",
       "693    1\n",
       "534    0\n",
       "131    1\n",
       "Name: Outcome, dtype: int64"
      ]
     },
     "execution_count": 95,
     "metadata": {},
     "output_type": "execute_result"
    }
   ],
   "source": [
    "y_test1"
   ]
  },
  {
   "cell_type": "code",
   "execution_count": 96,
   "id": "62a8719b-1fcb-4f90-bcee-428e29ed2bd4",
   "metadata": {},
   "outputs": [
    {
     "data": {
      "text/plain": [
       "0    0.583333\n",
       "1    0.416667\n",
       "Name: Outcome, dtype: float64"
      ]
     },
     "execution_count": 96,
     "metadata": {},
     "output_type": "execute_result"
    }
   ],
   "source": [
    "## the distribution of the outcome variable for test data\n",
    "\n",
    "y_test1.value_counts(1)"
   ]
  },
  {
   "cell_type": "markdown",
   "id": "ddadc1d7-bbdd-4a5f-bd9b-90daf7352a3a",
   "metadata": {},
   "source": [
    "---\n",
    "## **Problem 3**\n",
    "\n",
    "Utilize the KNN model to predict the test set outcomes and display these predictions."
   ]
  },
  {
   "cell_type": "markdown",
   "id": "8faead3d-45f9-45bd-bd54-1557e528174c",
   "metadata": {},
   "source": [
    "## Solution 3"
   ]
  },
  {
   "cell_type": "code",
   "execution_count": 97,
   "id": "54fea2aa-99b2-48f6-93ee-300de7b42d0e",
   "metadata": {},
   "outputs": [],
   "source": [
    "## predicting the test data with the 7 neighbour knn model (test data from problem 1)\n",
    "\n",
    "predictions= knn_model.predict(X_test)"
   ]
  },
  {
   "cell_type": "code",
   "execution_count": 98,
   "id": "9bcc4153-204c-49e3-ac7c-bfe2fcb015ce",
   "metadata": {},
   "outputs": [
    {
     "data": {
      "text/plain": [
       "24"
      ]
     },
     "execution_count": 98,
     "metadata": {},
     "output_type": "execute_result"
    }
   ],
   "source": [
    "len(predictions)"
   ]
  },
  {
   "cell_type": "code",
   "execution_count": 99,
   "id": "b01d88cc-35c7-43ca-a342-80b834605bb0",
   "metadata": {},
   "outputs": [
    {
     "data": {
      "text/plain": [
       "array([0, 1, 0, 1, 0, 0, 0, 0, 0, 0, 1, 0, 1, 0, 0, 0, 1, 0, 0, 1, 1, 0,\n",
       "       0, 1])"
      ]
     },
     "execution_count": 99,
     "metadata": {},
     "output_type": "execute_result"
    }
   ],
   "source": [
    "predictions"
   ]
  },
  {
   "cell_type": "markdown",
   "id": "57d19949-3198-4cf9-9760-373bdc4a405a",
   "metadata": {},
   "source": [
    "---\n",
    "## **Problem 4**\n",
    "\n",
    "What does this function do?  Explain using predictions of the test data obtained in Problem 1.\n",
    "\n",
    "```python\n",
    "def get_posneg_indices( predictions ):\n",
    "    pidx = [ i for i in range(len(predictions)) if predictions[i]==1 ]\n",
    "    nidx = [ i for i in range(len(predictions)) if predictions[i]==0 ]\n",
    "    return pidx, nidx\n",
    "```"
   ]
  },
  {
   "cell_type": "markdown",
   "id": "26d367d4-c6cf-467c-9682-db43cc011aa1",
   "metadata": {},
   "source": [
    "## Solution 4"
   ]
  },
  {
   "cell_type": "markdown",
   "id": "8dac8128-61fc-40aa-9a14-d29ba441d258",
   "metadata": {},
   "source": [
    "The function defines two lists comprehensions `pidx` and `nidx`. \n",
    "\n",
    "- List `pidx` takes the indexes of the positive outcomes (1) of the predictions.\n",
    "- List `nidx` takes the indexes of the negative outcomes (0) of the predictions.\n",
    "\n",
    "Finally the function returns the two lists `pidx` and `nidx`."
   ]
  },
  {
   "cell_type": "markdown",
   "id": "071918bc-57a6-4d40-86a3-4c689653dace",
   "metadata": {},
   "source": [
    "---\n",
    "## **Problem 5**\n",
    "\n",
    "Use `get_posneg_indices` to calculate the number of true positives, false postives, true negatives, and false negatives, when the KNN model in Problem 1 makes predictions with the testing data in Problem 1."
   ]
  },
  {
   "cell_type": "markdown",
   "id": "d3dc8360-fe1b-493f-b65d-29add8269fa6",
   "metadata": {},
   "source": [
    "## Solution 5"
   ]
  },
  {
   "cell_type": "code",
   "execution_count": 100,
   "id": "90cbfdc1-a49b-45c5-a947-08cfe7a1db0c",
   "metadata": {},
   "outputs": [],
   "source": [
    "def get_posneg_indices( predictions ):\n",
    "    \n",
    "    pidx = [ i for i in range(len(predictions)) if predictions[i]==1 ]\n",
    "    nidx = [ i for i in range(len(predictions)) if predictions[i]==0 ]\n",
    "    \n",
    "    return pidx, nidx\n"
   ]
  },
  {
   "cell_type": "code",
   "execution_count": 101,
   "id": "d4708c9d-e6c4-44fb-b7a3-61190c601789",
   "metadata": {},
   "outputs": [],
   "source": [
    "pred_pos, pred_neg= get_posneg_indices(predictions)"
   ]
  },
  {
   "cell_type": "code",
   "execution_count": 102,
   "id": "5f27cd85-e124-4f04-a598-db5ba7efe22f",
   "metadata": {},
   "outputs": [
    {
     "data": {
      "text/plain": [
       "([1, 3, 10, 12, 16, 19, 20, 23],\n",
       " [0, 2, 4, 5, 6, 7, 8, 9, 11, 13, 14, 15, 17, 18, 21, 22])"
      ]
     },
     "execution_count": 102,
     "metadata": {},
     "output_type": "execute_result"
    }
   ],
   "source": [
    "pred_pos , pred_neg"
   ]
  },
  {
   "cell_type": "code",
   "execution_count": 103,
   "id": "df4a3960-aca6-487f-8103-3115719d5e1b",
   "metadata": {},
   "outputs": [
    {
     "data": {
      "text/plain": [
       "array([0, 1, 0, 1, 0, 0, 0, 0, 0, 0, 1, 0, 1, 0, 0, 0, 1, 0, 0, 1, 1, 0,\n",
       "       0, 1])"
      ]
     },
     "execution_count": 103,
     "metadata": {},
     "output_type": "execute_result"
    }
   ],
   "source": [
    "predictions"
   ]
  },
  {
   "cell_type": "code",
   "execution_count": 107,
   "id": "abf94462-84bb-4575-944b-62d54e15c7af",
   "metadata": {},
   "outputs": [
    {
     "data": {
      "text/plain": [
       "(8, 24)"
      ]
     },
     "execution_count": 107,
     "metadata": {},
     "output_type": "execute_result"
    }
   ],
   "source": [
    "len(pred_pos), len(y_test)"
   ]
  },
  {
   "cell_type": "code",
   "execution_count": 109,
   "id": "2b58cd4f-8516-49a1-a269-b00442ca023f",
   "metadata": {
    "tags": []
   },
   "outputs": [
    {
     "ename": "KeyError",
     "evalue": "1",
     "output_type": "error",
     "traceback": [
      "\u001b[0;31m---------------------------------------------------------------------------\u001b[0m",
      "\u001b[0;31mKeyError\u001b[0m                                  Traceback (most recent call last)",
      "File \u001b[0;32m/opt/homebrew/Caskroom/miniforge/base/lib/python3.9/site-packages/pandas/core/indexes/base.py:3803\u001b[0m, in \u001b[0;36mIndex.get_loc\u001b[0;34m(self, key, method, tolerance)\u001b[0m\n\u001b[1;32m   3802\u001b[0m \u001b[38;5;28;01mtry\u001b[39;00m:\n\u001b[0;32m-> 3803\u001b[0m     \u001b[38;5;28;01mreturn\u001b[39;00m \u001b[38;5;28;43mself\u001b[39;49m\u001b[38;5;241;43m.\u001b[39;49m\u001b[43m_engine\u001b[49m\u001b[38;5;241;43m.\u001b[39;49m\u001b[43mget_loc\u001b[49m\u001b[43m(\u001b[49m\u001b[43mcasted_key\u001b[49m\u001b[43m)\u001b[49m\n\u001b[1;32m   3804\u001b[0m \u001b[38;5;28;01mexcept\u001b[39;00m \u001b[38;5;167;01mKeyError\u001b[39;00m \u001b[38;5;28;01mas\u001b[39;00m err:\n",
      "File \u001b[0;32m/opt/homebrew/Caskroom/miniforge/base/lib/python3.9/site-packages/pandas/_libs/index.pyx:138\u001b[0m, in \u001b[0;36mpandas._libs.index.IndexEngine.get_loc\u001b[0;34m()\u001b[0m\n",
      "File \u001b[0;32m/opt/homebrew/Caskroom/miniforge/base/lib/python3.9/site-packages/pandas/_libs/index.pyx:165\u001b[0m, in \u001b[0;36mpandas._libs.index.IndexEngine.get_loc\u001b[0;34m()\u001b[0m\n",
      "File \u001b[0;32mpandas/_libs/hashtable_class_helper.pxi:2263\u001b[0m, in \u001b[0;36mpandas._libs.hashtable.Int64HashTable.get_item\u001b[0;34m()\u001b[0m\n",
      "File \u001b[0;32mpandas/_libs/hashtable_class_helper.pxi:2273\u001b[0m, in \u001b[0;36mpandas._libs.hashtable.Int64HashTable.get_item\u001b[0;34m()\u001b[0m\n",
      "\u001b[0;31mKeyError\u001b[0m: 1",
      "\nThe above exception was the direct cause of the following exception:\n",
      "\u001b[0;31mKeyError\u001b[0m                                  Traceback (most recent call last)",
      "Cell \u001b[0;32mIn[109], line 4\u001b[0m\n\u001b[1;32m      1\u001b[0m actual_pos\u001b[38;5;241m=\u001b[39m[]\n\u001b[1;32m      3\u001b[0m \u001b[38;5;28;01mfor\u001b[39;00m i \u001b[38;5;129;01min\u001b[39;00m \u001b[38;5;28mrange\u001b[39m(\u001b[38;5;28mlen\u001b[39m(pred_pos)):\n\u001b[0;32m----> 4\u001b[0m     actual_pos\u001b[38;5;241m.\u001b[39mappend(\u001b[43my_test\u001b[49m\u001b[43m[\u001b[49m\u001b[43mpred_pos\u001b[49m\u001b[43m[\u001b[49m\u001b[43mi\u001b[49m\u001b[43m]\u001b[49m\u001b[43m]\u001b[49m)\n\u001b[1;32m      6\u001b[0m actual_pos\n",
      "File \u001b[0;32m/opt/homebrew/Caskroom/miniforge/base/lib/python3.9/site-packages/pandas/core/series.py:981\u001b[0m, in \u001b[0;36mSeries.__getitem__\u001b[0;34m(self, key)\u001b[0m\n\u001b[1;32m    978\u001b[0m     \u001b[38;5;28;01mreturn\u001b[39;00m \u001b[38;5;28mself\u001b[39m\u001b[38;5;241m.\u001b[39m_values[key]\n\u001b[1;32m    980\u001b[0m \u001b[38;5;28;01melif\u001b[39;00m key_is_scalar:\n\u001b[0;32m--> 981\u001b[0m     \u001b[38;5;28;01mreturn\u001b[39;00m \u001b[38;5;28;43mself\u001b[39;49m\u001b[38;5;241;43m.\u001b[39;49m\u001b[43m_get_value\u001b[49m\u001b[43m(\u001b[49m\u001b[43mkey\u001b[49m\u001b[43m)\u001b[49m\n\u001b[1;32m    983\u001b[0m \u001b[38;5;28;01mif\u001b[39;00m is_hashable(key):\n\u001b[1;32m    984\u001b[0m     \u001b[38;5;66;03m# Otherwise index.get_value will raise InvalidIndexError\u001b[39;00m\n\u001b[1;32m    985\u001b[0m     \u001b[38;5;28;01mtry\u001b[39;00m:\n\u001b[1;32m    986\u001b[0m         \u001b[38;5;66;03m# For labels that don't resolve as scalars like tuples and frozensets\u001b[39;00m\n",
      "File \u001b[0;32m/opt/homebrew/Caskroom/miniforge/base/lib/python3.9/site-packages/pandas/core/series.py:1089\u001b[0m, in \u001b[0;36mSeries._get_value\u001b[0;34m(self, label, takeable)\u001b[0m\n\u001b[1;32m   1086\u001b[0m     \u001b[38;5;28;01mreturn\u001b[39;00m \u001b[38;5;28mself\u001b[39m\u001b[38;5;241m.\u001b[39m_values[label]\n\u001b[1;32m   1088\u001b[0m \u001b[38;5;66;03m# Similar to Index.get_value, but we do not fall back to positional\u001b[39;00m\n\u001b[0;32m-> 1089\u001b[0m loc \u001b[38;5;241m=\u001b[39m \u001b[38;5;28;43mself\u001b[39;49m\u001b[38;5;241;43m.\u001b[39;49m\u001b[43mindex\u001b[49m\u001b[38;5;241;43m.\u001b[39;49m\u001b[43mget_loc\u001b[49m\u001b[43m(\u001b[49m\u001b[43mlabel\u001b[49m\u001b[43m)\u001b[49m\n\u001b[1;32m   1090\u001b[0m \u001b[38;5;28;01mreturn\u001b[39;00m \u001b[38;5;28mself\u001b[39m\u001b[38;5;241m.\u001b[39mindex\u001b[38;5;241m.\u001b[39m_get_values_for_loc(\u001b[38;5;28mself\u001b[39m, loc, label)\n",
      "File \u001b[0;32m/opt/homebrew/Caskroom/miniforge/base/lib/python3.9/site-packages/pandas/core/indexes/base.py:3805\u001b[0m, in \u001b[0;36mIndex.get_loc\u001b[0;34m(self, key, method, tolerance)\u001b[0m\n\u001b[1;32m   3803\u001b[0m     \u001b[38;5;28;01mreturn\u001b[39;00m \u001b[38;5;28mself\u001b[39m\u001b[38;5;241m.\u001b[39m_engine\u001b[38;5;241m.\u001b[39mget_loc(casted_key)\n\u001b[1;32m   3804\u001b[0m \u001b[38;5;28;01mexcept\u001b[39;00m \u001b[38;5;167;01mKeyError\u001b[39;00m \u001b[38;5;28;01mas\u001b[39;00m err:\n\u001b[0;32m-> 3805\u001b[0m     \u001b[38;5;28;01mraise\u001b[39;00m \u001b[38;5;167;01mKeyError\u001b[39;00m(key) \u001b[38;5;28;01mfrom\u001b[39;00m \u001b[38;5;21;01merr\u001b[39;00m\n\u001b[1;32m   3806\u001b[0m \u001b[38;5;28;01mexcept\u001b[39;00m \u001b[38;5;167;01mTypeError\u001b[39;00m:\n\u001b[1;32m   3807\u001b[0m     \u001b[38;5;66;03m# If we have a listlike key, _check_indexing_error will raise\u001b[39;00m\n\u001b[1;32m   3808\u001b[0m     \u001b[38;5;66;03m#  InvalidIndexError. Otherwise we fall through and re-raise\u001b[39;00m\n\u001b[1;32m   3809\u001b[0m     \u001b[38;5;66;03m#  the TypeError.\u001b[39;00m\n\u001b[1;32m   3810\u001b[0m     \u001b[38;5;28mself\u001b[39m\u001b[38;5;241m.\u001b[39m_check_indexing_error(key)\n",
      "\u001b[0;31mKeyError\u001b[0m: 1"
     ]
    }
   ],
   "source": [
    "actual_pos=[]\n",
    "\n",
    "for i in range(len(pred_pos)):\n",
    "    actual_pos.append(y_test[pred_pos[i]])\n",
    "    \n",
    "actual_pos    "
   ]
  },
  {
   "cell_type": "code",
   "execution_count": null,
   "id": "f336e2d4-500c-4d8f-968c-95465cad164e",
   "metadata": {},
   "outputs": [],
   "source": [
    "predictions[pred_pos]"
   ]
  },
  {
   "cell_type": "code",
   "execution_count": null,
   "id": "50248179-0fde-469c-b7d3-d4be148b8288",
   "metadata": {},
   "outputs": [],
   "source": [
    "actual_neg=[]\n",
    "\n",
    "for i in range(len(pred_neg)):\n",
    "    actual_neg.append(y_test[pred_neg[i]])\n",
    "    \n",
    "actual_neg"
   ]
  },
  {
   "cell_type": "code",
   "execution_count": null,
   "id": "3c404ee3-81e5-4221-8565-99a47cd7de35",
   "metadata": {},
   "outputs": [],
   "source": [
    "predictions[pred_neg]"
   ]
  },
  {
   "cell_type": "markdown",
   "id": "4f599886-a40f-4775-b3f8-5406e05f9eb0",
   "metadata": {},
   "source": [
    "Here, we calculated the predicted 1's and actual 1's and also the predicted 0's and actual 0's separately to compare the predictions."
   ]
  },
  {
   "cell_type": "markdown",
   "id": "c8aa256c-f5a9-4f96-8341-d5b1dd58d4fd",
   "metadata": {},
   "source": [
    "We also have the actual outcome labels in `y_test` and our predicted outcome labels in `predictions`. We can compare these two outputs and find true positives, false postives, true negatives, and false negatives."
   ]
  },
  {
   "cell_type": "code",
   "execution_count": 110,
   "id": "32803c65-5b18-404e-81b4-f4a0d2b10690",
   "metadata": {},
   "outputs": [
    {
     "data": {
      "text/plain": [
       "[0, 0, 1, 1, 0, 0, 0, 0, 1, 0, 1, 0, 0, 0, 0, 0, 1, 1, 0, 1, 1, 1, 0, 1]"
      ]
     },
     "execution_count": 110,
     "metadata": {},
     "output_type": "execute_result"
    }
   ],
   "source": [
    "actual_y= y_test.to_list()\n",
    "\n",
    "actual_y"
   ]
  },
  {
   "cell_type": "code",
   "execution_count": 111,
   "id": "9c36611c-14bf-442f-ac48-6804badb4848",
   "metadata": {},
   "outputs": [
    {
     "data": {
      "text/plain": [
       "array([0, 1, 0, 1, 0, 0, 0, 0, 0, 0, 1, 0, 1, 0, 0, 0, 1, 0, 0, 1, 1, 0,\n",
       "       0, 1])"
      ]
     },
     "execution_count": 111,
     "metadata": {},
     "output_type": "execute_result"
    }
   ],
   "source": [
    "predictions"
   ]
  },
  {
   "cell_type": "code",
   "execution_count": 112,
   "id": "21b25258-48bc-48dc-a5ec-fefa986cb3d5",
   "metadata": {},
   "outputs": [
    {
     "name": "stdout",
     "output_type": "stream",
     "text": [
      "(0, 0) (0, 1) (1, 0) (1, 1) (0, 0) (0, 0) (0, 0) (0, 0) (1, 0) (0, 0) (1, 1) (0, 0) (0, 1) (0, 0) (0, 0) (0, 0) (1, 1) (1, 0) (0, 0) (1, 1) (1, 1) (1, 0) (0, 0) (1, 1) "
     ]
    }
   ],
   "source": [
    "## pairing the actual outcome and predicted outcome to find prediction accuracy\n",
    "\n",
    "true_pred =list(zip(actual_y, predictions))\n",
    "\n",
    "for item in true_pred:\n",
    "    print(item, end=' ')"
   ]
  },
  {
   "cell_type": "markdown",
   "id": "06987786-9465-4663-995a-2465e3f2db4a",
   "metadata": {},
   "source": [
    "From the predictions and actual data above,\n",
    "\n",
    "- TP = 1 1 1 1 1 1 = 6\n",
    "- FP = 1 1 = 2\n",
    "- TN = 1 1 1 1 1 1 1 1 1 1 1 1 = 12  \n",
    "- FN = 1 1 1 1 = 4\n"
   ]
  },
  {
   "cell_type": "markdown",
   "id": "f647e94d-755d-4987-900a-f4fae79ac860",
   "metadata": {},
   "source": [
    "---\n",
    "## **Problem 6**\n",
    "\n",
    "Calculate and report the accuracy, precision, and recall of the KNN model using the predictions and actual outcomes of the test data. These metrics are crucial for understanding the effectiveness of the model in predicting diabetes onset."
   ]
  },
  {
   "cell_type": "markdown",
   "id": "eb4ab65f-c548-4493-9254-caf13c649aaa",
   "metadata": {},
   "source": [
    "## Solution 6"
   ]
  },
  {
   "cell_type": "markdown",
   "id": "8e70aa2b-7f7f-48aa-8a8c-cebc677c657d",
   "metadata": {},
   "source": [
    "### KNN Accuracy Measure:\n",
    "\n",
    "\n",
    " Accuracy = total correct predictions / total predictions\n",
    "             = (TP + TN) / (TP + FP + TN + FN)\n",
    "             \n",
    " **Accuracy** = 18/24 = 0.75\n",
    "\n"
   ]
  },
  {
   "cell_type": "markdown",
   "id": "1ce18731-175e-41e8-9eb4-91b03ef49bff",
   "metadata": {},
   "source": [
    "**Precision** = TP / (TP + FP)= 6/ (6+2)= 6/8 = 0.75\n",
    "\n",
    "**Recall** = TP / (TP + FN)= 6/(6+4)= 6/10= 0.6"
   ]
  },
  {
   "cell_type": "markdown",
   "id": "0158f7a4-e530-4bc3-8e9b-bbc89a80e24e",
   "metadata": {},
   "source": [
    "---\n",
    "## **Problem 7**\n",
    "\n",
    "Cnstruct a dummy classifier using the `stratified` strategy.  How many positives and negatives, do you expect this model predicts?  How many positives and negatives, does it actually predict?\n",
    "\n",
    "Similar to `DummyRegressor` we previously learned, `DummyClassifier` in scikit-learn is a simple algorithm used as a baseline for comparison with more sophisticated machine learning models. When the `strategy` parameter is set to `\"stratified\"`, the `DummyClassifier` predicts outputs based on the training set's class distribution. \n",
    "\n",
    "This means that it generates predictions by randomly choosing a class according to the observed frequency of each class in the training data. For example, if 20% of the training samples belong to Class A and 80% to Class B, the stratified `DummyClassifier` will predict Class A approximately 20% of the time and Class B approximately 80% of the time. This approach reflects the inherent class probabilities of the dataset, providing a baseline that indicates the performance of a purely random classification model respecting the original class distribution.\n",
    "\n",
    "https://scikit-learn.org/stable/modules/generated/sklearn.dummy.DummyClassifier.html\n"
   ]
  },
  {
   "cell_type": "markdown",
   "id": "b2e9f457-0754-4eb3-8359-366f29179adb",
   "metadata": {},
   "source": [
    "## Solution 7"
   ]
  },
  {
   "cell_type": "code",
   "execution_count": 113,
   "id": "edccf82b-49ac-475c-a692-825face549f7",
   "metadata": {},
   "outputs": [
    {
     "data": {
      "text/html": [
       "<style>#sk-container-id-5 {color: black;}#sk-container-id-5 pre{padding: 0;}#sk-container-id-5 div.sk-toggleable {background-color: white;}#sk-container-id-5 label.sk-toggleable__label {cursor: pointer;display: block;width: 100%;margin-bottom: 0;padding: 0.3em;box-sizing: border-box;text-align: center;}#sk-container-id-5 label.sk-toggleable__label-arrow:before {content: \"▸\";float: left;margin-right: 0.25em;color: #696969;}#sk-container-id-5 label.sk-toggleable__label-arrow:hover:before {color: black;}#sk-container-id-5 div.sk-estimator:hover label.sk-toggleable__label-arrow:before {color: black;}#sk-container-id-5 div.sk-toggleable__content {max-height: 0;max-width: 0;overflow: hidden;text-align: left;background-color: #f0f8ff;}#sk-container-id-5 div.sk-toggleable__content pre {margin: 0.2em;color: black;border-radius: 0.25em;background-color: #f0f8ff;}#sk-container-id-5 input.sk-toggleable__control:checked~div.sk-toggleable__content {max-height: 200px;max-width: 100%;overflow: auto;}#sk-container-id-5 input.sk-toggleable__control:checked~label.sk-toggleable__label-arrow:before {content: \"▾\";}#sk-container-id-5 div.sk-estimator input.sk-toggleable__control:checked~label.sk-toggleable__label {background-color: #d4ebff;}#sk-container-id-5 div.sk-label input.sk-toggleable__control:checked~label.sk-toggleable__label {background-color: #d4ebff;}#sk-container-id-5 input.sk-hidden--visually {border: 0;clip: rect(1px 1px 1px 1px);clip: rect(1px, 1px, 1px, 1px);height: 1px;margin: -1px;overflow: hidden;padding: 0;position: absolute;width: 1px;}#sk-container-id-5 div.sk-estimator {font-family: monospace;background-color: #f0f8ff;border: 1px dotted black;border-radius: 0.25em;box-sizing: border-box;margin-bottom: 0.5em;}#sk-container-id-5 div.sk-estimator:hover {background-color: #d4ebff;}#sk-container-id-5 div.sk-parallel-item::after {content: \"\";width: 100%;border-bottom: 1px solid gray;flex-grow: 1;}#sk-container-id-5 div.sk-label:hover label.sk-toggleable__label {background-color: #d4ebff;}#sk-container-id-5 div.sk-serial::before {content: \"\";position: absolute;border-left: 1px solid gray;box-sizing: border-box;top: 0;bottom: 0;left: 50%;z-index: 0;}#sk-container-id-5 div.sk-serial {display: flex;flex-direction: column;align-items: center;background-color: white;padding-right: 0.2em;padding-left: 0.2em;position: relative;}#sk-container-id-5 div.sk-item {position: relative;z-index: 1;}#sk-container-id-5 div.sk-parallel {display: flex;align-items: stretch;justify-content: center;background-color: white;position: relative;}#sk-container-id-5 div.sk-item::before, #sk-container-id-5 div.sk-parallel-item::before {content: \"\";position: absolute;border-left: 1px solid gray;box-sizing: border-box;top: 0;bottom: 0;left: 50%;z-index: -1;}#sk-container-id-5 div.sk-parallel-item {display: flex;flex-direction: column;z-index: 1;position: relative;background-color: white;}#sk-container-id-5 div.sk-parallel-item:first-child::after {align-self: flex-end;width: 50%;}#sk-container-id-5 div.sk-parallel-item:last-child::after {align-self: flex-start;width: 50%;}#sk-container-id-5 div.sk-parallel-item:only-child::after {width: 0;}#sk-container-id-5 div.sk-dashed-wrapped {border: 1px dashed gray;margin: 0 0.4em 0.5em 0.4em;box-sizing: border-box;padding-bottom: 0.4em;background-color: white;}#sk-container-id-5 div.sk-label label {font-family: monospace;font-weight: bold;display: inline-block;line-height: 1.2em;}#sk-container-id-5 div.sk-label-container {text-align: center;}#sk-container-id-5 div.sk-container {/* jupyter's `normalize.less` sets `[hidden] { display: none; }` but bootstrap.min.css set `[hidden] { display: none !important; }` so we also need the `!important` here to be able to override the default hidden behavior on the sphinx rendered scikit-learn.org. See: https://github.com/scikit-learn/scikit-learn/issues/21755 */display: inline-block !important;position: relative;}#sk-container-id-5 div.sk-text-repr-fallback {display: none;}</style><div id=\"sk-container-id-5\" class=\"sk-top-container\"><div class=\"sk-text-repr-fallback\"><pre>DummyClassifier(strategy=&#x27;stratified&#x27;)</pre><b>In a Jupyter environment, please rerun this cell to show the HTML representation or trust the notebook. <br />On GitHub, the HTML representation is unable to render, please try loading this page with nbviewer.org.</b></div><div class=\"sk-container\" hidden><div class=\"sk-item\"><div class=\"sk-estimator sk-toggleable\"><input class=\"sk-toggleable__control sk-hidden--visually\" id=\"sk-estimator-id-5\" type=\"checkbox\" checked><label for=\"sk-estimator-id-5\" class=\"sk-toggleable__label sk-toggleable__label-arrow\">DummyClassifier</label><div class=\"sk-toggleable__content\"><pre>DummyClassifier(strategy=&#x27;stratified&#x27;)</pre></div></div></div></div></div>"
      ],
      "text/plain": [
       "DummyClassifier(strategy='stratified')"
      ]
     },
     "execution_count": 113,
     "metadata": {},
     "output_type": "execute_result"
    }
   ],
   "source": [
    "\n",
    "#defining the dummy classifier to fit data with X_train and y_train\n",
    "\n",
    "dummy_clf= DummyClassifier(strategy=\"stratified\")\n",
    "\n",
    "dummy_clf.fit(X_train, y_train)\n",
    "\n"
   ]
  },
  {
   "cell_type": "code",
   "execution_count": 151,
   "id": "e8d274d2-71f9-4111-8025-5ff1a9b1ad2e",
   "metadata": {},
   "outputs": [
    {
     "data": {
      "text/plain": [
       "0    0.653226\n",
       "1    0.346774\n",
       "Name: Outcome, dtype: float64"
      ]
     },
     "execution_count": 151,
     "metadata": {},
     "output_type": "execute_result"
    }
   ],
   "source": [
    "y_train.value_counts(1)"
   ]
  },
  {
   "cell_type": "code",
   "execution_count": 153,
   "id": "1020f240-13fa-451c-a353-c762b3a9e18e",
   "metadata": {},
   "outputs": [
    {
     "data": {
      "text/plain": [
       "pandas.core.series.Series"
      ]
     },
     "execution_count": 153,
     "metadata": {},
     "output_type": "execute_result"
    }
   ],
   "source": [
    "type(y_train)"
   ]
  },
  {
   "cell_type": "code",
   "execution_count": 118,
   "id": "7ff2d44a-8643-440a-84cb-e40faa0a6acf",
   "metadata": {},
   "outputs": [
    {
     "data": {
      "text/plain": [
       "array([1, 0, 0, 0, 0, 1, 0, 1, 0, 1, 0, 1, 0, 1, 0, 1, 0, 0, 0, 1, 1, 0,\n",
       "       0, 1])"
      ]
     },
     "execution_count": 118,
     "metadata": {},
     "output_type": "execute_result"
    }
   ],
   "source": [
    "dummy_predict= dummy_clf.predict(X_test)\n",
    "\n",
    "dummy_predict"
   ]
  },
  {
   "cell_type": "code",
   "execution_count": 157,
   "id": "31fd1720-71b3-49d5-ba58-309392748573",
   "metadata": {},
   "outputs": [
    {
     "data": {
      "text/plain": [
       "0    0.583333\n",
       "1    0.416667\n",
       "dtype: float64"
      ]
     },
     "execution_count": 157,
     "metadata": {},
     "output_type": "execute_result"
    }
   ],
   "source": [
    "dummy_predict= pandas.Series(dummy_predict)\n",
    "\n",
    "dummy_predict.value_counts(1)"
   ]
  },
  {
   "cell_type": "code",
   "execution_count": 124,
   "id": "907d250e-a361-42a8-9adf-8070e78a9680",
   "metadata": {},
   "outputs": [
    {
     "data": {
      "text/plain": [
       "[0, 0, 1, 1, 0, 0, 0, 0, 1, 0, 1, 0, 0, 0, 0, 0, 1, 1, 0, 1, 1, 1, 0, 1]"
      ]
     },
     "execution_count": 124,
     "metadata": {},
     "output_type": "execute_result"
    }
   ],
   "source": [
    "y_compare= y_test.to_list()\n",
    "\n",
    "y_compare"
   ]
  },
  {
   "cell_type": "code",
   "execution_count": 125,
   "id": "df8a64bd-e35a-41b5-9ce7-d0614dc1485c",
   "metadata": {},
   "outputs": [
    {
     "name": "stdout",
     "output_type": "stream",
     "text": [
      "(0, 1) (0, 0) (1, 0) (1, 0) (0, 0) (0, 1) (0, 0) (0, 1) (1, 0) (0, 1) (1, 0) (0, 1) (0, 0) (0, 1) (0, 0) (0, 1) (1, 0) (1, 0) (0, 0) (1, 1) (1, 1) (1, 0) (0, 0) (1, 1) "
     ]
    }
   ],
   "source": [
    "true_pred1 =list(zip(y_compare, dummy_predict))\n",
    "\n",
    "for item in true_pred1:\n",
    "    print(item, end=' ')"
   ]
  },
  {
   "cell_type": "markdown",
   "id": "f845762e-ad2e-48ea-8366-198e2c105db1",
   "metadata": {},
   "source": [
    "Dummy classifier correctly predicts 10 samples."
   ]
  },
  {
   "cell_type": "markdown",
   "id": "69c1a175-c2b4-4211-8d34-18842ed047c4",
   "metadata": {},
   "source": [
    "The stratified dummy classifier works in a probabilistic manner. Its prediction is made  according to training data labels probability. If the training data has 80% of outcome 0, then this dummy model will randomly make a prediction around 80% time 0 for the test data. "
   ]
  },
  {
   "cell_type": "markdown",
   "id": "7e240400-4fab-4c11-9a87-cd95b6c265f6",
   "metadata": {},
   "source": [
    "---\n",
    "## **Problem 8**\n",
    "\n",
    "Calculate the number of true positives, false positives, true negatives, and false negatives for the dummy classifier, using the same test data as the KNN model."
   ]
  },
  {
   "cell_type": "markdown",
   "id": "a408f4d2-d220-4eed-b71a-b6609cbc4950",
   "metadata": {},
   "source": [
    "## Solution 8"
   ]
  },
  {
   "cell_type": "code",
   "execution_count": 114,
   "id": "38d2e166-f2a7-4760-83ae-03948574c671",
   "metadata": {},
   "outputs": [
    {
     "data": {
      "text/plain": [
       "array([0, 0, 1, 0, 0, 0, 0, 0, 1, 0, 1, 0, 1, 1, 0, 0, 1, 0, 0, 0, 0, 0,\n",
       "       0, 1])"
      ]
     },
     "execution_count": 114,
     "metadata": {},
     "output_type": "execute_result"
    }
   ],
   "source": [
    "## predicting the dummy classifier results with the same test data as before (X_test)\n",
    "\n",
    "dummy_predictions= dummy_clf.predict(X_test)\n",
    "\n",
    "dummy_predictions"
   ]
  },
  {
   "cell_type": "code",
   "execution_count": 115,
   "id": "db8ec3e6-a0b1-4710-a68d-1336e2eddbe2",
   "metadata": {},
   "outputs": [
    {
     "data": {
      "text/plain": [
       "[0, 0, 1, 1, 0, 0, 0, 0, 1, 0, 1, 0, 0, 0, 0, 0, 1, 1, 0, 1, 1, 1, 0, 1]"
      ]
     },
     "execution_count": 115,
     "metadata": {},
     "output_type": "execute_result"
    }
   ],
   "source": [
    "## Actual predictions\n",
    "\n",
    "actual_y"
   ]
  },
  {
   "cell_type": "code",
   "execution_count": 116,
   "id": "88856e2d-eaff-4d91-856f-a7377fbef927",
   "metadata": {},
   "outputs": [
    {
     "name": "stdout",
     "output_type": "stream",
     "text": [
      "(0, 0) (0, 0) (1, 1) (1, 0) (0, 0) (0, 0) (0, 0) (0, 0) (1, 1) (0, 0) (1, 1) (0, 0) (0, 1) (0, 1) (0, 0) (0, 0) (1, 1) (1, 0) (0, 0) (1, 0) (1, 0) (1, 0) (0, 0) (1, 1) "
     ]
    }
   ],
   "source": [
    "# Comparing actual and predicted outputs\n",
    "\n",
    "accuracy_pred =list(zip(actual_y, dummy_predictions))\n",
    "\n",
    "for item in accuracy_pred:\n",
    "    print(item, end=' ')"
   ]
  },
  {
   "cell_type": "markdown",
   "id": "36fe2f4e-0a13-4222-9e1d-56ca7d2f34ec",
   "metadata": {},
   "source": [
    "From the predictions and actual data above,\n",
    "\n",
    "- TP = 1 1 1 = 3\n",
    "- FP = 1 1 1 1 = 4\n",
    "- TN = 1 1 1 1 1 1 1 1 1 1 = 10\n",
    "- FN = 1 1 1 1 1 1 1 = 7\n"
   ]
  },
  {
   "cell_type": "markdown",
   "id": "64a6e2c5-2e96-44f1-9c15-849fea763025",
   "metadata": {},
   "source": [
    "---\n",
    "## **Problem 9**\n",
    "\n",
    "Compute the accuracy, precision, and recall for the dummy classifier to evaluate its performance relative to random guessing based on the class distribution in the training data."
   ]
  },
  {
   "cell_type": "markdown",
   "id": "2f989e65-9f93-4ecd-8d36-cca6dea94cbe",
   "metadata": {},
   "source": [
    "## Solution 9"
   ]
  },
  {
   "cell_type": "code",
   "execution_count": 117,
   "id": "3c1f83ba-f11a-400f-832c-255439abd624",
   "metadata": {},
   "outputs": [
    {
     "data": {
      "text/plain": [
       "0    0.653226\n",
       "1    0.346774\n",
       "Name: Outcome, dtype: float64"
      ]
     },
     "execution_count": 117,
     "metadata": {},
     "output_type": "execute_result"
    }
   ],
   "source": [
    "## Distribution of training data labels\n",
    "\n",
    "y_train.value_counts(1)"
   ]
  },
  {
   "cell_type": "markdown",
   "id": "d4282d6d-5ac5-484c-b39f-5cf22ddc109d",
   "metadata": {},
   "source": [
    "### Accuracy Measure for dummy classifier:\n",
    "\n",
    "\n",
    " Accuracy = total correct predictions / total predictions\n",
    "             = (TP + TN) / (TP + FP + TN + FN)\n",
    "             \n",
    " **Accuracy** = 13/24 = 0.542\n",
    "\n",
    "\n",
    "\n",
    "**Precision** = TP / (TP + FP)= 3/(3+4)= 3/7 = 0.43\n",
    "\n",
    "**Recall** = TP / (TP + FN)= 3/(3+7)= 3/10= 0.3"
   ]
  },
  {
   "cell_type": "markdown",
   "id": "1f9b42a8-5ad9-45ef-89ad-f0459ee35137",
   "metadata": {},
   "source": [
    "We can see that from the class distribution of the outcome, diabetes prediction is quite low(around 35%). So, in the model precision, we can the similar trend meaning the prediction performance is similar to the training data distribution.\n",
    "\n",
    "The models accuracy is also quite low due to its random guessing based on the training data distribution."
   ]
  },
  {
   "cell_type": "markdown",
   "id": "675bea24-b7a1-490a-8fd5-1ead301a613d",
   "metadata": {},
   "source": [
    "---\n",
    "## **Problem 10**\n",
    "\n",
    "Conduct a comparative analysis of the KNN classifier and the dummy classifier with a stratified strategy. Discuss the following aspects:\n",
    "\n",
    "* Compare the accuracy of both classifiers to evaluate their overall effectiveness in predicting the correct outcomes.\n",
    "* Assess how precisely the classifiers make positive predictions and their ability to capture actual positive instances respectively.\n"
   ]
  },
  {
   "cell_type": "markdown",
   "id": "23b319e6-4fad-4e86-bc12-5a777e8c16fd",
   "metadata": {},
   "source": [
    "## Solution 10"
   ]
  },
  {
   "cell_type": "markdown",
   "id": "2088080a-3b8e-4403-aefa-baf9712ccfd2",
   "metadata": {},
   "source": [
    "## Accuracy comparison\n",
    "    \n",
    "    "
   ]
  },
  {
   "cell_type": "markdown",
   "id": "dc3ae12e-1db5-48d9-87b3-c205312c9448",
   "metadata": {},
   "source": [
    "For KNN classifier,\n",
    "\n",
    "Accuracy = total correct predictions / total predictions\n",
    "             = (TP + TN) / (TP + FP + TN + FN)\n",
    "             \n",
    " **Accuracy** = 18/24 = 0.75\n"
   ]
  },
  {
   "cell_type": "markdown",
   "id": "4bce8fd9-c2da-48db-a7be-17232428fbd2",
   "metadata": {},
   "source": [
    "For dummy classifier,\n",
    "\n",
    " Accuracy = total correct predictions / total predictions\n",
    "             = (TP + TN) / (TP + FP + TN + FN)\n",
    "             \n",
    " **Accuracy** = 13/24 = 0.542\n",
    " \n",
    "From the accuracy analysis, we can see that KNN classifier performs better than the baseline dummy classifier which is kind of expected. "
   ]
  },
  {
   "cell_type": "markdown",
   "id": "3e7e6d44-d990-452b-809c-c7da32695eac",
   "metadata": {},
   "source": [
    "## Classifier positive prediction ability"
   ]
  },
  {
   "cell_type": "markdown",
   "id": "e61e8b17-f166-442e-b8f1-637d6bffbae3",
   "metadata": {},
   "source": [
    "The ability to predict positive diabetes patients refers to the models precision, which calculates how well the model can predict positive diabetes outcome. "
   ]
  },
  {
   "cell_type": "markdown",
   "id": "43db16a6-06ba-44ac-a3f6-92643bc45d42",
   "metadata": {},
   "source": [
    "For the KNN classifier,\n",
    "\n",
    "**Precision** = TP / (TP + FP)= 6/ (6+2)= 6/8 = 0.75\n",
    "\n",
    "\n",
    "For the dummy calssifier,\n",
    "\n",
    "**Precision** = TP / (TP + FP)= 3/(3+4)= 3/7 = 0.43\n",
    "\n",
    "\n",
    "From the analysis of model precision, we can see the KNN classifier performs better in predicting positive outcome compared to the baseline dummy classifier model."
   ]
  },
  {
   "cell_type": "code",
   "execution_count": null,
   "id": "f86947dc-bd27-473a-b563-81b984ffe5f2",
   "metadata": {},
   "outputs": [],
   "source": []
  }
 ],
 "metadata": {
  "kernelspec": {
   "display_name": "Python 3 (ipykernel)",
   "language": "python",
   "name": "python3"
  },
  "language_info": {
   "codemirror_mode": {
    "name": "ipython",
    "version": 3
   },
   "file_extension": ".py",
   "mimetype": "text/x-python",
   "name": "python",
   "nbconvert_exporter": "python",
   "pygments_lexer": "ipython3",
   "version": "3.9.16"
  }
 },
 "nbformat": 4,
 "nbformat_minor": 5
}
