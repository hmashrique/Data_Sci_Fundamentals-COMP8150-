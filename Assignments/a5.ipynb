{
 "cells": [
  {
   "cell_type": "markdown",
   "id": "0f74bde4-a830-403a-93e7-00eb500d9687",
   "metadata": {},
   "source": [
    "# Assignment 5\n",
    "\n",
    "**Deadline 4/15/2024 before midnight**\n"
   ]
  },
  {
   "cell_type": "markdown",
   "id": "63e23f86-ed3c-4d51-b79d-822354537d59",
   "metadata": {},
   "source": [
    "YOUR NAME: Hasan Mashrique\n",
    "\n",
    "---"
   ]
  },
  {
   "cell_type": "markdown",
   "id": "d55a3543-8f9d-497d-8a18-10108aa4a50e",
   "metadata": {},
   "source": [
    "You will use the abalone dataset for this assignment"
   ]
  },
  {
   "cell_type": "code",
   "execution_count": 28,
   "id": "4f7f33c3-b6bc-48fa-9fe9-1d94102770a1",
   "metadata": {},
   "outputs": [],
   "source": [
    "import warnings\n",
    "warnings.filterwarnings('ignore')\n",
    "from sklearn.preprocessing import MinMaxScaler, StandardScaler\n",
    "from sklearn.metrics import r2_score, mean_absolute_error, mean_squared_error\n",
    "from sklearn.linear_model import LinearRegression\n",
    "from sklearn.neighbors import KNeighborsRegressor\n",
    "from sklearn.metrics import r2_score\n",
    "from sklearn.model_selection import KFold"
   ]
  },
  {
   "cell_type": "code",
   "execution_count": 29,
   "id": "1d4e5941-bfd0-429f-ac39-21342bc0aa62",
   "metadata": {},
   "outputs": [],
   "source": [
    "import pandas, seaborn\n",
    "df = pandas.read_csv('../Datasets/abalone.csv')"
   ]
  },
  {
   "cell_type": "markdown",
   "id": "edaf9ac7-860c-4f80-952e-fe5aa0a995a2",
   "metadata": {},
   "source": [
    "---\n",
    "## **Problem 1**\n",
    "\n",
    "Construct the feature set for regression modeling to predict Rings, as follows:\n",
    "* the feature set should consist of gender information of abalone.\n",
    "* the feature set should consist of two non-gender features with the highest variances.  Make sure to compare variances in the same scale."
   ]
  },
  {
   "cell_type": "markdown",
   "id": "50979c35-62c2-413e-b980-e9136ac61f8a",
   "metadata": {},
   "source": [
    "## Solution 1"
   ]
  },
  {
   "cell_type": "code",
   "execution_count": 30,
   "id": "f65dea9a-2cdb-40ac-ab0c-032f76107f31",
   "metadata": {},
   "outputs": [
    {
     "data": {
      "text/html": [
       "<div>\n",
       "<style scoped>\n",
       "    .dataframe tbody tr th:only-of-type {\n",
       "        vertical-align: middle;\n",
       "    }\n",
       "\n",
       "    .dataframe tbody tr th {\n",
       "        vertical-align: top;\n",
       "    }\n",
       "\n",
       "    .dataframe thead th {\n",
       "        text-align: right;\n",
       "    }\n",
       "</style>\n",
       "<table border=\"1\" class=\"dataframe\">\n",
       "  <thead>\n",
       "    <tr style=\"text-align: right;\">\n",
       "      <th></th>\n",
       "      <th>Sex</th>\n",
       "      <th>Length</th>\n",
       "      <th>Diameter</th>\n",
       "      <th>Height</th>\n",
       "      <th>Whole weight</th>\n",
       "      <th>Shucked weight</th>\n",
       "      <th>Viscera weight</th>\n",
       "      <th>Shell weight</th>\n",
       "      <th>Rings</th>\n",
       "    </tr>\n",
       "  </thead>\n",
       "  <tbody>\n",
       "    <tr>\n",
       "      <th>173</th>\n",
       "      <td>F</td>\n",
       "      <td>0.52</td>\n",
       "      <td>0.405</td>\n",
       "      <td>0.115</td>\n",
       "      <td>0.7760</td>\n",
       "      <td>0.3200</td>\n",
       "      <td>0.1845</td>\n",
       "      <td>0.220</td>\n",
       "      <td>8</td>\n",
       "    </tr>\n",
       "    <tr>\n",
       "      <th>3728</th>\n",
       "      <td>I</td>\n",
       "      <td>0.51</td>\n",
       "      <td>0.375</td>\n",
       "      <td>0.150</td>\n",
       "      <td>0.8415</td>\n",
       "      <td>0.3845</td>\n",
       "      <td>0.1560</td>\n",
       "      <td>0.255</td>\n",
       "      <td>10</td>\n",
       "    </tr>\n",
       "  </tbody>\n",
       "</table>\n",
       "</div>"
      ],
      "text/plain": [
       "     Sex  Length  Diameter  Height  Whole weight  Shucked weight  \\\n",
       "173    F    0.52     0.405   0.115        0.7760          0.3200   \n",
       "3728   I    0.51     0.375   0.150        0.8415          0.3845   \n",
       "\n",
       "      Viscera weight  Shell weight  Rings  \n",
       "173           0.1845         0.220      8  \n",
       "3728          0.1560         0.255     10  "
      ]
     },
     "execution_count": 30,
     "metadata": {},
     "output_type": "execute_result"
    }
   ],
   "source": [
    "df.sample(2)"
   ]
  },
  {
   "cell_type": "markdown",
   "id": "60c33135-2806-4e4c-81a9-8c9496e268bb",
   "metadata": {},
   "source": [
    "### Define the features and output before applying the models:"
   ]
  },
  {
   "cell_type": "code",
   "execution_count": 31,
   "id": "70bb5584-3b2a-44ef-b675-97b5a6c50a33",
   "metadata": {},
   "outputs": [
    {
     "data": {
      "text/html": [
       "<div>\n",
       "<style scoped>\n",
       "    .dataframe tbody tr th:only-of-type {\n",
       "        vertical-align: middle;\n",
       "    }\n",
       "\n",
       "    .dataframe tbody tr th {\n",
       "        vertical-align: top;\n",
       "    }\n",
       "\n",
       "    .dataframe thead th {\n",
       "        text-align: right;\n",
       "    }\n",
       "</style>\n",
       "<table border=\"1\" class=\"dataframe\">\n",
       "  <thead>\n",
       "    <tr style=\"text-align: right;\">\n",
       "      <th></th>\n",
       "      <th>Length</th>\n",
       "      <th>Diameter</th>\n",
       "      <th>Height</th>\n",
       "      <th>Whole weight</th>\n",
       "      <th>Shucked weight</th>\n",
       "      <th>Viscera weight</th>\n",
       "      <th>Shell weight</th>\n",
       "      <th>Sex_F</th>\n",
       "      <th>Sex_I</th>\n",
       "      <th>Sex_M</th>\n",
       "    </tr>\n",
       "  </thead>\n",
       "  <tbody>\n",
       "    <tr>\n",
       "      <th>2796</th>\n",
       "      <td>0.75</td>\n",
       "      <td>0.789916</td>\n",
       "      <td>0.172566</td>\n",
       "      <td>0.464494</td>\n",
       "      <td>0.331204</td>\n",
       "      <td>0.337064</td>\n",
       "      <td>0.461883</td>\n",
       "      <td>0.0</td>\n",
       "      <td>0.0</td>\n",
       "      <td>1.0</td>\n",
       "    </tr>\n",
       "  </tbody>\n",
       "</table>\n",
       "</div>"
      ],
      "text/plain": [
       "      Length  Diameter    Height  Whole weight  Shucked weight  \\\n",
       "2796    0.75  0.789916  0.172566      0.464494        0.331204   \n",
       "\n",
       "      Viscera weight  Shell weight  Sex_F  Sex_I  Sex_M  \n",
       "2796        0.337064      0.461883    0.0    0.0    1.0  "
      ]
     },
     "execution_count": 31,
     "metadata": {},
     "output_type": "execute_result"
    }
   ],
   "source": [
    "## output\n",
    "y= df['Rings']\n",
    "\n",
    "## input features\n",
    "X = pandas.get_dummies(df.drop(columns=['Rings']))\n",
    "\n",
    "## normalize the input features\n",
    "normalized_X= pandas.DataFrame(MinMaxScaler().fit_transform(X))\n",
    "\n",
    "normalized_X.columns= X.columns\n",
    "\n",
    "normalized_X.sample()"
   ]
  },
  {
   "cell_type": "code",
   "execution_count": 32,
   "id": "62d9b77e-13a4-4b07-8600-f58db4691f5c",
   "metadata": {},
   "outputs": [
    {
     "data": {
      "text/plain": [
       "0       15\n",
       "1        7\n",
       "2        9\n",
       "3       10\n",
       "4        7\n",
       "        ..\n",
       "4172    11\n",
       "4173    10\n",
       "4174     9\n",
       "4175    10\n",
       "4176    12\n",
       "Name: Rings, Length: 4177, dtype: int64"
      ]
     },
     "execution_count": 32,
     "metadata": {},
     "output_type": "execute_result"
    }
   ],
   "source": [
    "## view output feature\n",
    "\n",
    "y"
   ]
  },
  {
   "cell_type": "code",
   "execution_count": 33,
   "id": "54489bc6-1563-4426-a69d-350d4961c55a",
   "metadata": {},
   "outputs": [
    {
     "data": {
      "text/plain": [
       "Height            0.001370\n",
       "Shell weight      0.019242\n",
       "Viscera weight    0.020829\n",
       "Shucked weight    0.022281\n",
       "Length            0.026337\n",
       "Diameter          0.027819\n",
       "Whole weight      0.030165\n",
       "Sex_F             0.215047\n",
       "Sex_I             0.218113\n",
       "Sex_M             0.232049\n",
       "dtype: float64"
      ]
     },
     "execution_count": 33,
     "metadata": {},
     "output_type": "execute_result"
    }
   ],
   "source": [
    "\n",
    "normalized_X.var().sort_values()\n",
    "\n"
   ]
  },
  {
   "cell_type": "markdown",
   "id": "925c28e8-b721-4642-9556-02879532ec4a",
   "metadata": {},
   "source": [
    "2 Highest variance features except `Sex` are `Diameter` and `Whole weight`.\n",
    "\n",
    "So the input features wil be `Sex`, `Diameter` and `Whole weight`."
   ]
  },
  {
   "cell_type": "code",
   "execution_count": 34,
   "id": "7b0dbd4c-3527-4b2f-b4b2-794d8a36396b",
   "metadata": {},
   "outputs": [],
   "source": [
    "\n",
    "pred_features=normalized_X[['Diameter','Whole weight','Sex_F','Sex_I','Sex_M']]"
   ]
  },
  {
   "cell_type": "code",
   "execution_count": 35,
   "id": "b25fe8b5-8db5-44fe-a037-32ace3af27d7",
   "metadata": {},
   "outputs": [
    {
     "data": {
      "text/html": [
       "<div>\n",
       "<style scoped>\n",
       "    .dataframe tbody tr th:only-of-type {\n",
       "        vertical-align: middle;\n",
       "    }\n",
       "\n",
       "    .dataframe tbody tr th {\n",
       "        vertical-align: top;\n",
       "    }\n",
       "\n",
       "    .dataframe thead th {\n",
       "        text-align: right;\n",
       "    }\n",
       "</style>\n",
       "<table border=\"1\" class=\"dataframe\">\n",
       "  <thead>\n",
       "    <tr style=\"text-align: right;\">\n",
       "      <th></th>\n",
       "      <th>Diameter</th>\n",
       "      <th>Whole weight</th>\n",
       "      <th>Sex_F</th>\n",
       "      <th>Sex_I</th>\n",
       "      <th>Sex_M</th>\n",
       "    </tr>\n",
       "  </thead>\n",
       "  <tbody>\n",
       "    <tr>\n",
       "      <th>318</th>\n",
       "      <td>0.672269</td>\n",
       "      <td>0.295555</td>\n",
       "      <td>1.0</td>\n",
       "      <td>0.0</td>\n",
       "      <td>0.0</td>\n",
       "    </tr>\n",
       "  </tbody>\n",
       "</table>\n",
       "</div>"
      ],
      "text/plain": [
       "     Diameter  Whole weight  Sex_F  Sex_I  Sex_M\n",
       "318  0.672269      0.295555    1.0    0.0    0.0"
      ]
     },
     "execution_count": 35,
     "metadata": {},
     "output_type": "execute_result"
    }
   ],
   "source": [
    "pred_features.sample()"
   ]
  },
  {
   "cell_type": "code",
   "execution_count": 36,
   "id": "831261aa-c002-40d7-a99b-5ebab18ad845",
   "metadata": {},
   "outputs": [
    {
     "data": {
      "text/plain": [
       "Diameter        float64\n",
       "Whole weight    float64\n",
       "Sex_F           float64\n",
       "Sex_I           float64\n",
       "Sex_M           float64\n",
       "dtype: object"
      ]
     },
     "execution_count": 36,
     "metadata": {},
     "output_type": "execute_result"
    }
   ],
   "source": [
    "pred_features.dtypes"
   ]
  },
  {
   "cell_type": "markdown",
   "id": "9dfff225-7816-48e2-a2c7-833e783445c1",
   "metadata": {},
   "source": [
    "---\n",
    "\n",
    "## **Problem 2**\n",
    "\n",
    "Create a linear model to predict Rings (y) based on the features defined in Problem 1.\n",
    "\n",
    "You should properly process and normalize the features before letting the model learn the data.\n",
    "\n",
    "Report r2 and mean absolute error of the model on predicting the same set of features X.\n",
    "\n",
    "Here's additional information about r2 and mean absolute error.\n",
    "* https://scikit-learn.org/stable/modules/generated/sklearn.metrics.r2_score.html\n",
    "* https://scikit-learn.org/stable/modules/generated/sklearn.metrics.mean_absolute_error.html#sklearn.metrics.mean_absolute_error\n"
   ]
  },
  {
   "cell_type": "markdown",
   "id": "119e037c-2943-4a35-b44e-d466ea2794c6",
   "metadata": {},
   "source": [
    "## Solution 2"
   ]
  },
  {
   "cell_type": "code",
   "execution_count": 37,
   "id": "9a66b960-dd51-43fe-9fd6-36244f500031",
   "metadata": {},
   "outputs": [
    {
     "data": {
      "text/html": [
       "<style>#sk-container-id-3 {color: black;}#sk-container-id-3 pre{padding: 0;}#sk-container-id-3 div.sk-toggleable {background-color: white;}#sk-container-id-3 label.sk-toggleable__label {cursor: pointer;display: block;width: 100%;margin-bottom: 0;padding: 0.3em;box-sizing: border-box;text-align: center;}#sk-container-id-3 label.sk-toggleable__label-arrow:before {content: \"▸\";float: left;margin-right: 0.25em;color: #696969;}#sk-container-id-3 label.sk-toggleable__label-arrow:hover:before {color: black;}#sk-container-id-3 div.sk-estimator:hover label.sk-toggleable__label-arrow:before {color: black;}#sk-container-id-3 div.sk-toggleable__content {max-height: 0;max-width: 0;overflow: hidden;text-align: left;background-color: #f0f8ff;}#sk-container-id-3 div.sk-toggleable__content pre {margin: 0.2em;color: black;border-radius: 0.25em;background-color: #f0f8ff;}#sk-container-id-3 input.sk-toggleable__control:checked~div.sk-toggleable__content {max-height: 200px;max-width: 100%;overflow: auto;}#sk-container-id-3 input.sk-toggleable__control:checked~label.sk-toggleable__label-arrow:before {content: \"▾\";}#sk-container-id-3 div.sk-estimator input.sk-toggleable__control:checked~label.sk-toggleable__label {background-color: #d4ebff;}#sk-container-id-3 div.sk-label input.sk-toggleable__control:checked~label.sk-toggleable__label {background-color: #d4ebff;}#sk-container-id-3 input.sk-hidden--visually {border: 0;clip: rect(1px 1px 1px 1px);clip: rect(1px, 1px, 1px, 1px);height: 1px;margin: -1px;overflow: hidden;padding: 0;position: absolute;width: 1px;}#sk-container-id-3 div.sk-estimator {font-family: monospace;background-color: #f0f8ff;border: 1px dotted black;border-radius: 0.25em;box-sizing: border-box;margin-bottom: 0.5em;}#sk-container-id-3 div.sk-estimator:hover {background-color: #d4ebff;}#sk-container-id-3 div.sk-parallel-item::after {content: \"\";width: 100%;border-bottom: 1px solid gray;flex-grow: 1;}#sk-container-id-3 div.sk-label:hover label.sk-toggleable__label {background-color: #d4ebff;}#sk-container-id-3 div.sk-serial::before {content: \"\";position: absolute;border-left: 1px solid gray;box-sizing: border-box;top: 0;bottom: 0;left: 50%;z-index: 0;}#sk-container-id-3 div.sk-serial {display: flex;flex-direction: column;align-items: center;background-color: white;padding-right: 0.2em;padding-left: 0.2em;position: relative;}#sk-container-id-3 div.sk-item {position: relative;z-index: 1;}#sk-container-id-3 div.sk-parallel {display: flex;align-items: stretch;justify-content: center;background-color: white;position: relative;}#sk-container-id-3 div.sk-item::before, #sk-container-id-3 div.sk-parallel-item::before {content: \"\";position: absolute;border-left: 1px solid gray;box-sizing: border-box;top: 0;bottom: 0;left: 50%;z-index: -1;}#sk-container-id-3 div.sk-parallel-item {display: flex;flex-direction: column;z-index: 1;position: relative;background-color: white;}#sk-container-id-3 div.sk-parallel-item:first-child::after {align-self: flex-end;width: 50%;}#sk-container-id-3 div.sk-parallel-item:last-child::after {align-self: flex-start;width: 50%;}#sk-container-id-3 div.sk-parallel-item:only-child::after {width: 0;}#sk-container-id-3 div.sk-dashed-wrapped {border: 1px dashed gray;margin: 0 0.4em 0.5em 0.4em;box-sizing: border-box;padding-bottom: 0.4em;background-color: white;}#sk-container-id-3 div.sk-label label {font-family: monospace;font-weight: bold;display: inline-block;line-height: 1.2em;}#sk-container-id-3 div.sk-label-container {text-align: center;}#sk-container-id-3 div.sk-container {/* jupyter's `normalize.less` sets `[hidden] { display: none; }` but bootstrap.min.css set `[hidden] { display: none !important; }` so we also need the `!important` here to be able to override the default hidden behavior on the sphinx rendered scikit-learn.org. See: https://github.com/scikit-learn/scikit-learn/issues/21755 */display: inline-block !important;position: relative;}#sk-container-id-3 div.sk-text-repr-fallback {display: none;}</style><div id=\"sk-container-id-3\" class=\"sk-top-container\"><div class=\"sk-text-repr-fallback\"><pre>LinearRegression()</pre><b>In a Jupyter environment, please rerun this cell to show the HTML representation or trust the notebook. <br />On GitHub, the HTML representation is unable to render, please try loading this page with nbviewer.org.</b></div><div class=\"sk-container\" hidden><div class=\"sk-item\"><div class=\"sk-estimator sk-toggleable\"><input class=\"sk-toggleable__control sk-hidden--visually\" id=\"sk-estimator-id-3\" type=\"checkbox\" checked><label for=\"sk-estimator-id-3\" class=\"sk-toggleable__label sk-toggleable__label-arrow\">LinearRegression</label><div class=\"sk-toggleable__content\"><pre>LinearRegression()</pre></div></div></div></div></div>"
      ],
      "text/plain": [
       "LinearRegression()"
      ]
     },
     "execution_count": 37,
     "metadata": {},
     "output_type": "execute_result"
    }
   ],
   "source": [
    "## define the model\n",
    "\n",
    "linear_model = LinearRegression()\n",
    "\n",
    "linear_model.fit(pred_features,y)\n"
   ]
  },
  {
   "cell_type": "code",
   "execution_count": 38,
   "id": "de6f8219-e630-4a60-b0e9-e7b5e540e49b",
   "metadata": {},
   "outputs": [],
   "source": [
    "#make predictions with the linear model\n",
    "\n",
    "y1 = linear_model.predict(pred_features)"
   ]
  },
  {
   "cell_type": "markdown",
   "id": "945cf390-b970-4756-bb35-ea0f6ed251e1",
   "metadata": {},
   "source": [
    "### Find the $R^2$ value"
   ]
  },
  {
   "cell_type": "code",
   "execution_count": 39,
   "id": "c99c3568-96c4-4875-9fa2-c5c4a22ea4ca",
   "metadata": {},
   "outputs": [
    {
     "name": "stdout",
     "output_type": "stream",
     "text": [
      "R^2:  0.3487515990543706\n"
     ]
    }
   ],
   "source": [
    "print('R^2: ', r2_score(y, y1))"
   ]
  },
  {
   "cell_type": "markdown",
   "id": "4e243f90-9219-43ca-80d6-b22e5f161bea",
   "metadata": {},
   "source": [
    "### Find Mean Absolute Error"
   ]
  },
  {
   "cell_type": "code",
   "execution_count": 40,
   "id": "9a702017-33cb-4202-a6cc-05245dcecda3",
   "metadata": {},
   "outputs": [
    {
     "name": "stdout",
     "output_type": "stream",
     "text": [
      "mean abs error:  1.874405225041896\n"
     ]
    }
   ],
   "source": [
    "print('mean abs error: ', mean_absolute_error(y, y1))"
   ]
  },
  {
   "cell_type": "markdown",
   "id": "3d2f3e2a-8323-43d6-9d45-d160a96c6d0b",
   "metadata": {},
   "source": [
    "---\n",
    "\n",
    "## **Problem 3**\n",
    "\n",
    "Create a non-linear model, using a 7-nearest neighbor regressor, to predict Rings (y) based on the features defined in Problem 1.\n",
    "\n",
    "You should properly process and normalize the features before letting the model learn the data.\n",
    "\n",
    "Report r2 and mean absolute error of the model on predicting the same set of features X.\n",
    "\n"
   ]
  },
  {
   "cell_type": "markdown",
   "id": "abf581cf-6f14-474f-9387-1871e9d27067",
   "metadata": {},
   "source": [
    "## Solution 3"
   ]
  },
  {
   "cell_type": "code",
   "execution_count": 41,
   "id": "fd36c824-8338-485d-82af-e6762e858325",
   "metadata": {},
   "outputs": [
    {
     "data": {
      "text/html": [
       "<style>#sk-container-id-4 {color: black;}#sk-container-id-4 pre{padding: 0;}#sk-container-id-4 div.sk-toggleable {background-color: white;}#sk-container-id-4 label.sk-toggleable__label {cursor: pointer;display: block;width: 100%;margin-bottom: 0;padding: 0.3em;box-sizing: border-box;text-align: center;}#sk-container-id-4 label.sk-toggleable__label-arrow:before {content: \"▸\";float: left;margin-right: 0.25em;color: #696969;}#sk-container-id-4 label.sk-toggleable__label-arrow:hover:before {color: black;}#sk-container-id-4 div.sk-estimator:hover label.sk-toggleable__label-arrow:before {color: black;}#sk-container-id-4 div.sk-toggleable__content {max-height: 0;max-width: 0;overflow: hidden;text-align: left;background-color: #f0f8ff;}#sk-container-id-4 div.sk-toggleable__content pre {margin: 0.2em;color: black;border-radius: 0.25em;background-color: #f0f8ff;}#sk-container-id-4 input.sk-toggleable__control:checked~div.sk-toggleable__content {max-height: 200px;max-width: 100%;overflow: auto;}#sk-container-id-4 input.sk-toggleable__control:checked~label.sk-toggleable__label-arrow:before {content: \"▾\";}#sk-container-id-4 div.sk-estimator input.sk-toggleable__control:checked~label.sk-toggleable__label {background-color: #d4ebff;}#sk-container-id-4 div.sk-label input.sk-toggleable__control:checked~label.sk-toggleable__label {background-color: #d4ebff;}#sk-container-id-4 input.sk-hidden--visually {border: 0;clip: rect(1px 1px 1px 1px);clip: rect(1px, 1px, 1px, 1px);height: 1px;margin: -1px;overflow: hidden;padding: 0;position: absolute;width: 1px;}#sk-container-id-4 div.sk-estimator {font-family: monospace;background-color: #f0f8ff;border: 1px dotted black;border-radius: 0.25em;box-sizing: border-box;margin-bottom: 0.5em;}#sk-container-id-4 div.sk-estimator:hover {background-color: #d4ebff;}#sk-container-id-4 div.sk-parallel-item::after {content: \"\";width: 100%;border-bottom: 1px solid gray;flex-grow: 1;}#sk-container-id-4 div.sk-label:hover label.sk-toggleable__label {background-color: #d4ebff;}#sk-container-id-4 div.sk-serial::before {content: \"\";position: absolute;border-left: 1px solid gray;box-sizing: border-box;top: 0;bottom: 0;left: 50%;z-index: 0;}#sk-container-id-4 div.sk-serial {display: flex;flex-direction: column;align-items: center;background-color: white;padding-right: 0.2em;padding-left: 0.2em;position: relative;}#sk-container-id-4 div.sk-item {position: relative;z-index: 1;}#sk-container-id-4 div.sk-parallel {display: flex;align-items: stretch;justify-content: center;background-color: white;position: relative;}#sk-container-id-4 div.sk-item::before, #sk-container-id-4 div.sk-parallel-item::before {content: \"\";position: absolute;border-left: 1px solid gray;box-sizing: border-box;top: 0;bottom: 0;left: 50%;z-index: -1;}#sk-container-id-4 div.sk-parallel-item {display: flex;flex-direction: column;z-index: 1;position: relative;background-color: white;}#sk-container-id-4 div.sk-parallel-item:first-child::after {align-self: flex-end;width: 50%;}#sk-container-id-4 div.sk-parallel-item:last-child::after {align-self: flex-start;width: 50%;}#sk-container-id-4 div.sk-parallel-item:only-child::after {width: 0;}#sk-container-id-4 div.sk-dashed-wrapped {border: 1px dashed gray;margin: 0 0.4em 0.5em 0.4em;box-sizing: border-box;padding-bottom: 0.4em;background-color: white;}#sk-container-id-4 div.sk-label label {font-family: monospace;font-weight: bold;display: inline-block;line-height: 1.2em;}#sk-container-id-4 div.sk-label-container {text-align: center;}#sk-container-id-4 div.sk-container {/* jupyter's `normalize.less` sets `[hidden] { display: none; }` but bootstrap.min.css set `[hidden] { display: none !important; }` so we also need the `!important` here to be able to override the default hidden behavior on the sphinx rendered scikit-learn.org. See: https://github.com/scikit-learn/scikit-learn/issues/21755 */display: inline-block !important;position: relative;}#sk-container-id-4 div.sk-text-repr-fallback {display: none;}</style><div id=\"sk-container-id-4\" class=\"sk-top-container\"><div class=\"sk-text-repr-fallback\"><pre>KNeighborsRegressor(n_neighbors=7)</pre><b>In a Jupyter environment, please rerun this cell to show the HTML representation or trust the notebook. <br />On GitHub, the HTML representation is unable to render, please try loading this page with nbviewer.org.</b></div><div class=\"sk-container\" hidden><div class=\"sk-item\"><div class=\"sk-estimator sk-toggleable\"><input class=\"sk-toggleable__control sk-hidden--visually\" id=\"sk-estimator-id-4\" type=\"checkbox\" checked><label for=\"sk-estimator-id-4\" class=\"sk-toggleable__label sk-toggleable__label-arrow\">KNeighborsRegressor</label><div class=\"sk-toggleable__content\"><pre>KNeighborsRegressor(n_neighbors=7)</pre></div></div></div></div></div>"
      ],
      "text/plain": [
       "KNeighborsRegressor(n_neighbors=7)"
      ]
     },
     "execution_count": 41,
     "metadata": {},
     "output_type": "execute_result"
    }
   ],
   "source": [
    "## define the K nearest neighbor model\n",
    "\n",
    "kneighbor_model = KNeighborsRegressor(n_neighbors=7)\n",
    "\n",
    "kneighbor_model.fit(pred_features,y)"
   ]
  },
  {
   "cell_type": "code",
   "execution_count": 42,
   "id": "48cdfd63-9e23-430f-a0f7-6ff717de6977",
   "metadata": {},
   "outputs": [],
   "source": [
    "## make predictions using the kneighbor model\n",
    "\n",
    "y_pred = kneighbor_model.predict(pred_features)"
   ]
  },
  {
   "cell_type": "markdown",
   "id": "4271856d-25f7-438d-a7f6-2b4da9ef95ae",
   "metadata": {},
   "source": [
    "## Find $R^2$ value"
   ]
  },
  {
   "cell_type": "code",
   "execution_count": 43,
   "id": "78254075-f884-461c-bc9a-d9abee2eb23c",
   "metadata": {},
   "outputs": [
    {
     "name": "stdout",
     "output_type": "stream",
     "text": [
      "R^2 score: 0.46602094858742393\n"
     ]
    }
   ],
   "source": [
    "# Calculate R^2 score\n",
    "r_squared = r2_score(y, y_pred)\n",
    "\n",
    "print(\"R^2 score:\", r_squared)"
   ]
  },
  {
   "cell_type": "markdown",
   "id": "3167dc9f-6f94-48aa-a7bd-caf0000d5c7d",
   "metadata": {},
   "source": [
    "## Find Absolute Mean Error"
   ]
  },
  {
   "cell_type": "code",
   "execution_count": 44,
   "id": "a01e0139-6252-4282-b31c-a6285729a245",
   "metadata": {},
   "outputs": [
    {
     "name": "stdout",
     "output_type": "stream",
     "text": [
      "Mean Absolute Error: 1.6875406135640754\n"
     ]
    }
   ],
   "source": [
    "\n",
    "mae = mean_absolute_error(y, y_pred)\n",
    "\n",
    "print(\"Mean Absolute Error:\", mae)\n"
   ]
  },
  {
   "cell_type": "markdown",
   "id": "a0472fe1-0ea5-40c1-b615-3d82b5832fb7",
   "metadata": {},
   "source": [
    "---\n",
    "\n",
    "## **Problem 4**\n",
    "\n",
    "Suppose you want to split the data into training and testing subsets using 50-fold cross validation. What is the size of each set of testing data?  Show the data in the 4th testing data set.\n",
    "\n",
    "Here's additional information on KFold:\n",
    "* https://scikit-learn.org/stable/modules/generated/sklearn.model_selection.KFold.html"
   ]
  },
  {
   "cell_type": "markdown",
   "id": "f2656ed4-1018-4bdf-826e-0a683f8064b8",
   "metadata": {},
   "source": [
    "## Solution 4"
   ]
  },
  {
   "cell_type": "code",
   "execution_count": 45,
   "id": "764076f3-9a5c-4816-a9cc-5cf36d82063f",
   "metadata": {},
   "outputs": [
    {
     "data": {
      "text/plain": [
       "4177"
      ]
     },
     "execution_count": 45,
     "metadata": {},
     "output_type": "execute_result"
    }
   ],
   "source": [
    "len(pred_features)"
   ]
  },
  {
   "cell_type": "code",
   "execution_count": 46,
   "id": "3aecc41c-34b0-4eb0-a14c-8dd507c076ab",
   "metadata": {},
   "outputs": [
    {
     "name": "stdout",
     "output_type": "stream",
     "text": [
      "each set of testing data 83\n"
     ]
    }
   ],
   "source": [
    "print(\"each set of testing data\", 4177//50)"
   ]
  },
  {
   "cell_type": "code",
   "execution_count": 47,
   "id": "00cdec16-1996-445c-b9f2-2f9eafbd4d1b",
   "metadata": {},
   "outputs": [
    {
     "data": {
      "text/plain": [
       "KFold(n_splits=50, random_state=None, shuffle=False)"
      ]
     },
     "execution_count": 47,
     "metadata": {},
     "output_type": "execute_result"
    }
   ],
   "source": [
    "## define the K-fold cross validation method\n",
    "\n",
    "kf = KFold(n_splits=50)\n",
    "\n",
    "kf"
   ]
  },
  {
   "cell_type": "markdown",
   "id": "850424e3-861f-4e65-becb-cb3062a376c4",
   "metadata": {},
   "source": [
    "### The 4th testing data set is as follows:"
   ]
  },
  {
   "cell_type": "code",
   "execution_count": 48,
   "id": "a3c05210-0dde-4e52-96c4-8000b78d1674",
   "metadata": {},
   "outputs": [
    {
     "name": "stdout",
     "output_type": "stream",
     "text": [
      "Fold 4:\n",
      "  Train: index=4093\n",
      "  Test:  index=     Diameter  Whole weight  Sex_F  Sex_I  Sex_M\n",
      "336  0.705882      0.384452    0.0    0.0    1.0\n",
      "337  0.663866      0.453692    0.0    0.0    1.0\n",
      "338  0.705882      0.468567    0.0    0.0    1.0\n",
      "339  0.663866      0.354702    1.0    0.0    0.0\n",
      "340  0.672269      0.411900    0.0    0.0    1.0\n",
      "..        ...           ...    ...    ...    ...\n",
      "415  0.697479      0.364973    1.0    0.0    0.0\n",
      "416  0.747899      0.464494    1.0    0.0    0.0\n",
      "417  0.773109      0.478130    0.0    0.0    1.0\n",
      "418  0.747899      0.355233    1.0    0.0    0.0\n",
      "419  0.596639      0.220648    0.0    0.0    1.0\n",
      "\n",
      "[84 rows x 5 columns]\n"
     ]
    }
   ],
   "source": [
    "for i, (train_index, test_index) in enumerate(kf.split(pred_features)):\n",
    "    if i==4:\n",
    "        print(f\"Fold {i}:\")\n",
    "        print(f\"  Train: index={len(train_index)}\")\n",
    "        print(f\"  Test:  index={pred_features.iloc[test_index]}\")"
   ]
  },
  {
   "cell_type": "markdown",
   "id": "5b1ce3b7-0aef-430a-9dad-ca1d40788c97",
   "metadata": {},
   "source": [
    "---\n",
    "\n",
    "## **Problem 5**\n",
    "\n",
    "Write a function call `evaluate` with this interface:\n",
    "\n",
    "```python\n",
    "\n",
    "def evaluate(model, training_X, testing_X, training_y, testing_y):\n",
    "    pass\n",
    "\n",
    "```\n",
    "This function evaluates the model by training on the training data and returns the mean absolute error between the predictions and testing_y."
   ]
  },
  {
   "cell_type": "markdown",
   "id": "e27b83de-168a-4dc3-88fb-867211eee18d",
   "metadata": {},
   "source": [
    "## Solution 5"
   ]
  },
  {
   "cell_type": "code",
   "execution_count": 49,
   "id": "af75e836-a61f-4d1d-9724-c3384b80ed0e",
   "metadata": {},
   "outputs": [],
   "source": [
    "'''\n",
    "\n",
    "function: evaluate()\n",
    "parameters:\n",
    "     model: the model used for evaluation\n",
    "     training_X: the training input features\n",
    "     testing_X: the testing input features\n",
    "     training_y: the training output feature\n",
    "     testing_y: the testing output feature\n",
    "return_value: mean absolute error of the model prediction\n",
    "\n",
    "'''\n",
    "\n",
    "def evaluate(model, training_X, testing_X, training_y, testing_y):\n",
    "    \n",
    "    mae_scores=[]\n",
    "    \n",
    "    model.fit(training_X, training_y)\n",
    "    \n",
    "    # Make predictions on the validation set\n",
    "    y_pred = model.predict(testing_X)\n",
    "    \n",
    "    # Calculate mean absolute error for this ith fold\n",
    "    mae = mean_absolute_error(testing_y, y_pred)\n",
    "    \n",
    "    #return the mean absolute error value\n",
    "    return mae\n",
    "    "
   ]
  },
  {
   "cell_type": "markdown",
   "id": "ffdef05d-17b4-4e10-b20c-5c187f8c0335",
   "metadata": {},
   "source": [
    "---\n",
    "\n",
    "## **Problem 6**\n",
    "\n",
    "Evaluate the linear regression model in Problem 2, using 50-fold cross validation.\n",
    "\n",
    "Print out mean absolute errors in each iteration and compute the average mean absolute errors.\n"
   ]
  },
  {
   "cell_type": "markdown",
   "id": "f522d3b2-4b33-464e-b4d5-a95310ec9a37",
   "metadata": {},
   "source": [
    "## Solution 6"
   ]
  },
  {
   "cell_type": "code",
   "execution_count": 50,
   "id": "4fc461ca-b02a-4cc2-a8cb-40fe173de59c",
   "metadata": {},
   "outputs": [
    {
     "name": "stdout",
     "output_type": "stream",
     "text": [
      "1.9688197544642858\n",
      "1.7254464285714286\n",
      "1.7492559523809523\n",
      "2.7708333333333335\n",
      "2.6028645833333335\n",
      "3.3686755952380953\n",
      "2.6532738095238093\n",
      "3.1577380952380953\n",
      "3.064174107142857\n",
      "1.7619047619047619\n",
      "1.5746926147096896\n",
      "2.013950892857143\n",
      "1.6422991071428572\n",
      "2.095641284397863\n",
      "1.5621279761904763\n",
      "1.0297752929610335\n",
      "1.4655935810755292\n",
      "1.8444010416666667\n",
      "1.0217633928571428\n",
      "1.4428943452380953\n",
      "1.659984472245215\n",
      "1.2983630952380953\n",
      "1.13006061202876\n",
      "1.043608165922619\n",
      "1.5796130952380953\n",
      "2.1147693452380953\n",
      "2.6863839285714284\n",
      "2.625031256686267\n",
      "3.1883000753012047\n",
      "2.338855421686747\n",
      "1.8610692771084338\n",
      "1.8891189759036144\n",
      "1.1875\n",
      "1.6016566265060241\n",
      "1.2388840343072547\n",
      "1.488185907487474\n",
      "1.1164629772463424\n",
      "1.8848383414414431\n",
      "2.3949548192771086\n",
      "2.9615963855421685\n",
      "2.55828783846777\n",
      "1.789510350010804\n",
      "1.3040286144578312\n",
      "1.207078313253012\n",
      "1.3125\n",
      "1.4881400602409638\n",
      "2.4975262377635543\n",
      "2.0515813253012047\n",
      "1.355515813253012\n",
      "1.327183734939759\n"
     ]
    }
   ],
   "source": [
    "mae_scores=[]\n",
    "\n",
    "for train_index, test_index in kf.split(pred_features):\n",
    "    train_X = pred_features.iloc[train_index]\n",
    "    test_X = pred_features.iloc[test_index]\n",
    "    \n",
    "#print(train_X)    \n",
    "    train_y = y.iloc[train_index]\n",
    "    test_y = y.iloc[test_index]\n",
    "    \n",
    "    res=evaluate(linear_model, train_X, test_X, train_y, test_y)\n",
    "    \n",
    "    # print the mean absolute error for the ith iteration\n",
    "    print(res)\n",
    "    \n",
    "    mae_scores.append(res)"
   ]
  },
  {
   "cell_type": "code",
   "execution_count": 51,
   "id": "21c16993-c33c-41a5-8a02-947ad9585ad5",
   "metadata": {},
   "outputs": [
    {
     "name": "stdout",
     "output_type": "stream",
     "text": [
      "Average Mean absolute error: 1.8939343010178344\n"
     ]
    }
   ],
   "source": [
    "    \n",
    "avg_mae= sum(mae_scores) / len(mae_scores)\n",
    "     \n",
    "print(\"Average Mean absolute error:\", avg_mae)\n",
    "    "
   ]
  },
  {
   "cell_type": "markdown",
   "id": "1c018ab8-fc8b-4514-a67a-81d3d2345925",
   "metadata": {},
   "source": [
    "## Alternate Code\n",
    "\n",
    "### Iterate over each train-test split in the K-fold cross-validation\n",
    "```python\n",
    "for fold_idx, (train_idx, test_idx) in enumerate(kf.split(X, y)):\n",
    "    print(f\"Fold {fold_idx + 1}:\")\n",
    "    \n",
    "    # Split the data into training and testing sets for this fold\n",
    "    X_train, X_test = X[train_idx], X[test_idx]\n",
    "    y_train, y_test = y[train_idx], y[test_idx]\n",
    "    \n",
    "    # Initialize and train a logistic regression model\n",
    "    model = LogisticRegression()\n",
    "    model.fit(X_train, y_train)\n",
    "```    "
   ]
  },
  {
   "cell_type": "markdown",
   "id": "9842ed68-3ba0-4f89-93d9-8c51a4c768d0",
   "metadata": {},
   "source": [
    "---\n",
    "\n",
    "## **Problem 7**\n",
    "\n",
    "Evaluate the 7-nearest neighbor model in Problem 3, using 50-fold cross validation.\n",
    "\n",
    "Print out mean absolute errors in each iteration and compute the average mean absolute errors."
   ]
  },
  {
   "cell_type": "markdown",
   "id": "b42b1563-3603-4804-b703-6fb5ff98316c",
   "metadata": {},
   "source": [
    "## Solution 7"
   ]
  },
  {
   "cell_type": "code",
   "execution_count": 52,
   "id": "3f6b33e8-644c-40ba-ab5f-b37174a329be",
   "metadata": {},
   "outputs": [
    {
     "name": "stdout",
     "output_type": "stream",
     "text": [
      "2.229591836734694\n",
      "1.9710884353741496\n",
      "1.8673469387755102\n",
      "2.826530612244898\n",
      "2.906462585034014\n",
      "3.568027210884354\n",
      "2.6768707482993195\n",
      "3.017006802721088\n",
      "2.695578231292517\n",
      "1.829931972789115\n",
      "1.6666666666666663\n",
      "2.3537414965986394\n",
      "1.4795918367346939\n",
      "2.1700680272108848\n",
      "1.369047619047619\n",
      "1.2500000000000002\n",
      "1.4047619047619044\n",
      "1.7874149659863943\n",
      "1.2040816326530612\n",
      "1.4591836734693877\n",
      "1.6020408163265307\n",
      "1.7397959183673468\n",
      "1.268707482993197\n",
      "1.1887755102040816\n",
      "1.7517006802721091\n",
      "2.282312925170068\n",
      "2.8503401360544216\n",
      "2.817555938037866\n",
      "3.137693631669535\n",
      "2.14802065404475\n",
      "2.0292598967297764\n",
      "1.7487091222030982\n",
      "1.2495697074010328\n",
      "1.7469879518072287\n",
      "1.2048192771084338\n",
      "1.7074010327022375\n",
      "1.2375215146299483\n",
      "1.981067125645439\n",
      "2.6351118760757313\n",
      "3.055077452667814\n",
      "2.3734939759036147\n",
      "1.9036144578313252\n",
      "1.3132530120481927\n",
      "1.4113597246127365\n",
      "1.4216867469879517\n",
      "1.5697074010327026\n",
      "2.609294320137694\n",
      "2.2151462994836484\n",
      "1.4234079173838208\n",
      "1.4888123924268502\n"
     ]
    }
   ],
   "source": [
    "mae2_scores=[]\n",
    "\n",
    "for train_index, test_index in kf.split(pred_features):\n",
    "    train_X = pred_features.iloc[train_index]\n",
    "    test_X = pred_features.iloc[test_index]\n",
    "    \n",
    "#print(train_X)    \n",
    "    train_y = y.iloc[train_index]\n",
    "    test_y = y.iloc[test_index]\n",
    "    \n",
    "    res2 =evaluate(kneighbor_model, train_X, test_X, train_y, test_y)\n",
    "    \n",
    "    # print the mean absolute error for the ith iteration\n",
    "    print(res2)\n",
    "    \n",
    "    mae2_scores.append(res2)\n",
    "\n",
    "    "
   ]
  },
  {
   "cell_type": "code",
   "execution_count": 53,
   "id": "7f04f082-377a-4ca4-a4e7-2f62f655f303",
   "metadata": {},
   "outputs": [
    {
     "name": "stdout",
     "output_type": "stream",
     "text": [
      "Average Mean absolute error: 1.9769047619047615\n"
     ]
    }
   ],
   "source": [
    " \n",
    "avg_mae2 = sum(mae2_scores) / len(mae2_scores)\n",
    "\n",
    "print(\"Average Mean absolute error:\", avg_mae2)\n"
   ]
  },
  {
   "cell_type": "code",
   "execution_count": null,
   "id": "6c4ce7b7-9f48-4d1a-80bb-11e1c79144e4",
   "metadata": {},
   "outputs": [],
   "source": []
  },
  {
   "cell_type": "code",
   "execution_count": null,
   "id": "25729a35-ac26-4b9b-8d05-f2c807475a53",
   "metadata": {},
   "outputs": [],
   "source": []
  },
  {
   "cell_type": "code",
   "execution_count": null,
   "id": "37f6d1bc-29f7-4b8d-ab6d-e82abbe647a3",
   "metadata": {},
   "outputs": [],
   "source": []
  }
 ],
 "metadata": {
  "kernelspec": {
   "display_name": "Python 3 (ipykernel)",
   "language": "python",
   "name": "python3"
  },
  "language_info": {
   "codemirror_mode": {
    "name": "ipython",
    "version": 3
   },
   "file_extension": ".py",
   "mimetype": "text/x-python",
   "name": "python",
   "nbconvert_exporter": "python",
   "pygments_lexer": "ipython3",
   "version": "3.9.16"
  }
 },
 "nbformat": 4,
 "nbformat_minor": 5
}
