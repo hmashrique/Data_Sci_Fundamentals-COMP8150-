{
 "cells": [
  {
   "cell_type": "code",
   "execution_count": 1,
   "id": "a5adb9fb-a5bc-4dd3-873e-6c167f324c9f",
   "metadata": {},
   "outputs": [],
   "source": [
    "from sklearn.preprocessing import MinMaxScaler, StandardScaler\n",
    "from sklearn.cluster import KMeans\n",
    "from sklearn.metrics import silhouette_score\n",
    "from sklearn.decomposition import PCA\n",
    "import seaborn\n",
    "%matplotlib inline"
   ]
  },
  {
   "cell_type": "code",
   "execution_count": 2,
   "id": "7eec1c3d-5bd0-453c-af91-b300d7b85ef4",
   "metadata": {},
   "outputs": [],
   "source": [
    "import warnings\n",
    "warnings.filterwarnings('ignore')"
   ]
  },
  {
   "cell_type": "code",
   "execution_count": 3,
   "id": "a205008a-d623-42c2-bc23-ecd7eecd8b3e",
   "metadata": {},
   "outputs": [
    {
     "data": {
      "text/html": [
       "<div>\n",
       "<style scoped>\n",
       "    .dataframe tbody tr th:only-of-type {\n",
       "        vertical-align: middle;\n",
       "    }\n",
       "\n",
       "    .dataframe tbody tr th {\n",
       "        vertical-align: top;\n",
       "    }\n",
       "\n",
       "    .dataframe thead th {\n",
       "        text-align: right;\n",
       "    }\n",
       "</style>\n",
       "<table border=\"1\" class=\"dataframe\">\n",
       "  <thead>\n",
       "    <tr style=\"text-align: right;\">\n",
       "      <th></th>\n",
       "      <th>Sex</th>\n",
       "      <th>Length</th>\n",
       "      <th>Diameter</th>\n",
       "      <th>Height</th>\n",
       "      <th>Whole weight</th>\n",
       "      <th>Shucked weight</th>\n",
       "      <th>Viscera weight</th>\n",
       "      <th>Shell weight</th>\n",
       "      <th>Rings</th>\n",
       "    </tr>\n",
       "  </thead>\n",
       "  <tbody>\n",
       "    <tr>\n",
       "      <th>1560</th>\n",
       "      <td>I</td>\n",
       "      <td>0.435</td>\n",
       "      <td>0.325</td>\n",
       "      <td>0.110</td>\n",
       "      <td>0.3670</td>\n",
       "      <td>0.1595</td>\n",
       "      <td>0.0800</td>\n",
       "      <td>0.105</td>\n",
       "      <td>6</td>\n",
       "    </tr>\n",
       "    <tr>\n",
       "      <th>545</th>\n",
       "      <td>M</td>\n",
       "      <td>0.320</td>\n",
       "      <td>0.245</td>\n",
       "      <td>0.075</td>\n",
       "      <td>0.1555</td>\n",
       "      <td>0.0585</td>\n",
       "      <td>0.0380</td>\n",
       "      <td>0.049</td>\n",
       "      <td>11</td>\n",
       "    </tr>\n",
       "    <tr>\n",
       "      <th>846</th>\n",
       "      <td>F</td>\n",
       "      <td>0.540</td>\n",
       "      <td>0.420</td>\n",
       "      <td>0.140</td>\n",
       "      <td>0.8050</td>\n",
       "      <td>0.3690</td>\n",
       "      <td>0.1725</td>\n",
       "      <td>0.210</td>\n",
       "      <td>11</td>\n",
       "    </tr>\n",
       "  </tbody>\n",
       "</table>\n",
       "</div>"
      ],
      "text/plain": [
       "     Sex  Length  Diameter  Height  Whole weight  Shucked weight  \\\n",
       "1560   I   0.435     0.325   0.110        0.3670          0.1595   \n",
       "545    M   0.320     0.245   0.075        0.1555          0.0585   \n",
       "846    F   0.540     0.420   0.140        0.8050          0.3690   \n",
       "\n",
       "      Viscera weight  Shell weight  Rings  \n",
       "1560          0.0800         0.105      6  \n",
       "545           0.0380         0.049     11  \n",
       "846           0.1725         0.210     11  "
      ]
     },
     "execution_count": 3,
     "metadata": {},
     "output_type": "execute_result"
    }
   ],
   "source": [
    "import pandas\n",
    "abalone = pandas.read_csv('../Datasets/abalone.csv')\n",
    "abalone.sample(3)"
   ]
  },
  {
   "cell_type": "code",
   "execution_count": 4,
   "id": "82ea3705-2995-4b0a-82c7-cf03fc45c2f0",
   "metadata": {},
   "outputs": [],
   "source": [
    "abalone = pandas.get_dummies(abalone)\n"
   ]
  },
  {
   "cell_type": "code",
   "execution_count": 6,
   "id": "5da9ce97-09ef-4e81-a1cf-d6fe7560315c",
   "metadata": {},
   "outputs": [
    {
     "data": {
      "text/html": [
       "<div>\n",
       "<style scoped>\n",
       "    .dataframe tbody tr th:only-of-type {\n",
       "        vertical-align: middle;\n",
       "    }\n",
       "\n",
       "    .dataframe tbody tr th {\n",
       "        vertical-align: top;\n",
       "    }\n",
       "\n",
       "    .dataframe thead th {\n",
       "        text-align: right;\n",
       "    }\n",
       "</style>\n",
       "<table border=\"1\" class=\"dataframe\">\n",
       "  <thead>\n",
       "    <tr style=\"text-align: right;\">\n",
       "      <th></th>\n",
       "      <th>Length</th>\n",
       "      <th>Diameter</th>\n",
       "      <th>Height</th>\n",
       "      <th>Whole weight</th>\n",
       "      <th>Shucked weight</th>\n",
       "      <th>Viscera weight</th>\n",
       "      <th>Shell weight</th>\n",
       "      <th>Rings</th>\n",
       "      <th>Sex_F</th>\n",
       "      <th>Sex_I</th>\n",
       "      <th>Sex_M</th>\n",
       "    </tr>\n",
       "  </thead>\n",
       "  <tbody>\n",
       "    <tr>\n",
       "      <th>1518</th>\n",
       "      <td>0.67</td>\n",
       "      <td>0.545</td>\n",
       "      <td>0.200</td>\n",
       "      <td>1.7025</td>\n",
       "      <td>0.833</td>\n",
       "      <td>0.3740</td>\n",
       "      <td>0.410</td>\n",
       "      <td>11</td>\n",
       "      <td>0</td>\n",
       "      <td>0</td>\n",
       "      <td>1</td>\n",
       "    </tr>\n",
       "    <tr>\n",
       "      <th>3689</th>\n",
       "      <td>0.63</td>\n",
       "      <td>0.505</td>\n",
       "      <td>0.195</td>\n",
       "      <td>1.3060</td>\n",
       "      <td>0.516</td>\n",
       "      <td>0.3305</td>\n",
       "      <td>0.375</td>\n",
       "      <td>9</td>\n",
       "      <td>1</td>\n",
       "      <td>0</td>\n",
       "      <td>0</td>\n",
       "    </tr>\n",
       "  </tbody>\n",
       "</table>\n",
       "</div>"
      ],
      "text/plain": [
       "      Length  Diameter  Height  Whole weight  Shucked weight  Viscera weight  \\\n",
       "1518    0.67     0.545   0.200        1.7025           0.833          0.3740   \n",
       "3689    0.63     0.505   0.195        1.3060           0.516          0.3305   \n",
       "\n",
       "      Shell weight  Rings  Sex_F  Sex_I  Sex_M  \n",
       "1518         0.410     11      0      0      1  \n",
       "3689         0.375      9      1      0      0  "
      ]
     },
     "execution_count": 6,
     "metadata": {},
     "output_type": "execute_result"
    }
   ],
   "source": [
    "abalone.sample(2)"
   ]
  },
  {
   "cell_type": "code",
   "execution_count": 7,
   "id": "1cac7a7a-6703-421b-b6db-b52267a281d3",
   "metadata": {},
   "outputs": [
    {
     "data": {
      "text/html": [
       "<div>\n",
       "<style scoped>\n",
       "    .dataframe tbody tr th:only-of-type {\n",
       "        vertical-align: middle;\n",
       "    }\n",
       "\n",
       "    .dataframe tbody tr th {\n",
       "        vertical-align: top;\n",
       "    }\n",
       "\n",
       "    .dataframe thead th {\n",
       "        text-align: right;\n",
       "    }\n",
       "</style>\n",
       "<table border=\"1\" class=\"dataframe\">\n",
       "  <thead>\n",
       "    <tr style=\"text-align: right;\">\n",
       "      <th></th>\n",
       "      <th>Length</th>\n",
       "      <th>Diameter</th>\n",
       "      <th>Height</th>\n",
       "      <th>Whole weight</th>\n",
       "      <th>Shucked weight</th>\n",
       "      <th>Viscera weight</th>\n",
       "      <th>Shell weight</th>\n",
       "      <th>Rings</th>\n",
       "      <th>Sex_F</th>\n",
       "      <th>Sex_I</th>\n",
       "      <th>Sex_M</th>\n",
       "    </tr>\n",
       "  </thead>\n",
       "  <tbody>\n",
       "    <tr>\n",
       "      <th>3411</th>\n",
       "      <td>0.4797</td>\n",
       "      <td>0.4454</td>\n",
       "      <td>0.0885</td>\n",
       "      <td>0.1358</td>\n",
       "      <td>0.1284</td>\n",
       "      <td>0.0974</td>\n",
       "      <td>0.0982</td>\n",
       "      <td>0.2143</td>\n",
       "      <td>0.0</td>\n",
       "      <td>1.0</td>\n",
       "      <td>0.0</td>\n",
       "    </tr>\n",
       "    <tr>\n",
       "      <th>2601</th>\n",
       "      <td>0.7297</td>\n",
       "      <td>0.7479</td>\n",
       "      <td>0.1460</td>\n",
       "      <td>0.4693</td>\n",
       "      <td>0.4028</td>\n",
       "      <td>0.3963</td>\n",
       "      <td>0.3523</td>\n",
       "      <td>0.3214</td>\n",
       "      <td>1.0</td>\n",
       "      <td>0.0</td>\n",
       "      <td>0.0</td>\n",
       "    </tr>\n",
       "  </tbody>\n",
       "</table>\n",
       "</div>"
      ],
      "text/plain": [
       "      Length  Diameter  Height  Whole weight  Shucked weight  Viscera weight  \\\n",
       "3411  0.4797    0.4454  0.0885        0.1358          0.1284          0.0974   \n",
       "2601  0.7297    0.7479  0.1460        0.4693          0.4028          0.3963   \n",
       "\n",
       "      Shell weight   Rings  Sex_F  Sex_I  Sex_M  \n",
       "3411        0.0982  0.2143    0.0    1.0    0.0  \n",
       "2601        0.3523  0.3214    1.0    0.0    0.0  "
      ]
     },
     "execution_count": 7,
     "metadata": {},
     "output_type": "execute_result"
    }
   ],
   "source": [
    "normalized_abalone = pandas.DataFrame(\n",
    "    MinMaxScaler().fit_transform(abalone).round(4),\n",
    "    columns = abalone.columns\n",
    ")\n",
    "\n",
    "normalized_abalone.sample(2)"
   ]
  },
  {
   "cell_type": "code",
   "execution_count": 9,
   "id": "50dd1ea0-017c-4b77-80a1-ea0e5e4dba87",
   "metadata": {},
   "outputs": [
    {
     "data": {
      "text/html": [
       "<div>\n",
       "<style scoped>\n",
       "    .dataframe tbody tr th:only-of-type {\n",
       "        vertical-align: middle;\n",
       "    }\n",
       "\n",
       "    .dataframe tbody tr th {\n",
       "        vertical-align: top;\n",
       "    }\n",
       "\n",
       "    .dataframe thead th {\n",
       "        text-align: right;\n",
       "    }\n",
       "</style>\n",
       "<table border=\"1\" class=\"dataframe\">\n",
       "  <thead>\n",
       "    <tr style=\"text-align: right;\">\n",
       "      <th></th>\n",
       "      <th>Length</th>\n",
       "      <th>Diameter</th>\n",
       "      <th>Height</th>\n",
       "      <th>Whole weight</th>\n",
       "      <th>Shucked weight</th>\n",
       "      <th>Viscera weight</th>\n",
       "      <th>Shell weight</th>\n",
       "      <th>Rings</th>\n",
       "      <th>Sex_F</th>\n",
       "      <th>Sex_I</th>\n",
       "      <th>Sex_M</th>\n",
       "    </tr>\n",
       "  </thead>\n",
       "  <tbody>\n",
       "    <tr>\n",
       "      <th>796</th>\n",
       "      <td>0.0500</td>\n",
       "      <td>0.0214</td>\n",
       "      <td>0.3702</td>\n",
       "      <td>-0.2310</td>\n",
       "      <td>-0.3554</td>\n",
       "      <td>-0.1103</td>\n",
       "      <td>-0.1784</td>\n",
       "      <td>0.3308</td>\n",
       "      <td>-0.6748</td>\n",
       "      <td>-0.688</td>\n",
       "      <td>1.3167</td>\n",
       "    </tr>\n",
       "    <tr>\n",
       "      <th>1739</th>\n",
       "      <td>1.2576</td>\n",
       "      <td>1.1803</td>\n",
       "      <td>0.4898</td>\n",
       "      <td>0.9275</td>\n",
       "      <td>0.9581</td>\n",
       "      <td>0.8659</td>\n",
       "      <td>0.8310</td>\n",
       "      <td>0.9512</td>\n",
       "      <td>-0.6748</td>\n",
       "      <td>-0.688</td>\n",
       "      <td>1.3167</td>\n",
       "    </tr>\n",
       "  </tbody>\n",
       "</table>\n",
       "</div>"
      ],
      "text/plain": [
       "      Length  Diameter  Height  Whole weight  Shucked weight  Viscera weight  \\\n",
       "796   0.0500    0.0214  0.3702       -0.2310         -0.3554         -0.1103   \n",
       "1739  1.2576    1.1803  0.4898        0.9275          0.9581          0.8659   \n",
       "\n",
       "      Shell weight   Rings   Sex_F  Sex_I   Sex_M  \n",
       "796        -0.1784  0.3308 -0.6748 -0.688  1.3167  \n",
       "1739        0.8310  0.9512 -0.6748 -0.688  1.3167  "
      ]
     },
     "execution_count": 9,
     "metadata": {},
     "output_type": "execute_result"
    }
   ],
   "source": [
    "standardized_abalone = pandas.DataFrame(\n",
    "    StandardScaler().fit_transform(abalone).round(4),\n",
    "    columns = abalone.columns\n",
    ")\n",
    "\n",
    "standardized_abalone.sample(2)"
   ]
  },
  {
   "cell_type": "code",
   "execution_count": 10,
   "id": "5045c32a-e9f1-4048-8ea8-0049a7f105c7",
   "metadata": {},
   "outputs": [],
   "source": [
    "from sklearn.model_selection import ShuffleSplit\n",
    "from sklearn.metrics import accuracy_score\n",
    "from sklearn.dummy import DummyClassifier\n",
    "\n",
    "from sklearn.model_selection import cross_validate\n"
   ]
  },
  {
   "cell_type": "markdown",
   "id": "1ce45d7b-ad3a-40f7-9fdc-e2da50627846",
   "metadata": {},
   "source": [
    "## Validators:\n",
    " "
   ]
  },
  {
   "cell_type": "code",
   "execution_count": null,
   "id": "b5c82417-c67d-4734-b465-ac10df0e11e8",
   "metadata": {},
   "outputs": [],
   "source": [
    "    \n",
    "kf = KFold(n_splits=50)\n",
    "\n",
    "ss = ShuffleSplit(n_splits=100, test_size=0.05)\n",
    "    "
   ]
  },
  {
   "cell_type": "markdown",
   "id": "7eee98d0-9c05-43f3-9eba-3ddd8e896cb4",
   "metadata": {},
   "source": [
    "## Dummy Classifier"
   ]
  },
  {
   "cell_type": "code",
   "execution_count": 11,
   "id": "e184c697-ac6d-4f87-8983-1219798896b2",
   "metadata": {},
   "outputs": [],
   "source": [
    "from sklearn.dummy import DummyClassifier\n",
    "\n",
    "\n",
    "dummy_clf = DummyClassifier(strategy=\"stratified\")\n",
    "\n",
    "#dummy_clf.fit(X_train, y_train)"
   ]
  },
  {
   "cell_type": "markdown",
   "id": "23512ad9-9db1-44bd-b106-e81ab4da703a",
   "metadata": {},
   "source": [
    "### Precision: \n",
    "- Precision measures the accuracy of the positive predictions made by the model.\n",
    "\n",
    "### Recall: \n",
    "- Recall measures the ability of the model to correctly identify all positive instances. "
   ]
  },
  {
   "cell_type": "code",
   "execution_count": 14,
   "id": "ad75843a-9c59-4afb-92cb-67ea656ec330",
   "metadata": {},
   "outputs": [
    {
     "data": {
      "text/plain": [
       "3"
      ]
     },
     "execution_count": 14,
     "metadata": {},
     "output_type": "execute_result"
    }
   ],
   "source": [
    "hello= 3\n",
    "\n",
    "hello"
   ]
  },
  {
   "cell_type": "code",
   "execution_count": null,
   "id": "b1640682-6916-4763-be38-2947d8721b5a",
   "metadata": {},
   "outputs": [],
   "source": []
  }
 ],
 "metadata": {
  "kernelspec": {
   "display_name": "Python 3 (ipykernel)",
   "language": "python",
   "name": "python3"
  },
  "language_info": {
   "codemirror_mode": {
    "name": "ipython",
    "version": 3
   },
   "file_extension": ".py",
   "mimetype": "text/x-python",
   "name": "python",
   "nbconvert_exporter": "python",
   "pygments_lexer": "ipython3",
   "version": "3.9.16"
  }
 },
 "nbformat": 4,
 "nbformat_minor": 5
}
