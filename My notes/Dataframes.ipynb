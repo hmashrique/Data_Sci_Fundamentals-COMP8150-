{
 "cells": [
  {
   "cell_type": "markdown",
   "id": "1d2b0dec-d13e-4f92-9f4a-15e48f310308",
   "metadata": {},
   "source": [
    "# Dataframes\n",
    "\n",
    "Topics:\n",
    "* Pandas\n",
    "* Dataframes and series\n",
    "* Selection: columns, rows by index versus by label, rows by conditions\n",
    "* Transformation: new columns, df.apply(row_processor, axis=1)\n"
   ]
  },
  {
   "cell_type": "markdown",
   "id": "2eb3b73e-a60a-44e7-a6a6-fdf5ca870a40",
   "metadata": {},
   "source": [
    "Pandas is a most popular Python library for data science.\n",
    "\n",
    "Pandas is similar to Excel.\n",
    "\n",
    "A dataframe is a data structure.  It is similar to an Excel sheet.  It has columns and rows.  Columns can have names.  Rows can also have names.\n",
    "\n",
    "In data science, we often deal with tabular data.  This is why pandas is very popular."
   ]
  },
  {
   "cell_type": "code",
   "execution_count": 1,
   "id": "ee004b23-845b-4eb8-ba7b-d5d4b871455f",
   "metadata": {},
   "outputs": [],
   "source": [
    "import pandas\n",
    "iris = pandas.read_csv('../Datasets/iris.csv')"
   ]
  },
  {
   "cell_type": "code",
   "execution_count": 2,
   "id": "29ed97f4-30c6-4df2-ab8c-b882b2bcf1eb",
   "metadata": {},
   "outputs": [
    {
     "data": {
      "text/html": [
       "<div>\n",
       "<style scoped>\n",
       "    .dataframe tbody tr th:only-of-type {\n",
       "        vertical-align: middle;\n",
       "    }\n",
       "\n",
       "    .dataframe tbody tr th {\n",
       "        vertical-align: top;\n",
       "    }\n",
       "\n",
       "    .dataframe thead th {\n",
       "        text-align: right;\n",
       "    }\n",
       "</style>\n",
       "<table border=\"1\" class=\"dataframe\">\n",
       "  <thead>\n",
       "    <tr style=\"text-align: right;\">\n",
       "      <th></th>\n",
       "      <th>SepalLength</th>\n",
       "      <th>SepalWidth</th>\n",
       "      <th>PetalLength</th>\n",
       "      <th>PetalWidth</th>\n",
       "      <th>Species</th>\n",
       "    </tr>\n",
       "  </thead>\n",
       "  <tbody>\n",
       "    <tr>\n",
       "      <th>82</th>\n",
       "      <td>5.8</td>\n",
       "      <td>2.7</td>\n",
       "      <td>3.9</td>\n",
       "      <td>1.2</td>\n",
       "      <td>versicolor</td>\n",
       "    </tr>\n",
       "    <tr>\n",
       "      <th>44</th>\n",
       "      <td>5.1</td>\n",
       "      <td>3.8</td>\n",
       "      <td>1.9</td>\n",
       "      <td>0.4</td>\n",
       "      <td>setosa</td>\n",
       "    </tr>\n",
       "    <tr>\n",
       "      <th>124</th>\n",
       "      <td>6.7</td>\n",
       "      <td>3.3</td>\n",
       "      <td>5.7</td>\n",
       "      <td>2.1</td>\n",
       "      <td>virginica</td>\n",
       "    </tr>\n",
       "    <tr>\n",
       "      <th>16</th>\n",
       "      <td>5.4</td>\n",
       "      <td>3.9</td>\n",
       "      <td>1.3</td>\n",
       "      <td>0.4</td>\n",
       "      <td>setosa</td>\n",
       "    </tr>\n",
       "    <tr>\n",
       "      <th>111</th>\n",
       "      <td>6.4</td>\n",
       "      <td>2.7</td>\n",
       "      <td>5.3</td>\n",
       "      <td>1.9</td>\n",
       "      <td>virginica</td>\n",
       "    </tr>\n",
       "    <tr>\n",
       "      <th>58</th>\n",
       "      <td>6.6</td>\n",
       "      <td>2.9</td>\n",
       "      <td>4.6</td>\n",
       "      <td>1.3</td>\n",
       "      <td>versicolor</td>\n",
       "    </tr>\n",
       "    <tr>\n",
       "      <th>67</th>\n",
       "      <td>5.8</td>\n",
       "      <td>2.7</td>\n",
       "      <td>4.1</td>\n",
       "      <td>1.0</td>\n",
       "      <td>versicolor</td>\n",
       "    </tr>\n",
       "    <tr>\n",
       "      <th>71</th>\n",
       "      <td>6.1</td>\n",
       "      <td>2.8</td>\n",
       "      <td>4.0</td>\n",
       "      <td>1.3</td>\n",
       "      <td>versicolor</td>\n",
       "    </tr>\n",
       "    <tr>\n",
       "      <th>3</th>\n",
       "      <td>4.6</td>\n",
       "      <td>3.1</td>\n",
       "      <td>1.5</td>\n",
       "      <td>0.2</td>\n",
       "      <td>setosa</td>\n",
       "    </tr>\n",
       "    <tr>\n",
       "      <th>81</th>\n",
       "      <td>5.5</td>\n",
       "      <td>2.4</td>\n",
       "      <td>3.7</td>\n",
       "      <td>1.0</td>\n",
       "      <td>versicolor</td>\n",
       "    </tr>\n",
       "  </tbody>\n",
       "</table>\n",
       "</div>"
      ],
      "text/plain": [
       "     SepalLength  SepalWidth  PetalLength  PetalWidth     Species\n",
       "82           5.8         2.7          3.9         1.2  versicolor\n",
       "44           5.1         3.8          1.9         0.4      setosa\n",
       "124          6.7         3.3          5.7         2.1   virginica\n",
       "16           5.4         3.9          1.3         0.4      setosa\n",
       "111          6.4         2.7          5.3         1.9   virginica\n",
       "58           6.6         2.9          4.6         1.3  versicolor\n",
       "67           5.8         2.7          4.1         1.0  versicolor\n",
       "71           6.1         2.8          4.0         1.3  versicolor\n",
       "3            4.6         3.1          1.5         0.2      setosa\n",
       "81           5.5         2.4          3.7         1.0  versicolor"
      ]
     },
     "execution_count": 2,
     "metadata": {},
     "output_type": "execute_result"
    }
   ],
   "source": [
    "iris.sample(10)  # random data points"
   ]
  },
  {
   "cell_type": "markdown",
   "id": "bf3477e3-40ef-4818-839c-70fdb7e9465f",
   "metadata": {},
   "source": [
    "### Questions "
   ]
  },
  {
   "cell_type": "markdown",
   "id": "06c546a4-67af-4a67-ac45-7f998ba4360b",
   "metadata": {},
   "source": [
    "Question: how many data points are there?"
   ]
  },
  {
   "cell_type": "code",
   "execution_count": 3,
   "id": "4aed23b6-111b-4320-a7bb-621ec93c29d9",
   "metadata": {},
   "outputs": [
    {
     "data": {
      "text/plain": [
       "150"
      ]
     },
     "execution_count": 3,
     "metadata": {},
     "output_type": "execute_result"
    }
   ],
   "source": [
    "len(iris)"
   ]
  },
  {
   "cell_type": "markdown",
   "id": "d8c9efbe-9549-4097-b461-d524708afe81",
   "metadata": {},
   "source": [
    "Question: how many species are there?\n",
    "\n",
    "+ view column Species\n",
    "+ count the unique columns or compute count of each column value."
   ]
  },
  {
   "cell_type": "code",
   "execution_count": 4,
   "id": "7cc6c1e9-451f-4779-80f4-82b8a369c26b",
   "metadata": {},
   "outputs": [
    {
     "data": {
      "text/plain": [
       "array(['setosa', 'versicolor', 'virginica'], dtype=object)"
      ]
     },
     "execution_count": 4,
     "metadata": {},
     "output_type": "execute_result"
    }
   ],
   "source": [
    "iris['Species'].unique()"
   ]
  },
  {
   "cell_type": "code",
   "execution_count": 5,
   "id": "b0c92fff-3aff-4813-b272-46d297d13dc6",
   "metadata": {},
   "outputs": [
    {
     "data": {
      "text/plain": [
       "setosa        50\n",
       "versicolor    50\n",
       "virginica     50\n",
       "Name: Species, dtype: int64"
      ]
     },
     "execution_count": 5,
     "metadata": {},
     "output_type": "execute_result"
    }
   ],
   "source": [
    "iris['Species'].value_counts()"
   ]
  },
  {
   "cell_type": "markdown",
   "id": "b4a6edf9-336f-424a-bec3-12daa23c6058",
   "metadata": {},
   "source": [
    "Question: average petal length/width?\n",
    "\n",
    "+ Select each column (a column is a \"Series\")\n",
    "+ Select two columns."
   ]
  },
  {
   "cell_type": "code",
   "execution_count": 6,
   "id": "72507fe6-65ab-4726-8d88-f9514a61477e",
   "metadata": {},
   "outputs": [
    {
     "data": {
      "text/plain": [
       "3.7580000000000005"
      ]
     },
     "execution_count": 6,
     "metadata": {},
     "output_type": "execute_result"
    }
   ],
   "source": [
    "iris['PetalLength'].mean()"
   ]
  },
  {
   "cell_type": "code",
   "execution_count": 7,
   "id": "96c8b786-2ddd-45bd-a499-4b6edc6f3f5a",
   "metadata": {},
   "outputs": [
    {
     "data": {
      "text/plain": [
       "PetalLength    3.758000\n",
       "PetalWidth     1.199333\n",
       "dtype: float64"
      ]
     },
     "execution_count": 7,
     "metadata": {},
     "output_type": "execute_result"
    }
   ],
   "source": [
    "iris[['PetalLength','PetalWidth']].mean()"
   ]
  },
  {
   "cell_type": "markdown",
   "id": "94c03be3-4b1d-4427-b531-dd27f0ab289e",
   "metadata": {},
   "source": [
    "What is the difference between these?\n",
    "+ `iris['PetalLength']`\n",
    "+  `iris[['PetalLength']]`"
   ]
  },
  {
   "cell_type": "code",
   "execution_count": 8,
   "id": "aeb37104-ccb3-4132-8ae6-3e720b7b0dd8",
   "metadata": {},
   "outputs": [
    {
     "data": {
      "text/html": [
       "<div>\n",
       "<style scoped>\n",
       "    .dataframe tbody tr th:only-of-type {\n",
       "        vertical-align: middle;\n",
       "    }\n",
       "\n",
       "    .dataframe tbody tr th {\n",
       "        vertical-align: top;\n",
       "    }\n",
       "\n",
       "    .dataframe thead th {\n",
       "        text-align: right;\n",
       "    }\n",
       "</style>\n",
       "<table border=\"1\" class=\"dataframe\">\n",
       "  <thead>\n",
       "    <tr style=\"text-align: right;\">\n",
       "      <th></th>\n",
       "      <th>PetalLength</th>\n",
       "    </tr>\n",
       "  </thead>\n",
       "  <tbody>\n",
       "    <tr>\n",
       "      <th>0</th>\n",
       "      <td>1.4</td>\n",
       "    </tr>\n",
       "    <tr>\n",
       "      <th>1</th>\n",
       "      <td>1.4</td>\n",
       "    </tr>\n",
       "    <tr>\n",
       "      <th>2</th>\n",
       "      <td>1.3</td>\n",
       "    </tr>\n",
       "    <tr>\n",
       "      <th>3</th>\n",
       "      <td>1.5</td>\n",
       "    </tr>\n",
       "    <tr>\n",
       "      <th>4</th>\n",
       "      <td>1.4</td>\n",
       "    </tr>\n",
       "    <tr>\n",
       "      <th>...</th>\n",
       "      <td>...</td>\n",
       "    </tr>\n",
       "    <tr>\n",
       "      <th>145</th>\n",
       "      <td>5.2</td>\n",
       "    </tr>\n",
       "    <tr>\n",
       "      <th>146</th>\n",
       "      <td>5.0</td>\n",
       "    </tr>\n",
       "    <tr>\n",
       "      <th>147</th>\n",
       "      <td>5.2</td>\n",
       "    </tr>\n",
       "    <tr>\n",
       "      <th>148</th>\n",
       "      <td>5.4</td>\n",
       "    </tr>\n",
       "    <tr>\n",
       "      <th>149</th>\n",
       "      <td>5.1</td>\n",
       "    </tr>\n",
       "  </tbody>\n",
       "</table>\n",
       "<p>150 rows × 1 columns</p>\n",
       "</div>"
      ],
      "text/plain": [
       "     PetalLength\n",
       "0            1.4\n",
       "1            1.4\n",
       "2            1.3\n",
       "3            1.5\n",
       "4            1.4\n",
       "..           ...\n",
       "145          5.2\n",
       "146          5.0\n",
       "147          5.2\n",
       "148          5.4\n",
       "149          5.1\n",
       "\n",
       "[150 rows x 1 columns]"
      ]
     },
     "execution_count": 8,
     "metadata": {},
     "output_type": "execute_result"
    }
   ],
   "source": [
    "iris[['PetalLength']]   # this is a dataframe"
   ]
  },
  {
   "cell_type": "code",
   "execution_count": 9,
   "id": "b45b2d7b-2262-41aa-8d92-ed185bbd11e7",
   "metadata": {},
   "outputs": [
    {
     "data": {
      "text/plain": [
       "0      1.4\n",
       "1      1.4\n",
       "2      1.3\n",
       "3      1.5\n",
       "4      1.4\n",
       "      ... \n",
       "145    5.2\n",
       "146    5.0\n",
       "147    5.2\n",
       "148    5.4\n",
       "149    5.1\n",
       "Name: PetalLength, Length: 150, dtype: float64"
      ]
     },
     "execution_count": 9,
     "metadata": {},
     "output_type": "execute_result"
    }
   ],
   "source": [
    "iris['PetalLength']   # this is a series"
   ]
  },
  {
   "cell_type": "markdown",
   "id": "9c40fdb0-45a1-4ac2-8316-b6f86d36f0d7",
   "metadata": {},
   "source": [
    "Question: What does the 10th data point look like?"
   ]
  },
  {
   "cell_type": "code",
   "execution_count": 10,
   "id": "112bc0b3-93c0-445c-9950-7abac7835b70",
   "metadata": {},
   "outputs": [
    {
     "data": {
      "text/plain": [
       "SepalLength       4.9\n",
       "SepalWidth        3.1\n",
       "PetalLength       1.5\n",
       "PetalWidth        0.1\n",
       "Species        setosa\n",
       "Name: 9, dtype: object"
      ]
     },
     "execution_count": 10,
     "metadata": {},
     "output_type": "execute_result"
    }
   ],
   "source": [
    "iris.iloc[9]"
   ]
  },
  {
   "cell_type": "code",
   "execution_count": 11,
   "id": "bea4d96e-847d-435e-9a51-a20588dc61c6",
   "metadata": {},
   "outputs": [
    {
     "data": {
      "text/plain": [
       "0.1"
      ]
     },
     "execution_count": 11,
     "metadata": {},
     "output_type": "execute_result"
    }
   ],
   "source": [
    "iris.iloc[9]['PetalWidth']"
   ]
  },
  {
   "cell_type": "code",
   "execution_count": 12,
   "id": "b7764787-ed92-4795-aa20-528b2d558d61",
   "metadata": {},
   "outputs": [
    {
     "data": {
      "text/html": [
       "<div>\n",
       "<style scoped>\n",
       "    .dataframe tbody tr th:only-of-type {\n",
       "        vertical-align: middle;\n",
       "    }\n",
       "\n",
       "    .dataframe tbody tr th {\n",
       "        vertical-align: top;\n",
       "    }\n",
       "\n",
       "    .dataframe thead th {\n",
       "        text-align: right;\n",
       "    }\n",
       "</style>\n",
       "<table border=\"1\" class=\"dataframe\">\n",
       "  <thead>\n",
       "    <tr style=\"text-align: right;\">\n",
       "      <th></th>\n",
       "      <th>SepalLength</th>\n",
       "      <th>SepalWidth</th>\n",
       "      <th>PetalLength</th>\n",
       "      <th>PetalWidth</th>\n",
       "      <th>Species</th>\n",
       "    </tr>\n",
       "  </thead>\n",
       "  <tbody>\n",
       "    <tr>\n",
       "      <th>21</th>\n",
       "      <td>5.1</td>\n",
       "      <td>3.7</td>\n",
       "      <td>1.5</td>\n",
       "      <td>0.4</td>\n",
       "      <td>setosa</td>\n",
       "    </tr>\n",
       "    <tr>\n",
       "      <th>116</th>\n",
       "      <td>6.5</td>\n",
       "      <td>3.0</td>\n",
       "      <td>5.5</td>\n",
       "      <td>1.8</td>\n",
       "      <td>virginica</td>\n",
       "    </tr>\n",
       "    <tr>\n",
       "      <th>144</th>\n",
       "      <td>6.7</td>\n",
       "      <td>3.3</td>\n",
       "      <td>5.7</td>\n",
       "      <td>2.5</td>\n",
       "      <td>virginica</td>\n",
       "    </tr>\n",
       "    <tr>\n",
       "      <th>43</th>\n",
       "      <td>5.0</td>\n",
       "      <td>3.5</td>\n",
       "      <td>1.6</td>\n",
       "      <td>0.6</td>\n",
       "      <td>setosa</td>\n",
       "    </tr>\n",
       "    <tr>\n",
       "      <th>126</th>\n",
       "      <td>6.2</td>\n",
       "      <td>2.8</td>\n",
       "      <td>4.8</td>\n",
       "      <td>1.8</td>\n",
       "      <td>virginica</td>\n",
       "    </tr>\n",
       "    <tr>\n",
       "      <th>131</th>\n",
       "      <td>7.9</td>\n",
       "      <td>3.8</td>\n",
       "      <td>6.4</td>\n",
       "      <td>2.0</td>\n",
       "      <td>virginica</td>\n",
       "    </tr>\n",
       "    <tr>\n",
       "      <th>44</th>\n",
       "      <td>5.1</td>\n",
       "      <td>3.8</td>\n",
       "      <td>1.9</td>\n",
       "      <td>0.4</td>\n",
       "      <td>setosa</td>\n",
       "    </tr>\n",
       "    <tr>\n",
       "      <th>76</th>\n",
       "      <td>6.8</td>\n",
       "      <td>2.8</td>\n",
       "      <td>4.8</td>\n",
       "      <td>1.4</td>\n",
       "      <td>versicolor</td>\n",
       "    </tr>\n",
       "    <tr>\n",
       "      <th>113</th>\n",
       "      <td>5.7</td>\n",
       "      <td>2.5</td>\n",
       "      <td>5.0</td>\n",
       "      <td>2.0</td>\n",
       "      <td>virginica</td>\n",
       "    </tr>\n",
       "    <tr>\n",
       "      <th>96</th>\n",
       "      <td>5.7</td>\n",
       "      <td>2.9</td>\n",
       "      <td>4.2</td>\n",
       "      <td>1.3</td>\n",
       "      <td>versicolor</td>\n",
       "    </tr>\n",
       "    <tr>\n",
       "      <th>84</th>\n",
       "      <td>5.4</td>\n",
       "      <td>3.0</td>\n",
       "      <td>4.5</td>\n",
       "      <td>1.5</td>\n",
       "      <td>versicolor</td>\n",
       "    </tr>\n",
       "    <tr>\n",
       "      <th>69</th>\n",
       "      <td>5.6</td>\n",
       "      <td>2.5</td>\n",
       "      <td>3.9</td>\n",
       "      <td>1.1</td>\n",
       "      <td>versicolor</td>\n",
       "    </tr>\n",
       "    <tr>\n",
       "      <th>88</th>\n",
       "      <td>5.6</td>\n",
       "      <td>3.0</td>\n",
       "      <td>4.1</td>\n",
       "      <td>1.3</td>\n",
       "      <td>versicolor</td>\n",
       "    </tr>\n",
       "    <tr>\n",
       "      <th>79</th>\n",
       "      <td>5.7</td>\n",
       "      <td>2.6</td>\n",
       "      <td>3.5</td>\n",
       "      <td>1.0</td>\n",
       "      <td>versicolor</td>\n",
       "    </tr>\n",
       "    <tr>\n",
       "      <th>31</th>\n",
       "      <td>5.4</td>\n",
       "      <td>3.4</td>\n",
       "      <td>1.5</td>\n",
       "      <td>0.4</td>\n",
       "      <td>setosa</td>\n",
       "    </tr>\n",
       "    <tr>\n",
       "      <th>108</th>\n",
       "      <td>6.7</td>\n",
       "      <td>2.5</td>\n",
       "      <td>5.8</td>\n",
       "      <td>1.8</td>\n",
       "      <td>virginica</td>\n",
       "    </tr>\n",
       "    <tr>\n",
       "      <th>6</th>\n",
       "      <td>4.6</td>\n",
       "      <td>3.4</td>\n",
       "      <td>1.4</td>\n",
       "      <td>0.3</td>\n",
       "      <td>setosa</td>\n",
       "    </tr>\n",
       "    <tr>\n",
       "      <th>52</th>\n",
       "      <td>6.9</td>\n",
       "      <td>3.1</td>\n",
       "      <td>4.9</td>\n",
       "      <td>1.5</td>\n",
       "      <td>versicolor</td>\n",
       "    </tr>\n",
       "    <tr>\n",
       "      <th>34</th>\n",
       "      <td>4.9</td>\n",
       "      <td>3.1</td>\n",
       "      <td>1.5</td>\n",
       "      <td>0.2</td>\n",
       "      <td>setosa</td>\n",
       "    </tr>\n",
       "    <tr>\n",
       "      <th>73</th>\n",
       "      <td>6.1</td>\n",
       "      <td>2.8</td>\n",
       "      <td>4.7</td>\n",
       "      <td>1.2</td>\n",
       "      <td>versicolor</td>\n",
       "    </tr>\n",
       "    <tr>\n",
       "      <th>65</th>\n",
       "      <td>6.7</td>\n",
       "      <td>3.1</td>\n",
       "      <td>4.4</td>\n",
       "      <td>1.4</td>\n",
       "      <td>versicolor</td>\n",
       "    </tr>\n",
       "    <tr>\n",
       "      <th>55</th>\n",
       "      <td>5.7</td>\n",
       "      <td>2.8</td>\n",
       "      <td>4.5</td>\n",
       "      <td>1.3</td>\n",
       "      <td>versicolor</td>\n",
       "    </tr>\n",
       "    <tr>\n",
       "      <th>58</th>\n",
       "      <td>6.6</td>\n",
       "      <td>2.9</td>\n",
       "      <td>4.6</td>\n",
       "      <td>1.3</td>\n",
       "      <td>versicolor</td>\n",
       "    </tr>\n",
       "    <tr>\n",
       "      <th>51</th>\n",
       "      <td>6.4</td>\n",
       "      <td>3.2</td>\n",
       "      <td>4.5</td>\n",
       "      <td>1.5</td>\n",
       "      <td>versicolor</td>\n",
       "    </tr>\n",
       "    <tr>\n",
       "      <th>48</th>\n",
       "      <td>5.3</td>\n",
       "      <td>3.7</td>\n",
       "      <td>1.5</td>\n",
       "      <td>0.2</td>\n",
       "      <td>setosa</td>\n",
       "    </tr>\n",
       "  </tbody>\n",
       "</table>\n",
       "</div>"
      ],
      "text/plain": [
       "     SepalLength  SepalWidth  PetalLength  PetalWidth     Species\n",
       "21           5.1         3.7          1.5         0.4      setosa\n",
       "116          6.5         3.0          5.5         1.8   virginica\n",
       "144          6.7         3.3          5.7         2.5   virginica\n",
       "43           5.0         3.5          1.6         0.6      setosa\n",
       "126          6.2         2.8          4.8         1.8   virginica\n",
       "131          7.9         3.8          6.4         2.0   virginica\n",
       "44           5.1         3.8          1.9         0.4      setosa\n",
       "76           6.8         2.8          4.8         1.4  versicolor\n",
       "113          5.7         2.5          5.0         2.0   virginica\n",
       "96           5.7         2.9          4.2         1.3  versicolor\n",
       "84           5.4         3.0          4.5         1.5  versicolor\n",
       "69           5.6         2.5          3.9         1.1  versicolor\n",
       "88           5.6         3.0          4.1         1.3  versicolor\n",
       "79           5.7         2.6          3.5         1.0  versicolor\n",
       "31           5.4         3.4          1.5         0.4      setosa\n",
       "108          6.7         2.5          5.8         1.8   virginica\n",
       "6            4.6         3.4          1.4         0.3      setosa\n",
       "52           6.9         3.1          4.9         1.5  versicolor\n",
       "34           4.9         3.1          1.5         0.2      setosa\n",
       "73           6.1         2.8          4.7         1.2  versicolor\n",
       "65           6.7         3.1          4.4         1.4  versicolor\n",
       "55           5.7         2.8          4.5         1.3  versicolor\n",
       "58           6.6         2.9          4.6         1.3  versicolor\n",
       "51           6.4         3.2          4.5         1.5  versicolor\n",
       "48           5.3         3.7          1.5         0.2      setosa"
      ]
     },
     "execution_count": 12,
     "metadata": {},
     "output_type": "execute_result"
    }
   ],
   "source": [
    "samples = iris.sample(25)\n",
    "samples"
   ]
  },
  {
   "cell_type": "markdown",
   "id": "0adcc4a7-378c-472c-8171-96636256a850",
   "metadata": {},
   "source": [
    "* iloc selects the ith item.\n",
    "* loc select the item with a specific label."
   ]
  },
  {
   "cell_type": "code",
   "execution_count": 13,
   "id": "a835ecec-b652-4e45-867d-1aed6c7b6d78",
   "metadata": {},
   "outputs": [
    {
     "data": {
      "text/plain": [
       "SepalLength          7.9\n",
       "SepalWidth           3.8\n",
       "PetalLength          6.4\n",
       "PetalWidth           2.0\n",
       "Species        virginica\n",
       "Name: 131, dtype: object"
      ]
     },
     "execution_count": 13,
     "metadata": {},
     "output_type": "execute_result"
    }
   ],
   "source": [
    "samples.iloc[5]  # the 6th item"
   ]
  },
  {
   "cell_type": "code",
   "execution_count": 15,
   "id": "67fb4c5f-9d05-4ac4-bccd-21d66a0a3004",
   "metadata": {},
   "outputs": [
    {
     "data": {
      "text/plain": [
       "SepalLength           6.4\n",
       "SepalWidth            3.2\n",
       "PetalLength           4.5\n",
       "PetalWidth            1.5\n",
       "Species        versicolor\n",
       "Name: 51, dtype: object"
      ]
     },
     "execution_count": 15,
     "metadata": {},
     "output_type": "execute_result"
    }
   ],
   "source": [
    "samples.loc[51] # item of index 51"
   ]
  },
  {
   "cell_type": "code",
   "execution_count": null,
   "id": "7ea709dc-cf36-4932-9314-2f24dd6cf268",
   "metadata": {},
   "outputs": [],
   "source": [
    "# select items with labels 29, 128, 51\n",
    "samples.loc[[29,128,51]]"
   ]
  },
  {
   "cell_type": "markdown",
   "id": "8e1e28ec-0619-4cd9-bc57-0b0f8921aa83",
   "metadata": {},
   "source": [
    "Question: What is the largest species, in terms sepal width?\n",
    "\n",
    "We can:\n",
    "+ separate the data into the species and calculate sepal widths for the species.\n",
    "+ select each species data, and calculate the sepal widths.\n",
    "\n",
    "At this point, we know how to select using indexes (`iloc`) or labels (`loc`).\n",
    "\n",
    "We will learn how to select data with \"queries\"."
   ]
  },
  {
   "cell_type": "code",
   "execution_count": null,
   "id": "ef501123-1c8d-4e6f-9b74-49f9bfe4a010",
   "metadata": {},
   "outputs": [],
   "source": [
    "setosas = iris[(iris['Species'] == 'setosa')]\n",
    "versicolor = iris[(iris['Species'] == 'versicolor')]\n",
    "virginica = iris[(iris['Species'] == 'virginica')]\n"
   ]
  },
  {
   "cell_type": "code",
   "execution_count": null,
   "id": "48860658-365b-4b9d-baa3-73417ad352a9",
   "metadata": {},
   "outputs": [],
   "source": [
    "setosas['PetalLength'].mean(), versicolor['PetalLength'].mean(), virginica['PetalLength'].mean()"
   ]
  },
  {
   "cell_type": "code",
   "execution_count": null,
   "id": "e15f9c8c-643f-4042-863d-273a746d469f",
   "metadata": {},
   "outputs": [],
   "source": [
    "iris['Species'].unique()"
   ]
  },
  {
   "cell_type": "markdown",
   "id": "6613c8e7-4ca1-4ad3-999b-66e2cec9b046",
   "metadata": {},
   "source": [
    "\"groupby\":\n",
    "1. We group the data based on a feature/column/variable, and then\n",
    "2. We aggregate the data in each group in some way.\n"
   ]
  },
  {
   "cell_type": "code",
   "execution_count": null,
   "id": "57dc6ef3-fd79-46ab-b68d-f50a53647836",
   "metadata": {},
   "outputs": [],
   "source": [
    "iris.groupby('Species').mean()"
   ]
  },
  {
   "cell_type": "markdown",
   "id": "fefd5be0-859c-47d3-a6d5-84cb131c8a45",
   "metadata": {},
   "source": [
    "We have two new techniques:\n",
    "+ Constructing a query\n",
    "+ Grouping data and aggregating data"
   ]
  },
  {
   "cell_type": "markdown",
   "id": "8da48792-95f4-43e8-84ec-80dcec2acf3a",
   "metadata": {},
   "source": [
    "**Exercise 1**"
   ]
  },
  {
   "cell_type": "code",
   "execution_count": null,
   "id": "413d7070-380b-45b0-a3ad-a437040511cf",
   "metadata": {},
   "outputs": [],
   "source": [
    "#PID:2\n",
    "# Load the \"tips\" dataset into a Pandas Data Frame. \n",
    "# Select the 'total_bill' and 'tip' columns using bracket notation. \n",
    "# Then, select the first 10 rows of the dataset using the .iloc method"
   ]
  },
  {
   "cell_type": "markdown",
   "id": "764e5962-1337-4978-8427-3d27ba55f8c2",
   "metadata": {},
   "source": [
    "Question:"
   ]
  },
  {
   "cell_type": "code",
   "execution_count": null,
   "id": "a2c5048b-6f99-44e9-9379-da3577b5f65d",
   "metadata": {},
   "outputs": [],
   "source": [
    "iris.groupby('Species').agg(['mean','std']).round(1)"
   ]
  },
  {
   "cell_type": "code",
   "execution_count": null,
   "id": "2ed2cf48-9976-4b4a-8c2e-91afa5d5a66f",
   "metadata": {},
   "outputs": [],
   "source": [
    "iris.sample(5)"
   ]
  },
  {
   "cell_type": "markdown",
   "id": "534b6a66-b5ee-4577-8131-be25f1538612",
   "metadata": {},
   "source": [
    "Question: which features distinguish the species?"
   ]
  },
  {
   "cell_type": "markdown",
   "id": "0cddfa25-7195-4e9d-889b-f71294217957",
   "metadata": {},
   "source": [
    "### Visualizations"
   ]
  },
  {
   "cell_type": "code",
   "execution_count": 7,
   "id": "2a27a79a-c761-4284-ae96-feadaee92f2a",
   "metadata": {},
   "outputs": [
    {
     "data": {
      "text/html": [
       "<div>\n",
       "<style scoped>\n",
       "    .dataframe tbody tr th:only-of-type {\n",
       "        vertical-align: middle;\n",
       "    }\n",
       "\n",
       "    .dataframe tbody tr th {\n",
       "        vertical-align: top;\n",
       "    }\n",
       "\n",
       "    .dataframe thead th {\n",
       "        text-align: right;\n",
       "    }\n",
       "</style>\n",
       "<table border=\"1\" class=\"dataframe\">\n",
       "  <thead>\n",
       "    <tr style=\"text-align: right;\">\n",
       "      <th></th>\n",
       "      <th>SepalLength</th>\n",
       "      <th>SepalWidth</th>\n",
       "      <th>PetalLength</th>\n",
       "      <th>PetalWidth</th>\n",
       "      <th>Species</th>\n",
       "    </tr>\n",
       "  </thead>\n",
       "  <tbody>\n",
       "    <tr>\n",
       "      <th>33</th>\n",
       "      <td>5.5</td>\n",
       "      <td>4.2</td>\n",
       "      <td>1.4</td>\n",
       "      <td>0.2</td>\n",
       "      <td>setosa</td>\n",
       "    </tr>\n",
       "    <tr>\n",
       "      <th>131</th>\n",
       "      <td>7.9</td>\n",
       "      <td>3.8</td>\n",
       "      <td>6.4</td>\n",
       "      <td>2.0</td>\n",
       "      <td>virginica</td>\n",
       "    </tr>\n",
       "    <tr>\n",
       "      <th>99</th>\n",
       "      <td>5.7</td>\n",
       "      <td>2.8</td>\n",
       "      <td>4.1</td>\n",
       "      <td>1.3</td>\n",
       "      <td>versicolor</td>\n",
       "    </tr>\n",
       "  </tbody>\n",
       "</table>\n",
       "</div>"
      ],
      "text/plain": [
       "     SepalLength  SepalWidth  PetalLength  PetalWidth     Species\n",
       "33           5.5         4.2          1.4         0.2      setosa\n",
       "131          7.9         3.8          6.4         2.0   virginica\n",
       "99           5.7         2.8          4.1         1.3  versicolor"
      ]
     },
     "execution_count": 7,
     "metadata": {},
     "output_type": "execute_result"
    }
   ],
   "source": [
    "import pandas\n",
    "import seaborn\n",
    "iris = pandas.read_csv('../Datasets/iris.csv')\n",
    "\n",
    "iris.sample(3)"
   ]
  },
  {
   "cell_type": "code",
   "execution_count": 11,
   "id": "ca84a2b8-d82c-4ab9-a435-a02b02892aca",
   "metadata": {},
   "outputs": [
    {
     "data": {
      "text/plain": [
       "<seaborn.axisgrid.FacetGrid at 0x13f57ae80>"
      ]
     },
     "execution_count": 11,
     "metadata": {},
     "output_type": "execute_result"
    }
   ],
   "source": [
    "seaborn.catplot(data=iris,x='Species',y='SepalLength', kind='box', height=3)"
   ]
  },
  {
   "cell_type": "code",
   "execution_count": null,
   "id": "886ed4e6-c0c2-4d23-bb04-c60bed94240d",
   "metadata": {},
   "outputs": [],
   "source": []
  }
 ],
 "metadata": {
  "kernelspec": {
   "display_name": "Python 3 (ipykernel)",
   "language": "python",
   "name": "python3"
  },
  "language_info": {
   "codemirror_mode": {
    "name": "ipython",
    "version": 3
   },
   "file_extension": ".py",
   "mimetype": "text/x-python",
   "name": "python",
   "nbconvert_exporter": "python",
   "pygments_lexer": "ipython3",
   "version": "3.9.16"
  }
 },
 "nbformat": 4,
 "nbformat_minor": 5
}
