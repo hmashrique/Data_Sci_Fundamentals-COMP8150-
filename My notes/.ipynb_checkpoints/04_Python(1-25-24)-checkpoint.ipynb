{
 "cells": [
  {
   "cell_type": "markdown",
   "id": "2be1bf28-b638-46a2-9dcd-cbf3505f5401",
   "metadata": {},
   "source": [
    "# Python"
   ]
  },
  {
   "cell_type": "markdown",
   "id": "d8b02bec-ec22-4b42-a118-4c4200863f08",
   "metadata": {},
   "source": [
    "To do:\n",
    "+ VPN: https://www.memphis.edu/umtech/solutions/vpn.php\n",
    "+ In-class exercises on JupyterHub: https://memphis.instructure.com/courses/114948/discussion_topics/504053\n",
    "+ Python exercises: http://141.225.10.176/hub/login\n",
    "\n",
    "\n",
    "Learning goals:\n",
    "+ Understand basic Python concepts: Blocks, lack of semicolons and curly brackets, etc.\n",
    "+ How to use basic data structures: list, tuple, set, dictionary.\n",
    "+ How to use control structures: iterative and conditional.\n",
    "+ How to define and invoke functions.\n",
    "\n",
    "---"
   ]
  },
  {
   "cell_type": "code",
   "execution_count": 5,
   "id": "0ea06ec2-852c-4182-84b8-59107e78ffda",
   "metadata": {},
   "outputs": [
    {
     "name": "stdout",
     "output_type": "stream",
     "text": [
      "SepalLength,SepalWidth,PetalLength,PetalWidth,Species\n",
      "\n"
     ]
    }
   ],
   "source": [
    "with open('../Datasets/iris.csv') as fp:\n",
    "    line = fp.readline()\n",
    "    print(line)"
   ]
  },
  {
   "cell_type": "code",
   "execution_count": null,
   "id": "48039040-e025-4825-bcb4-190ccd725edd",
   "metadata": {},
   "outputs": [],
   "source": []
  }
 ],
 "metadata": {
  "kernelspec": {
   "display_name": "Python 3 (ipykernel)",
   "language": "python",
   "name": "python3"
  },
  "language_info": {
   "codemirror_mode": {
    "name": "ipython",
    "version": 3
   },
   "file_extension": ".py",
   "mimetype": "text/x-python",
   "name": "python",
   "nbconvert_exporter": "python",
   "pygments_lexer": "ipython3",
   "version": "3.9.13"
  }
 },
 "nbformat": 4,
 "nbformat_minor": 5
}
