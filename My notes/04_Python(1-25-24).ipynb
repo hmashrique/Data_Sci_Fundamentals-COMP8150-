{
 "cells": [
  {
   "cell_type": "markdown",
   "id": "2be1bf28-b638-46a2-9dcd-cbf3505f5401",
   "metadata": {},
   "source": [
    "# Python"
   ]
  },
  {
   "cell_type": "markdown",
   "id": "d8b02bec-ec22-4b42-a118-4c4200863f08",
   "metadata": {},
   "source": [
    "To do:\n",
    "+ VPN: https://www.memphis.edu/umtech/solutions/vpn.php\n",
    "+ In-class exercises on JupyterHub: https://memphis.instructure.com/courses/114948/discussion_topics/504053\n",
    "+ Python exercises: http://141.225.10.176/hub/login\n",
    "\n",
    "\n",
    "Learning goals:\n",
    "+ Understand basic Python concepts: Blocks, lack of semicolons and curly brackets, etc.\n",
    "+ How to use basic data structures: list, tuple, set, dictionary.\n",
    "+ How to use control structures: iterative and conditional.\n",
    "+ How to define and invoke functions.\n",
    "\n",
    "---"
   ]
  },
  {
   "cell_type": "markdown",
   "id": "a541f0c2-080c-40d7-8366-dff8092e0f20",
   "metadata": {},
   "source": [
    "#### reading line by line of the data file:"
   ]
  },
  {
   "cell_type": "code",
   "execution_count": 2,
   "id": "0ea06ec2-852c-4182-84b8-59107e78ffda",
   "metadata": {},
   "outputs": [
    {
     "name": "stdout",
     "output_type": "stream",
     "text": [
      "SepalLength,SepalWidth,PetalLength,PetalWidth,Species\n",
      "\n",
      "5.1,3.5,1.4,0.2,setosa\n",
      "\n"
     ]
    }
   ],
   "source": [
    "with open('../Datasets/iris.csv') as fp:\n",
    "    line = fp.readline()\n",
    "    print(line)\n",
    "    line = fp.readline()\n",
    "    print(line)"
   ]
  },
  {
   "cell_type": "code",
   "execution_count": 14,
   "id": "48039040-e025-4825-bcb4-190ccd725edd",
   "metadata": {},
   "outputs": [
    {
     "name": "stdout",
     "output_type": "stream",
     "text": [
      "['5.1,3.5,1.4,0.2,setosa', '4.9,3,1.4,0.2,setosa', '4.7,3.2,1.3,0.2,setosa', '4.6,3.1,1.5,0.2,setosa', '5,3.6,1.4,0.2,setosa']\n"
     ]
    }
   ],
   "source": [
    "with open('../Datasets/iris.csv') as f:\n",
    "    data=f.readlines()\n",
    "    #print(data)\n",
    "headers=data.pop(0).strip(\"\\n\")\n",
    "#print(headers)\n",
    "newdata=[]    \n",
    "for item in data:\n",
    "    temp=item.strip(\"\\n\")\n",
    "    newdata.append(temp)\n",
    "print(newdata[0:5])    "
   ]
  },
  {
   "cell_type": "code",
   "execution_count": 16,
   "id": "c696f195-9b8d-42ce-b6e3-c3d7e5c32219",
   "metadata": {},
   "outputs": [
    {
     "name": "stdout",
     "output_type": "stream",
     "text": [
      "{'\"Sun\"': 1627.1600000000003, '\"Sat\"': 1778.3999999999996, '\"Thur\"': 1096.3299999999997, '\"Fri\"': 325.87999999999994}\n"
     ]
    }
   ],
   "source": [
    "with open('../Datasets/tips.csv') as fp:\n",
    "    tipsdata= fp.readline().strip()\n",
    "    header=tipsdata\n",
    "    #print(header)\n",
    "    #print(tipsdata)\n",
    "    count=0\n",
    "    days={}\n",
    "    while tipsdata != \"\":\n",
    "        tipsdata= fp.readline().strip()\n",
    "        if tipsdata != \"\":\n",
    "            row= tipsdata.split(\",\")\n",
    "            row[0]= float(row[0])\n",
    "            row[1]= float(row[1])\n",
    "            row[-1]= int(row[-1])\n",
    "            count+=1\n",
    "            if row[4] not in days:\n",
    "                days[row[4]]= row[0]\n",
    "            else:\n",
    "                days[row[4]]+=row[0]\n",
    "            #print(row)\n",
    "print(days)       \n",
    "        "
   ]
  },
  {
   "cell_type": "markdown",
   "id": "00816a2b-5dc3-4404-8271-43a4555d0750",
   "metadata": {},
   "source": [
    "### THINK ABOUT THE RIGHT QUESTIONS\n",
    "- How do the features affect the bill amount?\n",
    "- What is the average toal bill for each day of the week?\n"
   ]
  },
  {
   "cell_type": "code",
   "execution_count": 20,
   "id": "882bc77c-5ead-43f1-8dce-f5aeb7778ba7",
   "metadata": {},
   "outputs": [
    {
     "data": {
      "text/html": [
       "<div>\n",
       "<style scoped>\n",
       "    .dataframe tbody tr th:only-of-type {\n",
       "        vertical-align: middle;\n",
       "    }\n",
       "\n",
       "    .dataframe tbody tr th {\n",
       "        vertical-align: top;\n",
       "    }\n",
       "\n",
       "    .dataframe thead th {\n",
       "        text-align: right;\n",
       "    }\n",
       "</style>\n",
       "<table border=\"1\" class=\"dataframe\">\n",
       "  <thead>\n",
       "    <tr style=\"text-align: right;\">\n",
       "      <th></th>\n",
       "      <th>SepalLength</th>\n",
       "      <th>SepalWidth</th>\n",
       "      <th>PetalLength</th>\n",
       "      <th>PetalWidth</th>\n",
       "      <th>Species</th>\n",
       "    </tr>\n",
       "  </thead>\n",
       "  <tbody>\n",
       "    <tr>\n",
       "      <th>95</th>\n",
       "      <td>5.7</td>\n",
       "      <td>3.0</td>\n",
       "      <td>4.2</td>\n",
       "      <td>1.2</td>\n",
       "      <td>versicolor</td>\n",
       "    </tr>\n",
       "    <tr>\n",
       "      <th>116</th>\n",
       "      <td>6.5</td>\n",
       "      <td>3.0</td>\n",
       "      <td>5.5</td>\n",
       "      <td>1.8</td>\n",
       "      <td>virginica</td>\n",
       "    </tr>\n",
       "    <tr>\n",
       "      <th>127</th>\n",
       "      <td>6.1</td>\n",
       "      <td>3.0</td>\n",
       "      <td>4.9</td>\n",
       "      <td>1.8</td>\n",
       "      <td>virginica</td>\n",
       "    </tr>\n",
       "  </tbody>\n",
       "</table>\n",
       "</div>"
      ],
      "text/plain": [
       "     SepalLength  SepalWidth  PetalLength  PetalWidth     Species\n",
       "95           5.7         3.0          4.2         1.2  versicolor\n",
       "116          6.5         3.0          5.5         1.8   virginica\n",
       "127          6.1         3.0          4.9         1.8   virginica"
      ]
     },
     "execution_count": 20,
     "metadata": {},
     "output_type": "execute_result"
    }
   ],
   "source": [
    "import pandas as pd \n",
    "\n",
    "iris= pd.read_csv(\"../Datasets/iris.csv\")\n",
    "iris.sample(3)"
   ]
  },
  {
   "cell_type": "code",
   "execution_count": 21,
   "id": "bb67e6f4-73f2-4818-aa82-8121db6ca8d3",
   "metadata": {},
   "outputs": [
    {
     "data": {
      "text/plain": [
       "150"
      ]
     },
     "execution_count": 21,
     "metadata": {},
     "output_type": "execute_result"
    }
   ],
   "source": [
    "len(iris)"
   ]
  },
  {
   "cell_type": "markdown",
   "id": "37c51471-dbbd-406a-b08f-785fed906e72",
   "metadata": {},
   "source": [
    "### how many species are there and their data points?\n"
   ]
  },
  {
   "cell_type": "code",
   "execution_count": 22,
   "id": "b19fcd9e-4df3-47ef-8ce6-af7f8ce6e4a1",
   "metadata": {},
   "outputs": [
    {
     "data": {
      "text/plain": [
       "setosa        50\n",
       "versicolor    50\n",
       "virginica     50\n",
       "Name: Species, dtype: int64"
      ]
     },
     "execution_count": 22,
     "metadata": {},
     "output_type": "execute_result"
    }
   ],
   "source": [
    "iris['Species'].value_counts()"
   ]
  },
  {
   "cell_type": "code",
   "execution_count": 24,
   "id": "6d903c09-6fb1-45c8-9b0c-88631d07e86d",
   "metadata": {},
   "outputs": [
    {
     "data": {
      "text/plain": [
       "0         setosa\n",
       "1         setosa\n",
       "2         setosa\n",
       "3         setosa\n",
       "4         setosa\n",
       "         ...    \n",
       "145    virginica\n",
       "146    virginica\n",
       "147    virginica\n",
       "148    virginica\n",
       "149    virginica\n",
       "Name: Species, Length: 150, dtype: object"
      ]
     },
     "execution_count": 24,
     "metadata": {},
     "output_type": "execute_result"
    }
   ],
   "source": [
    "iris['Species']"
   ]
  },
  {
   "cell_type": "code",
   "execution_count": null,
   "id": "968c2054-fbf0-4d6e-a3a7-b2fd0d1f1004",
   "metadata": {},
   "outputs": [],
   "source": []
  }
 ],
 "metadata": {
  "kernelspec": {
   "display_name": "Python 3 (ipykernel)",
   "language": "python",
   "name": "python3"
  },
  "language_info": {
   "codemirror_mode": {
    "name": "ipython",
    "version": 3
   },
   "file_extension": ".py",
   "mimetype": "text/x-python",
   "name": "python",
   "nbconvert_exporter": "python",
   "pygments_lexer": "ipython3",
   "version": "3.9.16"
  }
 },
 "nbformat": 4,
 "nbformat_minor": 5
}
