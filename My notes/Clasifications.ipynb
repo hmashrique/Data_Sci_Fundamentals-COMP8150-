{
 "cells": [
  {
   "cell_type": "markdown",
   "id": "74df667a-ded3-47df-ab21-052dee8b8610",
   "metadata": {},
   "source": [
    "## Classifications"
   ]
  },
  {
   "cell_type": "markdown",
   "id": "9055b3c1-f3e6-42cc-9dd0-a27c543f82cc",
   "metadata": {},
   "source": [
    "Three main ML problems:\n",
    "- Clustering\n",
    "- Regression\n",
    "- Classifications\n",
    "\n",
    "*Supervised learning:* Regression and Classification\n",
    "\n",
    "*Unsupervised learning:* Clustering"
   ]
  },
  {
   "cell_type": "code",
   "execution_count": 5,
   "id": "635ebae3-6ac6-4181-897d-0fa13d022868",
   "metadata": {},
   "outputs": [
    {
     "data": {
      "text/html": [
       "<div>\n",
       "<style scoped>\n",
       "    .dataframe tbody tr th:only-of-type {\n",
       "        vertical-align: middle;\n",
       "    }\n",
       "\n",
       "    .dataframe tbody tr th {\n",
       "        vertical-align: top;\n",
       "    }\n",
       "\n",
       "    .dataframe thead th {\n",
       "        text-align: right;\n",
       "    }\n",
       "</style>\n",
       "<table border=\"1\" class=\"dataframe\">\n",
       "  <thead>\n",
       "    <tr style=\"text-align: right;\">\n",
       "      <th></th>\n",
       "      <th>Pregnancies</th>\n",
       "      <th>Glucose</th>\n",
       "      <th>BloodPressure</th>\n",
       "      <th>SkinThickness</th>\n",
       "      <th>Insulin</th>\n",
       "      <th>BMI</th>\n",
       "      <th>DiabetesPedigreeFunction</th>\n",
       "      <th>Age</th>\n",
       "      <th>Outcome</th>\n",
       "    </tr>\n",
       "  </thead>\n",
       "  <tbody>\n",
       "    <tr>\n",
       "      <th>68</th>\n",
       "      <td>1</td>\n",
       "      <td>95</td>\n",
       "      <td>66</td>\n",
       "      <td>13</td>\n",
       "      <td>38</td>\n",
       "      <td>19.6</td>\n",
       "      <td>0.334</td>\n",
       "      <td>25</td>\n",
       "      <td>0</td>\n",
       "    </tr>\n",
       "    <tr>\n",
       "      <th>322</th>\n",
       "      <td>0</td>\n",
       "      <td>124</td>\n",
       "      <td>70</td>\n",
       "      <td>20</td>\n",
       "      <td>0</td>\n",
       "      <td>27.4</td>\n",
       "      <td>0.254</td>\n",
       "      <td>36</td>\n",
       "      <td>1</td>\n",
       "    </tr>\n",
       "    <tr>\n",
       "      <th>663</th>\n",
       "      <td>9</td>\n",
       "      <td>145</td>\n",
       "      <td>80</td>\n",
       "      <td>46</td>\n",
       "      <td>130</td>\n",
       "      <td>37.9</td>\n",
       "      <td>0.637</td>\n",
       "      <td>40</td>\n",
       "      <td>1</td>\n",
       "    </tr>\n",
       "  </tbody>\n",
       "</table>\n",
       "</div>"
      ],
      "text/plain": [
       "     Pregnancies  Glucose  BloodPressure  SkinThickness  Insulin   BMI  \\\n",
       "68             1       95             66             13       38  19.6   \n",
       "322            0      124             70             20        0  27.4   \n",
       "663            9      145             80             46      130  37.9   \n",
       "\n",
       "     DiabetesPedigreeFunction  Age  Outcome  \n",
       "68                      0.334   25        0  \n",
       "322                     0.254   36        1  \n",
       "663                     0.637   40        1  "
      ]
     },
     "execution_count": 5,
     "metadata": {},
     "output_type": "execute_result"
    }
   ],
   "source": [
    "import pandas as pd\n",
    "\n",
    "diabetes= pd.read_csv(\"../Datasets/diabetes.csv\")\n",
    "\n",
    "diabetes.sample(3)"
   ]
  },
  {
   "cell_type": "code",
   "execution_count": 6,
   "id": "c0caa6ce-8022-4716-ad7d-59df5b214603",
   "metadata": {},
   "outputs": [
    {
     "data": {
      "text/plain": [
       "768"
      ]
     },
     "execution_count": 6,
     "metadata": {},
     "output_type": "execute_result"
    }
   ],
   "source": [
    "len(diabetes)"
   ]
  },
  {
   "cell_type": "code",
   "execution_count": null,
   "id": "0252e20e-db1b-4cde-ac17-d3138a5ce9c8",
   "metadata": {},
   "outputs": [],
   "source": []
  }
 ],
 "metadata": {
  "kernelspec": {
   "display_name": "Python 3 (ipykernel)",
   "language": "python",
   "name": "python3"
  },
  "language_info": {
   "codemirror_mode": {
    "name": "ipython",
    "version": 3
   },
   "file_extension": ".py",
   "mimetype": "text/x-python",
   "name": "python",
   "nbconvert_exporter": "python",
   "pygments_lexer": "ipython3",
   "version": "3.9.16"
  }
 },
 "nbformat": 4,
 "nbformat_minor": 5
}
