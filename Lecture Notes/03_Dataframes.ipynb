{
 "cells": [
  {
   "cell_type": "markdown",
   "id": "1d2b0dec-d13e-4f92-9f4a-15e48f310308",
   "metadata": {},
   "source": [
    "# Dataframes\n",
    "\n",
    "Topics:\n",
    "* Pandas\n",
    "* Dataframes and series\n",
    "* Selection: columns, rows by index versus by label, rows by conditions\n"
   ]
  },
  {
   "cell_type": "markdown",
   "id": "2eb3b73e-a60a-44e7-a6a6-fdf5ca870a40",
   "metadata": {},
   "source": [
    "Pandas is a most popular Python library for data science.\n",
    "\n",
    "Pandas is similar to Excel.\n",
    "\n",
    "A dataframe is a data structure.  It is similar to an Excel sheet.  It has columns and rows.  Columns can have names.  Rows can also have names.\n",
    "\n",
    "In data science, we often deal with tabular data.  This is why pandas is very popular."
   ]
  },
  {
   "cell_type": "code",
   "execution_count": 17,
   "id": "ee004b23-845b-4eb8-ba7b-d5d4b871455f",
   "metadata": {},
   "outputs": [],
   "source": [
    "import pandas\n",
    "iris = pandas.read_csv('../Datasets/iris.csv')"
   ]
  },
  {
   "cell_type": "code",
   "execution_count": 18,
   "id": "29ed97f4-30c6-4df2-ab8c-b882b2bcf1eb",
   "metadata": {},
   "outputs": [
    {
     "data": {
      "text/html": [
       "<div>\n",
       "<style scoped>\n",
       "    .dataframe tbody tr th:only-of-type {\n",
       "        vertical-align: middle;\n",
       "    }\n",
       "\n",
       "    .dataframe tbody tr th {\n",
       "        vertical-align: top;\n",
       "    }\n",
       "\n",
       "    .dataframe thead th {\n",
       "        text-align: right;\n",
       "    }\n",
       "</style>\n",
       "<table border=\"1\" class=\"dataframe\">\n",
       "  <thead>\n",
       "    <tr style=\"text-align: right;\">\n",
       "      <th></th>\n",
       "      <th>SepalLength</th>\n",
       "      <th>SepalWidth</th>\n",
       "      <th>PetalLength</th>\n",
       "      <th>PetalWidth</th>\n",
       "      <th>Species</th>\n",
       "    </tr>\n",
       "  </thead>\n",
       "  <tbody>\n",
       "    <tr>\n",
       "      <th>125</th>\n",
       "      <td>7.2</td>\n",
       "      <td>3.2</td>\n",
       "      <td>6.0</td>\n",
       "      <td>1.8</td>\n",
       "      <td>virginica</td>\n",
       "    </tr>\n",
       "    <tr>\n",
       "      <th>14</th>\n",
       "      <td>5.8</td>\n",
       "      <td>4.0</td>\n",
       "      <td>1.2</td>\n",
       "      <td>0.2</td>\n",
       "      <td>setosa</td>\n",
       "    </tr>\n",
       "    <tr>\n",
       "      <th>7</th>\n",
       "      <td>5.0</td>\n",
       "      <td>3.4</td>\n",
       "      <td>1.5</td>\n",
       "      <td>0.2</td>\n",
       "      <td>setosa</td>\n",
       "    </tr>\n",
       "    <tr>\n",
       "      <th>60</th>\n",
       "      <td>5.0</td>\n",
       "      <td>2.0</td>\n",
       "      <td>3.5</td>\n",
       "      <td>1.0</td>\n",
       "      <td>versicolor</td>\n",
       "    </tr>\n",
       "    <tr>\n",
       "      <th>128</th>\n",
       "      <td>6.4</td>\n",
       "      <td>2.8</td>\n",
       "      <td>5.6</td>\n",
       "      <td>2.1</td>\n",
       "      <td>virginica</td>\n",
       "    </tr>\n",
       "    <tr>\n",
       "      <th>69</th>\n",
       "      <td>5.6</td>\n",
       "      <td>2.5</td>\n",
       "      <td>3.9</td>\n",
       "      <td>1.1</td>\n",
       "      <td>versicolor</td>\n",
       "    </tr>\n",
       "    <tr>\n",
       "      <th>26</th>\n",
       "      <td>5.0</td>\n",
       "      <td>3.4</td>\n",
       "      <td>1.6</td>\n",
       "      <td>0.4</td>\n",
       "      <td>setosa</td>\n",
       "    </tr>\n",
       "    <tr>\n",
       "      <th>135</th>\n",
       "      <td>7.7</td>\n",
       "      <td>3.0</td>\n",
       "      <td>6.1</td>\n",
       "      <td>2.3</td>\n",
       "      <td>virginica</td>\n",
       "    </tr>\n",
       "    <tr>\n",
       "      <th>11</th>\n",
       "      <td>4.8</td>\n",
       "      <td>3.4</td>\n",
       "      <td>1.6</td>\n",
       "      <td>0.2</td>\n",
       "      <td>setosa</td>\n",
       "    </tr>\n",
       "    <tr>\n",
       "      <th>28</th>\n",
       "      <td>5.2</td>\n",
       "      <td>3.4</td>\n",
       "      <td>1.4</td>\n",
       "      <td>0.2</td>\n",
       "      <td>setosa</td>\n",
       "    </tr>\n",
       "  </tbody>\n",
       "</table>\n",
       "</div>"
      ],
      "text/plain": [
       "     SepalLength  SepalWidth  PetalLength  PetalWidth     Species\n",
       "125          7.2         3.2          6.0         1.8   virginica\n",
       "14           5.8         4.0          1.2         0.2      setosa\n",
       "7            5.0         3.4          1.5         0.2      setosa\n",
       "60           5.0         2.0          3.5         1.0  versicolor\n",
       "128          6.4         2.8          5.6         2.1   virginica\n",
       "69           5.6         2.5          3.9         1.1  versicolor\n",
       "26           5.0         3.4          1.6         0.4      setosa\n",
       "135          7.7         3.0          6.1         2.3   virginica\n",
       "11           4.8         3.4          1.6         0.2      setosa\n",
       "28           5.2         3.4          1.4         0.2      setosa"
      ]
     },
     "execution_count": 18,
     "metadata": {},
     "output_type": "execute_result"
    }
   ],
   "source": [
    "iris.sample(10)  # random data points"
   ]
  },
  {
   "cell_type": "markdown",
   "id": "bf3477e3-40ef-4818-839c-70fdb7e9465f",
   "metadata": {},
   "source": [
    "### Questions "
   ]
  },
  {
   "cell_type": "markdown",
   "id": "06c546a4-67af-4a67-ac45-7f998ba4360b",
   "metadata": {},
   "source": [
    "Question: how many data points are there?"
   ]
  },
  {
   "cell_type": "code",
   "execution_count": 19,
   "id": "4aed23b6-111b-4320-a7bb-621ec93c29d9",
   "metadata": {},
   "outputs": [
    {
     "data": {
      "text/plain": [
       "150"
      ]
     },
     "execution_count": 19,
     "metadata": {},
     "output_type": "execute_result"
    }
   ],
   "source": [
    "len(iris)"
   ]
  },
  {
   "cell_type": "markdown",
   "id": "d8c9efbe-9549-4097-b461-d524708afe81",
   "metadata": {},
   "source": [
    "Question: how many species are there?\n",
    "\n",
    "+ view column Species\n",
    "+ count the unique columns or compute count of each column value."
   ]
  },
  {
   "cell_type": "code",
   "execution_count": 20,
   "id": "7cc6c1e9-451f-4779-80f4-82b8a369c26b",
   "metadata": {},
   "outputs": [
    {
     "data": {
      "text/plain": [
       "array(['setosa', 'versicolor', 'virginica'], dtype=object)"
      ]
     },
     "execution_count": 20,
     "metadata": {},
     "output_type": "execute_result"
    }
   ],
   "source": [
    "iris['Species'].unique()"
   ]
  },
  {
   "cell_type": "code",
   "execution_count": 21,
   "id": "b0c92fff-3aff-4813-b272-46d297d13dc6",
   "metadata": {},
   "outputs": [
    {
     "data": {
      "text/plain": [
       "setosa        50\n",
       "versicolor    50\n",
       "virginica     50\n",
       "Name: Species, dtype: int64"
      ]
     },
     "execution_count": 21,
     "metadata": {},
     "output_type": "execute_result"
    }
   ],
   "source": [
    "iris['Species'].value_counts()"
   ]
  },
  {
   "cell_type": "markdown",
   "id": "b4a6edf9-336f-424a-bec3-12daa23c6058",
   "metadata": {},
   "source": [
    "Question: average petal length/width?\n",
    "\n",
    "+ Select each column (a column is a \"Series\")\n",
    "+ Select two columns."
   ]
  },
  {
   "cell_type": "code",
   "execution_count": 22,
   "id": "72507fe6-65ab-4726-8d88-f9514a61477e",
   "metadata": {},
   "outputs": [
    {
     "data": {
      "text/plain": [
       "3.7580000000000005"
      ]
     },
     "execution_count": 22,
     "metadata": {},
     "output_type": "execute_result"
    }
   ],
   "source": [
    "iris['PetalLength'].mean()"
   ]
  },
  {
   "cell_type": "code",
   "execution_count": 23,
   "id": "96c8b786-2ddd-45bd-a499-4b6edc6f3f5a",
   "metadata": {},
   "outputs": [
    {
     "data": {
      "text/plain": [
       "PetalLength    3.758000\n",
       "PetalWidth     1.199333\n",
       "dtype: float64"
      ]
     },
     "execution_count": 23,
     "metadata": {},
     "output_type": "execute_result"
    }
   ],
   "source": [
    "iris[['PetalLength','PetalWidth']].mean()"
   ]
  },
  {
   "cell_type": "markdown",
   "id": "94c03be3-4b1d-4427-b531-dd27f0ab289e",
   "metadata": {},
   "source": [
    "What is the difference between these?\n",
    "+ `iris['PetalLength']`\n",
    "+  `iris[['PetalLength']]`"
   ]
  },
  {
   "cell_type": "code",
   "execution_count": 24,
   "id": "aeb37104-ccb3-4132-8ae6-3e720b7b0dd8",
   "metadata": {},
   "outputs": [
    {
     "data": {
      "text/html": [
       "<div>\n",
       "<style scoped>\n",
       "    .dataframe tbody tr th:only-of-type {\n",
       "        vertical-align: middle;\n",
       "    }\n",
       "\n",
       "    .dataframe tbody tr th {\n",
       "        vertical-align: top;\n",
       "    }\n",
       "\n",
       "    .dataframe thead th {\n",
       "        text-align: right;\n",
       "    }\n",
       "</style>\n",
       "<table border=\"1\" class=\"dataframe\">\n",
       "  <thead>\n",
       "    <tr style=\"text-align: right;\">\n",
       "      <th></th>\n",
       "      <th>PetalLength</th>\n",
       "    </tr>\n",
       "  </thead>\n",
       "  <tbody>\n",
       "    <tr>\n",
       "      <th>0</th>\n",
       "      <td>1.4</td>\n",
       "    </tr>\n",
       "    <tr>\n",
       "      <th>1</th>\n",
       "      <td>1.4</td>\n",
       "    </tr>\n",
       "    <tr>\n",
       "      <th>2</th>\n",
       "      <td>1.3</td>\n",
       "    </tr>\n",
       "    <tr>\n",
       "      <th>3</th>\n",
       "      <td>1.5</td>\n",
       "    </tr>\n",
       "    <tr>\n",
       "      <th>4</th>\n",
       "      <td>1.4</td>\n",
       "    </tr>\n",
       "    <tr>\n",
       "      <th>...</th>\n",
       "      <td>...</td>\n",
       "    </tr>\n",
       "    <tr>\n",
       "      <th>145</th>\n",
       "      <td>5.2</td>\n",
       "    </tr>\n",
       "    <tr>\n",
       "      <th>146</th>\n",
       "      <td>5.0</td>\n",
       "    </tr>\n",
       "    <tr>\n",
       "      <th>147</th>\n",
       "      <td>5.2</td>\n",
       "    </tr>\n",
       "    <tr>\n",
       "      <th>148</th>\n",
       "      <td>5.4</td>\n",
       "    </tr>\n",
       "    <tr>\n",
       "      <th>149</th>\n",
       "      <td>5.1</td>\n",
       "    </tr>\n",
       "  </tbody>\n",
       "</table>\n",
       "<p>150 rows × 1 columns</p>\n",
       "</div>"
      ],
      "text/plain": [
       "     PetalLength\n",
       "0            1.4\n",
       "1            1.4\n",
       "2            1.3\n",
       "3            1.5\n",
       "4            1.4\n",
       "..           ...\n",
       "145          5.2\n",
       "146          5.0\n",
       "147          5.2\n",
       "148          5.4\n",
       "149          5.1\n",
       "\n",
       "[150 rows x 1 columns]"
      ]
     },
     "execution_count": 24,
     "metadata": {},
     "output_type": "execute_result"
    }
   ],
   "source": [
    "iris[['PetalLength']]   # this is a dataframe"
   ]
  },
  {
   "cell_type": "code",
   "execution_count": 25,
   "id": "b45b2d7b-2262-41aa-8d92-ed185bbd11e7",
   "metadata": {},
   "outputs": [
    {
     "data": {
      "text/plain": [
       "0      1.4\n",
       "1      1.4\n",
       "2      1.3\n",
       "3      1.5\n",
       "4      1.4\n",
       "      ... \n",
       "145    5.2\n",
       "146    5.0\n",
       "147    5.2\n",
       "148    5.4\n",
       "149    5.1\n",
       "Name: PetalLength, Length: 150, dtype: float64"
      ]
     },
     "execution_count": 25,
     "metadata": {},
     "output_type": "execute_result"
    }
   ],
   "source": [
    "iris['PetalLength']   # this is a series"
   ]
  },
  {
   "cell_type": "markdown",
   "id": "9c40fdb0-45a1-4ac2-8316-b6f86d36f0d7",
   "metadata": {},
   "source": [
    "Question: What does the 10th data point look like?"
   ]
  },
  {
   "cell_type": "code",
   "execution_count": 26,
   "id": "112bc0b3-93c0-445c-9950-7abac7835b70",
   "metadata": {},
   "outputs": [
    {
     "data": {
      "text/plain": [
       "SepalLength       4.9\n",
       "SepalWidth        3.1\n",
       "PetalLength       1.5\n",
       "PetalWidth        0.1\n",
       "Species        setosa\n",
       "Name: 9, dtype: object"
      ]
     },
     "execution_count": 26,
     "metadata": {},
     "output_type": "execute_result"
    }
   ],
   "source": [
    "iris.iloc[9]"
   ]
  },
  {
   "cell_type": "code",
   "execution_count": 27,
   "id": "bea4d96e-847d-435e-9a51-a20588dc61c6",
   "metadata": {},
   "outputs": [
    {
     "data": {
      "text/plain": [
       "0.1"
      ]
     },
     "execution_count": 27,
     "metadata": {},
     "output_type": "execute_result"
    }
   ],
   "source": [
    "iris.iloc[9]['PetalWidth']"
   ]
  },
  {
   "cell_type": "code",
   "execution_count": 28,
   "id": "b7764787-ed92-4795-aa20-528b2d558d61",
   "metadata": {},
   "outputs": [
    {
     "data": {
      "text/html": [
       "<div>\n",
       "<style scoped>\n",
       "    .dataframe tbody tr th:only-of-type {\n",
       "        vertical-align: middle;\n",
       "    }\n",
       "\n",
       "    .dataframe tbody tr th {\n",
       "        vertical-align: top;\n",
       "    }\n",
       "\n",
       "    .dataframe thead th {\n",
       "        text-align: right;\n",
       "    }\n",
       "</style>\n",
       "<table border=\"1\" class=\"dataframe\">\n",
       "  <thead>\n",
       "    <tr style=\"text-align: right;\">\n",
       "      <th></th>\n",
       "      <th>SepalLength</th>\n",
       "      <th>SepalWidth</th>\n",
       "      <th>PetalLength</th>\n",
       "      <th>PetalWidth</th>\n",
       "      <th>Species</th>\n",
       "    </tr>\n",
       "  </thead>\n",
       "  <tbody>\n",
       "    <tr>\n",
       "      <th>127</th>\n",
       "      <td>6.1</td>\n",
       "      <td>3.0</td>\n",
       "      <td>4.9</td>\n",
       "      <td>1.8</td>\n",
       "      <td>virginica</td>\n",
       "    </tr>\n",
       "    <tr>\n",
       "      <th>12</th>\n",
       "      <td>4.8</td>\n",
       "      <td>3.0</td>\n",
       "      <td>1.4</td>\n",
       "      <td>0.1</td>\n",
       "      <td>setosa</td>\n",
       "    </tr>\n",
       "    <tr>\n",
       "      <th>124</th>\n",
       "      <td>6.7</td>\n",
       "      <td>3.3</td>\n",
       "      <td>5.7</td>\n",
       "      <td>2.1</td>\n",
       "      <td>virginica</td>\n",
       "    </tr>\n",
       "    <tr>\n",
       "      <th>96</th>\n",
       "      <td>5.7</td>\n",
       "      <td>2.9</td>\n",
       "      <td>4.2</td>\n",
       "      <td>1.3</td>\n",
       "      <td>versicolor</td>\n",
       "    </tr>\n",
       "    <tr>\n",
       "      <th>112</th>\n",
       "      <td>6.8</td>\n",
       "      <td>3.0</td>\n",
       "      <td>5.5</td>\n",
       "      <td>2.1</td>\n",
       "      <td>virginica</td>\n",
       "    </tr>\n",
       "    <tr>\n",
       "      <th>37</th>\n",
       "      <td>4.9</td>\n",
       "      <td>3.6</td>\n",
       "      <td>1.4</td>\n",
       "      <td>0.1</td>\n",
       "      <td>setosa</td>\n",
       "    </tr>\n",
       "    <tr>\n",
       "      <th>2</th>\n",
       "      <td>4.7</td>\n",
       "      <td>3.2</td>\n",
       "      <td>1.3</td>\n",
       "      <td>0.2</td>\n",
       "      <td>setosa</td>\n",
       "    </tr>\n",
       "    <tr>\n",
       "      <th>39</th>\n",
       "      <td>5.1</td>\n",
       "      <td>3.4</td>\n",
       "      <td>1.5</td>\n",
       "      <td>0.2</td>\n",
       "      <td>setosa</td>\n",
       "    </tr>\n",
       "    <tr>\n",
       "      <th>102</th>\n",
       "      <td>7.1</td>\n",
       "      <td>3.0</td>\n",
       "      <td>5.9</td>\n",
       "      <td>2.1</td>\n",
       "      <td>virginica</td>\n",
       "    </tr>\n",
       "    <tr>\n",
       "      <th>123</th>\n",
       "      <td>6.3</td>\n",
       "      <td>2.7</td>\n",
       "      <td>4.9</td>\n",
       "      <td>1.8</td>\n",
       "      <td>virginica</td>\n",
       "    </tr>\n",
       "    <tr>\n",
       "      <th>54</th>\n",
       "      <td>6.5</td>\n",
       "      <td>2.8</td>\n",
       "      <td>4.6</td>\n",
       "      <td>1.5</td>\n",
       "      <td>versicolor</td>\n",
       "    </tr>\n",
       "    <tr>\n",
       "      <th>26</th>\n",
       "      <td>5.0</td>\n",
       "      <td>3.4</td>\n",
       "      <td>1.6</td>\n",
       "      <td>0.4</td>\n",
       "      <td>setosa</td>\n",
       "    </tr>\n",
       "    <tr>\n",
       "      <th>36</th>\n",
       "      <td>5.5</td>\n",
       "      <td>3.5</td>\n",
       "      <td>1.3</td>\n",
       "      <td>0.2</td>\n",
       "      <td>setosa</td>\n",
       "    </tr>\n",
       "    <tr>\n",
       "      <th>22</th>\n",
       "      <td>4.6</td>\n",
       "      <td>3.6</td>\n",
       "      <td>1.0</td>\n",
       "      <td>0.2</td>\n",
       "      <td>setosa</td>\n",
       "    </tr>\n",
       "    <tr>\n",
       "      <th>105</th>\n",
       "      <td>7.6</td>\n",
       "      <td>3.0</td>\n",
       "      <td>6.6</td>\n",
       "      <td>2.1</td>\n",
       "      <td>virginica</td>\n",
       "    </tr>\n",
       "    <tr>\n",
       "      <th>32</th>\n",
       "      <td>5.2</td>\n",
       "      <td>4.1</td>\n",
       "      <td>1.5</td>\n",
       "      <td>0.1</td>\n",
       "      <td>setosa</td>\n",
       "    </tr>\n",
       "    <tr>\n",
       "      <th>69</th>\n",
       "      <td>5.6</td>\n",
       "      <td>2.5</td>\n",
       "      <td>3.9</td>\n",
       "      <td>1.1</td>\n",
       "      <td>versicolor</td>\n",
       "    </tr>\n",
       "    <tr>\n",
       "      <th>97</th>\n",
       "      <td>6.2</td>\n",
       "      <td>2.9</td>\n",
       "      <td>4.3</td>\n",
       "      <td>1.3</td>\n",
       "      <td>versicolor</td>\n",
       "    </tr>\n",
       "    <tr>\n",
       "      <th>88</th>\n",
       "      <td>5.6</td>\n",
       "      <td>3.0</td>\n",
       "      <td>4.1</td>\n",
       "      <td>1.3</td>\n",
       "      <td>versicolor</td>\n",
       "    </tr>\n",
       "    <tr>\n",
       "      <th>81</th>\n",
       "      <td>5.5</td>\n",
       "      <td>2.4</td>\n",
       "      <td>3.7</td>\n",
       "      <td>1.0</td>\n",
       "      <td>versicolor</td>\n",
       "    </tr>\n",
       "    <tr>\n",
       "      <th>33</th>\n",
       "      <td>5.5</td>\n",
       "      <td>4.2</td>\n",
       "      <td>1.4</td>\n",
       "      <td>0.2</td>\n",
       "      <td>setosa</td>\n",
       "    </tr>\n",
       "    <tr>\n",
       "      <th>53</th>\n",
       "      <td>5.5</td>\n",
       "      <td>2.3</td>\n",
       "      <td>4.0</td>\n",
       "      <td>1.3</td>\n",
       "      <td>versicolor</td>\n",
       "    </tr>\n",
       "    <tr>\n",
       "      <th>93</th>\n",
       "      <td>5.0</td>\n",
       "      <td>2.3</td>\n",
       "      <td>3.3</td>\n",
       "      <td>1.0</td>\n",
       "      <td>versicolor</td>\n",
       "    </tr>\n",
       "    <tr>\n",
       "      <th>52</th>\n",
       "      <td>6.9</td>\n",
       "      <td>3.1</td>\n",
       "      <td>4.9</td>\n",
       "      <td>1.5</td>\n",
       "      <td>versicolor</td>\n",
       "    </tr>\n",
       "    <tr>\n",
       "      <th>87</th>\n",
       "      <td>6.3</td>\n",
       "      <td>2.3</td>\n",
       "      <td>4.4</td>\n",
       "      <td>1.3</td>\n",
       "      <td>versicolor</td>\n",
       "    </tr>\n",
       "  </tbody>\n",
       "</table>\n",
       "</div>"
      ],
      "text/plain": [
       "     SepalLength  SepalWidth  PetalLength  PetalWidth     Species\n",
       "127          6.1         3.0          4.9         1.8   virginica\n",
       "12           4.8         3.0          1.4         0.1      setosa\n",
       "124          6.7         3.3          5.7         2.1   virginica\n",
       "96           5.7         2.9          4.2         1.3  versicolor\n",
       "112          6.8         3.0          5.5         2.1   virginica\n",
       "37           4.9         3.6          1.4         0.1      setosa\n",
       "2            4.7         3.2          1.3         0.2      setosa\n",
       "39           5.1         3.4          1.5         0.2      setosa\n",
       "102          7.1         3.0          5.9         2.1   virginica\n",
       "123          6.3         2.7          4.9         1.8   virginica\n",
       "54           6.5         2.8          4.6         1.5  versicolor\n",
       "26           5.0         3.4          1.6         0.4      setosa\n",
       "36           5.5         3.5          1.3         0.2      setosa\n",
       "22           4.6         3.6          1.0         0.2      setosa\n",
       "105          7.6         3.0          6.6         2.1   virginica\n",
       "32           5.2         4.1          1.5         0.1      setosa\n",
       "69           5.6         2.5          3.9         1.1  versicolor\n",
       "97           6.2         2.9          4.3         1.3  versicolor\n",
       "88           5.6         3.0          4.1         1.3  versicolor\n",
       "81           5.5         2.4          3.7         1.0  versicolor\n",
       "33           5.5         4.2          1.4         0.2      setosa\n",
       "53           5.5         2.3          4.0         1.3  versicolor\n",
       "93           5.0         2.3          3.3         1.0  versicolor\n",
       "52           6.9         3.1          4.9         1.5  versicolor\n",
       "87           6.3         2.3          4.4         1.3  versicolor"
      ]
     },
     "execution_count": 28,
     "metadata": {},
     "output_type": "execute_result"
    }
   ],
   "source": [
    "samples = iris.sample(25)\n",
    "samples"
   ]
  },
  {
   "cell_type": "markdown",
   "id": "0adcc4a7-378c-472c-8171-96636256a850",
   "metadata": {},
   "source": [
    "* iloc selects the ith item.\n",
    "* loc select the item with a specific label."
   ]
  },
  {
   "cell_type": "code",
   "execution_count": 29,
   "id": "a835ecec-b652-4e45-867d-1aed6c7b6d78",
   "metadata": {},
   "outputs": [
    {
     "data": {
      "text/plain": [
       "SepalLength       4.9\n",
       "SepalWidth        3.6\n",
       "PetalLength       1.4\n",
       "PetalWidth        0.1\n",
       "Species        setosa\n",
       "Name: 37, dtype: object"
      ]
     },
     "execution_count": 29,
     "metadata": {},
     "output_type": "execute_result"
    }
   ],
   "source": [
    "samples.iloc[5]  # the 6th item"
   ]
  },
  {
   "cell_type": "code",
   "execution_count": 32,
   "id": "7ea709dc-cf36-4932-9314-2f24dd6cf268",
   "metadata": {},
   "outputs": [
    {
     "data": {
      "text/html": [
       "<div>\n",
       "<style scoped>\n",
       "    .dataframe tbody tr th:only-of-type {\n",
       "        vertical-align: middle;\n",
       "    }\n",
       "\n",
       "    .dataframe tbody tr th {\n",
       "        vertical-align: top;\n",
       "    }\n",
       "\n",
       "    .dataframe thead th {\n",
       "        text-align: right;\n",
       "    }\n",
       "</style>\n",
       "<table border=\"1\" class=\"dataframe\">\n",
       "  <thead>\n",
       "    <tr style=\"text-align: right;\">\n",
       "      <th></th>\n",
       "      <th>SepalLength</th>\n",
       "      <th>SepalWidth</th>\n",
       "      <th>PetalLength</th>\n",
       "      <th>PetalWidth</th>\n",
       "      <th>Species</th>\n",
       "    </tr>\n",
       "  </thead>\n",
       "  <tbody>\n",
       "    <tr>\n",
       "      <th>81</th>\n",
       "      <td>5.5</td>\n",
       "      <td>2.4</td>\n",
       "      <td>3.7</td>\n",
       "      <td>1.0</td>\n",
       "      <td>versicolor</td>\n",
       "    </tr>\n",
       "    <tr>\n",
       "      <th>33</th>\n",
       "      <td>5.5</td>\n",
       "      <td>4.2</td>\n",
       "      <td>1.4</td>\n",
       "      <td>0.2</td>\n",
       "      <td>setosa</td>\n",
       "    </tr>\n",
       "    <tr>\n",
       "      <th>52</th>\n",
       "      <td>6.9</td>\n",
       "      <td>3.1</td>\n",
       "      <td>4.9</td>\n",
       "      <td>1.5</td>\n",
       "      <td>versicolor</td>\n",
       "    </tr>\n",
       "  </tbody>\n",
       "</table>\n",
       "</div>"
      ],
      "text/plain": [
       "    SepalLength  SepalWidth  PetalLength  PetalWidth     Species\n",
       "81          5.5         2.4          3.7         1.0  versicolor\n",
       "33          5.5         4.2          1.4         0.2      setosa\n",
       "52          6.9         3.1          4.9         1.5  versicolor"
      ]
     },
     "execution_count": 32,
     "metadata": {},
     "output_type": "execute_result"
    }
   ],
   "source": [
    "# select items with labels 29, 128, 51\n",
    "samples.loc[[81,33,52]]"
   ]
  },
  {
   "cell_type": "markdown",
   "id": "8e1e28ec-0619-4cd9-bc57-0b0f8921aa83",
   "metadata": {},
   "source": [
    "Question: What is the largest species, in terms sepal width?\n",
    "\n",
    "We can:\n",
    "+ separate the data into the species and calculate sepal widths for the species.\n",
    "+ select each species data, and calculate the sepal widths.\n",
    "\n",
    "At this point, we know how to select using indexes (`iloc`) or labels (`loc`).\n",
    "\n",
    "We will learn how to select data with \"queries\"."
   ]
  },
  {
   "cell_type": "code",
   "execution_count": null,
   "id": "ef501123-1c8d-4e6f-9b74-49f9bfe4a010",
   "metadata": {},
   "outputs": [],
   "source": [
    "setosas = iris[(iris['Species'] == 'setosa')]\n",
    "versicolor = iris[(iris['Species'] == 'versicolor')]\n",
    "virginica = iris[(iris['Species'] == 'virginica')]\n"
   ]
  },
  {
   "cell_type": "code",
   "execution_count": null,
   "id": "48860658-365b-4b9d-baa3-73417ad352a9",
   "metadata": {},
   "outputs": [],
   "source": [
    "setosas['PetalLength'].mean(), versicolor['PetalLength'].mean(), virginica['PetalLength'].mean()"
   ]
  },
  {
   "cell_type": "code",
   "execution_count": null,
   "id": "e15f9c8c-643f-4042-863d-273a746d469f",
   "metadata": {},
   "outputs": [],
   "source": [
    "iris['Species'].unique()"
   ]
  },
  {
   "cell_type": "markdown",
   "id": "6613c8e7-4ca1-4ad3-999b-66e2cec9b046",
   "metadata": {},
   "source": [
    "\"groupby\":\n",
    "1. We group the data based on a feature/column/variable, and then\n",
    "2. We aggregate the data in each group in some way.\n"
   ]
  },
  {
   "cell_type": "code",
   "execution_count": null,
   "id": "57dc6ef3-fd79-46ab-b68d-f50a53647836",
   "metadata": {},
   "outputs": [],
   "source": [
    "iris.groupby('Species').mean()"
   ]
  },
  {
   "cell_type": "markdown",
   "id": "fefd5be0-859c-47d3-a6d5-84cb131c8a45",
   "metadata": {},
   "source": [
    "We have two new techniques:\n",
    "+ Constructing a query\n",
    "+ Grouping data and aggregating data"
   ]
  },
  {
   "cell_type": "markdown",
   "id": "8da48792-95f4-43e8-84ec-80dcec2acf3a",
   "metadata": {},
   "source": [
    "**Exercise 1**"
   ]
  },
  {
   "cell_type": "code",
   "execution_count": null,
   "id": "413d7070-380b-45b0-a3ad-a437040511cf",
   "metadata": {},
   "outputs": [],
   "source": [
    "#PID:2\n",
    "# Load the \"tips\" dataset into a Pandas Data Frame. \n",
    "# Select the 'total_bill' and 'tip' columns using bracket notation. \n",
    "# Then, select the first 10 rows of the dataset using the .iloc method"
   ]
  },
  {
   "cell_type": "markdown",
   "id": "764e5962-1337-4978-8427-3d27ba55f8c2",
   "metadata": {},
   "source": [
    "Question:"
   ]
  },
  {
   "cell_type": "code",
   "execution_count": null,
   "id": "a2c5048b-6f99-44e9-9379-da3577b5f65d",
   "metadata": {},
   "outputs": [],
   "source": [
    "iris.groupby('Species').agg(['mean','std']).round(1)"
   ]
  },
  {
   "cell_type": "code",
   "execution_count": null,
   "id": "2ed2cf48-9976-4b4a-8c2e-91afa5d5a66f",
   "metadata": {},
   "outputs": [],
   "source": [
    "iris.sample(5)"
   ]
  },
  {
   "cell_type": "markdown",
   "id": "534b6a66-b5ee-4577-8131-be25f1538612",
   "metadata": {},
   "source": [
    "Question: which features distinguish the species?"
   ]
  },
  {
   "cell_type": "markdown",
   "id": "0c30c8ab-5740-4c35-939d-0cebc2e30488",
   "metadata": {},
   "source": [
    "---"
   ]
  },
  {
   "cell_type": "markdown",
   "id": "4ac957d5-c1b4-441b-a9c0-c1fe95a57dcd",
   "metadata": {},
   "source": [
    "#### Exercise 2\n"
   ]
  },
  {
   "cell_type": "code",
   "execution_count": 33,
   "id": "09a71978-a2db-4419-a653-265b0a982611",
   "metadata": {},
   "outputs": [
    {
     "data": {
      "text/html": [
       "<div>\n",
       "<style scoped>\n",
       "    .dataframe tbody tr th:only-of-type {\n",
       "        vertical-align: middle;\n",
       "    }\n",
       "\n",
       "    .dataframe tbody tr th {\n",
       "        vertical-align: top;\n",
       "    }\n",
       "\n",
       "    .dataframe thead th {\n",
       "        text-align: right;\n",
       "    }\n",
       "</style>\n",
       "<table border=\"1\" class=\"dataframe\">\n",
       "  <thead>\n",
       "    <tr style=\"text-align: right;\">\n",
       "      <th></th>\n",
       "      <th>tip</th>\n",
       "    </tr>\n",
       "    <tr>\n",
       "      <th>day</th>\n",
       "      <th></th>\n",
       "    </tr>\n",
       "  </thead>\n",
       "  <tbody>\n",
       "    <tr>\n",
       "      <th>Fri</th>\n",
       "      <td>2.734737</td>\n",
       "    </tr>\n",
       "    <tr>\n",
       "      <th>Sat</th>\n",
       "      <td>2.993103</td>\n",
       "    </tr>\n",
       "    <tr>\n",
       "      <th>Sun</th>\n",
       "      <td>3.255132</td>\n",
       "    </tr>\n",
       "    <tr>\n",
       "      <th>Thur</th>\n",
       "      <td>2.771452</td>\n",
       "    </tr>\n",
       "  </tbody>\n",
       "</table>\n",
       "</div>"
      ],
      "text/plain": [
       "           tip\n",
       "day           \n",
       "Fri   2.734737\n",
       "Sat   2.993103\n",
       "Sun   3.255132\n",
       "Thur  2.771452"
      ]
     },
     "execution_count": 33,
     "metadata": {},
     "output_type": "execute_result"
    }
   ],
   "source": [
    "#PID:3\n",
    "#\n",
    "# What is the average tip amount for each day?\n",
    "#\n",
    "import pandas\n",
    "tips = pandas.read_csv('../Datasets/tips.csv')\n",
    "tips.groupby('day')[['tip']].mean()"
   ]
  },
  {
   "cell_type": "code",
   "execution_count": 34,
   "id": "620d76c8-6e11-4b7b-bd04-c3ea87f5ae9d",
   "metadata": {},
   "outputs": [
    {
     "data": {
      "text/plain": [
       "2.99827868852459"
      ]
     },
     "execution_count": 34,
     "metadata": {},
     "output_type": "execute_result"
    }
   ],
   "source": [
    "# this is the average tip amount\n",
    "tips['tip'].mean()"
   ]
  },
  {
   "cell_type": "markdown",
   "id": "2c2c742d-3f72-45eb-91d9-0b490b952870",
   "metadata": {},
   "source": [
    "#### Task\n",
    "\n",
    "Asking for tip amounts does not exactly give us the answer we look for.\n",
    "\n",
    "Tip percentage gives us more meaningful information.  How do we calculate this?\n",
    "\n",
    "(this is \"data transformation\")"
   ]
  },
  {
   "cell_type": "code",
   "execution_count": 35,
   "id": "4ee0eaaf-c8a2-41e0-8678-ab8c3ae2300e",
   "metadata": {},
   "outputs": [
    {
     "data": {
      "text/html": [
       "<div>\n",
       "<style scoped>\n",
       "    .dataframe tbody tr th:only-of-type {\n",
       "        vertical-align: middle;\n",
       "    }\n",
       "\n",
       "    .dataframe tbody tr th {\n",
       "        vertical-align: top;\n",
       "    }\n",
       "\n",
       "    .dataframe thead th {\n",
       "        text-align: right;\n",
       "    }\n",
       "</style>\n",
       "<table border=\"1\" class=\"dataframe\">\n",
       "  <thead>\n",
       "    <tr style=\"text-align: right;\">\n",
       "      <th></th>\n",
       "      <th>total_bill</th>\n",
       "      <th>tip</th>\n",
       "      <th>sex</th>\n",
       "      <th>smoker</th>\n",
       "      <th>day</th>\n",
       "      <th>time</th>\n",
       "      <th>size</th>\n",
       "      <th>tip_perc</th>\n",
       "    </tr>\n",
       "  </thead>\n",
       "  <tbody>\n",
       "    <tr>\n",
       "      <th>48</th>\n",
       "      <td>28.55</td>\n",
       "      <td>2.05</td>\n",
       "      <td>Male</td>\n",
       "      <td>No</td>\n",
       "      <td>Sun</td>\n",
       "      <td>Dinner</td>\n",
       "      <td>3</td>\n",
       "      <td>7.2</td>\n",
       "    </tr>\n",
       "    <tr>\n",
       "      <th>31</th>\n",
       "      <td>18.35</td>\n",
       "      <td>2.50</td>\n",
       "      <td>Male</td>\n",
       "      <td>No</td>\n",
       "      <td>Sat</td>\n",
       "      <td>Dinner</td>\n",
       "      <td>4</td>\n",
       "      <td>13.6</td>\n",
       "    </tr>\n",
       "    <tr>\n",
       "      <th>105</th>\n",
       "      <td>15.36</td>\n",
       "      <td>1.64</td>\n",
       "      <td>Male</td>\n",
       "      <td>Yes</td>\n",
       "      <td>Sat</td>\n",
       "      <td>Dinner</td>\n",
       "      <td>2</td>\n",
       "      <td>10.7</td>\n",
       "    </tr>\n",
       "    <tr>\n",
       "      <th>151</th>\n",
       "      <td>13.13</td>\n",
       "      <td>2.00</td>\n",
       "      <td>Male</td>\n",
       "      <td>No</td>\n",
       "      <td>Sun</td>\n",
       "      <td>Dinner</td>\n",
       "      <td>2</td>\n",
       "      <td>15.2</td>\n",
       "    </tr>\n",
       "    <tr>\n",
       "      <th>106</th>\n",
       "      <td>20.49</td>\n",
       "      <td>4.06</td>\n",
       "      <td>Male</td>\n",
       "      <td>Yes</td>\n",
       "      <td>Sat</td>\n",
       "      <td>Dinner</td>\n",
       "      <td>2</td>\n",
       "      <td>19.8</td>\n",
       "    </tr>\n",
       "  </tbody>\n",
       "</table>\n",
       "</div>"
      ],
      "text/plain": [
       "     total_bill   tip   sex smoker  day    time  size  tip_perc\n",
       "48        28.55  2.05  Male     No  Sun  Dinner     3       7.2\n",
       "31        18.35  2.50  Male     No  Sat  Dinner     4      13.6\n",
       "105       15.36  1.64  Male    Yes  Sat  Dinner     2      10.7\n",
       "151       13.13  2.00  Male     No  Sun  Dinner     2      15.2\n",
       "106       20.49  4.06  Male    Yes  Sat  Dinner     2      19.8"
      ]
     },
     "execution_count": 35,
     "metadata": {},
     "output_type": "execute_result"
    }
   ],
   "source": [
    "tips['tip_perc'] = ((tips['tip']/tips['total_bill']) * 100).round(1)\n",
    "tips.sample(5)"
   ]
  },
  {
   "cell_type": "code",
   "execution_count": 36,
   "id": "d179f914-bda2-4f94-a055-9f55c19b0af7",
   "metadata": {},
   "outputs": [
    {
     "data": {
      "text/html": [
       "<div>\n",
       "<style scoped>\n",
       "    .dataframe tbody tr th:only-of-type {\n",
       "        vertical-align: middle;\n",
       "    }\n",
       "\n",
       "    .dataframe tbody tr th {\n",
       "        vertical-align: top;\n",
       "    }\n",
       "\n",
       "    .dataframe thead th {\n",
       "        text-align: right;\n",
       "    }\n",
       "</style>\n",
       "<table border=\"1\" class=\"dataframe\">\n",
       "  <thead>\n",
       "    <tr style=\"text-align: right;\">\n",
       "      <th></th>\n",
       "      <th>tip_perc</th>\n",
       "    </tr>\n",
       "    <tr>\n",
       "      <th>day</th>\n",
       "      <th></th>\n",
       "    </tr>\n",
       "  </thead>\n",
       "  <tbody>\n",
       "    <tr>\n",
       "      <th>Fri</th>\n",
       "      <td>17.0</td>\n",
       "    </tr>\n",
       "    <tr>\n",
       "      <th>Sat</th>\n",
       "      <td>15.3</td>\n",
       "    </tr>\n",
       "    <tr>\n",
       "      <th>Sun</th>\n",
       "      <td>16.7</td>\n",
       "    </tr>\n",
       "    <tr>\n",
       "      <th>Thur</th>\n",
       "      <td>16.1</td>\n",
       "    </tr>\n",
       "  </tbody>\n",
       "</table>\n",
       "</div>"
      ],
      "text/plain": [
       "      tip_perc\n",
       "day           \n",
       "Fri       17.0\n",
       "Sat       15.3\n",
       "Sun       16.7\n",
       "Thur      16.1"
      ]
     },
     "execution_count": 36,
     "metadata": {},
     "output_type": "execute_result"
    }
   ],
   "source": [
    "tips.groupby('day')[['tip_perc']].mean().round(1)"
   ]
  },
  {
   "cell_type": "markdown",
   "id": "33e7ae53-5178-42bd-8c20-e3eeed2e406a",
   "metadata": {},
   "source": [
    "What do we wnat to know about tips?\n",
    "\n",
    "Questions (tip percentages):\n",
    "* Which gender gives more tips?\n",
    "* Do tips increase with party size?\n",
    "* How do tips differ with different time (Dinner vs Lunch etc)?  (same technique as previous questions)\n",
    "* Do smokers tip more? (same technique)\n",
    "* Do people tip more when they spend more?"
   ]
  },
  {
   "cell_type": "code",
   "execution_count": 37,
   "id": "b6037c07-65c8-4824-9f51-b550d1686703",
   "metadata": {},
   "outputs": [
    {
     "data": {
      "text/html": [
       "<div>\n",
       "<style scoped>\n",
       "    .dataframe tbody tr th:only-of-type {\n",
       "        vertical-align: middle;\n",
       "    }\n",
       "\n",
       "    .dataframe tbody tr th {\n",
       "        vertical-align: top;\n",
       "    }\n",
       "\n",
       "    .dataframe thead th {\n",
       "        text-align: right;\n",
       "    }\n",
       "</style>\n",
       "<table border=\"1\" class=\"dataframe\">\n",
       "  <thead>\n",
       "    <tr style=\"text-align: right;\">\n",
       "      <th></th>\n",
       "      <th>total_bill</th>\n",
       "      <th>tip</th>\n",
       "      <th>sex</th>\n",
       "      <th>smoker</th>\n",
       "      <th>day</th>\n",
       "      <th>time</th>\n",
       "      <th>size</th>\n",
       "      <th>tip_perc</th>\n",
       "    </tr>\n",
       "  </thead>\n",
       "  <tbody>\n",
       "    <tr>\n",
       "      <th>64</th>\n",
       "      <td>17.59</td>\n",
       "      <td>2.64</td>\n",
       "      <td>Male</td>\n",
       "      <td>No</td>\n",
       "      <td>Sat</td>\n",
       "      <td>Dinner</td>\n",
       "      <td>3</td>\n",
       "      <td>15.0</td>\n",
       "    </tr>\n",
       "    <tr>\n",
       "      <th>214</th>\n",
       "      <td>28.17</td>\n",
       "      <td>6.50</td>\n",
       "      <td>Female</td>\n",
       "      <td>Yes</td>\n",
       "      <td>Sat</td>\n",
       "      <td>Dinner</td>\n",
       "      <td>3</td>\n",
       "      <td>23.1</td>\n",
       "    </tr>\n",
       "    <tr>\n",
       "      <th>129</th>\n",
       "      <td>22.82</td>\n",
       "      <td>2.18</td>\n",
       "      <td>Male</td>\n",
       "      <td>No</td>\n",
       "      <td>Thur</td>\n",
       "      <td>Lunch</td>\n",
       "      <td>3</td>\n",
       "      <td>9.6</td>\n",
       "    </tr>\n",
       "    <tr>\n",
       "      <th>178</th>\n",
       "      <td>9.60</td>\n",
       "      <td>4.00</td>\n",
       "      <td>Female</td>\n",
       "      <td>Yes</td>\n",
       "      <td>Sun</td>\n",
       "      <td>Dinner</td>\n",
       "      <td>2</td>\n",
       "      <td>41.7</td>\n",
       "    </tr>\n",
       "    <tr>\n",
       "      <th>92</th>\n",
       "      <td>5.75</td>\n",
       "      <td>1.00</td>\n",
       "      <td>Female</td>\n",
       "      <td>Yes</td>\n",
       "      <td>Fri</td>\n",
       "      <td>Dinner</td>\n",
       "      <td>2</td>\n",
       "      <td>17.4</td>\n",
       "    </tr>\n",
       "  </tbody>\n",
       "</table>\n",
       "</div>"
      ],
      "text/plain": [
       "     total_bill   tip     sex smoker   day    time  size  tip_perc\n",
       "64        17.59  2.64    Male     No   Sat  Dinner     3      15.0\n",
       "214       28.17  6.50  Female    Yes   Sat  Dinner     3      23.1\n",
       "129       22.82  2.18    Male     No  Thur   Lunch     3       9.6\n",
       "178        9.60  4.00  Female    Yes   Sun  Dinner     2      41.7\n",
       "92         5.75  1.00  Female    Yes   Fri  Dinner     2      17.4"
      ]
     },
     "execution_count": 37,
     "metadata": {},
     "output_type": "execute_result"
    }
   ],
   "source": [
    "tips.sample(5)"
   ]
  },
  {
   "cell_type": "markdown",
   "id": "375be00e-0eec-4e31-aab3-fcc43668996a",
   "metadata": {},
   "source": [
    "#### Exercise 3"
   ]
  },
  {
   "cell_type": "code",
   "execution_count": 38,
   "id": "85f83a35-589c-4185-a785-dfb4ccdd302a",
   "metadata": {},
   "outputs": [
    {
     "name": "stdout",
     "output_type": "stream",
     "text": [
      "         tip_perc      \n",
      "             mean count\n",
      "sex                    \n",
      "Female  16.649425    87\n",
      "Male    15.766879   157\n",
      "In general, females give a little more tip.\n",
      "       tip_perc\n",
      "size           \n",
      "1     21.750000\n",
      "2     16.573077\n",
      "3     15.223684\n",
      "4     14.586486\n",
      "5     14.160000\n",
      "6     15.625000\n",
      "No, tips do not increase with party size.\n"
     ]
    }
   ],
   "source": [
    "#PID:4\n",
    "#\n",
    "# Which gender gives more tips?\n",
    "#\n",
    "print(tips.groupby('sex')[['tip_perc']].agg(['mean','count']))\n",
    "print('In general, females give a little more tip.')\n",
    "\n",
    "\n",
    "# Do tips increase with party size?\n",
    "print(tips.groupby('size')[['tip_perc']].mean())\n",
    "print('No, tips do not increase with party size.')"
   ]
  },
  {
   "cell_type": "code",
   "execution_count": 39,
   "id": "d9695b9d-4332-4144-b642-4c5791f59ed9",
   "metadata": {},
   "outputs": [
    {
     "data": {
      "text/html": [
       "<div>\n",
       "<style scoped>\n",
       "    .dataframe tbody tr th:only-of-type {\n",
       "        vertical-align: middle;\n",
       "    }\n",
       "\n",
       "    .dataframe tbody tr th {\n",
       "        vertical-align: top;\n",
       "    }\n",
       "\n",
       "    .dataframe thead th {\n",
       "        text-align: right;\n",
       "    }\n",
       "</style>\n",
       "<table border=\"1\" class=\"dataframe\">\n",
       "  <thead>\n",
       "    <tr style=\"text-align: right;\">\n",
       "      <th></th>\n",
       "      <th>total_bill</th>\n",
       "      <th>tip</th>\n",
       "      <th>sex</th>\n",
       "      <th>smoker</th>\n",
       "      <th>day</th>\n",
       "      <th>time</th>\n",
       "      <th>size</th>\n",
       "      <th>tip_perc</th>\n",
       "    </tr>\n",
       "  </thead>\n",
       "  <tbody>\n",
       "    <tr>\n",
       "      <th>241</th>\n",
       "      <td>22.67</td>\n",
       "      <td>2.00</td>\n",
       "      <td>Male</td>\n",
       "      <td>Yes</td>\n",
       "      <td>Sat</td>\n",
       "      <td>Dinner</td>\n",
       "      <td>2</td>\n",
       "      <td>8.8</td>\n",
       "    </tr>\n",
       "    <tr>\n",
       "      <th>67</th>\n",
       "      <td>3.07</td>\n",
       "      <td>1.00</td>\n",
       "      <td>Female</td>\n",
       "      <td>Yes</td>\n",
       "      <td>Sat</td>\n",
       "      <td>Dinner</td>\n",
       "      <td>1</td>\n",
       "      <td>32.6</td>\n",
       "    </tr>\n",
       "    <tr>\n",
       "      <th>29</th>\n",
       "      <td>19.65</td>\n",
       "      <td>3.00</td>\n",
       "      <td>Female</td>\n",
       "      <td>No</td>\n",
       "      <td>Sat</td>\n",
       "      <td>Dinner</td>\n",
       "      <td>2</td>\n",
       "      <td>15.3</td>\n",
       "    </tr>\n",
       "    <tr>\n",
       "      <th>150</th>\n",
       "      <td>14.07</td>\n",
       "      <td>2.50</td>\n",
       "      <td>Male</td>\n",
       "      <td>No</td>\n",
       "      <td>Sun</td>\n",
       "      <td>Dinner</td>\n",
       "      <td>2</td>\n",
       "      <td>17.8</td>\n",
       "    </tr>\n",
       "    <tr>\n",
       "      <th>134</th>\n",
       "      <td>18.26</td>\n",
       "      <td>3.25</td>\n",
       "      <td>Female</td>\n",
       "      <td>No</td>\n",
       "      <td>Thur</td>\n",
       "      <td>Lunch</td>\n",
       "      <td>2</td>\n",
       "      <td>17.8</td>\n",
       "    </tr>\n",
       "  </tbody>\n",
       "</table>\n",
       "</div>"
      ],
      "text/plain": [
       "     total_bill   tip     sex smoker   day    time  size  tip_perc\n",
       "241       22.67  2.00    Male    Yes   Sat  Dinner     2       8.8\n",
       "67         3.07  1.00  Female    Yes   Sat  Dinner     1      32.6\n",
       "29        19.65  3.00  Female     No   Sat  Dinner     2      15.3\n",
       "150       14.07  2.50    Male     No   Sun  Dinner     2      17.8\n",
       "134       18.26  3.25  Female     No  Thur   Lunch     2      17.8"
      ]
     },
     "execution_count": 39,
     "metadata": {},
     "output_type": "execute_result"
    }
   ],
   "source": [
    "tips.sample(5)"
   ]
  },
  {
   "cell_type": "code",
   "execution_count": 40,
   "id": "6020707d-ee51-4804-9b87-78062a9d6f6b",
   "metadata": {},
   "outputs": [
    {
     "name": "stdout",
     "output_type": "stream",
     "text": [
      "         tip_perc\n",
      "sex              \n",
      "Female  16.649425\n",
      "Male    15.766879\n"
     ]
    }
   ],
   "source": [
    "print(tips.groupby('sex')[['tip_perc']].mean())\n"
   ]
  },
  {
   "cell_type": "markdown",
   "id": "65f6da9c-e6e5-42dd-81ef-1ce007053cf6",
   "metadata": {},
   "source": [
    "Question: Do people tip more when they spend more?\n",
    "\n",
    "We will need to see the relationship between total_bill and tip_perc."
   ]
  },
  {
   "cell_type": "code",
   "execution_count": 41,
   "id": "d3c1cf17-fc3f-40f6-9746-e3f95d4ca3a5",
   "metadata": {},
   "outputs": [
    {
     "data": {
      "text/plain": [
       "total_bill    float64\n",
       "tip           float64\n",
       "sex            object\n",
       "smoker         object\n",
       "day            object\n",
       "time           object\n",
       "size            int64\n",
       "tip_perc      float64\n",
       "dtype: object"
      ]
     },
     "execution_count": 41,
     "metadata": {},
     "output_type": "execute_result"
    }
   ],
   "source": [
    "tips.dtypes"
   ]
  },
  {
   "cell_type": "code",
   "execution_count": 42,
   "id": "64605793-6ac7-4b90-9555-43591965273f",
   "metadata": {},
   "outputs": [
    {
     "name": "stderr",
     "output_type": "stream",
     "text": [
      "/opt/homebrew/Caskroom/miniforge/base/lib/python3.9/site-packages/scipy/__init__.py:146: UserWarning: A NumPy version >=1.16.5 and <1.23.0 is required for this version of SciPy (detected version 1.23.5\n",
      "  warnings.warn(f\"A NumPy version >={np_minversion} and <{np_maxversion}\"\n"
     ]
    }
   ],
   "source": [
    "import seaborn\n",
    "from matplotlib import pyplot"
   ]
  },
  {
   "cell_type": "code",
   "execution_count": 43,
   "id": "bf001fd9-e1dd-4302-b1d2-70f0b6ceee16",
   "metadata": {},
   "outputs": [
    {
     "data": {
      "image/png": "[encoded data removed]",
      "text/plain": [
       "<Figure size 500x500 with 1 Axes>"
      ]
     },
     "metadata": {},
     "output_type": "display_data"
    }
   ],
   "source": [
    "seaborn.relplot(data=tips, x='total_bill', y='tip_perc')\n",
    "pyplot.show()"
   ]
  },
  {
   "cell_type": "code",
   "execution_count": 44,
   "id": "ed6f5226-8fdd-4123-869e-18950143b9eb",
   "metadata": {},
   "outputs": [
    {
     "name": "stdout",
     "output_type": "stream",
     "text": [
      "         tip_perc      \n",
      "             mean count\n",
      "sex                    \n",
      "Female  16.649425    87\n",
      "Male    15.766879   157\n",
      "In general, females give a little more tip.\n"
     ]
    }
   ],
   "source": [
    "print(tips.groupby('sex')[['tip_perc']].agg(['mean','count']))\n",
    "print('In general, females give a little more tip.')\n"
   ]
  },
  {
   "cell_type": "code",
   "execution_count": null,
   "id": "d5802ffc-de2c-4e96-89ca-d86081fd5d55",
   "metadata": {},
   "outputs": [],
   "source": []
  }
 ],
 "metadata": {
  "kernelspec": {
   "display_name": "Python 3 (ipykernel)",
   "language": "python",
   "name": "python3"
  },
  "language_info": {
   "codemirror_mode": {
    "name": "ipython",
    "version": 3
   },
   "file_extension": ".py",
   "mimetype": "text/x-python",
   "name": "python",
   "nbconvert_exporter": "python",
   "pygments_lexer": "ipython3",
   "version": "3.9.16"
  }
 },
 "nbformat": 4,
 "nbformat_minor": 5
}
