{
 "cells": [
  {
   "cell_type": "markdown",
   "id": "14798c2f-131e-43eb-af67-cf287420b39f",
   "metadata": {},
   "source": [
    "# Data Clustering"
   ]
  },
  {
   "cell_type": "markdown",
   "id": "242a2f04-5891-418a-b545-59bca633005b",
   "metadata": {},
   "source": [
    "Up until now, we know how to evaluate the central tendencies of 1-dimensional data.\n",
    "\n",
    "If the data is multi-dimensional, what is the central tendency?"
   ]
  },
  {
   "cell_type": "markdown",
   "id": "9264ed27-b422-495c-b03d-ea4971dee863",
   "metadata": {},
   "source": [
    "Topics:\n",
    "+ What is clustering? summarization of high dimensional data.\n",
    "+ Kmeans - distance metric \n",
    "+ Data processing: categorical to numerical, standardization\n",
    "+ Visualization of clusters\n",
    "+ Evaluation of clusterings: inertia, silhouette, Rand index\n",
    "+ The elbow method\n",
    "\n",
    "Datasets: \n",
    "1. iris, \n",
    "2. Mall_Customers\n",
    "3. wine (assignment)"
   ]
  },
  {
   "cell_type": "code",
   "execution_count": null,
   "id": "50fb562b-016b-4796-8e59-6e0c814c810e",
   "metadata": {},
   "outputs": [],
   "source": [
    "import warnings\n",
    "warnings.filterwarnings('ignore')"
   ]
  },
  {
   "cell_type": "code",
   "execution_count": null,
   "id": "e9a3e614-fc39-46dc-9e60-17d2f2e1d31a",
   "metadata": {},
   "outputs": [],
   "source": [
    "import pandas\n",
    "iris = pandas.read_csv('../Datasets/iris.csv')"
   ]
  },
  {
   "cell_type": "code",
   "execution_count": null,
   "id": "acca7918-b328-4289-b0a3-8c2df68fa2f3",
   "metadata": {},
   "outputs": [],
   "source": [
    "from sklearn.cluster import KMeans\n",
    "from sklearn.metrics import silhouette_score\n",
    "from seaborn import displot, relplot\n"
   ]
  },
  {
   "cell_type": "code",
   "execution_count": null,
   "id": "f12cb87e-a100-4781-b356-6853c04f0a47",
   "metadata": {},
   "outputs": [],
   "source": [
    "# We create a model, which does the clustering for us.\n",
    "# We want the model to cluster the data into 3 clusters.\n",
    "model = KMeans(n_clusters=4)\n",
    "\n",
    "# We define the features (sometimes, we call this \"X\").\n",
    "# We will cluster 150 data points (iris.csv) using these two features\n",
    "features = iris[['PetalWidth','PetalLength']]\n",
    "\n",
    "# This does the clustering.\n",
    "model.fit(features)\n",
    "\n",
    "# These are the cluster labels (0, 1, 2)\n",
    "model.labels_"
   ]
  },
  {
   "cell_type": "markdown",
   "id": "11521c5e-9da3-411f-964a-0daeac12d49f",
   "metadata": {},
   "source": [
    "KMeans puts data into clusters.  Points in the same cluster are similar to each other in some way.\n",
    "\n",
    "Points in the same cluster are more similar than points in different clusters."
   ]
  },
  {
   "cell_type": "markdown",
   "id": "7768db3a-d76e-4ac5-b081-6b1be93f06d1",
   "metadata": {},
   "source": [
    "Next we want to visualize how points are clusters.  One way to do this is to create a new column and then visualize the data, using this new column. We can use colors, rows, columns to separate these points with relplot."
   ]
  },
  {
   "cell_type": "code",
   "execution_count": null,
   "id": "143c1d41-7fef-4a77-a4cb-7ccab6bdce86",
   "metadata": {},
   "outputs": [],
   "source": [
    "iris['clusters'] = model.labels_\n",
    "iris.sample(5)"
   ]
  },
  {
   "cell_type": "code",
   "execution_count": null,
   "id": "f2624fa0-b2b5-4ce0-b484-f9a19717d5f4",
   "metadata": {},
   "outputs": [],
   "source": [
    "from seaborn import relplot, displot\n",
    "relplot(data=iris, x='PetalWidth', y='PetalLength', hue='clusters', style='Species', height=2.5)"
   ]
  },
  {
   "cell_type": "markdown",
   "id": "785c08c4-de53-4fdc-b05b-3bf775a3a37b",
   "metadata": {},
   "source": [
    "### Exercises\n",
    "\n",
    "Objectives:\n",
    "- Understand and apply the K-means clustering algorithm.\n",
    "- Learn how to determine the optimal number of clusters using the elbow method.\n",
    "- Gain practical experience in data preprocessing and exploratory data analysis.\n",
    "\n",
    "\n",
    "1. Apply the K-means algorithm to cluster the customers based on the features \"Annual Income\" and \"Spending Score\" only. \n",
    "2. Visualize the clusters by plotting the customers' \"Annual Income\" against their \"Spending Score\" and color-coding the clusters.\n",
    "3. Determine the optimal number of clusters.\n",
    "\n",
    "---"
   ]
  },
  {
   "cell_type": "code",
   "execution_count": null,
   "id": "1d359785-1479-455e-9731-102777197516",
   "metadata": {},
   "outputs": [],
   "source": [
    "#PID:9\n",
    "#\n",
    "# Task: cluster customers into 2 clusters (based on Annual Income and Spending)\n",
    "#\n",
    "import pandas\n",
    "from sklearn.cluster import KMeans\n",
    "import seaborn\n",
    "\n",
    "customers = pandas.read_csv('../Datasets/Mall_Customers.csv')\n",
    "model = KMeans(n_clusters=2)\n",
    "features = customers[['Annual Income (k$)', 'Spending Score (1-100)']]\n",
    "model.fit(features)"
   ]
  },
  {
   "cell_type": "code",
   "execution_count": null,
   "id": "9715d646-9ea5-4118-b9e1-7443c7bb8da8",
   "metadata": {},
   "outputs": [],
   "source": [
    "#PID:10\n",
    "#\n",
    "# Task: visualize the distribution of the clustered data points\n",
    "#\n",
    "import pandas\n",
    "from sklearn.cluster import KMeans\n",
    "import seaborn\n",
    "\n",
    "# load data and define features\n",
    "customers = pandas.read_csv('../Datasets/Mall_Customers.csv')\n",
    "features = customers[['Annual Income (k$)', 'Spending Score (1-100)']]\n",
    "\n",
    "# create a model and do the clustering\n",
    "model = KMeans(n_clusters=3)\n",
    "model.fit(features)\n",
    "\n",
    "# save the cluster labels\n",
    "customers['clusters'] = model.labels_\n",
    "\n",
    "# visualize the distribution of clustered data points, using the features\n",
    "seaborn.displot(data=customers, \n",
    "                x='Annual Income (k$)', \n",
    "                y='Spending Score (1-100)',\n",
    "                kind='kde',\n",
    "                hue='clusters',\n",
    "                fill=True,\n",
    "                height=2.5,\n",
    "               )"
   ]
  },
  {
   "cell_type": "code",
   "execution_count": null,
   "id": "411af322-ec7e-4357-b801-c26276960cba",
   "metadata": {},
   "outputs": [],
   "source": [
    "seaborn.relplot(data=customers, \n",
    "                x='Annual Income (k$)', \n",
    "                y='Spending Score (1-100)',\n",
    "                hue='clusters',\n",
    "                height=2.5,\n",
    "               )"
   ]
  },
  {
   "cell_type": "markdown",
   "id": "b3e0ea4a-ae23-4a43-9809-0da960c4a612",
   "metadata": {},
   "source": []
  },
  {
   "cell_type": "code",
   "execution_count": null,
   "id": "5770f5ae-90be-4076-be75-d6a16a226169",
   "metadata": {},
   "outputs": [],
   "source": [
    "# We create a model, which does the clustering for us.\n",
    "# We want the model to cluster the data into 3 clusters.\n",
    "model = KMeans(n_clusters=2)\n",
    "features = iris[['PetalWidth','PetalLength']]\n",
    "model.fit(features)\n",
    "iris['clusters'] = model.labels_\n",
    "displot(data=iris, x='PetalWidth', y='PetalLength', kind='kde', hue='clusters', height=2.5)"
   ]
  },
  {
   "cell_type": "code",
   "execution_count": null,
   "id": "9a2a1121-f464-44aa-8042-7a488cf9a64d",
   "metadata": {},
   "outputs": [],
   "source": [
    "model.inertia_"
   ]
  },
  {
   "cell_type": "code",
   "execution_count": null,
   "id": "23511bd6-2a57-4554-a1de-502593e71294",
   "metadata": {},
   "outputs": [],
   "source": [
    "model.cluster_centers_"
   ]
  },
  {
   "cell_type": "code",
   "execution_count": null,
   "id": "9fc243c9-c97c-45f9-baaf-1839c568721e",
   "metadata": {},
   "outputs": [],
   "source": [
    "features = iris[['PetalWidth','PetalLength']]\n",
    "for k in range(2,20):\n",
    "    model = KMeans(n_clusters=k)\n",
    "    model.fit(features)\n",
    "    print(k, round(model.inertia_,1))"
   ]
  },
  {
   "cell_type": "code",
   "execution_count": 87,
   "id": "c110bbf0-d5bd-4985-9f95-2faa927c8ef2",
   "metadata": {},
   "outputs": [
    {
     "name": "stdout",
     "output_type": "stream",
     "text": [
      "3 106348.4 -75015.22289748477\n",
      "4 73679.8 -32668.584022622847\n",
      "5 44448.5 -29231.333591554634\n",
      "6 37265.9 -7182.59024309025\n",
      "7 30259.7 -7006.207997557991\n",
      "8 25094.4 -5165.224276490771\n",
      "9 21830.0 -3264.3909527452597\n",
      "10 19657.8 -2172.25836934548\n",
      "11 17546.5 -2111.267929914051\n",
      "12 16250.7 -1295.8269023702487\n",
      "13 14594.3 -1656.4117664291462\n",
      "14 13163.5 -1430.7740906875915\n",
      "15 12245.3 -918.2076689976693\n",
      "16 10924.3 -1320.9950456248735\n",
      "17 10108.0 -816.2946042350704\n",
      "18 9511.6 -596.4174079117201\n",
      "19 8592.7 -918.853927523236\n",
      "20 8117.7 -475.04059493773184\n",
      "21 7609.5 -508.1765203141658\n",
      "22 7288.8 -320.7597411539864\n",
      "23 6976.2 -312.60002914182314\n",
      "24 6485.8 -490.36266782304665\n",
      "Based on this analysis, I think the best number of clusters is ___\n"
     ]
    }
   ],
   "source": [
    "#PID:11\n",
    "#\n",
    "# Task: determine the best number of clusters based on inertia\n",
    "#\n",
    "import pandas\n",
    "from sklearn.cluster import KMeans\n",
    "import seaborn\n",
    "\n",
    "# load data and define features\n",
    "customers = pandas.read_csv('../Datasets/Mall_Customers.csv')\n",
    "features = customers[['Annual Income (k$)', 'Spending Score (1-100)']]\n",
    "\n",
    "# for each number of clusters k, cluster, and print out the inertia\n",
    "last_inertia = 0\n",
    "for k in range(2, 25):\n",
    "    model = KMeans(n_clusters=k)\n",
    "    model.fit(features)\n",
    "    inertia = model.inertia_\n",
    "    if k>2:\n",
    "        delta = inertia - last_inertia\n",
    "        print(k, round(inertia,1), delta)\n",
    "    last_inertia = inertia\n",
    "\n",
    "print('Based on this analysis, I think the best number of clusters is ___')"
   ]
  },
  {
   "cell_type": "code",
   "execution_count": 111,
   "id": "1e3f4441-96cd-432a-9fe8-1337c4690462",
   "metadata": {},
   "outputs": [],
   "source": [
    "model = KMeans(n_clusters=5)\n",
    "model.fit(features)\n",
    "customers['clusters'] = model.labels_"
   ]
  },
  {
   "cell_type": "code",
   "execution_count": 112,
   "id": "e9af91a6-902e-4500-ba7b-81a5aa1d0a94",
   "metadata": {},
   "outputs": [
    {
     "data": {
      "text/plain": [
       "<seaborn.axisgrid.FacetGrid at 0x14ce15010>"
      ]
     },
     "execution_count": 112,
     "metadata": {},
     "output_type": "execute_result"
    },
    {
     "data": {
      "image/png": "[encoded data removed]",
      "text/plain": [
       "<Figure size 335.361x270 with 1 Axes>"
      ]
     },
     "metadata": {},
     "output_type": "display_data"
    }
   ],
   "source": [
    "relplot(data=customers, \n",
    "        x='Annual Income (k$)', \n",
    "        y='Spending Score (1-100)', \n",
    "        hue='clusters', height=2.7) "
   ]
  },
  {
   "cell_type": "code",
   "execution_count": 113,
   "id": "077ab494-a422-4388-bc12-2fd6d050abae",
   "metadata": {},
   "outputs": [
    {
     "data": {
      "text/html": [
       "<div>\n",
       "<style scoped>\n",
       "    .dataframe tbody tr th:only-of-type {\n",
       "        vertical-align: middle;\n",
       "    }\n",
       "\n",
       "    .dataframe tbody tr th {\n",
       "        vertical-align: top;\n",
       "    }\n",
       "\n",
       "    .dataframe thead th {\n",
       "        text-align: right;\n",
       "    }\n",
       "</style>\n",
       "<table border=\"1\" class=\"dataframe\">\n",
       "  <thead>\n",
       "    <tr style=\"text-align: right;\">\n",
       "      <th></th>\n",
       "      <th>Age</th>\n",
       "      <th>Annual Income (k$)</th>\n",
       "      <th>Spending Score (1-100)</th>\n",
       "    </tr>\n",
       "    <tr>\n",
       "      <th>clusters</th>\n",
       "      <th></th>\n",
       "      <th></th>\n",
       "      <th></th>\n",
       "    </tr>\n",
       "  </thead>\n",
       "  <tbody>\n",
       "    <tr>\n",
       "      <th>0</th>\n",
       "      <td>25.3</td>\n",
       "      <td>25.7</td>\n",
       "      <td>79.4</td>\n",
       "    </tr>\n",
       "    <tr>\n",
       "      <th>1</th>\n",
       "      <td>32.7</td>\n",
       "      <td>86.5</td>\n",
       "      <td>82.1</td>\n",
       "    </tr>\n",
       "    <tr>\n",
       "      <th>2</th>\n",
       "      <td>41.1</td>\n",
       "      <td>88.2</td>\n",
       "      <td>17.1</td>\n",
       "    </tr>\n",
       "    <tr>\n",
       "      <th>3</th>\n",
       "      <td>45.2</td>\n",
       "      <td>26.3</td>\n",
       "      <td>20.9</td>\n",
       "    </tr>\n",
       "    <tr>\n",
       "      <th>4</th>\n",
       "      <td>42.7</td>\n",
       "      <td>55.3</td>\n",
       "      <td>49.5</td>\n",
       "    </tr>\n",
       "  </tbody>\n",
       "</table>\n",
       "</div>"
      ],
      "text/plain": [
       "           Age  Annual Income (k$)  Spending Score (1-100)\n",
       "clusters                                                  \n",
       "0         25.3                25.7                    79.4\n",
       "1         32.7                86.5                    82.1\n",
       "2         41.1                88.2                    17.1\n",
       "3         45.2                26.3                    20.9\n",
       "4         42.7                55.3                    49.5"
      ]
     },
     "execution_count": 113,
     "metadata": {},
     "output_type": "execute_result"
    }
   ],
   "source": [
    "customers.groupby('clusters')[['Age','Annual Income (k$)','Spending Score (1-100)']].mean().round(1)"
   ]
  },
  {
   "cell_type": "code",
   "execution_count": 115,
   "id": "d138ca98-fec2-4a90-8368-9d9476436fb4",
   "metadata": {},
   "outputs": [
    {
     "data": {
      "text/html": [
       "<div>\n",
       "<style scoped>\n",
       "    .dataframe tbody tr th:only-of-type {\n",
       "        vertical-align: middle;\n",
       "    }\n",
       "\n",
       "    .dataframe tbody tr th {\n",
       "        vertical-align: top;\n",
       "    }\n",
       "\n",
       "    .dataframe thead th {\n",
       "        text-align: right;\n",
       "    }\n",
       "</style>\n",
       "<table border=\"1\" class=\"dataframe\">\n",
       "  <thead>\n",
       "    <tr style=\"text-align: right;\">\n",
       "      <th></th>\n",
       "      <th>CustomerID</th>\n",
       "      <th>Age</th>\n",
       "      <th>Annual Income (k$)</th>\n",
       "      <th>Spending Score (1-100)</th>\n",
       "      <th>clusters</th>\n",
       "    </tr>\n",
       "  </thead>\n",
       "  <tbody>\n",
       "    <tr>\n",
       "      <th>min</th>\n",
       "      <td>1.0</td>\n",
       "      <td>18.0</td>\n",
       "      <td>15.0</td>\n",
       "      <td>1.0</td>\n",
       "      <td>0.0</td>\n",
       "    </tr>\n",
       "    <tr>\n",
       "      <th>max</th>\n",
       "      <td>200.0</td>\n",
       "      <td>70.0</td>\n",
       "      <td>137.0</td>\n",
       "      <td>99.0</td>\n",
       "      <td>4.0</td>\n",
       "    </tr>\n",
       "  </tbody>\n",
       "</table>\n",
       "</div>"
      ],
      "text/plain": [
       "     CustomerID   Age  Annual Income (k$)  Spending Score (1-100)  clusters\n",
       "min         1.0  18.0                15.0                     1.0       0.0\n",
       "max       200.0  70.0               137.0                    99.0       4.0"
      ]
     },
     "execution_count": 115,
     "metadata": {},
     "output_type": "execute_result"
    }
   ],
   "source": [
    "customers.describe().round(1).loc[['min','max']]"
   ]
  },
  {
   "cell_type": "code",
   "execution_count": null,
   "id": "e3d9f363-f547-49fa-bf0e-6b798802c199",
   "metadata": {},
   "outputs": [],
   "source": []
  }
 ],
 "metadata": {
  "kernelspec": {
   "display_name": "Python 3 (ipykernel)",
   "language": "python",
   "name": "python3"
  },
  "language_info": {
   "codemirror_mode": {
    "name": "ipython",
    "version": 3
   },
   "file_extension": ".py",
   "mimetype": "text/x-python",
   "name": "python",
   "nbconvert_exporter": "python",
   "pygments_lexer": "ipython3",
   "version": "3.9.18"
  }
 },
 "nbformat": 4,
 "nbformat_minor": 5
}
