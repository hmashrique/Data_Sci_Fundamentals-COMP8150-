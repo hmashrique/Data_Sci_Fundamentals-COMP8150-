{
 "cells": [
  {
   "cell_type": "markdown",
   "id": "8b07d27a-70d4-46d0-bb86-6a7ce30c926f",
   "metadata": {},
   "source": [
    "# Clustering Evaluation"
   ]
  },
  {
   "cell_type": "code",
   "execution_count": 10,
   "id": "0243675d-a2e1-469b-8b96-730bb4300bbb",
   "metadata": {},
   "outputs": [],
   "source": [
    "import warnings\n",
    "warnings.filterwarnings('ignore')"
   ]
  },
  {
   "cell_type": "markdown",
   "id": "b1c942c8-35f2-4f6a-8579-191e19c24bab",
   "metadata": {},
   "source": [
    "First, get the data and convert categorical variables to numerical variables."
   ]
  },
  {
   "cell_type": "code",
   "execution_count": 1,
   "id": "58652f99-f7c6-41a4-beed-cea2040b9c68",
   "metadata": {},
   "outputs": [
    {
     "data": {
      "text/html": [
       "<div>\n",
       "<style scoped>\n",
       "    .dataframe tbody tr th:only-of-type {\n",
       "        vertical-align: middle;\n",
       "    }\n",
       "\n",
       "    .dataframe tbody tr th {\n",
       "        vertical-align: top;\n",
       "    }\n",
       "\n",
       "    .dataframe thead th {\n",
       "        text-align: right;\n",
       "    }\n",
       "</style>\n",
       "<table border=\"1\" class=\"dataframe\">\n",
       "  <thead>\n",
       "    <tr style=\"text-align: right;\">\n",
       "      <th></th>\n",
       "      <th>SepalLength</th>\n",
       "      <th>SepalWidth</th>\n",
       "      <th>PetalLength</th>\n",
       "      <th>PetalWidth</th>\n",
       "      <th>Species_setosa</th>\n",
       "      <th>Species_versicolor</th>\n",
       "      <th>Species_virginica</th>\n",
       "    </tr>\n",
       "  </thead>\n",
       "  <tbody>\n",
       "    <tr>\n",
       "      <th>92</th>\n",
       "      <td>5.8</td>\n",
       "      <td>2.6</td>\n",
       "      <td>4.0</td>\n",
       "      <td>1.2</td>\n",
       "      <td>0</td>\n",
       "      <td>1</td>\n",
       "      <td>0</td>\n",
       "    </tr>\n",
       "    <tr>\n",
       "      <th>148</th>\n",
       "      <td>6.2</td>\n",
       "      <td>3.4</td>\n",
       "      <td>5.4</td>\n",
       "      <td>2.3</td>\n",
       "      <td>0</td>\n",
       "      <td>0</td>\n",
       "      <td>1</td>\n",
       "    </tr>\n",
       "    <tr>\n",
       "      <th>115</th>\n",
       "      <td>6.4</td>\n",
       "      <td>3.2</td>\n",
       "      <td>5.3</td>\n",
       "      <td>2.3</td>\n",
       "      <td>0</td>\n",
       "      <td>0</td>\n",
       "      <td>1</td>\n",
       "    </tr>\n",
       "  </tbody>\n",
       "</table>\n",
       "</div>"
      ],
      "text/plain": [
       "     SepalLength  SepalWidth  PetalLength  PetalWidth  Species_setosa  \\\n",
       "92           5.8         2.6          4.0         1.2               0   \n",
       "148          6.2         3.4          5.4         2.3               0   \n",
       "115          6.4         3.2          5.3         2.3               0   \n",
       "\n",
       "     Species_versicolor  Species_virginica  \n",
       "92                    1                  0  \n",
       "148                   0                  1  \n",
       "115                   0                  1  "
      ]
     },
     "execution_count": 1,
     "metadata": {},
     "output_type": "execute_result"
    }
   ],
   "source": [
    "import pandas\n",
    "\n",
    "iris = pandas.read_csv('../Datasets/iris.csv')\n",
    "iris = pandas.get_dummies(iris)\n",
    "iris.sample(3)"
   ]
  },
  {
   "cell_type": "markdown",
   "id": "1e2e9f90-3657-476c-91c6-18979bc80ec2",
   "metadata": {},
   "source": [
    "Second, standardize the data.  (This might not be necessary.  In practice, we might want to compare 3 cases: unprocessed data, normalized, and standardized data)."
   ]
  },
  {
   "cell_type": "code",
   "execution_count": 8,
   "id": "4ce7556c-3d9f-4fe5-b128-8fc6802a8556",
   "metadata": {},
   "outputs": [
    {
     "data": {
      "text/plain": [
       "array([-0.90068117,  1.01900435, -1.34022653, -1.3154443 ,  1.41421356,\n",
       "       -0.70710678, -0.70710678])"
      ]
     },
     "execution_count": 8,
     "metadata": {},
     "output_type": "execute_result"
    }
   ],
   "source": [
    "from sklearn.preprocessing import StandardScaler\n",
    "\n",
    "data = StandardScaler().fit_transform(iris)\n",
    "data[0]"
   ]
  },
  {
   "cell_type": "markdown",
   "id": "a6bb1cd4-77a1-4593-85a6-9d78d2a92dec",
   "metadata": {},
   "source": [
    "Third, we might consider transforming the data using PCA.  For now, we'll just cluster them."
   ]
  },
  {
   "cell_type": "code",
   "execution_count": 18,
   "id": "90959b9c-449d-4715-a62d-b9faa0247cc4",
   "metadata": {},
   "outputs": [
    {
     "data": {
      "text/html": [
       "<style>#sk-container-id-5 {color: black;}#sk-container-id-5 pre{padding: 0;}#sk-container-id-5 div.sk-toggleable {background-color: white;}#sk-container-id-5 label.sk-toggleable__label {cursor: pointer;display: block;width: 100%;margin-bottom: 0;padding: 0.3em;box-sizing: border-box;text-align: center;}#sk-container-id-5 label.sk-toggleable__label-arrow:before {content: \"▸\";float: left;margin-right: 0.25em;color: #696969;}#sk-container-id-5 label.sk-toggleable__label-arrow:hover:before {color: black;}#sk-container-id-5 div.sk-estimator:hover label.sk-toggleable__label-arrow:before {color: black;}#sk-container-id-5 div.sk-toggleable__content {max-height: 0;max-width: 0;overflow: hidden;text-align: left;background-color: #f0f8ff;}#sk-container-id-5 div.sk-toggleable__content pre {margin: 0.2em;color: black;border-radius: 0.25em;background-color: #f0f8ff;}#sk-container-id-5 input.sk-toggleable__control:checked~div.sk-toggleable__content {max-height: 200px;max-width: 100%;overflow: auto;}#sk-container-id-5 input.sk-toggleable__control:checked~label.sk-toggleable__label-arrow:before {content: \"▾\";}#sk-container-id-5 div.sk-estimator input.sk-toggleable__control:checked~label.sk-toggleable__label {background-color: #d4ebff;}#sk-container-id-5 div.sk-label input.sk-toggleable__control:checked~label.sk-toggleable__label {background-color: #d4ebff;}#sk-container-id-5 input.sk-hidden--visually {border: 0;clip: rect(1px 1px 1px 1px);clip: rect(1px, 1px, 1px, 1px);height: 1px;margin: -1px;overflow: hidden;padding: 0;position: absolute;width: 1px;}#sk-container-id-5 div.sk-estimator {font-family: monospace;background-color: #f0f8ff;border: 1px dotted black;border-radius: 0.25em;box-sizing: border-box;margin-bottom: 0.5em;}#sk-container-id-5 div.sk-estimator:hover {background-color: #d4ebff;}#sk-container-id-5 div.sk-parallel-item::after {content: \"\";width: 100%;border-bottom: 1px solid gray;flex-grow: 1;}#sk-container-id-5 div.sk-label:hover label.sk-toggleable__label {background-color: #d4ebff;}#sk-container-id-5 div.sk-serial::before {content: \"\";position: absolute;border-left: 1px solid gray;box-sizing: border-box;top: 0;bottom: 0;left: 50%;z-index: 0;}#sk-container-id-5 div.sk-serial {display: flex;flex-direction: column;align-items: center;background-color: white;padding-right: 0.2em;padding-left: 0.2em;position: relative;}#sk-container-id-5 div.sk-item {position: relative;z-index: 1;}#sk-container-id-5 div.sk-parallel {display: flex;align-items: stretch;justify-content: center;background-color: white;position: relative;}#sk-container-id-5 div.sk-item::before, #sk-container-id-5 div.sk-parallel-item::before {content: \"\";position: absolute;border-left: 1px solid gray;box-sizing: border-box;top: 0;bottom: 0;left: 50%;z-index: -1;}#sk-container-id-5 div.sk-parallel-item {display: flex;flex-direction: column;z-index: 1;position: relative;background-color: white;}#sk-container-id-5 div.sk-parallel-item:first-child::after {align-self: flex-end;width: 50%;}#sk-container-id-5 div.sk-parallel-item:last-child::after {align-self: flex-start;width: 50%;}#sk-container-id-5 div.sk-parallel-item:only-child::after {width: 0;}#sk-container-id-5 div.sk-dashed-wrapped {border: 1px dashed gray;margin: 0 0.4em 0.5em 0.4em;box-sizing: border-box;padding-bottom: 0.4em;background-color: white;}#sk-container-id-5 div.sk-label label {font-family: monospace;font-weight: bold;display: inline-block;line-height: 1.2em;}#sk-container-id-5 div.sk-label-container {text-align: center;}#sk-container-id-5 div.sk-container {/* jupyter's `normalize.less` sets `[hidden] { display: none; }` but bootstrap.min.css set `[hidden] { display: none !important; }` so we also need the `!important` here to be able to override the default hidden behavior on the sphinx rendered scikit-learn.org. See: https://github.com/scikit-learn/scikit-learn/issues/21755 */display: inline-block !important;position: relative;}#sk-container-id-5 div.sk-text-repr-fallback {display: none;}</style><div id=\"sk-container-id-5\" class=\"sk-top-container\"><div class=\"sk-text-repr-fallback\"><pre>KMeans(n_clusters=6)</pre><b>In a Jupyter environment, please rerun this cell to show the HTML representation or trust the notebook. <br />On GitHub, the HTML representation is unable to render, please try loading this page with nbviewer.org.</b></div><div class=\"sk-container\" hidden><div class=\"sk-item\"><div class=\"sk-estimator sk-toggleable\"><input class=\"sk-toggleable__control sk-hidden--visually\" id=\"sk-estimator-id-5\" type=\"checkbox\" checked><label for=\"sk-estimator-id-5\" class=\"sk-toggleable__label sk-toggleable__label-arrow\">KMeans</label><div class=\"sk-toggleable__content\"><pre>KMeans(n_clusters=6)</pre></div></div></div></div></div>"
      ],
      "text/plain": [
       "KMeans(n_clusters=6)"
      ]
     },
     "execution_count": 18,
     "metadata": {},
     "output_type": "execute_result"
    }
   ],
   "source": [
    "from sklearn.cluster import KMeans\n",
    "\n",
    "kmean = KMeans(n_clusters=6)\n",
    "kmean.fit(data)"
   ]
  },
  {
   "cell_type": "markdown",
   "id": "c6951c4b-f912-4f81-80db-35dac1180b86",
   "metadata": {
    "tags": []
   },
   "source": [
    "### Evaluating Clustering Performance\n",
    "\n",
    "Often, we don't have a \"ground truth\" (e.g. species) to evaluate the result of a clustering performance.\n",
    "\n",
    "Two popular methods of evaluating clustering performance:\n",
    "* inertia\n",
    "* silhouette score\n",
    "\n",
    "The silhouette score of a clustering is between -1 (bad) and 1 (good). This is a combined score of how tight the clusters are and how far they are apart from each other.\n",
    "\n",
    "In contrast, inertia only measures how tight the clusters are.\n",
    "\n",
    "First, we need to cluster the data."
   ]
  },
  {
   "cell_type": "code",
   "execution_count": 13,
   "id": "c14338e8-6b63-41f8-9122-aad4050255fa",
   "metadata": {
    "tags": []
   },
   "outputs": [
    {
     "data": {
      "text/html": [
       "<style>#sk-container-id-3 {color: black;}#sk-container-id-3 pre{padding: 0;}#sk-container-id-3 div.sk-toggleable {background-color: white;}#sk-container-id-3 label.sk-toggleable__label {cursor: pointer;display: block;width: 100%;margin-bottom: 0;padding: 0.3em;box-sizing: border-box;text-align: center;}#sk-container-id-3 label.sk-toggleable__label-arrow:before {content: \"▸\";float: left;margin-right: 0.25em;color: #696969;}#sk-container-id-3 label.sk-toggleable__label-arrow:hover:before {color: black;}#sk-container-id-3 div.sk-estimator:hover label.sk-toggleable__label-arrow:before {color: black;}#sk-container-id-3 div.sk-toggleable__content {max-height: 0;max-width: 0;overflow: hidden;text-align: left;background-color: #f0f8ff;}#sk-container-id-3 div.sk-toggleable__content pre {margin: 0.2em;color: black;border-radius: 0.25em;background-color: #f0f8ff;}#sk-container-id-3 input.sk-toggleable__control:checked~div.sk-toggleable__content {max-height: 200px;max-width: 100%;overflow: auto;}#sk-container-id-3 input.sk-toggleable__control:checked~label.sk-toggleable__label-arrow:before {content: \"▾\";}#sk-container-id-3 div.sk-estimator input.sk-toggleable__control:checked~label.sk-toggleable__label {background-color: #d4ebff;}#sk-container-id-3 div.sk-label input.sk-toggleable__control:checked~label.sk-toggleable__label {background-color: #d4ebff;}#sk-container-id-3 input.sk-hidden--visually {border: 0;clip: rect(1px 1px 1px 1px);clip: rect(1px, 1px, 1px, 1px);height: 1px;margin: -1px;overflow: hidden;padding: 0;position: absolute;width: 1px;}#sk-container-id-3 div.sk-estimator {font-family: monospace;background-color: #f0f8ff;border: 1px dotted black;border-radius: 0.25em;box-sizing: border-box;margin-bottom: 0.5em;}#sk-container-id-3 div.sk-estimator:hover {background-color: #d4ebff;}#sk-container-id-3 div.sk-parallel-item::after {content: \"\";width: 100%;border-bottom: 1px solid gray;flex-grow: 1;}#sk-container-id-3 div.sk-label:hover label.sk-toggleable__label {background-color: #d4ebff;}#sk-container-id-3 div.sk-serial::before {content: \"\";position: absolute;border-left: 1px solid gray;box-sizing: border-box;top: 0;bottom: 0;left: 50%;z-index: 0;}#sk-container-id-3 div.sk-serial {display: flex;flex-direction: column;align-items: center;background-color: white;padding-right: 0.2em;padding-left: 0.2em;position: relative;}#sk-container-id-3 div.sk-item {position: relative;z-index: 1;}#sk-container-id-3 div.sk-parallel {display: flex;align-items: stretch;justify-content: center;background-color: white;position: relative;}#sk-container-id-3 div.sk-item::before, #sk-container-id-3 div.sk-parallel-item::before {content: \"\";position: absolute;border-left: 1px solid gray;box-sizing: border-box;top: 0;bottom: 0;left: 50%;z-index: -1;}#sk-container-id-3 div.sk-parallel-item {display: flex;flex-direction: column;z-index: 1;position: relative;background-color: white;}#sk-container-id-3 div.sk-parallel-item:first-child::after {align-self: flex-end;width: 50%;}#sk-container-id-3 div.sk-parallel-item:last-child::after {align-self: flex-start;width: 50%;}#sk-container-id-3 div.sk-parallel-item:only-child::after {width: 0;}#sk-container-id-3 div.sk-dashed-wrapped {border: 1px dashed gray;margin: 0 0.4em 0.5em 0.4em;box-sizing: border-box;padding-bottom: 0.4em;background-color: white;}#sk-container-id-3 div.sk-label label {font-family: monospace;font-weight: bold;display: inline-block;line-height: 1.2em;}#sk-container-id-3 div.sk-label-container {text-align: center;}#sk-container-id-3 div.sk-container {/* jupyter's `normalize.less` sets `[hidden] { display: none; }` but bootstrap.min.css set `[hidden] { display: none !important; }` so we also need the `!important` here to be able to override the default hidden behavior on the sphinx rendered scikit-learn.org. See: https://github.com/scikit-learn/scikit-learn/issues/21755 */display: inline-block !important;position: relative;}#sk-container-id-3 div.sk-text-repr-fallback {display: none;}</style><div id=\"sk-container-id-3\" class=\"sk-top-container\"><div class=\"sk-text-repr-fallback\"><pre>KMeans(n_clusters=6)</pre><b>In a Jupyter environment, please rerun this cell to show the HTML representation or trust the notebook. <br />On GitHub, the HTML representation is unable to render, please try loading this page with nbviewer.org.</b></div><div class=\"sk-container\" hidden><div class=\"sk-item\"><div class=\"sk-estimator sk-toggleable\"><input class=\"sk-toggleable__control sk-hidden--visually\" id=\"sk-estimator-id-3\" type=\"checkbox\" checked><label for=\"sk-estimator-id-3\" class=\"sk-toggleable__label sk-toggleable__label-arrow\">KMeans</label><div class=\"sk-toggleable__content\"><pre>KMeans(n_clusters=6)</pre></div></div></div></div></div>"
      ],
      "text/plain": [
       "KMeans(n_clusters=6)"
      ]
     },
     "execution_count": 13,
     "metadata": {},
     "output_type": "execute_result"
    }
   ],
   "source": [
    "from sklearn.metrics import silhouette_score\n",
    "\n",
    "kmean.fit(data)\n"
   ]
  },
  {
   "cell_type": "code",
   "execution_count": 14,
   "id": "13fc2b55-52fe-4c1b-9ef6-bd7383bb058e",
   "metadata": {},
   "outputs": [
    {
     "name": "stdout",
     "output_type": "stream",
     "text": [
      "85.28257238186514\n"
     ]
    }
   ],
   "source": [
    "print(kmean.inertia_)"
   ]
  },
  {
   "cell_type": "code",
   "execution_count": 16,
   "id": "c92316ad-2a63-4746-95b5-12a7687de0a5",
   "metadata": {},
   "outputs": [],
   "source": [
    "from sklearn.metrics import silhouette_score "
   ]
  },
  {
   "cell_type": "code",
   "execution_count": 17,
   "id": "4a986382-2ddd-442a-889b-f1a0dd082fbe",
   "metadata": {},
   "outputs": [
    {
     "name": "stdout",
     "output_type": "stream",
     "text": [
      "0.39853132283140574\n"
     ]
    }
   ],
   "source": [
    "print(silhouette_score(data, kmean.labels_))"
   ]
  },
  {
   "cell_type": "markdown",
   "id": "0ba7f013-e325-4d34-8315-b7ca7ad45f61",
   "metadata": {},
   "source": [
    "#### Silhouette coefficient\n",
    "\n",
    "$s(x) = {b(x) - a(x) \\over b(x)}$.  (Assuming that a(x) < b(x))\n",
    "\n",
    "* a(x) - the average distance between x and the other points in the same cluster as x.\n",
    "* b(x) - the smallest average distance between x and points in any other cluster.\n",
    "* Given a typical dataset and a decent algorithm, a(x) < b(x).\n"
   ]
  },
  {
   "cell_type": "markdown",
   "id": "056d954b-70da-42bf-8b5a-23dd3a3002d1",
   "metadata": {},
   "source": [
    "Observations:\n",
    "* If the cluster containing x is tight, a(x) is small.\n",
    "* If the cluster containing x is far from the other clusters, b(x) is large.\n",
    "* If a clustering algorithm does a good job, s(x) is close to 1."
   ]
  },
  {
   "cell_type": "markdown",
   "id": "11627b53-2bbe-45db-8d7e-c515207dc228",
   "metadata": {},
   "source": [
    "#### Silhouette score\n",
    "\n",
    "The silhouette score is the average silhouette coefficients of all data points."
   ]
  },
  {
   "cell_type": "code",
   "execution_count": 25,
   "id": "0e248001-ab72-4925-a671-7b105330ecf1",
   "metadata": {},
   "outputs": [
    {
     "name": "stdout",
     "output_type": "stream",
     "text": [
      "447.361704965023 0.560966798611912\n",
      "166.5385159539896 0.6574023399250883\n",
      "136.90766779486216 0.5707728066997068\n",
      "111.1794098707951 0.46770952009617267\n",
      "85.52894536833564 0.390927305096967\n",
      "76.14019868247635 0.3928383513184\n",
      "65.81538053691301 0.3882397524062864\n",
      "57.67104648196529 0.4073348278800671\n",
      "50.2547000619101 0.38123470997716946\n",
      "46.3518906880454 0.38866440513301637\n",
      "43.756209399427576 0.36344244140458426\n",
      "40.477494647181516 0.37028310773206036\n",
      "37.89012717453981 0.3523906593031642\n",
      "34.78878506395903 0.3696123919934227\n",
      "33.25417433959703 0.3586522329066216\n",
      "31.445488204667676 0.34322354117848464\n",
      "29.64925414755887 0.333795922814855\n",
      "27.186395725690925 0.3358492033981683\n",
      "26.425581083513585 0.3461044039808576\n",
      "25.243807976856274 0.3191030180126243\n",
      "23.169971865671066 0.32793982688810686\n",
      "22.778003201594395 0.2853266914798472\n",
      "21.54074506598006 0.29457786891532406\n",
      "20.306878657946136 0.3218623763721918\n",
      "19.85957362543118 0.3290551500707977\n",
      "19.009376061008936 0.3009859769443441\n",
      "18.637746910100606 0.300510517392503\n",
      "17.79573907441279 0.30159368326999103\n",
      "17.36128255682969 0.28611123440467046\n",
      "16.666398308933754 0.283231260882857\n",
      "15.673922161467196 0.2894488323574247\n",
      "14.88651700402546 0.291669684841348\n",
      "14.452049321451891 0.2783165253898678\n",
      "14.181473426410175 0.2983554474399028\n",
      "13.589910062839278 0.2831578519904584\n",
      "13.266332614482177 0.28889499829050325\n",
      "12.920769883039416 0.2871577560694956\n",
      "11.882663971366268 0.28517931659953083\n",
      "11.585900083823294 0.30663481376530416\n",
      "11.599938107444933 0.28233184367835296\n",
      "10.963944280990578 0.2809681145240668\n",
      "10.671598722296014 0.2940280752621701\n",
      "10.12137989039396 0.2873915183460113\n",
      "10.019739141473769 0.27753038373737193\n",
      "9.776607372734475 0.28216106920922457\n",
      "9.623310791523881 0.2827370146358277\n",
      "8.832665829071308 0.2884777901104699\n",
      "8.86668130588319 0.2729535817350405\n"
     ]
    }
   ],
   "source": [
    "#### Exercise: compare the inertia and silhouette scores for various number of clusters\n",
    "\n",
    "import pandas\n",
    "from sklearn.preprocessing import StandardScaler\n",
    "from sklearn.cluster import KMeans\n",
    "import seaborn\n",
    "\n",
    "# 1. Get the data\n",
    "iris = pandas.read_csv('../Datasets/iris.csv')\n",
    "iris = pandas.get_dummies(iris)\n",
    "data = StandardScaler().fit_transform(iris)\n",
    "\n",
    "# 2. Show the inertia and silhouette score with n_clusters from 2 to 40.\n",
    "    \n",
    "# 3. Visualize the inertias and estimate the best value of n_clusters (i.e. identify the elbow)\n",
    "inertias = []\n",
    "\n",
    "# seaborn.relplot(x=range(2,40), y=inertias)\n",
    "\n",
    "# 4. Visualize the silhouette scores and estimate the best value of n_clusters (i.e. identify the elbow)\n",
    "scores = []\n",
    "\n",
    "# seaborn.relplot(x=range(2,40), y=scores)"
   ]
  },
  {
   "cell_type": "code",
   "execution_count": null,
   "id": "3a5b7982-8a57-420e-9f50-64e0a1809c42",
   "metadata": {},
   "outputs": [],
   "source": []
  }
 ],
 "metadata": {
  "kernelspec": {
   "display_name": "Python 3 (ipykernel)",
   "language": "python",
   "name": "python3"
  },
  "language_info": {
   "codemirror_mode": {
    "name": "ipython",
    "version": 3
   },
   "file_extension": ".py",
   "mimetype": "text/x-python",
   "name": "python",
   "nbconvert_exporter": "python",
   "pygments_lexer": "ipython3",
   "version": "3.9.18"
  }
 },
 "nbformat": 4,
 "nbformat_minor": 5
}
