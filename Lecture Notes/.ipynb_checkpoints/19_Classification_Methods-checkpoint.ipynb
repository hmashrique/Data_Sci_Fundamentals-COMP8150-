{
 "cells": [
  {
   "cell_type": "markdown",
   "id": "782ab67b-6c3e-4871-97a5-86d905c5d0de",
   "metadata": {},
   "source": [
    "# Classification Methods\n",
    "\n",
    "* Dummy Baseline\n",
    "* K Nearest Neigbhor\n",
    "* Decision Tree: gini impurity\n",
    "* Random Forest\n",
    "* Support Vector\n",
    "* Logistic Regression"
   ]
  },
  {
   "cell_type": "code",
   "execution_count": null,
   "id": "35e56706-81ad-4835-ab03-9bfefd2b7be2",
   "metadata": {},
   "outputs": [],
   "source": []
  },
  {
   "cell_type": "code",
   "execution_count": 3,
   "id": "b4ebf827-440d-43e5-878d-51a3037b69bf",
   "metadata": {},
   "outputs": [
    {
     "data": {
      "text/html": [
       "<div>\n",
       "<style scoped>\n",
       "    .dataframe tbody tr th:only-of-type {\n",
       "        vertical-align: middle;\n",
       "    }\n",
       "\n",
       "    .dataframe tbody tr th {\n",
       "        vertical-align: top;\n",
       "    }\n",
       "\n",
       "    .dataframe thead th {\n",
       "        text-align: right;\n",
       "    }\n",
       "</style>\n",
       "<table border=\"1\" class=\"dataframe\">\n",
       "  <thead>\n",
       "    <tr style=\"text-align: right;\">\n",
       "      <th></th>\n",
       "      <th>Pregnancies</th>\n",
       "      <th>Glucose</th>\n",
       "      <th>BloodPressure</th>\n",
       "      <th>SkinThickness</th>\n",
       "      <th>Insulin</th>\n",
       "      <th>BMI</th>\n",
       "      <th>DiabetesPedigreeFunction</th>\n",
       "      <th>Age</th>\n",
       "      <th>Outcome</th>\n",
       "    </tr>\n",
       "  </thead>\n",
       "  <tbody>\n",
       "    <tr>\n",
       "      <th>297</th>\n",
       "      <td>0</td>\n",
       "      <td>126</td>\n",
       "      <td>84</td>\n",
       "      <td>29</td>\n",
       "      <td>215</td>\n",
       "      <td>30.7</td>\n",
       "      <td>0.520</td>\n",
       "      <td>24</td>\n",
       "      <td>0</td>\n",
       "    </tr>\n",
       "    <tr>\n",
       "      <th>315</th>\n",
       "      <td>2</td>\n",
       "      <td>112</td>\n",
       "      <td>68</td>\n",
       "      <td>22</td>\n",
       "      <td>94</td>\n",
       "      <td>34.1</td>\n",
       "      <td>0.315</td>\n",
       "      <td>26</td>\n",
       "      <td>0</td>\n",
       "    </tr>\n",
       "    <tr>\n",
       "      <th>137</th>\n",
       "      <td>0</td>\n",
       "      <td>93</td>\n",
       "      <td>60</td>\n",
       "      <td>25</td>\n",
       "      <td>92</td>\n",
       "      <td>28.7</td>\n",
       "      <td>0.532</td>\n",
       "      <td>22</td>\n",
       "      <td>0</td>\n",
       "    </tr>\n",
       "  </tbody>\n",
       "</table>\n",
       "</div>"
      ],
      "text/plain": [
       "     Pregnancies  Glucose  BloodPressure  SkinThickness  Insulin   BMI  \\\n",
       "297            0      126             84             29      215  30.7   \n",
       "315            2      112             68             22       94  34.1   \n",
       "137            0       93             60             25       92  28.7   \n",
       "\n",
       "     DiabetesPedigreeFunction  Age  Outcome  \n",
       "297                     0.520   24        0  \n",
       "315                     0.315   26        0  \n",
       "137                     0.532   22        0  "
      ]
     },
     "execution_count": 3,
     "metadata": {},
     "output_type": "execute_result"
    }
   ],
   "source": [
    "import pandas\n",
    "from sklearn.preprocessing import StandardScaler\n",
    "\n",
    "diabetes = pandas.read_csv('../Datasets/diabetes.csv')\n",
    "diabetes.sample(3)\n"
   ]
  },
  {
   "cell_type": "code",
   "execution_count": 4,
   "id": "fd43b212-7bfd-4c1c-8a7c-d48b1a053a83",
   "metadata": {},
   "outputs": [],
   "source": [
    "from sklearn.preprocessing import StandardScaler\n",
    "\n",
    "y = diabetes['Outcome']\n",
    "X = diabetes.drop(columns=['Outcome'])\n",
    "X = pandas.DataFrame(\n",
    "    data = StandardScaler().fit_transform(X),\n",
    "    columns = X.columns,\n",
    ")"
   ]
  },
  {
   "cell_type": "markdown",
   "id": "66e91b49-e3e9-48a2-8cf0-2eb4d557cabd",
   "metadata": {},
   "source": [
    "### Baseline Classifier"
   ]
  },
  {
   "cell_type": "code",
   "execution_count": 6,
   "id": "c1799a24-02e4-4f9c-bac1-306756139caa",
   "metadata": {},
   "outputs": [
    {
     "data": {
      "text/plain": [
       "0.65"
      ]
     },
     "execution_count": 6,
     "metadata": {},
     "output_type": "execute_result"
    }
   ],
   "source": [
    "from sklearn.dummy import DummyClassifier\n",
    "from sklearn.model_selection import cross_validate, ShuffleSplit\n",
    "from sklearn.metrics import accuracy_score\n",
    "\n",
    "baseline = DummyClassifier(strategy='most_frequent')\n",
    "validator = ShuffleSplit(n_splits=100, test_size=0.05)\n",
    "result = cross_validate(baseline, X, y, cv=validator, scoring=['accuracy'])\n",
    "result['test_accuracy'].mean().round(2)"
   ]
  },
  {
   "cell_type": "markdown",
   "id": "afcef6af-3fa9-4c5e-bbab-68993289f639",
   "metadata": {},
   "source": [
    "### Decision Tree Classification"
   ]
  },
  {
   "cell_type": "code",
   "execution_count": 13,
   "id": "e150ccc8-a808-4b44-b0ac-d2b454e52893",
   "metadata": {},
   "outputs": [],
   "source": [
    "X1 = diabetes.drop(columns=['Outcome','Glucose'])\n",
    "X2 = diabetes.drop(columns=['Outcome','BloodPressure'])"
   ]
  },
  {
   "cell_type": "code",
   "execution_count": 35,
   "id": "ec14b4c6-dfcc-4cfa-9c7f-b661883f7af8",
   "metadata": {},
   "outputs": [
    {
     "data": {
      "text/html": [
       "<style>#sk-container-id-7 {color: black;}#sk-container-id-7 pre{padding: 0;}#sk-container-id-7 div.sk-toggleable {background-color: white;}#sk-container-id-7 label.sk-toggleable__label {cursor: pointer;display: block;width: 100%;margin-bottom: 0;padding: 0.3em;box-sizing: border-box;text-align: center;}#sk-container-id-7 label.sk-toggleable__label-arrow:before {content: \"▸\";float: left;margin-right: 0.25em;color: #696969;}#sk-container-id-7 label.sk-toggleable__label-arrow:hover:before {color: black;}#sk-container-id-7 div.sk-estimator:hover label.sk-toggleable__label-arrow:before {color: black;}#sk-container-id-7 div.sk-toggleable__content {max-height: 0;max-width: 0;overflow: hidden;text-align: left;background-color: #f0f8ff;}#sk-container-id-7 div.sk-toggleable__content pre {margin: 0.2em;color: black;border-radius: 0.25em;background-color: #f0f8ff;}#sk-container-id-7 input.sk-toggleable__control:checked~div.sk-toggleable__content {max-height: 200px;max-width: 100%;overflow: auto;}#sk-container-id-7 input.sk-toggleable__control:checked~label.sk-toggleable__label-arrow:before {content: \"▾\";}#sk-container-id-7 div.sk-estimator input.sk-toggleable__control:checked~label.sk-toggleable__label {background-color: #d4ebff;}#sk-container-id-7 div.sk-label input.sk-toggleable__control:checked~label.sk-toggleable__label {background-color: #d4ebff;}#sk-container-id-7 input.sk-hidden--visually {border: 0;clip: rect(1px 1px 1px 1px);clip: rect(1px, 1px, 1px, 1px);height: 1px;margin: -1px;overflow: hidden;padding: 0;position: absolute;width: 1px;}#sk-container-id-7 div.sk-estimator {font-family: monospace;background-color: #f0f8ff;border: 1px dotted black;border-radius: 0.25em;box-sizing: border-box;margin-bottom: 0.5em;}#sk-container-id-7 div.sk-estimator:hover {background-color: #d4ebff;}#sk-container-id-7 div.sk-parallel-item::after {content: \"\";width: 100%;border-bottom: 1px solid gray;flex-grow: 1;}#sk-container-id-7 div.sk-label:hover label.sk-toggleable__label {background-color: #d4ebff;}#sk-container-id-7 div.sk-serial::before {content: \"\";position: absolute;border-left: 1px solid gray;box-sizing: border-box;top: 0;bottom: 0;left: 50%;z-index: 0;}#sk-container-id-7 div.sk-serial {display: flex;flex-direction: column;align-items: center;background-color: white;padding-right: 0.2em;padding-left: 0.2em;position: relative;}#sk-container-id-7 div.sk-item {position: relative;z-index: 1;}#sk-container-id-7 div.sk-parallel {display: flex;align-items: stretch;justify-content: center;background-color: white;position: relative;}#sk-container-id-7 div.sk-item::before, #sk-container-id-7 div.sk-parallel-item::before {content: \"\";position: absolute;border-left: 1px solid gray;box-sizing: border-box;top: 0;bottom: 0;left: 50%;z-index: -1;}#sk-container-id-7 div.sk-parallel-item {display: flex;flex-direction: column;z-index: 1;position: relative;background-color: white;}#sk-container-id-7 div.sk-parallel-item:first-child::after {align-self: flex-end;width: 50%;}#sk-container-id-7 div.sk-parallel-item:last-child::after {align-self: flex-start;width: 50%;}#sk-container-id-7 div.sk-parallel-item:only-child::after {width: 0;}#sk-container-id-7 div.sk-dashed-wrapped {border: 1px dashed gray;margin: 0 0.4em 0.5em 0.4em;box-sizing: border-box;padding-bottom: 0.4em;background-color: white;}#sk-container-id-7 div.sk-label label {font-family: monospace;font-weight: bold;display: inline-block;line-height: 1.2em;}#sk-container-id-7 div.sk-label-container {text-align: center;}#sk-container-id-7 div.sk-container {/* jupyter's `normalize.less` sets `[hidden] { display: none; }` but bootstrap.min.css set `[hidden] { display: none !important; }` so we also need the `!important` here to be able to override the default hidden behavior on the sphinx rendered scikit-learn.org. See: https://github.com/scikit-learn/scikit-learn/issues/21755 */display: inline-block !important;position: relative;}#sk-container-id-7 div.sk-text-repr-fallback {display: none;}</style><div id=\"sk-container-id-7\" class=\"sk-top-container\"><div class=\"sk-text-repr-fallback\"><pre>DecisionTreeClassifier(max_depth=2)</pre><b>In a Jupyter environment, please rerun this cell to show the HTML representation or trust the notebook. <br />On GitHub, the HTML representation is unable to render, please try loading this page with nbviewer.org.</b></div><div class=\"sk-container\" hidden><div class=\"sk-item\"><div class=\"sk-estimator sk-toggleable\"><input class=\"sk-toggleable__control sk-hidden--visually\" id=\"sk-estimator-id-7\" type=\"checkbox\" checked><label for=\"sk-estimator-id-7\" class=\"sk-toggleable__label sk-toggleable__label-arrow\">DecisionTreeClassifier</label><div class=\"sk-toggleable__content\"><pre>DecisionTreeClassifier(max_depth=2)</pre></div></div></div></div></div>"
      ],
      "text/plain": [
       "DecisionTreeClassifier(max_depth=2)"
      ]
     },
     "execution_count": 35,
     "metadata": {},
     "output_type": "execute_result"
    }
   ],
   "source": [
    "from sklearn.tree import DecisionTreeClassifier\n",
    "model = DecisionTreeClassifier(max_depth=2)\n",
    "model.fit(X1,y)"
   ]
  },
  {
   "cell_type": "code",
   "execution_count": 36,
   "id": "509e44c5-5b9a-409c-a445-f8b132c13afa",
   "metadata": {},
   "outputs": [
    {
     "data": {
      "text/plain": [
       "[Text(0.5, 0.8333333333333334, 'Age <= 28.5\\ngini = 0.454\\nsamples = 768\\nvalue = [500, 268]\\nclass = no'),\n",
       " Text(0.25, 0.5, 'BMI <= 30.95\\ngini = 0.312\\nsamples = 367\\nvalue = [296, 71]\\nclass = no'),\n",
       " Text(0.125, 0.16666666666666666, 'gini = 0.095\\nsamples = 181\\nvalue = [172, 9]\\nclass = no'),\n",
       " Text(0.375, 0.16666666666666666, 'gini = 0.444\\nsamples = 186\\nvalue = [124, 62]\\nclass = no'),\n",
       " Text(0.75, 0.5, 'BMI <= 27.35\\ngini = 0.5\\nsamples = 401\\nvalue = [204, 197]\\nclass = no'),\n",
       " Text(0.625, 0.16666666666666666, 'gini = 0.332\\nsamples = 76\\nvalue = [60, 16]\\nclass = no'),\n",
       " Text(0.875, 0.16666666666666666, 'gini = 0.494\\nsamples = 325\\nvalue = [144, 181]\\nclass = yes')]"
      ]
     },
     "execution_count": 36,
     "metadata": {},
     "output_type": "execute_result"
    },
    {
     "data": {
      "image/png": "[encoded data removed]",
      "text/plain": [
       "<Figure size 640x480 with 1 Axes>"
      ]
     },
     "metadata": {},
     "output_type": "display_data"
    }
   ],
   "source": [
    "from sklearn.tree import plot_tree\n",
    "plot_tree(model, feature_names=list(X1.columns), class_names=['no','yes'])"
   ]
  },
  {
   "cell_type": "code",
   "execution_count": 37,
   "id": "ffc9ae5a-8009-4ec3-8a08-ea0a11c883cd",
   "metadata": {},
   "outputs": [
    {
     "data": {
      "text/html": [
       "<div>\n",
       "<style scoped>\n",
       "    .dataframe tbody tr th:only-of-type {\n",
       "        vertical-align: middle;\n",
       "    }\n",
       "\n",
       "    .dataframe tbody tr th {\n",
       "        vertical-align: top;\n",
       "    }\n",
       "\n",
       "    .dataframe thead th {\n",
       "        text-align: right;\n",
       "    }\n",
       "</style>\n",
       "<table border=\"1\" class=\"dataframe\">\n",
       "  <thead>\n",
       "    <tr style=\"text-align: right;\">\n",
       "      <th></th>\n",
       "      <th>Pregnancies</th>\n",
       "      <th>BloodPressure</th>\n",
       "      <th>SkinThickness</th>\n",
       "      <th>Insulin</th>\n",
       "      <th>BMI</th>\n",
       "      <th>DiabetesPedigreeFunction</th>\n",
       "      <th>Age</th>\n",
       "    </tr>\n",
       "  </thead>\n",
       "  <tbody>\n",
       "    <tr>\n",
       "      <th>55</th>\n",
       "      <td>1</td>\n",
       "      <td>50</td>\n",
       "      <td>10</td>\n",
       "      <td>0</td>\n",
       "      <td>23.0</td>\n",
       "      <td>0.248</td>\n",
       "      <td>21</td>\n",
       "    </tr>\n",
       "    <tr>\n",
       "      <th>528</th>\n",
       "      <td>0</td>\n",
       "      <td>66</td>\n",
       "      <td>31</td>\n",
       "      <td>188</td>\n",
       "      <td>30.8</td>\n",
       "      <td>0.493</td>\n",
       "      <td>22</td>\n",
       "    </tr>\n",
       "    <tr>\n",
       "      <th>17</th>\n",
       "      <td>7</td>\n",
       "      <td>74</td>\n",
       "      <td>0</td>\n",
       "      <td>0</td>\n",
       "      <td>29.6</td>\n",
       "      <td>0.254</td>\n",
       "      <td>31</td>\n",
       "    </tr>\n",
       "    <tr>\n",
       "      <th>588</th>\n",
       "      <td>3</td>\n",
       "      <td>86</td>\n",
       "      <td>27</td>\n",
       "      <td>156</td>\n",
       "      <td>33.3</td>\n",
       "      <td>1.154</td>\n",
       "      <td>52</td>\n",
       "    </tr>\n",
       "    <tr>\n",
       "      <th>103</th>\n",
       "      <td>1</td>\n",
       "      <td>72</td>\n",
       "      <td>18</td>\n",
       "      <td>40</td>\n",
       "      <td>26.6</td>\n",
       "      <td>0.283</td>\n",
       "      <td>24</td>\n",
       "    </tr>\n",
       "    <tr>\n",
       "      <th>222</th>\n",
       "      <td>7</td>\n",
       "      <td>0</td>\n",
       "      <td>0</td>\n",
       "      <td>0</td>\n",
       "      <td>25.2</td>\n",
       "      <td>0.209</td>\n",
       "      <td>37</td>\n",
       "    </tr>\n",
       "    <tr>\n",
       "      <th>666</th>\n",
       "      <td>4</td>\n",
       "      <td>82</td>\n",
       "      <td>18</td>\n",
       "      <td>0</td>\n",
       "      <td>32.5</td>\n",
       "      <td>0.235</td>\n",
       "      <td>70</td>\n",
       "    </tr>\n",
       "    <tr>\n",
       "      <th>200</th>\n",
       "      <td>0</td>\n",
       "      <td>80</td>\n",
       "      <td>16</td>\n",
       "      <td>0</td>\n",
       "      <td>31.0</td>\n",
       "      <td>0.874</td>\n",
       "      <td>21</td>\n",
       "    </tr>\n",
       "    <tr>\n",
       "      <th>69</th>\n",
       "      <td>4</td>\n",
       "      <td>85</td>\n",
       "      <td>27</td>\n",
       "      <td>100</td>\n",
       "      <td>28.9</td>\n",
       "      <td>0.189</td>\n",
       "      <td>27</td>\n",
       "    </tr>\n",
       "    <tr>\n",
       "      <th>66</th>\n",
       "      <td>0</td>\n",
       "      <td>88</td>\n",
       "      <td>30</td>\n",
       "      <td>0</td>\n",
       "      <td>32.5</td>\n",
       "      <td>0.855</td>\n",
       "      <td>38</td>\n",
       "    </tr>\n",
       "  </tbody>\n",
       "</table>\n",
       "</div>"
      ],
      "text/plain": [
       "     Pregnancies  BloodPressure  SkinThickness  Insulin   BMI  \\\n",
       "55             1             50             10        0  23.0   \n",
       "528            0             66             31      188  30.8   \n",
       "17             7             74              0        0  29.6   \n",
       "588            3             86             27      156  33.3   \n",
       "103            1             72             18       40  26.6   \n",
       "222            7              0              0        0  25.2   \n",
       "666            4             82             18        0  32.5   \n",
       "200            0             80             16        0  31.0   \n",
       "69             4             85             27      100  28.9   \n",
       "66             0             88             30        0  32.5   \n",
       "\n",
       "     DiabetesPedigreeFunction  Age  \n",
       "55                      0.248   21  \n",
       "528                     0.493   22  \n",
       "17                      0.254   31  \n",
       "588                     1.154   52  \n",
       "103                     0.283   24  \n",
       "222                     0.209   37  \n",
       "666                     0.235   70  \n",
       "200                     0.874   21  \n",
       "69                      0.189   27  \n",
       "66                      0.855   38  "
      ]
     },
     "execution_count": 37,
     "metadata": {},
     "output_type": "execute_result"
    }
   ],
   "source": [
    "new_data=X1.sample(10)\n",
    "new_data"
   ]
  },
  {
   "cell_type": "code",
   "execution_count": 38,
   "id": "18f8a3a5-bc12-4f9b-8114-5991fe6587e6",
   "metadata": {},
   "outputs": [
    {
     "data": {
      "text/plain": [
       "array([0, 0, 1, 1, 0, 0, 1, 0, 0, 1])"
      ]
     },
     "execution_count": 38,
     "metadata": {},
     "output_type": "execute_result"
    }
   ],
   "source": [
    "model.predict(new_data)"
   ]
  },
  {
   "cell_type": "markdown",
   "id": "1a218c62-2fa2-44ae-810d-064d39f5426c",
   "metadata": {},
   "source": [
    "### Compare KNN and Decision Trees"
   ]
  },
  {
   "cell_type": "code",
   "execution_count": 40,
   "id": "2f288373-ffa6-4765-afb5-e0dfae1f1d9b",
   "metadata": {},
   "outputs": [],
   "source": [
    "from sklearn.neighbors import KNeighborsClassifier\n",
    "from sklearn.tree import DecisionTreeClassifier\n",
    "\n",
    "knn = KNeighborsClassifier()\n",
    "dt = DecisionTreeClassifier()"
   ]
  },
  {
   "cell_type": "markdown",
   "id": "ca8c7b52-1d9f-4068-a5f6-b967bead2886",
   "metadata": {},
   "source": [
    "What do we need to compare these two models?\n",
    "\n",
    "+ baseline\n",
    "+ metric (precision, recall)\n",
    "+ cross validator"
   ]
  },
  {
   "cell_type": "code",
   "execution_count": 42,
   "id": "945649e4-d656-4ea5-a03b-986b613399c8",
   "metadata": {},
   "outputs": [],
   "source": [
    "from sklearn.dummy import DummyClassifier\n",
    "from sklearn.model_selection import cross_validate, ShuffleSplit\n",
    "\n",
    "baseline = DummyClassifier(strategy='stratified')\n",
    "ss = ShuffleSplit(n_splits=100)\n"
   ]
  },
  {
   "cell_type": "code",
   "execution_count": 53,
   "id": "b9079600-5f6b-4e6b-adb1-be3307feb0b0",
   "metadata": {},
   "outputs": [
    {
     "name": "stdout",
     "output_type": "stream",
     "text": [
      "0.33\n"
     ]
    }
   ],
   "source": [
    "X = diabetes.drop(columns=['Outcome'])\n",
    "y = diabetes['Outcome']\n",
    "result_baseline = cross_validate(baseline, X, y, cv=ss, scoring=['f1'])\n",
    "print(result_baseline['test_f1'].mean().round(2))"
   ]
  },
  {
   "cell_type": "code",
   "execution_count": 54,
   "id": "b30c01ea-8db5-40de-a3a4-de6e5c8f74b3",
   "metadata": {},
   "outputs": [
    {
     "name": "stdout",
     "output_type": "stream",
     "text": [
      "0.59\n"
     ]
    }
   ],
   "source": [
    "from sklearn.preprocessing import StandardScaler\n",
    "knn = KNeighborsClassifier()\n",
    "X = diabetes.drop(columns=['Outcome'])\n",
    "X = StandardScaler().fit_transform(X)\n",
    "y = diabetes['Outcome']\n",
    "result_baseline = cross_validate(knn, X, y, cv=ss, scoring=['f1'])\n",
    "print(result_baseline['test_f1'].mean().round(2))\n"
   ]
  },
  {
   "cell_type": "code",
   "execution_count": 55,
   "id": "28da6a5a-5641-4f6e-ae33-20b89144f182",
   "metadata": {},
   "outputs": [
    {
     "name": "stdout",
     "output_type": "stream",
     "text": [
      "0.55\n"
     ]
    }
   ],
   "source": [
    "dt = DecisionTreeClassifier()\n",
    "X = diabetes.drop(columns=['Outcome'])\n",
    "y = diabetes['Outcome']\n",
    "result_baseline = cross_validate(dt, X, y, cv=ss, scoring=['f1'])\n",
    "print(result_baseline['test_f1'].mean().round(2))\n"
   ]
  },
  {
   "cell_type": "markdown",
   "id": "bc024eba-c42f-4ecd-b64f-204f80120d42",
   "metadata": {},
   "source": [
    "#### Finding the right max depth for DT"
   ]
  },
  {
   "cell_type": "code",
   "execution_count": 51,
   "id": "b13e4bb3-cd96-4f4e-93b8-98772a7d9fcb",
   "metadata": {},
   "outputs": [
    {
     "name": "stdout",
     "output_type": "stream",
     "text": [
      "3 0.57\n",
      "4 0.61\n",
      "5 0.61\n",
      "6 0.6\n",
      "7 0.59\n",
      "8 0.57\n",
      "9 0.57\n",
      "10 0.57\n",
      "11 0.57\n",
      "12 0.57\n",
      "13 0.56\n",
      "14 0.58\n",
      "15 0.58\n",
      "16 0.57\n",
      "17 0.57\n",
      "18 0.58\n",
      "19 0.57\n"
     ]
    }
   ],
   "source": [
    "for d in range(3,20):\n",
    "    dt = DecisionTreeClassifier(max_depth=d)\n",
    "    X = diabetes.drop(columns=['Outcome'])\n",
    "    y = diabetes['Outcome']\n",
    "    result_baseline = cross_validate(dt, X, y, cv=ss, scoring=['f1'])\n",
    "    print(d, result_baseline['test_f1'].mean().round(2))\n"
   ]
  },
  {
   "cell_type": "markdown",
   "id": "1a5cd1f4-9380-49e0-ab18-0df35e8e71e1",
   "metadata": {},
   "source": [
    "### Random Forest"
   ]
  },
  {
   "cell_type": "code",
   "execution_count": 57,
   "id": "3e388de0-cd14-4089-b331-26168846e764",
   "metadata": {},
   "outputs": [
    {
     "name": "stdout",
     "output_type": "stream",
     "text": [
      "0.61\n"
     ]
    }
   ],
   "source": [
    "from sklearn.ensemble import RandomForestClassifier\n",
    "rf = RandomForestClassifier(max_depth=5)\n",
    "X = diabetes.drop(columns=['Outcome'])\n",
    "y = diabetes['Outcome']\n",
    "result = cross_validate(rf, X, y, cv=ss, scoring=['f1'])\n",
    "print(result['test_f1'].mean().round(2))\n"
   ]
  },
  {
   "cell_type": "code",
   "execution_count": 58,
   "id": "c8f5eac4-1bf9-418c-a59b-d00cf05b27b0",
   "metadata": {},
   "outputs": [
    {
     "data": {
      "text/html": [
       "<style>#sk-container-id-8 {color: black;}#sk-container-id-8 pre{padding: 0;}#sk-container-id-8 div.sk-toggleable {background-color: white;}#sk-container-id-8 label.sk-toggleable__label {cursor: pointer;display: block;width: 100%;margin-bottom: 0;padding: 0.3em;box-sizing: border-box;text-align: center;}#sk-container-id-8 label.sk-toggleable__label-arrow:before {content: \"▸\";float: left;margin-right: 0.25em;color: #696969;}#sk-container-id-8 label.sk-toggleable__label-arrow:hover:before {color: black;}#sk-container-id-8 div.sk-estimator:hover label.sk-toggleable__label-arrow:before {color: black;}#sk-container-id-8 div.sk-toggleable__content {max-height: 0;max-width: 0;overflow: hidden;text-align: left;background-color: #f0f8ff;}#sk-container-id-8 div.sk-toggleable__content pre {margin: 0.2em;color: black;border-radius: 0.25em;background-color: #f0f8ff;}#sk-container-id-8 input.sk-toggleable__control:checked~div.sk-toggleable__content {max-height: 200px;max-width: 100%;overflow: auto;}#sk-container-id-8 input.sk-toggleable__control:checked~label.sk-toggleable__label-arrow:before {content: \"▾\";}#sk-container-id-8 div.sk-estimator input.sk-toggleable__control:checked~label.sk-toggleable__label {background-color: #d4ebff;}#sk-container-id-8 div.sk-label input.sk-toggleable__control:checked~label.sk-toggleable__label {background-color: #d4ebff;}#sk-container-id-8 input.sk-hidden--visually {border: 0;clip: rect(1px 1px 1px 1px);clip: rect(1px, 1px, 1px, 1px);height: 1px;margin: -1px;overflow: hidden;padding: 0;position: absolute;width: 1px;}#sk-container-id-8 div.sk-estimator {font-family: monospace;background-color: #f0f8ff;border: 1px dotted black;border-radius: 0.25em;box-sizing: border-box;margin-bottom: 0.5em;}#sk-container-id-8 div.sk-estimator:hover {background-color: #d4ebff;}#sk-container-id-8 div.sk-parallel-item::after {content: \"\";width: 100%;border-bottom: 1px solid gray;flex-grow: 1;}#sk-container-id-8 div.sk-label:hover label.sk-toggleable__label {background-color: #d4ebff;}#sk-container-id-8 div.sk-serial::before {content: \"\";position: absolute;border-left: 1px solid gray;box-sizing: border-box;top: 0;bottom: 0;left: 50%;z-index: 0;}#sk-container-id-8 div.sk-serial {display: flex;flex-direction: column;align-items: center;background-color: white;padding-right: 0.2em;padding-left: 0.2em;position: relative;}#sk-container-id-8 div.sk-item {position: relative;z-index: 1;}#sk-container-id-8 div.sk-parallel {display: flex;align-items: stretch;justify-content: center;background-color: white;position: relative;}#sk-container-id-8 div.sk-item::before, #sk-container-id-8 div.sk-parallel-item::before {content: \"\";position: absolute;border-left: 1px solid gray;box-sizing: border-box;top: 0;bottom: 0;left: 50%;z-index: -1;}#sk-container-id-8 div.sk-parallel-item {display: flex;flex-direction: column;z-index: 1;position: relative;background-color: white;}#sk-container-id-8 div.sk-parallel-item:first-child::after {align-self: flex-end;width: 50%;}#sk-container-id-8 div.sk-parallel-item:last-child::after {align-self: flex-start;width: 50%;}#sk-container-id-8 div.sk-parallel-item:only-child::after {width: 0;}#sk-container-id-8 div.sk-dashed-wrapped {border: 1px dashed gray;margin: 0 0.4em 0.5em 0.4em;box-sizing: border-box;padding-bottom: 0.4em;background-color: white;}#sk-container-id-8 div.sk-label label {font-family: monospace;font-weight: bold;display: inline-block;line-height: 1.2em;}#sk-container-id-8 div.sk-label-container {text-align: center;}#sk-container-id-8 div.sk-container {/* jupyter's `normalize.less` sets `[hidden] { display: none; }` but bootstrap.min.css set `[hidden] { display: none !important; }` so we also need the `!important` here to be able to override the default hidden behavior on the sphinx rendered scikit-learn.org. See: https://github.com/scikit-learn/scikit-learn/issues/21755 */display: inline-block !important;position: relative;}#sk-container-id-8 div.sk-text-repr-fallback {display: none;}</style><div id=\"sk-container-id-8\" class=\"sk-top-container\"><div class=\"sk-text-repr-fallback\"><pre>RandomForestClassifier(max_depth=5)</pre><b>In a Jupyter environment, please rerun this cell to show the HTML representation or trust the notebook. <br />On GitHub, the HTML representation is unable to render, please try loading this page with nbviewer.org.</b></div><div class=\"sk-container\" hidden><div class=\"sk-item\"><div class=\"sk-estimator sk-toggleable\"><input class=\"sk-toggleable__control sk-hidden--visually\" id=\"sk-estimator-id-8\" type=\"checkbox\" checked><label for=\"sk-estimator-id-8\" class=\"sk-toggleable__label sk-toggleable__label-arrow\">RandomForestClassifier</label><div class=\"sk-toggleable__content\"><pre>RandomForestClassifier(max_depth=5)</pre></div></div></div></div></div>"
      ],
      "text/plain": [
       "RandomForestClassifier(max_depth=5)"
      ]
     },
     "execution_count": 58,
     "metadata": {},
     "output_type": "execute_result"
    }
   ],
   "source": [
    "rf.fit(X,y)"
   ]
  },
  {
   "cell_type": "code",
   "execution_count": 66,
   "id": "fd6a1ed6-4282-4657-99b7-66045618b996",
   "metadata": {},
   "outputs": [
    {
     "data": {
      "text/html": [
       "<div>\n",
       "<style scoped>\n",
       "    .dataframe tbody tr th:only-of-type {\n",
       "        vertical-align: middle;\n",
       "    }\n",
       "\n",
       "    .dataframe tbody tr th {\n",
       "        vertical-align: top;\n",
       "    }\n",
       "\n",
       "    .dataframe thead th {\n",
       "        text-align: right;\n",
       "    }\n",
       "</style>\n",
       "<table border=\"1\" class=\"dataframe\">\n",
       "  <thead>\n",
       "    <tr style=\"text-align: right;\">\n",
       "      <th></th>\n",
       "      <th>Pregnancies</th>\n",
       "      <th>Glucose</th>\n",
       "      <th>BloodPressure</th>\n",
       "      <th>SkinThickness</th>\n",
       "      <th>Insulin</th>\n",
       "      <th>BMI</th>\n",
       "      <th>DiabetesPedigreeFunction</th>\n",
       "      <th>Age</th>\n",
       "    </tr>\n",
       "  </thead>\n",
       "  <tbody>\n",
       "    <tr>\n",
       "      <th>453</th>\n",
       "      <td>2</td>\n",
       "      <td>119</td>\n",
       "      <td>0</td>\n",
       "      <td>0</td>\n",
       "      <td>0</td>\n",
       "      <td>19.6</td>\n",
       "      <td>0.832</td>\n",
       "      <td>72</td>\n",
       "    </tr>\n",
       "    <tr>\n",
       "      <th>697</th>\n",
       "      <td>0</td>\n",
       "      <td>99</td>\n",
       "      <td>0</td>\n",
       "      <td>0</td>\n",
       "      <td>0</td>\n",
       "      <td>25.0</td>\n",
       "      <td>0.253</td>\n",
       "      <td>22</td>\n",
       "    </tr>\n",
       "    <tr>\n",
       "      <th>370</th>\n",
       "      <td>3</td>\n",
       "      <td>173</td>\n",
       "      <td>82</td>\n",
       "      <td>48</td>\n",
       "      <td>465</td>\n",
       "      <td>38.4</td>\n",
       "      <td>2.137</td>\n",
       "      <td>25</td>\n",
       "    </tr>\n",
       "    <tr>\n",
       "      <th>83</th>\n",
       "      <td>0</td>\n",
       "      <td>101</td>\n",
       "      <td>65</td>\n",
       "      <td>28</td>\n",
       "      <td>0</td>\n",
       "      <td>24.6</td>\n",
       "      <td>0.237</td>\n",
       "      <td>22</td>\n",
       "    </tr>\n",
       "    <tr>\n",
       "      <th>509</th>\n",
       "      <td>8</td>\n",
       "      <td>120</td>\n",
       "      <td>78</td>\n",
       "      <td>0</td>\n",
       "      <td>0</td>\n",
       "      <td>25.0</td>\n",
       "      <td>0.409</td>\n",
       "      <td>64</td>\n",
       "    </tr>\n",
       "  </tbody>\n",
       "</table>\n",
       "</div>"
      ],
      "text/plain": [
       "     Pregnancies  Glucose  BloodPressure  SkinThickness  Insulin   BMI  \\\n",
       "453            2      119              0              0        0  19.6   \n",
       "697            0       99              0              0        0  25.0   \n",
       "370            3      173             82             48      465  38.4   \n",
       "83             0      101             65             28        0  24.6   \n",
       "509            8      120             78              0        0  25.0   \n",
       "\n",
       "     DiabetesPedigreeFunction  Age  \n",
       "453                     0.832   72  \n",
       "697                     0.253   22  \n",
       "370                     2.137   25  \n",
       "83                      0.237   22  \n",
       "509                     0.409   64  "
      ]
     },
     "execution_count": 66,
     "metadata": {},
     "output_type": "execute_result"
    }
   ],
   "source": [
    "new_data = X.sample(5)\n",
    "new_data"
   ]
  },
  {
   "cell_type": "code",
   "execution_count": 67,
   "id": "a8aa3609-230d-43ee-8521-924f61343a62",
   "metadata": {},
   "outputs": [
    {
     "data": {
      "text/plain": [
       "array([0, 0, 1, 0, 0])"
      ]
     },
     "execution_count": 67,
     "metadata": {},
     "output_type": "execute_result"
    }
   ],
   "source": [
    "rf.predict(new_data)"
   ]
  },
  {
   "cell_type": "code",
   "execution_count": 68,
   "id": "065d7071-8dd8-4bdc-b711-6803ec7cdb03",
   "metadata": {},
   "outputs": [
    {
     "data": {
      "text/plain": [
       "array([[0.82, 0.18],\n",
       "       [0.95, 0.05],\n",
       "       [0.23, 0.77],\n",
       "       [0.97, 0.03],\n",
       "       [0.82, 0.18]])"
      ]
     },
     "execution_count": 68,
     "metadata": {},
     "output_type": "execute_result"
    }
   ],
   "source": [
    "rf.predict_proba(new_data).round(2)"
   ]
  },
  {
   "cell_type": "code",
   "execution_count": 72,
   "id": "a0f02754-2494-4891-83ad-13da74979a3f",
   "metadata": {},
   "outputs": [
    {
     "data": {
      "text/plain": [
       "array([0.07596417, 0.33622897, 0.04796371, 0.04390041, 0.06157618,\n",
       "       0.19921058, 0.08379865, 0.15135734])"
      ]
     },
     "execution_count": 72,
     "metadata": {},
     "output_type": "execute_result"
    }
   ],
   "source": [
    "rf.feature_importances_"
   ]
  },
  {
   "cell_type": "code",
   "execution_count": 73,
   "id": "c6f2c4f5-77c0-427a-bbd9-349874a63c9f",
   "metadata": {},
   "outputs": [
    {
     "data": {
      "text/plain": [
       "Index(['Pregnancies', 'Glucose', 'BloodPressure', 'SkinThickness', 'Insulin',\n",
       "       'BMI', 'DiabetesPedigreeFunction', 'Age'],\n",
       "      dtype='object')"
      ]
     },
     "execution_count": 73,
     "metadata": {},
     "output_type": "execute_result"
    }
   ],
   "source": []
  },
  {
   "cell_type": "code",
   "execution_count": 77,
   "id": "62320826-8ec1-483b-8920-e05f2fe935ff",
   "metadata": {},
   "outputs": [
    {
     "data": {
      "text/plain": [
       "[(0.04390041059796175, 'SkinThickness'),\n",
       " (0.04796370585496796, 'BloodPressure'),\n",
       " (0.06157618217349479, 'Insulin'),\n",
       " (0.07596416585829008, 'Pregnancies'),\n",
       " (0.08379865089860965, 'DiabetesPedigreeFunction'),\n",
       " (0.1513573407657, 'Age'),\n",
       " (0.19921057724429714, 'BMI'),\n",
       " (0.33622896660667867, 'Glucose')]"
      ]
     },
     "execution_count": 77,
     "metadata": {},
     "output_type": "execute_result"
    }
   ],
   "source": [
    "sorted(list(zip(rf.feature_importances_, X.columns)))"
   ]
  },
  {
   "cell_type": "code",
   "execution_count": 84,
   "id": "2cf74350-f8d0-4625-ba04-3f4bf863ca7e",
   "metadata": {},
   "outputs": [
    {
     "data": {
      "text/plain": [
       "[Text(0.5286458333333334, 0.9166666666666666, 'Insulin <= 119.5\\ngini = 0.468\\nsamples = 484\\nvalue = [481, 287]'),\n",
       " Text(0.3072916666666667, 0.75, 'Pregnancies <= 3.5\\ngini = 0.432\\nsamples = 343\\nvalue = [367, 169]'),\n",
       " Text(0.16666666666666666, 0.5833333333333334, 'SkinThickness <= 4.0\\ngini = 0.316\\nsamples = 182\\nvalue = [221, 54]'),\n",
       " Text(0.08333333333333333, 0.4166666666666667, 'BloodPressure <= 69.0\\ngini = 0.45\\nsamples = 52\\nvalue = [50, 26]'),\n",
       " Text(0.041666666666666664, 0.25, 'Pregnancies <= 1.5\\ngini = 0.375\\nsamples = 28\\nvalue = [30, 10]'),\n",
       " Text(0.020833333333333332, 0.08333333333333333, 'gini = 0.465\\nsamples = 14\\nvalue = [12, 7]'),\n",
       " Text(0.0625, 0.08333333333333333, 'gini = 0.245\\nsamples = 14\\nvalue = [18, 3]'),\n",
       " Text(0.125, 0.25, 'Glucose <= 104.5\\ngini = 0.494\\nsamples = 24\\nvalue = [20, 16]'),\n",
       " Text(0.10416666666666667, 0.08333333333333333, 'gini = 0.0\\nsamples = 5\\nvalue = [6, 0]'),\n",
       " Text(0.14583333333333334, 0.08333333333333333, 'gini = 0.498\\nsamples = 19\\nvalue = [14, 16]'),\n",
       " Text(0.25, 0.4166666666666667, 'BMI <= 30.9\\ngini = 0.242\\nsamples = 130\\nvalue = [171, 28]'),\n",
       " Text(0.20833333333333334, 0.25, 'SkinThickness <= 22.5\\ngini = 0.038\\nsamples = 70\\nvalue = [100, 2]'),\n",
       " Text(0.1875, 0.08333333333333333, 'gini = 0.0\\nsamples = 44\\nvalue = [62, 0]'),\n",
       " Text(0.22916666666666666, 0.08333333333333333, 'gini = 0.095\\nsamples = 26\\nvalue = [38, 2]'),\n",
       " Text(0.2916666666666667, 0.25, 'Insulin <= 16.0\\ngini = 0.392\\nsamples = 60\\nvalue = [71, 26]'),\n",
       " Text(0.2708333333333333, 0.08333333333333333, 'gini = 0.498\\nsamples = 23\\nvalue = [19, 17]'),\n",
       " Text(0.3125, 0.08333333333333333, 'gini = 0.252\\nsamples = 37\\nvalue = [52, 9]'),\n",
       " Text(0.4479166666666667, 0.5833333333333334, 'BloodPressure <= 67.0\\ngini = 0.493\\nsamples = 161\\nvalue = [146, 115]'),\n",
       " Text(0.3958333333333333, 0.4166666666666667, 'Insulin <= 89.0\\ngini = 0.487\\nsamples = 38\\nvalue = [26, 36]'),\n",
       " Text(0.375, 0.25, 'Age <= 29.5\\ngini = 0.493\\nsamples = 37\\nvalue = [26, 33]'),\n",
       " Text(0.3541666666666667, 0.08333333333333333, 'gini = 0.117\\nsamples = 11\\nvalue = [15, 1]'),\n",
       " Text(0.3958333333333333, 0.08333333333333333, 'gini = 0.381\\nsamples = 26\\nvalue = [11, 32]'),\n",
       " Text(0.4166666666666667, 0.25, 'gini = 0.0\\nsamples = 1\\nvalue = [0, 3]'),\n",
       " Text(0.5, 0.4166666666666667, 'Insulin <= 39.0\\ngini = 0.479\\nsamples = 123\\nvalue = [120, 79]'),\n",
       " Text(0.4583333333333333, 0.25, 'SkinThickness <= 26.5\\ngini = 0.496\\nsamples = 101\\nvalue = [92, 77]'),\n",
       " Text(0.4375, 0.08333333333333333, 'gini = 0.482\\nsamples = 70\\nvalue = [69, 47]'),\n",
       " Text(0.4791666666666667, 0.08333333333333333, 'gini = 0.491\\nsamples = 31\\nvalue = [23, 30]'),\n",
       " Text(0.5416666666666666, 0.25, 'Glucose <= 135.0\\ngini = 0.124\\nsamples = 22\\nvalue = [28, 2]'),\n",
       " Text(0.5208333333333334, 0.08333333333333333, 'gini = 0.0\\nsamples = 17\\nvalue = [24, 0]'),\n",
       " Text(0.5625, 0.08333333333333333, 'gini = 0.444\\nsamples = 5\\nvalue = [4, 2]'),\n",
       " Text(0.75, 0.75, 'DiabetesPedigreeFunction <= 0.326\\ngini = 0.5\\nsamples = 141\\nvalue = [114, 118]'),\n",
       " Text(0.6666666666666666, 0.5833333333333334, 'BMI <= 44.85\\ngini = 0.421\\nsamples = 42\\nvalue = [44, 19]'),\n",
       " Text(0.6458333333333334, 0.4166666666666667, 'Insulin <= 475.0\\ngini = 0.379\\nsamples = 40\\nvalue = [44, 15]'),\n",
       " Text(0.625, 0.25, 'Pregnancies <= 10.5\\ngini = 0.302\\nsamples = 37\\nvalue = [44, 10]'),\n",
       " Text(0.6041666666666666, 0.08333333333333333, 'gini = 0.26\\nsamples = 36\\nvalue = [44, 8]'),\n",
       " Text(0.6458333333333334, 0.08333333333333333, 'gini = 0.0\\nsamples = 1\\nvalue = [0, 2]'),\n",
       " Text(0.6666666666666666, 0.25, 'gini = 0.0\\nsamples = 3\\nvalue = [0, 5]'),\n",
       " Text(0.6875, 0.4166666666666667, 'gini = 0.0\\nsamples = 2\\nvalue = [0, 4]'),\n",
       " Text(0.8333333333333334, 0.5833333333333334, 'Insulin <= 325.5\\ngini = 0.485\\nsamples = 99\\nvalue = [70, 99]'),\n",
       " Text(0.75, 0.4166666666666667, 'SkinThickness <= 31.5\\ngini = 0.465\\nsamples = 85\\nvalue = [54, 93]'),\n",
       " Text(0.7083333333333334, 0.25, 'Pregnancies <= 4.5\\ngini = 0.5\\nsamples = 42\\nvalue = [35, 36]'),\n",
       " Text(0.6875, 0.08333333333333333, 'gini = 0.469\\nsamples = 26\\nvalue = [30, 18]'),\n",
       " Text(0.7291666666666666, 0.08333333333333333, 'gini = 0.34\\nsamples = 16\\nvalue = [5, 18]'),\n",
       " Text(0.7916666666666666, 0.25, 'Pregnancies <= 12.5\\ngini = 0.375\\nsamples = 43\\nvalue = [19, 57]'),\n",
       " Text(0.7708333333333334, 0.08333333333333333, 'gini = 0.354\\nsamples = 42\\nvalue = [17, 57]'),\n",
       " Text(0.8125, 0.08333333333333333, 'gini = 0.0\\nsamples = 1\\nvalue = [2, 0]'),\n",
       " Text(0.9166666666666666, 0.4166666666666667, 'Glucose <= 163.5\\ngini = 0.397\\nsamples = 14\\nvalue = [16, 6]'),\n",
       " Text(0.875, 0.25, 'BloodPressure <= 79.0\\ngini = 0.142\\nsamples = 7\\nvalue = [12, 1]'),\n",
       " Text(0.8541666666666666, 0.08333333333333333, 'gini = 0.375\\nsamples = 3\\nvalue = [3, 1]'),\n",
       " Text(0.8958333333333334, 0.08333333333333333, 'gini = 0.0\\nsamples = 4\\nvalue = [9, 0]'),\n",
       " Text(0.9583333333333334, 0.25, 'SkinThickness <= 43.5\\ngini = 0.494\\nsamples = 7\\nvalue = [4, 5]'),\n",
       " Text(0.9375, 0.08333333333333333, 'gini = 0.49\\nsamples = 5\\nvalue = [4, 3]'),\n",
       " Text(0.9791666666666666, 0.08333333333333333, 'gini = 0.0\\nsamples = 2\\nvalue = [0, 2]')]"
      ]
     },
     "execution_count": 84,
     "metadata": {},
     "output_type": "execute_result"
    },
    {
     "data": {
      "image/png": "[encoded data removed]",
      "text/plain": [
       "<Figure size 640x480 with 1 Axes>"
      ]
     },
     "metadata": {},
     "output_type": "display_data"
    }
   ],
   "source": [
    "plot_tree(rf.estimators_[0], feature_names=list(X.columns))"
   ]
  },
  {
   "cell_type": "markdown",
   "id": "18c66ad3-ca0f-4742-aa42-4c103b3c3803",
   "metadata": {},
   "source": [
    "There are modules like dtreeviz that allows you to visualize decision trees. "
   ]
  }
 ],
 "metadata": {
  "kernelspec": {
   "display_name": "Python 3 (ipykernel)",
   "language": "python",
   "name": "python3"
  },
  "language_info": {
   "codemirror_mode": {
    "name": "ipython",
    "version": 3
   },
   "file_extension": ".py",
   "mimetype": "text/x-python",
   "name": "python",
   "nbconvert_exporter": "python",
   "pygments_lexer": "ipython3",
   "version": "3.11.5"
  }
 },
 "nbformat": 4,
 "nbformat_minor": 5
}
