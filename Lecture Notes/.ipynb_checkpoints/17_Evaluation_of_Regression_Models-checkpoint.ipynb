{
 "cells": [
  {
   "cell_type": "markdown",
   "id": "e6221b5f-9d2b-4a60-9ba9-89252183c11e",
   "metadata": {},
   "source": [
    "# Evaluation of Regression Models\n",
    "\n",
    "* Supervised learning: learn y using features X.\n",
    "* r2 vs error\n",
    "* Training and testing\n",
    "* Cross validation\n",
    "* Comparing to a baseline "
   ]
  },
  {
   "cell_type": "code",
   "execution_count": null,
   "id": "d62ecaef-56c3-4f02-b1e2-669071bb680e",
   "metadata": {},
   "outputs": [],
   "source": [
    "import pandas\n",
    "from sklearn.preprocessing import MinMaxScaler\n",
    "scaler = MinMaxScaler()\n",
    "abalone = pandas.read_csv('../Datasets/abalone.csv')\n",
    "X = pandas.get_dummies(abalone.drop(columns=['Rings']))\n",
    "scaled_X = pandas.DataFrame(scaler.fit_transform(X), columns=X.columns)\n",
    "y = abalone['Rings']\n",
    "X.sample()"
   ]
  },
  {
   "cell_type": "code",
   "execution_count": null,
   "id": "53f2e8fe-afb4-4ccb-96d4-0ef27aa5685e",
   "metadata": {},
   "outputs": [],
   "source": [
    "from sklearn.linear_model import LinearRegression\n",
    "from sklearn.neighbors import KNeighborsRegressor\n",
    "\n",
    "model1 = LinearRegression()\n",
    "model2 = KNeighborsRegressor(n_neighbors=9)\n",
    "print(model1, model2)"
   ]
  },
  {
   "cell_type": "code",
   "execution_count": null,
   "id": "961d9ec1-c8e8-4364-8052-f91347aa57f1",
   "metadata": {},
   "outputs": [],
   "source": [
    "new_data = X.sample(3)\n",
    "new_data = pandas.DataFrame(\n",
    "    scaler.transform(new_data), \n",
    "    columns=new_data.columns,\n",
    "    index = new_data.index,\n",
    ")\n",
    "new_data"
   ]
  },
  {
   "cell_type": "code",
   "execution_count": null,
   "id": "5900305c-e0b6-433a-9a8a-527a1dbf2940",
   "metadata": {},
   "outputs": [],
   "source": [
    "model1.fit(X,y)\n",
    "model2.fit(X,y)\n",
    "y1 = model1.predict(new_data)\n",
    "y2 = model2.predict(new_data)\n",
    "print(y1,y2)\n"
   ]
  },
  {
   "cell_type": "code",
   "execution_count": null,
   "id": "9ee1a3bc-e68b-4e1f-8d2c-29e6ca26ac1e",
   "metadata": {},
   "outputs": [],
   "source": [
    "y.loc[new_data.index]"
   ]
  },
  {
   "cell_type": "markdown",
   "id": "1a3dca5b-3891-40bb-8169-eba873d0ffba",
   "metadata": {},
   "source": [
    "### How good are these predictions? How good is the model's ability to make predictions?"
   ]
  },
  {
   "cell_type": "markdown",
   "id": "c60e5649-0e22-4d85-a2a2-e3edc6d4bd4d",
   "metadata": {},
   "source": [
    "Several things are needed. First, we need a metric."
   ]
  },
  {
   "cell_type": "code",
   "execution_count": null,
   "id": "16b3a9ff-300c-4f48-8abf-fda352670883",
   "metadata": {},
   "outputs": [],
   "source": [
    "from sklearn.metrics import r2_score, mean_absolute_error, mean_squared_error\n",
    "true_values = [1,1,1]\n",
    "predict_values = [1,0,1]\n",
    "print(mean_absolute_error(true_values,predict_values))"
   ]
  },
  {
   "cell_type": "code",
   "execution_count": null,
   "id": "28fcea45-edd3-4dda-95ea-afb286ef72d3",
   "metadata": {},
   "outputs": [],
   "source": [
    "y1, y2, y.loc[new_data.index].values"
   ]
  },
  {
   "cell_type": "code",
   "execution_count": null,
   "id": "21085935-d502-4ae7-8b13-74857537cafd",
   "metadata": {},
   "outputs": [],
   "source": []
  },
  {
   "cell_type": "code",
   "execution_count": null,
   "id": "1a34e30e-027d-486b-91aa-4aef3b651b8d",
   "metadata": {},
   "outputs": [],
   "source": [
    "mean_absolute_error(y.loc[new_data.index], y1)"
   ]
  },
  {
   "cell_type": "code",
   "execution_count": null,
   "id": "6ebb8b26-4ecc-42fb-b798-e184448e2024",
   "metadata": {},
   "outputs": [],
   "source": [
    "mean_absolute_error(y.loc[new_data.index], y2)"
   ]
  },
  {
   "cell_type": "code",
   "execution_count": null,
   "id": "96f30f6b-0e1e-45b7-a1bd-52e8b1224c09",
   "metadata": {},
   "outputs": [],
   "source": [
    "y.loc[new_data.index]"
   ]
  },
  {
   "cell_type": "markdown",
   "id": "15427768-c6ad-43aa-9bc9-c1e6a27be246",
   "metadata": {},
   "source": [
    "##### Summary"
   ]
  },
  {
   "cell_type": "code",
   "execution_count": null,
   "id": "12b7896f-b636-4827-af2e-c88cdffdfc11",
   "metadata": {},
   "outputs": [],
   "source": [
    "scaler = MinMaxScaler()\n",
    "abalone = pandas.read_csv('../Datasets/abalone.csv')\n",
    "X = pandas.get_dummies(abalone.drop(columns=['Rings']))\n",
    "scaled_X = pandas.DataFrame(scaler.fit_transform(X), columns=X.columns)\n",
    "\n",
    "model1 = LinearRegression()\n",
    "model1.fit(scaled_X,y)\n",
    "model2 = KNeighborsRegressor(n_neighbors=9)\n",
    "model2.fit(scaled_X,y)\n",
    "\n",
    "y1 = model1.predict(scaled_X)\n",
    "y2 = model2.predict(scaled_X)\n",
    "\n",
    "print(mean_absolute_error(y, y1))\n",
    "print(mean_absolute_error(y, y2))"
   ]
  },
  {
   "cell_type": "code",
   "execution_count": null,
   "id": "92315c4a-fb0a-4c78-812a-a157feb071ce",
   "metadata": {},
   "outputs": [],
   "source": []
  },
  {
   "cell_type": "markdown",
   "id": "61e5a7f8-fc23-42f3-aebd-9a999a9fef52",
   "metadata": {},
   "source": [
    "### Next, we need two separate training and testing sets"
   ]
  },
  {
   "cell_type": "markdown",
   "id": "273d0137-cb9c-45cd-a068-1d775b9a0c04",
   "metadata": {},
   "source": [
    "To test a learner's ability to learn, first, we give the learner data to learning from.\n",
    "\n",
    "Then, we test the learner using different data."
   ]
  },
  {
   "cell_type": "code",
   "execution_count": null,
   "id": "ce0e4988-70ba-4a00-8ba4-d81a6eb4f13f",
   "metadata": {},
   "outputs": [],
   "source": [
    "from sklearn.model_selection import train_test_split\n",
    "X_train, X_test, y_train, y_test = train_test_split(scaled_X, y, test_size=0.01)"
   ]
  },
  {
   "cell_type": "code",
   "execution_count": null,
   "id": "87bada7c-7a3c-4108-ac86-00ed19eef7b9",
   "metadata": {},
   "outputs": [],
   "source": [
    "len(y), 0.01*4117"
   ]
  },
  {
   "cell_type": "code",
   "execution_count": null,
   "id": "478bbaf4-c003-4cb8-a37b-af0a921b01f0",
   "metadata": {},
   "outputs": [],
   "source": [
    "y_train.index"
   ]
  },
  {
   "cell_type": "code",
   "execution_count": null,
   "id": "29d700e1-eaf4-4200-b76f-4c29c11d6a6e",
   "metadata": {},
   "outputs": [],
   "source": [
    "X_train.index"
   ]
  },
  {
   "cell_type": "code",
   "execution_count": null,
   "id": "8d677ff1-3215-42bd-957c-e4ec07b77fdb",
   "metadata": {},
   "outputs": [],
   "source": [
    "y_test.index"
   ]
  },
  {
   "cell_type": "code",
   "execution_count": null,
   "id": "2509c95d-2b1e-4028-9ad8-0700c3e58af4",
   "metadata": {},
   "outputs": [],
   "source": [
    "X_test.index"
   ]
  },
  {
   "cell_type": "code",
   "execution_count": null,
   "id": "778e891f-e92b-4d15-8259-3204d318476f",
   "metadata": {},
   "outputs": [],
   "source": [
    "\n",
    "model1 = LinearRegression()\n",
    "model1.fit(X_train, y_train)\n",
    "\n",
    "model2 = KNeighborsRegressor(n_neighbors=9)\n",
    "model2.fit(X_train, y_train)\n",
    "\n",
    "y1 = model1.predict(X_test)\n",
    "y2 = model2.predict(X_test)\n",
    "\n",
    "print(mean_absolute_error(y_test, y1))\n",
    "print(mean_absolute_error(y_test, y2))"
   ]
  },
  {
   "cell_type": "markdown",
   "id": "81e6312f-c65a-4374-b9aa-478eca3f2d11",
   "metadata": {},
   "source": [
    "This is a single step of validation."
   ]
  },
  {
   "cell_type": "markdown",
   "id": "a1a2184c-175d-401d-927c-f9ca7cc3033f",
   "metadata": {},
   "source": [
    "#### Summary\n",
    "\n",
    "To evaluate a model we need the following:\n",
    "* A metric, e.g. mean_absolute_error\n",
    "* Validation: two different datasets, a training dataset and a testing dataset.\n",
    "* Cross validation: validating the model in multiple rounds.\n",
    "* Other things..."
   ]
  },
  {
   "cell_type": "code",
   "execution_count": null,
   "id": "0dd6802c-0424-46e1-8588-2e13529eb596",
   "metadata": {},
   "outputs": [],
   "source": [
    "# 1. prepare the data, select features\n",
    "\n",
    "import pandas\n",
    "from sklearn.preprocessing import MinMaxScaler\n",
    "\n",
    "abalone = pandas.read_csv('../Datasets/abalone.csv')\n",
    "\n",
    "y = abalone['Rings']\n",
    "\n",
    "X = abalone.drop(columns=['Rings'])\n",
    "X = pandas.get_dummies(X)\n",
    "\n",
    "scaler = MinMaxScaler()\n",
    "scaled_X = pandas.DataFrame(\n",
    "    scaler.fit_transform(X), \n",
    "    columns=X.columns,\n",
    ")\n",
    "\n",
    "\n"
   ]
  },
  {
   "cell_type": "code",
   "execution_count": null,
   "id": "ae7b76ae-c390-49c9-8de4-18e0ca4d9405",
   "metadata": {},
   "outputs": [],
   "source": [
    "# 2. Create model\n",
    "\n",
    "from sklearn.linear_model import LinearRegression\n",
    "model = LinearRegression()\n",
    "\n"
   ]
  },
  {
   "cell_type": "code",
   "execution_count": null,
   "id": "7fc10cbd-9365-4ec8-8d1c-0cec05bb4f44",
   "metadata": {},
   "outputs": [],
   "source": [
    "# 3. Plan for validation\n",
    "from sklearn.model_selection import train_test_split\n",
    "from sklearn.metrics import mean_absolute_error\n",
    "\n",
    "def one_round_validate(model, X, y, test_size):\n",
    "    X_train, X_test, y_train, y_test = train_test_split(X, y, test_size=test_size) \n",
    "    model.fit(X_train, y_train)\n",
    "    predictions = model.predict(X_test)\n",
    "    error = mean_absolute_error(y_test, predictions)\n",
    "    return error\n"
   ]
  },
  {
   "cell_type": "code",
   "execution_count": null,
   "id": "fe1b94d6-567f-409d-a26f-ccb4258564ca",
   "metadata": {},
   "outputs": [],
   "source": [
    "one_round_validate(model, scaled_X, y, 0.1)"
   ]
  },
  {
   "cell_type": "code",
   "execution_count": null,
   "id": "1c32842f-341a-446f-ae18-699e41caa822",
   "metadata": {},
   "outputs": [],
   "source": [
    "# 4. Cross validation\n",
    "\n",
    "# repeated sampling (this is equivalent to ShuffleSplit)\n",
    "\n",
    "errors = []\n",
    "for i in range(100):\n",
    "    errors.append(one_round_validate(model, scaled_X, y, 0.1))\n",
    "\n",
    "print('Average test error:', sum(errors) / len(errors))"
   ]
  },
  {
   "cell_type": "code",
   "execution_count": null,
   "id": "398a1801-aebe-4fea-8279-5623d8037884",
   "metadata": {},
   "outputs": [],
   "source": []
  },
  {
   "cell_type": "markdown",
   "id": "404bc41a-3e00-40ae-afaa-073bc9563fa2",
   "metadata": {},
   "source": [
    "### Cross Validation with ShuffleSplit\n",
    "\n",
    "Cross validation simply means that we validate a model across differet splits.\n",
    "\n"
   ]
  },
  {
   "cell_type": "code",
   "execution_count": null,
   "id": "1edfbcc9-711c-41e9-99e2-89499d4dc1a6",
   "metadata": {},
   "outputs": [],
   "source": [
    "from sklearn.model_selection import cross_validate, ShuffleSplit"
   ]
  },
  {
   "cell_type": "code",
   "execution_count": null,
   "id": "85b2f422-d049-4d98-9c9d-f249b87161c6",
   "metadata": {},
   "outputs": [],
   "source": [
    "ss = ShuffleSplit(n_splits=100, test_size=0.05)\n",
    "splits = list(ss.split(scaled_X,y))\n",
    "len(splits)"
   ]
  },
  {
   "cell_type": "code",
   "execution_count": null,
   "id": "54601803-3838-46d4-af0e-31aeebc566ad",
   "metadata": {},
   "outputs": [],
   "source": [
    "train_idx, test_idx = splits[0]"
   ]
  },
  {
   "cell_type": "code",
   "execution_count": null,
   "id": "28b278be-7056-478d-be19-e5bd9dbb8e0e",
   "metadata": {},
   "outputs": [],
   "source": [
    "train_idx"
   ]
  },
  {
   "cell_type": "code",
   "execution_count": null,
   "id": "5b1e222a-178f-4d43-93f8-925f6fa8bb61",
   "metadata": {},
   "outputs": [],
   "source": [
    "len(test_idx), len(y)*0.05"
   ]
  },
  {
   "cell_type": "code",
   "execution_count": null,
   "id": "5b19a003-4281-44c0-953b-8ea828f27190",
   "metadata": {
    "tags": []
   },
   "outputs": [],
   "source": [
    "ss = ShuffleSplit(n_splits=100, test_size=0.05)\n",
    "for train_idx, test_idx in ss.split(scaled_X,y):\n",
    "    print(test_idx)"
   ]
  },
  {
   "cell_type": "code",
   "execution_count": null,
   "id": "1005e9f7-36d1-4d73-8983-00c3d7d6b1e7",
   "metadata": {},
   "outputs": [],
   "source": [
    "# to get all the names of \"scoring\"\n",
    "#from sklearn.metrics import get_scorer_names\n",
    "#get_scorer_names()"
   ]
  },
  {
   "cell_type": "code",
   "execution_count": null,
   "id": "18a9a00e-9ee3-46e1-beae-69b4ec481e16",
   "metadata": {},
   "outputs": [],
   "source": [
    "ss = ShuffleSplit(n_splits=100, test_size=0.05)\n",
    "model = LinearRegression()\n",
    "\n",
    "result = cross_validate(model, scaled_X, y, cv=ss,  scoring='neg_mean_absolute_error')\n",
    "result.keys()"
   ]
  },
  {
   "cell_type": "code",
   "execution_count": null,
   "id": "b90ce32e-a1b0-4cab-b8d7-f8dd185bbbed",
   "metadata": {},
   "outputs": [],
   "source": [
    "result['test_score'].mean().round(3), result['test_score'].std().round(3)"
   ]
  },
  {
   "cell_type": "markdown",
   "id": "a0207243-65dd-4bdc-8ef2-e71506b9d5a9",
   "metadata": {},
   "source": [
    "Using `cross_validate` and `ShufflSplit`, we combine all of the cross validation procedure in one step.\n"
   ]
  },
  {
   "cell_type": "markdown",
   "id": "43da5fae-f36f-4dad-b02b-47375a5dddfa",
   "metadata": {},
   "source": [
    "#### KFold Cross Validation\n",
    "\n",
    "https://scikit-learn.org/stable/modules/generated/sklearn.model_selection.KFold.html\n",
    "\n",
    "This picture shows the 5-fold cross validation procedure.\n",
    "<img src=\"https://scikit-learn.org/stable/_images/grid_search_cross_validation.png\" width=\"60%\">"
   ]
  },
  {
   "cell_type": "markdown",
   "id": "98192327-7a07-40aa-b88d-6b9b209c9d42",
   "metadata": {},
   "source": [
    "Benefits of K-fold compared to ShuffleSplit:\n",
    "* Fewer splits.\n",
    "* Each data point is tested exactly once.\n",
    "\n",
    "Cons:\n",
    "* Can be biased. Groups of data are learned/tested together.\n",
    "* We should shuffle the data at the beginning. Sklearn does not do this by default."
   ]
  },
  {
   "cell_type": "code",
   "execution_count": null,
   "id": "1c677e90-5012-4cd6-82f7-c83013ca3160",
   "metadata": {},
   "outputs": [],
   "source": []
  },
  {
   "cell_type": "markdown",
   "id": "0058569f-fb7e-4366-83bd-af8a56388dae",
   "metadata": {},
   "source": [
    "### Baseline Comparison"
   ]
  },
  {
   "cell_type": "code",
   "execution_count": null,
   "id": "0f480ac1-786d-443d-9822-741ad100be97",
   "metadata": {},
   "outputs": [],
   "source": [
    "ss = ShuffleSplit(n_splits=100, test_size=0.05)\n",
    "model = LinearRegression()\n",
    "\n",
    "result = cross_validate(model, scaled_X, y, cv=ss,  \n",
    "                        scoring=['r2','neg_mean_absolute_error'])\n",
    "print(result['test_neg_mean_absolute_error'].mean().round(2))\n",
    "print(result['test_r2'].mean().round(2))\n"
   ]
  },
  {
   "cell_type": "code",
   "execution_count": null,
   "id": "2f289c80-5dd9-4ffd-b2ab-a555f0c15a3e",
   "metadata": {},
   "outputs": [],
   "source": [
    "from sklearn.dummy import DummyRegressor\n",
    "baseline = DummyRegressor()\n",
    "baseline.strategy"
   ]
  },
  {
   "cell_type": "code",
   "execution_count": null,
   "id": "2a003bdb-a797-4b05-8627-697c1942ce54",
   "metadata": {},
   "outputs": [],
   "source": [
    "result = cross_validate(baseline, scaled_X, y, cv=ss,  \n",
    "                        scoring=['r2','neg_mean_absolute_error'])\n",
    "print(result['test_neg_mean_absolute_error'].mean().round(2))\n",
    "print(result['test_r2'].mean().round(2))"
   ]
  },
  {
   "cell_type": "code",
   "execution_count": null,
   "id": "513c738c-4325-471e-9e72-0479ac70885c",
   "metadata": {},
   "outputs": [],
   "source": []
  },
  {
   "cell_type": "markdown",
   "id": "3eeb7152-3e85-4e96-858b-f26e50b66f49",
   "metadata": {},
   "source": [
    "### Learning Curves\n",
    "\n",
    "How does a model learn with more data?  Does learning increase with more experience?\n",
    "\n",
    "A learning curve reveals insights about the data and the learner.  The learning curve reveals how good the learner (model) is, and/or how difficult the problem is.\n",
    "\n",
    "Learning curve:\n",
    "* x-axis training size\n",
    "* y-axis score (higher is better)\n"
   ]
  },
  {
   "cell_type": "code",
   "execution_count": null,
   "id": "020021cf-ebca-4aca-ad5e-6b3280604c4e",
   "metadata": {},
   "outputs": [],
   "source": [
    "def one_round_validate(model, X, y, test_size):\n",
    "    X_train, X_test, y_train, y_test = train_test_split(X, y, test_size=test_size) \n",
    "    model.fit(X_train, y_train)\n",
    "    predictions = model.predict(X_test)\n",
    "    test_score = -mean_absolute_error(y_test, predictions)\n",
    "\n",
    "    predictions = model.predict(X_train)\n",
    "    train_score = -mean_absolute_error(y_train, predictions)\n",
    "    \n",
    "    return train_score, test_score\n",
    "\n"
   ]
  },
  {
   "cell_type": "code",
   "execution_count": null,
   "id": "de74c62a-61d2-415b-99bd-263a91b9c2c2",
   "metadata": {},
   "outputs": [],
   "source": [
    "# from sklearn.metrics import get_scorer_names\n",
    "# get_scorer_names()"
   ]
  },
  {
   "cell_type": "code",
   "execution_count": null,
   "id": "8b6c2a79-0a13-40d6-b8a8-b608ee83fde5",
   "metadata": {},
   "outputs": [],
   "source": [
    "import lcplot\n",
    "\n",
    "model = LinearRegression()\n",
    "lcplot.plot(model, scaled_X, y, scoring='neg_mean_squared_error')\n"
   ]
  },
  {
   "cell_type": "markdown",
   "id": "405a4e58-628c-4276-bfa7-5ad7e55421dd",
   "metadata": {},
   "source": [
    "\n",
    "<img src=\"https://scikit-learn.org/stable/_images/sphx_glr_plot_learning_curve_001.png\" width=\"75%\">\n"
   ]
  },
  {
   "cell_type": "markdown",
   "id": "e833315f-4944-4b93-a8c5-56146c105772",
   "metadata": {},
   "source": [
    "#PID:21\n",
    "#### Exercise: evaluate the following learning curve\n",
    "\n",
    "https://i.stack.imgur.com/uHDIM.png\n",
    "\n",
    "My evaluation:\n",
    "* learner's ability: test score may not get above 0.8\n",
    "* problem difficulty: with additional data, scores may not get higher.\n",
    "\n"
   ]
  },
  {
   "cell_type": "markdown",
   "id": "517f02b6-be1a-43e0-95d5-aebea3d48008",
   "metadata": {},
   "source": [
    "https://i.stack.imgur.com/uHDIM.png\n",
    "\n",
    "https://i.stack.imgur.com/MHRKD.png\n",
    "\n",
    "https://i.stack.imgur.com/VGhxI.png\n",
    "\n",
    "https://i.stack.imgur.com/dDgMw.png"
   ]
  }
 ],
 "metadata": {
  "kernelspec": {
   "display_name": "Python 3 (ipykernel)",
   "language": "python",
   "name": "python3"
  },
  "language_info": {
   "codemirror_mode": {
    "name": "ipython",
    "version": 3
   },
   "file_extension": ".py",
   "mimetype": "text/x-python",
   "name": "python",
   "nbconvert_exporter": "python",
   "pygments_lexer": "ipython3",
   "version": "3.11.5"
  }
 },
 "nbformat": 4,
 "nbformat_minor": 5
}
