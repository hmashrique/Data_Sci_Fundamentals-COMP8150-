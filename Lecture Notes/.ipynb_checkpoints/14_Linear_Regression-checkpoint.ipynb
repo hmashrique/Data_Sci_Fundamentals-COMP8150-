{
 "cells": [
  {
   "cell_type": "markdown",
   "id": "03674ffc-bad6-474b-907e-096770424f3b",
   "metadata": {},
   "source": [
    "# Linear Regression\n",
    "\n",
    "* R = Pearson correlation\n",
    "* R-squared (R2)"
   ]
  },
  {
   "cell_type": "markdown",
   "id": "08f5f7f5-d72a-4e6b-94f9-fb2a33761451",
   "metadata": {},
   "source": [
    "### Pearson Correlation Coefficient \n",
    "\n",
    "This is a measure of the linear correlation between two variables \\(X\\) and \\(Y\\), providing information about the strength and direction of their linear relationship. The value of \\(r\\) ranges from -1 to 1, where:\n",
    "   - 1 indicates a perfect positive linear relationship,\n",
    "   - -1 indicates a perfect negative linear relationship, and\n",
    "   - 0 indicates no linear relationship.\n",
    "   \n",
    "R is calculated as the covariance of the two variables divided by the product of their standard deviations. It gives the degree to which two variables are linearly related, without providing information about the slope of the line or its intercept.\n"
   ]
  },
  {
   "cell_type": "markdown",
   "id": "3e33c34b-af2c-47cb-a535-45ad6def919a",
   "metadata": {},
   "source": [
    "<img src=\"pearson1.png\" width=\"30%\">\n",
    "<img src=\"pearson2.png\" width=\"30%\">"
   ]
  },
  {
   "cell_type": "code",
   "execution_count": null,
   "id": "0f1f47c4-cb0d-402f-985f-eae03db4dfa1",
   "metadata": {},
   "outputs": [],
   "source": [
    "import warnings\n",
    "warnings.filterwarnings('ignore')"
   ]
  },
  {
   "cell_type": "code",
   "execution_count": null,
   "id": "23822e55-e3a5-4e82-b3d7-be519f972d80",
   "metadata": {},
   "outputs": [],
   "source": [
    "import pandas\n",
    "from scipy.stats import pearsonr\n",
    "\n",
    "iris = pandas.read_csv('../Datasets/iris.csv')\n",
    "abalone = pandas.read_csv('../Datasets/abalone.csv')\n",
    "\n",
    "pearsonr(iris['PetalWidth'], iris['PetalLength'])"
   ]
  },
  {
   "cell_type": "code",
   "execution_count": null,
   "id": "c9f21225-0c30-420a-befe-97a647ffcfdb",
   "metadata": {},
   "outputs": [],
   "source": [
    "iris.drop(columns=['Species']).corr().round(2)"
   ]
  },
  {
   "cell_type": "markdown",
   "id": "35d4e52f-2752-478e-b179-1dcd31016c10",
   "metadata": {},
   "source": [
    "---\n",
    "\n",
    "### Coefficient of Determination $(R^2)$\n",
    "\n",
    "This measures the proportion of the variance in the dependent variable that is predictable from the independent variable(s) in a regression model. It is a key output of regression analysis. $R^2$ ranges from 0 to 1, where:\n",
    "   - 0 indicates that the model explains none of the variability of the response data around its mean, and\n",
    "   - 1 indicates that the model explains all the variability of the response data around its mean.\n",
    "   \n",
    "$R^2$ provides information about the goodness of fit of a model. \n",
    "\n",
    "In simple linear regression, $R^2$ is the square of the Pearson correlation coefficient, indicating how much of the variance in the dependent variable is explained by the model. \n"
   ]
  },
  {
   "cell_type": "markdown",
   "id": "5b2550d1-f805-4d2c-b2f6-6c1eedd26467",
   "metadata": {},
   "source": [
    "### Pearson coefficient vs $R^2$\n",
    "\n",
    "- **Purpose**: The Pearson correlation coefficient measures the strength and direction of a linear relationship between two variables, while $R^2$ measures how well a regression model fits the data.\n",
    "- **Interpretation**: Pearson correlation coefficient reflects correlation without implying causation, and its square  can be interpreted as the proportion of variance shared by the two variables. $R^2$, however, indicates the proportion of the variance in the dependent variable that is predictable from the independent variable(s).\n",
    "\n",
    "Understanding the distinctions between these two measures is crucial for accurately interpreting the relationship between variables and the performance of regression models."
   ]
  },
  {
   "cell_type": "markdown",
   "id": "e5f1cfb5-0218-4bf9-8b51-dba64054c485",
   "metadata": {},
   "source": [
    "### Examples"
   ]
  },
  {
   "cell_type": "code",
   "execution_count": null,
   "id": "b72b371e-d3ba-4701-984a-59ab98180abe",
   "metadata": {},
   "outputs": [],
   "source": [
    "from sklearn.linear_model import LinearRegression\n",
    "from sklearn.preprocessing import StandardScaler\n",
    "from sklearn.metrics import r2_score\n"
   ]
  },
  {
   "cell_type": "markdown",
   "id": "1b7312b7-156e-4238-9247-71e1dc272163",
   "metadata": {},
   "source": [
    "Here, we create a linear model, which learns y from X. (line 4)"
   ]
  },
  {
   "cell_type": "code",
   "execution_count": null,
   "id": "992b7af7-ee03-4b35-bed0-d2be3f359411",
   "metadata": {},
   "outputs": [],
   "source": [
    "X = iris[['PetalLength']]\n",
    "y = iris['PetalWidth']\n",
    "model = LinearRegression()\n",
    "model.fit(X,y)\n"
   ]
  },
  {
   "cell_type": "markdown",
   "id": "f06cba3d-619b-480b-b402-356ede28061e",
   "metadata": {},
   "source": [
    "y is a linear function of X.\n",
    "```python\n",
    "y = X*coef + intercept\n",
    "```"
   ]
  },
  {
   "cell_type": "code",
   "execution_count": null,
   "id": "554b33e6-a4c1-49ef-9850-965d650b8954",
   "metadata": {},
   "outputs": [],
   "source": [
    "model.coef_*3.7 + model.intercept_"
   ]
  },
  {
   "cell_type": "code",
   "execution_count": null,
   "id": "f96d20c0-d143-453e-b03f-ef4df7b0c1fe",
   "metadata": {},
   "outputs": [],
   "source": [
    "some_data = [\n",
    "    [3.5],\n",
    "    [3.7],\n",
    "]\n",
    "model.predict(some_data)"
   ]
  },
  {
   "cell_type": "code",
   "execution_count": null,
   "id": "ddf76e19-9705-4d53-9658-378317e21803",
   "metadata": {},
   "outputs": [],
   "source": [
    "print('R^2: ',model.score(X,y))"
   ]
  },
  {
   "cell_type": "code",
   "execution_count": null,
   "id": "50004769-0c9d-4b70-8609-960b0c0c4d7c",
   "metadata": {},
   "outputs": [],
   "source": [
    "r, pvalue = pearsonr(X['PetalLength'],y)\n",
    "print(r, r*r, pvalue)"
   ]
  },
  {
   "cell_type": "markdown",
   "id": "15f15796-add5-4023-951d-ef786fddb3f5",
   "metadata": {},
   "source": [
    "### Understanding R-squared\n",
    "\n",
    "R-squared can be viewed as how good the model is compared to a baseline model.\n"
   ]
  },
  {
   "cell_type": "markdown",
   "id": "b6240e2d-48e1-43c1-8dac-f18e4efb4e1d",
   "metadata": {
    "tags": []
   },
   "source": [
    "##### How R2 is calculated\n",
    "\n",
    "$R^2 = 1 - {\\sum_i (y_i-f_i)^2 \\over \\sum_i (y_i - \\mu_y)^2}$\n",
    "$= {\\sum_i (y_i - \\mu_y)^2 - \\sum_i (y_i-f_i)^2 \\over \\sum_i (y_i - \\mu_y)^2}$\n",
    "\n",
    "\n",
    "$f_i = f(X_i)$ is the predicted value of $y_i$.\n"
   ]
  },
  {
   "cell_type": "markdown",
   "id": "45e4b48a-7b3d-46a4-8cba-18e305e84984",
   "metadata": {},
   "source": [
    "#### Concept of a baseline model\n",
    "\n",
    "Here's a baseline model: always predict average value of `y`.\n",
    "\n"
   ]
  },
  {
   "cell_type": "code",
   "execution_count": null,
   "id": "4ab69f76-bc6e-4b8d-aec4-680913f9eb29",
   "metadata": {},
   "outputs": [],
   "source": []
  },
  {
   "cell_type": "markdown",
   "id": "af9f1084-8853-4f73-b9d0-e12d3412b6fe",
   "metadata": {},
   "source": [
    "### Multi-variable Regression"
   ]
  },
  {
   "cell_type": "code",
   "execution_count": null,
   "id": "bea3b193-0cb1-42b7-863d-e93bd87f5b0f",
   "metadata": {},
   "outputs": [],
   "source": [
    "import pandas\n",
    "from sklearn.linear_model import LinearRegression\n",
    "\n",
    "iris = pandas.read_csv('../Datasets/iris.csv')\n",
    "X = iris[['PetalLength','PetalWidth']]\n",
    "y = iris['SepalLength']\n",
    "model = LinearRegression()\n",
    "model.fit(X,y)\n",
    "print(model.coef_, model.intercept_)"
   ]
  },
  {
   "cell_type": "code",
   "execution_count": null,
   "id": "cc6db2c7-c1dd-4614-81da-9c91631f6d0d",
   "metadata": {},
   "outputs": [],
   "source": [
    "model.predict([\n",
    "    (3.7,2.5)\n",
    "])"
   ]
  },
  {
   "cell_type": "markdown",
   "id": "6d19689b-663f-4b6d-a743-2d8629d24556",
   "metadata": {},
   "source": [
    "### Exercises"
   ]
  },
  {
   "cell_type": "code",
   "execution_count": null,
   "id": "ec96d5f4-4bc6-4695-9898-21e0d6dc6f1d",
   "metadata": {},
   "outputs": [],
   "source": [
    "abalone = pandas.read_csv('../Datasets/abalone.csv')\n",
    "abalone.sample(3)"
   ]
  },
  {
   "cell_type": "code",
   "execution_count": null,
   "id": "1ef82154-aef2-4567-84a9-fc6567fb4450",
   "metadata": {},
   "outputs": [],
   "source": [
    "#PID:15\n",
    "#\n",
    "# Exercise: use a linear regression to model Rings using Length, and Whole weight \n",
    "#\n",
    "\n",
    "import pandas\n",
    "from sklearn.linear_model import LinearRegression\n",
    "\n",
    "abalone = pandas.read_csv('../Datasets/abalone.csv')\n",
    "X = abalone[['Length','Whole weight']]\n",
    "y = abalone['Rings']\n",
    "model = LinearRegression()\n",
    "model.fit(X,y)"
   ]
  },
  {
   "cell_type": "code",
   "execution_count": null,
   "id": "7bc9ed36-6136-45ad-b568-dbdc0968c981",
   "metadata": {},
   "outputs": [],
   "source": []
  },
  {
   "cell_type": "code",
   "execution_count": null,
   "id": "1d4850f2-9607-461c-b007-dd6bb2b71893",
   "metadata": {},
   "outputs": [],
   "source": []
  },
  {
   "cell_type": "code",
   "execution_count": null,
   "id": "696bc4b3-1354-47b6-a20b-3e691d9b9e12",
   "metadata": {},
   "outputs": [],
   "source": [
    "#PID:16\n",
    "#\n",
    "# Exercise: use a linear regression to model Rings using Sex, Length, and Whole weight \n",
    "#\n",
    "\n",
    "import pandas\n",
    "from sklearn.linear_model import LinearRegression\n",
    "\n",
    "abalone = pandas.read_csv('../Datasets/abalone.csv')\n",
    "X = abalone[['Sex','Length','Whole weight']]\n",
    "X = pandas.get_dummies(X)\n",
    "y = abalone['Rings']\n",
    "model = LinearRegression()\n",
    "model.fit(X,y)\n"
   ]
  },
  {
   "cell_type": "code",
   "execution_count": null,
   "id": "a3782907-3c9a-4b01-add1-f7b60e93d3eb",
   "metadata": {},
   "outputs": [],
   "source": []
  },
  {
   "cell_type": "code",
   "execution_count": null,
   "id": "4018627b-c484-4de4-8f0f-7c2fc64ecb73",
   "metadata": {},
   "outputs": [],
   "source": []
  },
  {
   "cell_type": "code",
   "execution_count": null,
   "id": "a0c0852e-a400-4d50-b087-fe9355f71c4d",
   "metadata": {},
   "outputs": [],
   "source": [
    "abalone.iloc[2024][['Sex','Length','Whole weight']]"
   ]
  },
  {
   "cell_type": "code",
   "execution_count": null,
   "id": "2808a9fb-6901-4bc4-a86d-0d86e7d80f78",
   "metadata": {},
   "outputs": [],
   "source": [
    "#PID:17\n",
    "#\n",
    "# Exercise: use a linear regression to model Rings using Sex, Length, and Whole weight \n",
    "# and predict the number of rings of a male abalone with length 0.6 and weight 0.75.\n",
    "#\n",
    "\n",
    "import pandas\n",
    "from sklearn.linear_model import LinearRegression\n",
    "\n",
    "abalone = pandas.read_csv('../Datasets/abalone.csv')\n",
    "X = abalone[['Sex','Length','Whole weight']]\n",
    "X = pandas.get_dummies(X)\n",
    "y = abalone['Rings']\n",
    "model = LinearRegression()\n",
    "model.fit(X,y)\n",
    "\n",
    "data = [\n",
    "    [0.6, 0.75, 0, 0, 1],\n",
    "]\n",
    "# X.head()\n",
    "model.predict(data)"
   ]
  },
  {
   "cell_type": "code",
   "execution_count": null,
   "id": "35c81453-78f2-4556-96db-e331e81f3ea3",
   "metadata": {},
   "outputs": [],
   "source": [
    "abalone.loc[2024]"
   ]
  },
  {
   "cell_type": "code",
   "execution_count": null,
   "id": "0c525c21-d270-44fe-b5fa-39bbdd6da34b",
   "metadata": {},
   "outputs": [],
   "source": [
    "#PID:18\n",
    "#\n",
    "# Exercise: use a linear regression to model Rings using Sex, Length, and Whole weight \n",
    "# and identify the most important feature in this modeling\n",
    "#\n",
    "\n",
    "import pandas\n",
    "from sklearn.linear_model import LinearRegression\n",
    "from sklearn.preprocessing import MinMaxScaler\n",
    "\n",
    "abalone = pandas.read_csv('../Datasets/abalone.csv')\n",
    "X = abalone[['Sex','Length','Whole weight']]\n",
    "X = pandas.get_dummies(X)\n",
    "print(X.columns)\n",
    "X = MinMaxScaler().fit_transform(X)\n",
    "y = abalone['Rings']\n",
    "model = LinearRegression()\n",
    "model.fit(X,y)\n",
    "\n",
    "print(model.coef_)\n",
    "\"\"\"\n",
    "y  =  X * model.coef_ + model.intercept_\n",
    "\n",
    "After normalization, length is the most impactful/important feature because \n",
    "it has the largest coefficient.\n",
    "\"\"\"\n",
    "\n"
   ]
  },
  {
   "cell_type": "markdown",
   "id": "1d854a4e-21ea-45b2-99cf-d3fa76b982b8",
   "metadata": {},
   "source": [
    "```python\n",
    "y = 2*x1 + 10*x2 + 3*x3  + b\n",
    "```\n"
   ]
  },
  {
   "cell_type": "code",
   "execution_count": null,
   "id": "9ef91a86-7fac-41cf-8e0e-30749129cafb",
   "metadata": {},
   "outputs": [],
   "source": []
  }
 ],
 "metadata": {
  "kernelspec": {
   "display_name": "Python 3 (ipykernel)",
   "language": "python",
   "name": "python3"
  },
  "language_info": {
   "codemirror_mode": {
    "name": "ipython",
    "version": 3
   },
   "file_extension": ".py",
   "mimetype": "text/x-python",
   "name": "python",
   "nbconvert_exporter": "python",
   "pygments_lexer": "ipython3",
   "version": "3.11.5"
  }
 },
 "nbformat": 4,
 "nbformat_minor": 5
}
