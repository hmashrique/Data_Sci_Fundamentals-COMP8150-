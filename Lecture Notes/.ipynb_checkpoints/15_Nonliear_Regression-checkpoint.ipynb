{
 "cells": [
  {
   "cell_type": "markdown",
   "id": "a9e10d11-2e63-4c96-8e93-43740bc30794",
   "metadata": {},
   "source": [
    "# Nonlinear Regression"
   ]
  },
  {
   "cell_type": "code",
   "execution_count": null,
   "id": "a5b6d1c7-f4f0-4542-b6ed-8489425957b2",
   "metadata": {},
   "outputs": [],
   "source": [
    "import pandas\n",
    "from sklearn.preprocessing import MinMaxScaler\n",
    "from sklearn.neighbors import KNeighborsRegressor\n",
    "\n",
    "abalone = pandas.read_csv('../Datasets/abalone.csv')\n",
    "\n",
    "y = abalone['Rings']\n",
    "\n",
    "X = pandas.get_dummies(abalone.drop(columns=['Rings']))\n",
    "\n",
    "X = pandas.DataFrame(\n",
    "    data = MinMaxScaler().fit_transform(X), \n",
    "    columns=X.columns,\n",
    ")\n",
    "X.sample(1)"
   ]
  },
  {
   "cell_type": "code",
   "execution_count": null,
   "id": "9aa821ad-37b3-4f8e-ba36-7daf43b27ed8",
   "metadata": {},
   "outputs": [],
   "source": [
    "model = KNeighborsRegressor()\n",
    "model.fit(X,y)\n",
    "new_data = X.sample(1)\n",
    "new_data"
   ]
  },
  {
   "cell_type": "code",
   "execution_count": null,
   "id": "506adff7-cdae-4c44-8422-3355ce30f0d3",
   "metadata": {},
   "outputs": [],
   "source": [
    "model.predict(new_data)"
   ]
  },
  {
   "cell_type": "code",
   "execution_count": null,
   "id": "3f0c5bfe-cf07-4ded-857a-5fa2bd165ca0",
   "metadata": {},
   "outputs": [],
   "source": [
    "X.sample()"
   ]
  },
  {
   "cell_type": "code",
   "execution_count": null,
   "id": "90769bc8-e4b0-4566-bdb5-6ac9886b3c07",
   "metadata": {},
   "outputs": [],
   "source": []
  },
  {
   "cell_type": "code",
   "execution_count": null,
   "id": "d722996a-fee6-42bf-838f-69ce0debb11e",
   "metadata": {},
   "outputs": [],
   "source": []
  },
  {
   "cell_type": "code",
   "execution_count": null,
   "id": "fb34d155-00c7-44d9-8dc6-16af85f8647d",
   "metadata": {},
   "outputs": [],
   "source": [
    "#PID:19\n",
    "#\n",
    "# Exercise: \n",
    "# Build a 11-neighbor model to predict Rings using length, diameter, and  whole weight\n",
    "#\n",
    "\n",
    "from sklearn.neighbors import KNeighborsRegressor\n",
    "from sklearn.preprocessing import MinMaxScaler\n",
    "\n",
    "import pandas\n",
    "\n",
    "abalone = pandas.read_csv('../Datasets/abalone.csv')\n",
    "y = abalone['Rings']\n",
    "X = abalone[['Length','Diameter','Whole weight']]\n",
    "X = MinMaxScaler().fit_transform(X)\n",
    "model = KNeighborsRegressor(n_neighbors=11)\n",
    "model.fit(X,y)"
   ]
  },
  {
   "cell_type": "code",
   "execution_count": null,
   "id": "f9da8252-dd27-4400-88cb-50a39e31f046",
   "metadata": {},
   "outputs": [],
   "source": []
  },
  {
   "cell_type": "code",
   "execution_count": 43,
   "id": "f0dd8530-be76-4b2c-8a15-044ec1e589d9",
   "metadata": {},
   "outputs": [
    {
     "name": "stderr",
     "output_type": "stream",
     "text": [
      "/Users/vphan/anaconda3/lib/python3.11/site-packages/sklearn/base.py:464: UserWarning: X does not have valid feature names, but MinMaxScaler was fitted with feature names\n",
      "  warnings.warn(\n"
     ]
    },
    {
     "data": {
      "text/plain": [
       "array([11.])"
      ]
     },
     "execution_count": 43,
     "metadata": {},
     "output_type": "execute_result"
    }
   ],
   "source": [
    "#PID:20\n",
    "#\n",
    "# Exercise:  Use the model to predict the number of rings of a sample of abalone\n",
    "# with length 0.72cm, diameter 0.55cm and weight 1.4g\n",
    "#\n",
    "\n",
    "from sklearn.neighbors import KNeighborsRegressor\n",
    "from sklearn.preprocessing import MinMaxScaler\n",
    "\n",
    "import pandas\n",
    "\n",
    "# 1. Build the model\n",
    "abalone = pandas.read_csv('../Datasets/abalone.csv')\n",
    "y = abalone['Rings']\n",
    "X = abalone[['Length','Diameter','Whole weight']]\n",
    "scaler =  MinMaxScaler()\n",
    "X = scaler.fit_transform(X)\n",
    "model = KNeighborsRegressor(n_neighbors=11)\n",
    "model.fit(X,y)\n",
    "\n",
    "# 2. Make the prediction\n",
    "new_data = [ \n",
    "    [0.72,0.55,1.4],\n",
    "]\n",
    "# new_data = MinMaxScaler().fit_transform(new_data)   # not right,\n",
    "new_data = scaler.transform(new_data)\n",
    "\n",
    "model.predict(new_data)  "
   ]
  },
  {
   "cell_type": "code",
   "execution_count": 40,
   "id": "052e448d-168f-4ae1-ba99-41bb335d6b98",
   "metadata": {},
   "outputs": [
    {
     "data": {
      "text/plain": [
       "Length           0.620\n",
       "Diameter         0.500\n",
       "Whole weight     1.293\n",
       "Rings           10.000\n",
       "Name: 1378, dtype: float64"
      ]
     },
     "execution_count": 40,
     "metadata": {},
     "output_type": "execute_result"
    }
   ],
   "source": [
    "abalone[['Length','Diameter','Whole weight','Rings']].loc[1378]"
   ]
  },
  {
   "cell_type": "markdown",
   "id": "e953c575-6091-41b1-a20e-06e531905bff",
   "metadata": {},
   "source": [
    "### we will save the model and scaler for later use.\n",
    "\n",
    "We will \"serialize\" the model and save it."
   ]
  },
  {
   "cell_type": "code",
   "execution_count": 45,
   "id": "5fc2dfb9-2158-4bcc-926c-eda8953b3031",
   "metadata": {},
   "outputs": [
    {
     "data": {
      "text/plain": [
       "['mm-scaler.joblib']"
      ]
     },
     "execution_count": 45,
     "metadata": {},
     "output_type": "execute_result"
    }
   ],
   "source": [
    "import joblib\n",
    "joblib.dump(model, '11nn.joblib')\n",
    "joblib.dump(scaler, 'mm-scaler.joblib')"
   ]
  },
  {
   "cell_type": "code",
   "execution_count": null,
   "id": "92ae00b1-8591-4ca4-9476-d67dd205b4dd",
   "metadata": {},
   "outputs": [],
   "source": []
  }
 ],
 "metadata": {
  "kernelspec": {
   "display_name": "Python 3 (ipykernel)",
   "language": "python",
   "name": "python3"
  },
  "language_info": {
   "codemirror_mode": {
    "name": "ipython",
    "version": 3
   },
   "file_extension": ".py",
   "mimetype": "text/x-python",
   "name": "python",
   "nbconvert_exporter": "python",
   "pygments_lexer": "ipython3",
   "version": "3.11.5"
  }
 },
 "nbformat": 4,
 "nbformat_minor": 5
}
