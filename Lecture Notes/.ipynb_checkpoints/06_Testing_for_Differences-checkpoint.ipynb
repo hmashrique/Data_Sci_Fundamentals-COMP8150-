{
 "cells": [
  {
   "cell_type": "markdown",
   "id": "71409122-87fa-4a50-9ed0-96d91ced2e25",
   "metadata": {},
   "source": [
    "# Testing for Differences"
   ]
  },
  {
   "cell_type": "markdown",
   "id": "7533c14f-7fb8-42de-a6ff-2e28d9073b73",
   "metadata": {},
   "source": [
    "Objective: We are interested in if two sets of numbers are different, or perhaps one set of numbers is larger than the other."
   ]
  },
  {
   "cell_type": "code",
   "execution_count": null,
   "id": "30b4ac7f-6255-4d0d-967a-4e80d6781d4f",
   "metadata": {},
   "outputs": [],
   "source": [
    "import pandas\n",
    "auto = pandas.read_csv('../Datasets/auto-mpg.csv')\n",
    "auto.sample(5)"
   ]
  },
  {
   "cell_type": "markdown",
   "id": "defb5724-8ad6-42d6-81bd-e5d0dc7d6889",
   "metadata": {},
   "source": [
    "---\n",
    "### Exercises\n",
    "* Is the distribution of \"mpg\" normal?  Explain.  If it isn't mathematically normal, explain why.\n",
    "* What is the central tendency of mpg and cylinder?\n"
   ]
  },
  {
   "cell_type": "markdown",
   "id": "57bcbd94-18c1-49a1-bf27-002421f222ae",
   "metadata": {},
   "source": [
    "#PID:8\n",
    "**Question: Is the distribution of \"mpg\" normal? Explain. If it isn't mathematically normal, explain why.**\n",
    "\n",
    "\n",
    "We will look at 3 things: (i) the shapiro test, (ii) the distribution of mpg, and the theoretical distribution with same mean & std, (iii) the qq plot.\n",
    "\n",
    "First, the shapiro test returns the probability of observing the mpg data, assuming that it is normally distributed.  The p-value is less than 0.05 or even 0.01.  This means the hypothesis that mpg is normally distributed is unlikely to be true.\n",
    "\n",
    "```python\n",
    "from scipy.stats import shapiro\n",
    "test_statistics, test_pvalue = shapiro(auto['mpg'])\n",
    "print(round(test_pvalue, 4))\n",
    "```\n",
    "\n",
    "Second, to comparte the observed distribution of mpg to the theoretically normal distribution, we'll construct the theoretical distribution and visualize both.  The sample distribution leans toward the right; it's not symmetric.  Although, the mean somewhat captures the central tendency of the distribution.\n",
    "\n",
    "```python\n",
    "from seaborn import displot\n",
    "displot(data=auto, x='mpg', kind='kde', height=2)\n",
    "displot(x=theoretical, kind='kde', height=2)\n",
    "```\n",
    "\n",
    "Third, the qq plot shows that the sample and theoretical curves do not align very well at the tails.\n",
    "\n",
    "```python\n",
    "from statsmodels.api import qqplot\n",
    "qqplot(auto['mpg'], line='s')\n",
    "```"
   ]
  },
  {
   "cell_type": "code",
   "execution_count": null,
   "id": "1d9421ab-3b1a-43d3-afd6-f8c6a84d2c56",
   "metadata": {},
   "outputs": [],
   "source": [
    "from scipy.stats import shapiro\n",
    "test_statistics, test_pvalue = shapiro(auto['mpg'])\n",
    "print(round(test_pvalue, 4))"
   ]
  },
  {
   "cell_type": "code",
   "execution_count": null,
   "id": "1c38e0bb-8f71-436b-a36b-856a37d83226",
   "metadata": {},
   "outputs": [],
   "source": [
    "from numpy.random import normal\n",
    "theoretical = normal(auto['mpg'].mean(), auto['mpg'].std(), 500)"
   ]
  },
  {
   "cell_type": "code",
   "execution_count": null,
   "id": "43021e21-a75c-4355-ba6c-201bba8ff556",
   "metadata": {},
   "outputs": [],
   "source": [
    "import warnings\n",
    "warnings.filterwarnings('ignore')\n",
    "\n",
    "from seaborn import displot\n",
    "displot(data=auto, x='mpg', kind='kde', height=2)\n",
    "displot(x=theoretical, kind='kde', height=2)"
   ]
  },
  {
   "cell_type": "code",
   "execution_count": null,
   "id": "ac4c0565-e008-44e3-9e41-b5f70380df8c",
   "metadata": {},
   "outputs": [],
   "source": [
    "from statsmodels.api import qqplot\n",
    "qqplot(auto['mpg'], line='s')"
   ]
  },
  {
   "cell_type": "code",
   "execution_count": null,
   "id": "1a3e9879-4b22-4593-8c3d-eca23a0c69b9",
   "metadata": {},
   "outputs": [],
   "source": []
  },
  {
   "cell_type": "markdown",
   "id": "fa5de4ec-5d12-410a-a456-88d2ede0f064",
   "metadata": {},
   "source": [
    "---\n",
    "## Central tendency\n"
   ]
  },
  {
   "cell_type": "markdown",
   "id": "d797423f-fb4d-444f-b9c7-6e957036710a",
   "metadata": {},
   "source": [
    "**Question: What is the central tendency of mpg?**\n",
    "\n",
    "Answer: in \n",
    "y cases, the average captures the central tendency.  In this case, the average mpg is about 23.5.\n",
    "\n",
    "```python\n",
    "auto['mpg'].mean()\n",
    "```"
   ]
  },
  {
   "cell_type": "markdown",
   "id": "fcdd34dc-4438-4ef1-9200-1f1c8fbcc7a6",
   "metadata": {},
   "source": [
    "**Question: What is the central tendency of cylinder?**\n",
    "\n",
    "Answer: the central tendency of cylinder is 5.455. We don't many 5-cylinder cars. This doesn't capturet the central tendency. Median (of 4) is better. But I think, the mode captures it better.\n",
    "Looking at the mode, we see that 4 cylinders occur around 51%.\n",
    "```python\n",
    "auto['cylinders'].value_counts(1)\n",
    "```"
   ]
  },
  {
   "cell_type": "code",
   "execution_count": 31,
   "id": "7de5eb66-3b18-4260-9773-f89a03f14983",
   "metadata": {},
   "outputs": [
    {
     "data": {
      "text/plain": [
       "(164121.4927986634, 100577.33600916508)"
      ]
     },
     "execution_count": 31,
     "metadata": {},
     "output_type": "execute_result"
    },
    {
     "data": {
      "image/png": "[encoded data removed]",
      "text/plain": [
       "<Figure size 200x200 with 1 Axes>"
      ]
     },
     "metadata": {},
     "output_type": "display_data"
    }
   ],
   "source": [
    "import numpy\n",
    "from seaborn import displot\n",
    "\n",
    "salaries = numpy.random.normal(100000, 10000, 100)\n",
    "salaries = numpy.append(salaries, [200000,250000,750000,5000000,1000000])\n",
    "displot(salaries, kind='kde', height=2)\n",
    "numpy.mean(salaries), numpy.median(salaries)"
   ]
  },
  {
   "cell_type": "markdown",
   "id": "9d5aedab-6ff7-40bf-9bd7-0266ce465a2d",
   "metadata": {},
   "source": [
    "When we have outliers, medians can describe or capture the central tendency better."
   ]
  },
  {
   "cell_type": "markdown",
   "id": "8e4babbd-37be-4935-8ae7-85ed714b9c58",
   "metadata": {},
   "source": [
    "---\n",
    "\n",
    "## Understanding p-values\n",
    "\n",
    "The p-value: the probability of observing the data, suppose that the test hypothesis is true.\n",
    "\n",
    "1. **Low p-value**: the test hypothesis is unlikely true.\n",
    "   \n",
    "2. **High p-value**: the evidence is not strong enough to reject the test hypothesis.\n",
    "  "
   ]
  },
  {
   "cell_type": "markdown",
   "id": "ffaa9753-eba7-4fe9-a1bf-ee7465ee3132",
   "metadata": {},
   "source": [
    "---\n",
    "## Testing for Significant Differences\n",
    "\n",
    "Observations/data from two populations should be independently collected.\n",
    "\n",
    "* T-test\n",
    "    + Hypothesis: The means of two populations are equal.\n",
    "    + Assumption: Data is normally distributed.\n",
    "* Mann-Whitney U test:\n",
    "    + Hypothesis: Given $x$ and $y$ randomly selected from two populations, $P(x>y) = P(y>x)$.\n",
    "    + Assumption: Shapes of distributions should be similar.\n",
    "    \n",
    "\n",
    "Use these:\n",
    "\n",
    "```python\n",
    "from scipy.stats import ttest_ind, mannwhitneyu\n",
    "```\n"
   ]
  },
  {
   "cell_type": "markdown",
   "id": "d23c6f0a-7314-4207-9202-5801d7217849",
   "metadata": {},
   "source": [
    "---"
   ]
  },
  {
   "cell_type": "code",
   "execution_count": null,
   "id": "b142eec2-4d55-440b-ba25-f46aba3acc82",
   "metadata": {},
   "outputs": [],
   "source": [
    "from scipy.stats import ttest_ind, mannwhitneyu\n",
    "\n",
    "\n",
    "import pandas\n",
    "cars = pandas.read_csv('../Datasets/auto-mpg.csv')\n",
    "cars.sample(5)"
   ]
  },
  {
   "cell_type": "markdown",
   "id": "61d41c58-562c-4339-b389-d532a3841e70",
   "metadata": {},
   "source": [
    "**Question**: cars in which region are more economical?"
   ]
  },
  {
   "cell_type": "code",
   "execution_count": null,
   "id": "3d15ae00-bc78-42d3-9970-0a0248ca846f",
   "metadata": {},
   "outputs": [],
   "source": [
    "cars.groupby('origin')['mpg'].mean()"
   ]
  },
  {
   "cell_type": "markdown",
   "id": "d34f56fc-3cfe-468a-919f-12efd58b19b6",
   "metadata": {},
   "source": [
    "Statement: based on this comparison, cars in origin 3 are most economical."
   ]
  },
  {
   "cell_type": "markdown",
   "id": "82868e4b-518d-4ab0-9b9c-b0a729ae0f05",
   "metadata": {},
   "source": [
    "Critiques of this statement:\n",
    "* This statement compares the mean.  This is properly, only if the distributions are normal.\n",
    "* Even if the distributions are normal, the difference might not be statistically significant."
   ]
  },
  {
   "cell_type": "markdown",
   "id": "96ab1ad1-50cf-442b-a02a-66d4e2d277f8",
   "metadata": {},
   "source": [
    "---"
   ]
  },
  {
   "cell_type": "markdown",
   "id": "e77388ee-555b-45f8-bd08-d6ac0be1104f",
   "metadata": {},
   "source": [
    "### Exercise\n",
    "\n",
    "* Investigate if there is a significant difference in \"mpg\" between cars of origin 2 and origin 3.\n"
   ]
  },
  {
   "cell_type": "code",
   "execution_count": 34,
   "id": "2cf42063-f57c-47c1-9c9c-5c92ed8cb307",
   "metadata": {},
   "outputs": [],
   "source": [
    "from seaborn import relplot, displot, catplot"
   ]
  },
  {
   "cell_type": "code",
   "execution_count": 37,
   "id": "6c0c2207-3a53-407a-afc0-020e1c2947cd",
   "metadata": {},
   "outputs": [
    {
     "data": {
      "text/plain": [
       "<seaborn.axisgrid.FacetGrid at 0x14891fe10>"
      ]
     },
     "execution_count": 37,
     "metadata": {},
     "output_type": "execute_result"
    },
    {
     "data": {
      "image/png": "[encoded data removed]",
      "text/plain": [
       "<Figure size 258.875x200 with 1 Axes>"
      ]
     },
     "metadata": {},
     "output_type": "display_data"
    }
   ],
   "source": [
    "displot(data=auto, x='mpg', kind='kde', height=2, hue='origin')"
   ]
  },
  {
   "cell_type": "code",
   "execution_count": 47,
   "id": "ab038cf0-3461-44b2-8806-0ba856bde6c5",
   "metadata": {},
   "outputs": [
    {
     "data": {
      "text/plain": [
       "origin\n",
       "1    20.083534\n",
       "2    27.891429\n",
       "3    30.450633\n",
       "Name: mpg, dtype: float64"
      ]
     },
     "execution_count": 47,
     "metadata": {},
     "output_type": "execute_result"
    }
   ],
   "source": [
    "origin2 = auto.iloc[auto.groupby('origin').groups[2]]['mpg']\n",
    "origin3 = auto.iloc[auto.groupby('origin').groups[3]]['mpg']\n",
    "auto.groupby('origin')['mpg'].mean()"
   ]
  },
  {
   "cell_type": "code",
   "execution_count": 48,
   "id": "c70c9699-ee8d-4650-81e8-d0568a3bdad3",
   "metadata": {},
   "outputs": [
    {
     "data": {
      "text/plain": [
       "MannwhitneyuResult(statistic=2027.0, pvalue=0.005010500309130046)"
      ]
     },
     "execution_count": 48,
     "metadata": {},
     "output_type": "execute_result"
    }
   ],
   "source": [
    "from scipy.stats import mannwhitneyu\n",
    "mannwhitneyu(origin2, origin3)"
   ]
  },
  {
   "cell_type": "markdown",
   "id": "dfcc8be1-bcda-4765-b014-9b96c92bf7ec",
   "metadata": {},
   "source": [
    "### Summary\n",
    "\n",
    "To see if two populations are signficantly different:\n",
    "* Test to see if they are normal.  If so, use a t-test (ttest_ind) to see if their means are different.\n",
    "* If they are not normal, use the Mann-Whitney U test to see if their random samples have equal chance of being larger or smaller than each other."
   ]
  },
  {
   "cell_type": "code",
   "execution_count": 3,
   "id": "184020ac-ceec-4384-a36c-a8c70d86cb5b",
   "metadata": {},
   "outputs": [],
   "source": [
    "import warnings\n",
    "warnings.filterwarnings('ignore')"
   ]
  },
  {
   "cell_type": "code",
   "execution_count": 4,
   "id": "b021993c-ee79-4a4a-a085-c38d2227fdc0",
   "metadata": {},
   "outputs": [],
   "source": [
    "import pandas, seaborn\n",
    "iris = pandas.read_csv('../Datasets/iris.csv')"
   ]
  },
  {
   "cell_type": "code",
   "execution_count": 8,
   "id": "a56a1687-83cc-4321-8a05-fb6a0e566d67",
   "metadata": {},
   "outputs": [
    {
     "data": {
      "text/plain": [
       "<seaborn.axisgrid.FacetGrid at 0x14042b010>"
      ]
     },
     "execution_count": 8,
     "metadata": {},
     "output_type": "execute_result"
    },
    {
     "data": {
      "image/png": "[encoded data removed]",
      "text/plain": [
       "<Figure size 367.75x250 with 1 Axes>"
      ]
     },
     "metadata": {},
     "output_type": "display_data"
    }
   ],
   "source": [
    "seaborn.displot(data=iris, x='SepalWidth', kind='kde', hue='Species', height=2.5)"
   ]
  },
  {
   "cell_type": "code",
   "execution_count": null,
   "id": "ba4e5d9c-9d9e-4445-8e17-cdce7448839e",
   "metadata": {},
   "outputs": [],
   "source": []
  }
 ],
 "metadata": {
  "kernelspec": {
   "display_name": "Python 3 (ipykernel)",
   "language": "python",
   "name": "python3"
  },
  "language_info": {
   "codemirror_mode": {
    "name": "ipython",
    "version": 3
   },
   "file_extension": ".py",
   "mimetype": "text/x-python",
   "name": "python",
   "nbconvert_exporter": "python",
   "pygments_lexer": "ipython3",
   "version": "3.11.5"
  }
 },
 "nbformat": 4,
 "nbformat_minor": 5
}
