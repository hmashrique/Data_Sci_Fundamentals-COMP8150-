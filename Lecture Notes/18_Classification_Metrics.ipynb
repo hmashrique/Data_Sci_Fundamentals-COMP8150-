{
 "cells": [
  {
   "cell_type": "markdown",
   "id": "13c24e56-50fc-4886-a3b4-8677764f902b",
   "metadata": {},
   "source": [
    "# Classification Metrics\n",
    "\n",
    "* K-Nearest Neighbor\n",
    "* TP, FP, TN, FN.  Consequences of false predictions (FP, FN)\n",
    "* Accuracy, precision, recall"
   ]
  },
  {
   "cell_type": "markdown",
   "id": "9647f2a1-a455-4b09-8fbb-66091779e6f2",
   "metadata": {},
   "source": [
    "#### review\n",
    "* Supervised vs unsupervised learning\n",
    "    + supervised - there's a target variable (y) to learn from.\n",
    "    + unsupervised - there's no target variable.\n",
    "* Three main types of ML problems: \n",
    "    + Unsupervise: clustering, \n",
    "    + Supervised: regression, and classification\n",
    "+ Regression : the target is ordinal numerical/continuous (e.g. Rings, House costs)\n",
    "+ Classification: target is categorical (e.g. Species, Outcome of a diagnosis)"
   ]
  },
  {
   "cell_type": "code",
   "execution_count": null,
   "id": "75285ffe-40bc-4938-9ae1-549090361c07",
   "metadata": {},
   "outputs": [],
   "source": []
  },
  {
   "cell_type": "code",
   "execution_count": 3,
   "id": "968b8b8c-d97c-4495-95bc-40af9fc79ec4",
   "metadata": {},
   "outputs": [
    {
     "data": {
      "text/html": [
       "<div>\n",
       "<style scoped>\n",
       "    .dataframe tbody tr th:only-of-type {\n",
       "        vertical-align: middle;\n",
       "    }\n",
       "\n",
       "    .dataframe tbody tr th {\n",
       "        vertical-align: top;\n",
       "    }\n",
       "\n",
       "    .dataframe thead th {\n",
       "        text-align: right;\n",
       "    }\n",
       "</style>\n",
       "<table border=\"1\" class=\"dataframe\">\n",
       "  <thead>\n",
       "    <tr style=\"text-align: right;\">\n",
       "      <th></th>\n",
       "      <th>Pregnancies</th>\n",
       "      <th>Glucose</th>\n",
       "      <th>BloodPressure</th>\n",
       "      <th>SkinThickness</th>\n",
       "      <th>Insulin</th>\n",
       "      <th>BMI</th>\n",
       "      <th>DiabetesPedigreeFunction</th>\n",
       "      <th>Age</th>\n",
       "      <th>Outcome</th>\n",
       "    </tr>\n",
       "  </thead>\n",
       "  <tbody>\n",
       "    <tr>\n",
       "      <th>114</th>\n",
       "      <td>7</td>\n",
       "      <td>160</td>\n",
       "      <td>54</td>\n",
       "      <td>32</td>\n",
       "      <td>175</td>\n",
       "      <td>30.5</td>\n",
       "      <td>0.588</td>\n",
       "      <td>39</td>\n",
       "      <td>1</td>\n",
       "    </tr>\n",
       "    <tr>\n",
       "      <th>68</th>\n",
       "      <td>1</td>\n",
       "      <td>95</td>\n",
       "      <td>66</td>\n",
       "      <td>13</td>\n",
       "      <td>38</td>\n",
       "      <td>19.6</td>\n",
       "      <td>0.334</td>\n",
       "      <td>25</td>\n",
       "      <td>0</td>\n",
       "    </tr>\n",
       "    <tr>\n",
       "      <th>119</th>\n",
       "      <td>4</td>\n",
       "      <td>99</td>\n",
       "      <td>76</td>\n",
       "      <td>15</td>\n",
       "      <td>51</td>\n",
       "      <td>23.2</td>\n",
       "      <td>0.223</td>\n",
       "      <td>21</td>\n",
       "      <td>0</td>\n",
       "    </tr>\n",
       "  </tbody>\n",
       "</table>\n",
       "</div>"
      ],
      "text/plain": [
       "     Pregnancies  Glucose  BloodPressure  SkinThickness  Insulin   BMI  \\\n",
       "114            7      160             54             32      175  30.5   \n",
       "68             1       95             66             13       38  19.6   \n",
       "119            4       99             76             15       51  23.2   \n",
       "\n",
       "     DiabetesPedigreeFunction  Age  Outcome  \n",
       "114                     0.588   39        1  \n",
       "68                      0.334   25        0  \n",
       "119                     0.223   21        0  "
      ]
     },
     "execution_count": 3,
     "metadata": {},
     "output_type": "execute_result"
    }
   ],
   "source": [
    "import pandas\n",
    "from sklearn.preprocessing import StandardScaler\n",
    "\n",
    "diabetes = pandas.read_csv('../Datasets/diabetes.csv')\n",
    "diabetes.sample(3)\n"
   ]
  },
  {
   "cell_type": "code",
   "execution_count": 4,
   "id": "a2fb902c-b028-46f1-9572-24d9654659c6",
   "metadata": {},
   "outputs": [],
   "source": [
    "y = diabetes['Outcome']\n",
    "X = diabetes.drop(columns=['Outcome'])\n"
   ]
  },
  {
   "cell_type": "markdown",
   "id": "56a34436-a467-4d62-adb2-2792acb46a26",
   "metadata": {},
   "source": [
    "### Making sense of the data\n",
    "\n",
    "Before we attempt to model y, based on X, what do we do?\n",
    "\n",
    "* Understand the features\n",
    "* Check for missing; see if the data makes sense.\n"
   ]
  },
  {
   "cell_type": "code",
   "execution_count": 5,
   "id": "b1eb7a26-6394-4114-bf1b-01c039c19dbe",
   "metadata": {},
   "outputs": [
    {
     "data": {
      "text/plain": [
       "Pregnancies                 0\n",
       "Glucose                     0\n",
       "BloodPressure               0\n",
       "SkinThickness               0\n",
       "Insulin                     0\n",
       "BMI                         0\n",
       "DiabetesPedigreeFunction    0\n",
       "Age                         0\n",
       "dtype: int64"
      ]
     },
     "execution_count": 5,
     "metadata": {},
     "output_type": "execute_result"
    }
   ],
   "source": [
    "X.isna().sum()"
   ]
  },
  {
   "cell_type": "code",
   "execution_count": 6,
   "id": "63a287ea-01f9-4abf-a102-43cdb13c7c85",
   "metadata": {},
   "outputs": [
    {
     "data": {
      "text/plain": [
       "Pregnancies                  0.000\n",
       "Glucose                      0.000\n",
       "BloodPressure                0.000\n",
       "SkinThickness                0.000\n",
       "Insulin                      0.000\n",
       "BMI                          0.000\n",
       "DiabetesPedigreeFunction     0.078\n",
       "Age                         21.000\n",
       "dtype: float64"
      ]
     },
     "execution_count": 6,
     "metadata": {},
     "output_type": "execute_result"
    }
   ],
   "source": [
    "X.min()"
   ]
  },
  {
   "cell_type": "code",
   "execution_count": 7,
   "id": "8940040e-88ed-45fb-86ac-e5c861f83728",
   "metadata": {},
   "outputs": [
    {
     "data": {
      "text/plain": [
       "11"
      ]
     },
     "execution_count": 7,
     "metadata": {},
     "output_type": "execute_result"
    }
   ],
   "source": [
    "len(diabetes[diabetes['BMI']==0])"
   ]
  },
  {
   "cell_type": "code",
   "execution_count": 8,
   "id": "f265fecc-3487-47f3-9d6a-7b8f947679aa",
   "metadata": {},
   "outputs": [
    {
     "data": {
      "text/plain": [
       "35"
      ]
     },
     "execution_count": 8,
     "metadata": {},
     "output_type": "execute_result"
    }
   ],
   "source": [
    "len(diabetes[diabetes['BloodPressure']==0])"
   ]
  },
  {
   "cell_type": "code",
   "execution_count": 9,
   "id": "859d98b0-d4ba-437b-8e67-0f78f18decee",
   "metadata": {},
   "outputs": [
    {
     "data": {
      "text/plain": [
       "768"
      ]
     },
     "execution_count": 9,
     "metadata": {},
     "output_type": "execute_result"
    }
   ],
   "source": [
    "len(diabetes)"
   ]
  },
  {
   "cell_type": "code",
   "execution_count": 10,
   "id": "40a92498-f748-4c18-9413-99e268005ffe",
   "metadata": {},
   "outputs": [
    {
     "data": {
      "text/plain": [
       "729"
      ]
     },
     "execution_count": 10,
     "metadata": {},
     "output_type": "execute_result"
    }
   ],
   "source": [
    "Q = diabetes['BMI']>0\n",
    "Q &= diabetes['BloodPressure']>0\n",
    "df = diabetes[Q]\n",
    "len(df)"
   ]
  },
  {
   "cell_type": "code",
   "execution_count": 11,
   "id": "6874e46c-160a-438d-bde1-7e26931569c3",
   "metadata": {},
   "outputs": [
    {
     "data": {
      "text/plain": [
       "Int64Index([291, 171,  64, 485, 424, 355, 664, 159, 195, 220,\n",
       "            ...\n",
       "            387, 417, 339, 143, 238, 207, 754, 618, 646, 231],\n",
       "           dtype='int64', length=250)"
      ]
     },
     "execution_count": 11,
     "metadata": {},
     "output_type": "execute_result"
    }
   ],
   "source": [
    "idx = diabetes[diabetes['Outcome']==1].sample(250).index\n",
    "idx"
   ]
  },
  {
   "cell_type": "code",
   "execution_count": 12,
   "id": "d196dc17-2ada-4fdf-b980-c24b28a0ee2c",
   "metadata": {},
   "outputs": [
    {
     "data": {
      "text/plain": [
       "518"
      ]
     },
     "execution_count": 12,
     "metadata": {},
     "output_type": "execute_result"
    }
   ],
   "source": [
    "diabetes2 = diabetes[ ~diabetes.index.isin(idx)]\n",
    "len(diabetes2)"
   ]
  },
  {
   "cell_type": "code",
   "execution_count": 13,
   "id": "e6f6b240-4a4b-4b29-a04a-27f771e4964f",
   "metadata": {},
   "outputs": [
    {
     "data": {
      "text/plain": [
       "0    0.965251\n",
       "1    0.034749\n",
       "Name: Outcome, dtype: float64"
      ]
     },
     "execution_count": 13,
     "metadata": {},
     "output_type": "execute_result"
    }
   ],
   "source": [
    "diabetes2['Outcome'].value_counts(1)"
   ]
  },
  {
   "cell_type": "markdown",
   "id": "2875dbd9-a48a-4b2e-9403-2388712a14f4",
   "metadata": {},
   "source": [
    "### Normalizing the data"
   ]
  },
  {
   "cell_type": "code",
   "execution_count": 14,
   "id": "b77940dc-28e4-4d91-8525-f7458a434304",
   "metadata": {},
   "outputs": [
    {
     "data": {
      "text/html": [
       "<div>\n",
       "<style scoped>\n",
       "    .dataframe tbody tr th:only-of-type {\n",
       "        vertical-align: middle;\n",
       "    }\n",
       "\n",
       "    .dataframe tbody tr th {\n",
       "        vertical-align: top;\n",
       "    }\n",
       "\n",
       "    .dataframe thead th {\n",
       "        text-align: right;\n",
       "    }\n",
       "</style>\n",
       "<table border=\"1\" class=\"dataframe\">\n",
       "  <thead>\n",
       "    <tr style=\"text-align: right;\">\n",
       "      <th></th>\n",
       "      <th>Pregnancies</th>\n",
       "      <th>Glucose</th>\n",
       "      <th>BloodPressure</th>\n",
       "      <th>SkinThickness</th>\n",
       "      <th>Insulin</th>\n",
       "      <th>BMI</th>\n",
       "      <th>DiabetesPedigreeFunction</th>\n",
       "      <th>Age</th>\n",
       "    </tr>\n",
       "  </thead>\n",
       "  <tbody>\n",
       "    <tr>\n",
       "      <th>440</th>\n",
       "      <td>-1.098169</td>\n",
       "      <td>-0.139354</td>\n",
       "      <td>-0.446638</td>\n",
       "      <td>0.322823</td>\n",
       "      <td>-0.689453</td>\n",
       "      <td>-0.534953</td>\n",
       "      <td>-1.002090</td>\n",
       "      <td>-0.719382</td>\n",
       "    </tr>\n",
       "    <tr>\n",
       "      <th>258</th>\n",
       "      <td>0.216335</td>\n",
       "      <td>0.150547</td>\n",
       "      <td>0.207533</td>\n",
       "      <td>-1.304485</td>\n",
       "      <td>-0.689453</td>\n",
       "      <td>-0.209788</td>\n",
       "      <td>-0.196118</td>\n",
       "      <td>1.240983</td>\n",
       "    </tr>\n",
       "    <tr>\n",
       "      <th>99</th>\n",
       "      <td>-0.769543</td>\n",
       "      <td>0.911536</td>\n",
       "      <td>0.316562</td>\n",
       "      <td>1.950130</td>\n",
       "      <td>1.320088</td>\n",
       "      <td>0.895773</td>\n",
       "      <td>-0.119832</td>\n",
       "      <td>-0.634148</td>\n",
       "    </tr>\n",
       "  </tbody>\n",
       "</table>\n",
       "</div>"
      ],
      "text/plain": [
       "     Pregnancies   Glucose  BloodPressure  SkinThickness   Insulin       BMI  \\\n",
       "440    -1.098169 -0.139354      -0.446638       0.322823 -0.689453 -0.534953   \n",
       "258     0.216335  0.150547       0.207533      -1.304485 -0.689453 -0.209788   \n",
       "99     -0.769543  0.911536       0.316562       1.950130  1.320088  0.895773   \n",
       "\n",
       "     DiabetesPedigreeFunction       Age  \n",
       "440                 -1.002090 -0.719382  \n",
       "258                 -0.196118  1.240983  \n",
       "99                  -0.119832 -0.634148  "
      ]
     },
     "execution_count": 14,
     "metadata": {},
     "output_type": "execute_result"
    }
   ],
   "source": [
    "from sklearn.preprocessing import StandardScaler\n",
    "\n",
    "df = diabetes2\n",
    "y = df['Outcome']\n",
    "X = df.drop(columns=['Outcome'])\n",
    "X = pandas.DataFrame(\n",
    "    data = StandardScaler().fit_transform(X),\n",
    "    columns = X.columns,\n",
    ")\n",
    "X.sample(3)"
   ]
  },
  {
   "cell_type": "code",
   "execution_count": null,
   "id": "ca6d4798-d39f-4ee3-97da-b0a76697e96a",
   "metadata": {},
   "outputs": [],
   "source": []
  },
  {
   "cell_type": "markdown",
   "id": "ef8a7992-e28c-41e6-a9d0-57b052792f0d",
   "metadata": {},
   "source": [
    "### K Nearest Neighbor Classification"
   ]
  },
  {
   "cell_type": "markdown",
   "id": "2b97f990-7efb-449c-acdd-e95948446d12",
   "metadata": {},
   "source": [
    "In K Nearest Neighbor learning, the knowledge is represented/captured in a multi-dimensional geometrical data structure.\n",
    "\n",
    "This knowledge/data structure allows us/the model to identify k-nearest data points to a given data point.\n",
    "\n",
    "**How does 7-nearest Neighbor work for predicting if a new patient A has diabetes?**\n",
    "+ The model first finds 7 most similar (in terms of features) data points to A.  These are training data.\n",
    "+ The predicted outcome is the majority of the outcomes of the 7 most similar data points."
   ]
  },
  {
   "cell_type": "code",
   "execution_count": 15,
   "id": "dde6dc3d-6ec7-4b15-8b45-e0a9349ae8a1",
   "metadata": {},
   "outputs": [
    {
     "data": {
      "text/html": [
       "<style>#sk-container-id-1 {color: black;}#sk-container-id-1 pre{padding: 0;}#sk-container-id-1 div.sk-toggleable {background-color: white;}#sk-container-id-1 label.sk-toggleable__label {cursor: pointer;display: block;width: 100%;margin-bottom: 0;padding: 0.3em;box-sizing: border-box;text-align: center;}#sk-container-id-1 label.sk-toggleable__label-arrow:before {content: \"▸\";float: left;margin-right: 0.25em;color: #696969;}#sk-container-id-1 label.sk-toggleable__label-arrow:hover:before {color: black;}#sk-container-id-1 div.sk-estimator:hover label.sk-toggleable__label-arrow:before {color: black;}#sk-container-id-1 div.sk-toggleable__content {max-height: 0;max-width: 0;overflow: hidden;text-align: left;background-color: #f0f8ff;}#sk-container-id-1 div.sk-toggleable__content pre {margin: 0.2em;color: black;border-radius: 0.25em;background-color: #f0f8ff;}#sk-container-id-1 input.sk-toggleable__control:checked~div.sk-toggleable__content {max-height: 200px;max-width: 100%;overflow: auto;}#sk-container-id-1 input.sk-toggleable__control:checked~label.sk-toggleable__label-arrow:before {content: \"▾\";}#sk-container-id-1 div.sk-estimator input.sk-toggleable__control:checked~label.sk-toggleable__label {background-color: #d4ebff;}#sk-container-id-1 div.sk-label input.sk-toggleable__control:checked~label.sk-toggleable__label {background-color: #d4ebff;}#sk-container-id-1 input.sk-hidden--visually {border: 0;clip: rect(1px 1px 1px 1px);clip: rect(1px, 1px, 1px, 1px);height: 1px;margin: -1px;overflow: hidden;padding: 0;position: absolute;width: 1px;}#sk-container-id-1 div.sk-estimator {font-family: monospace;background-color: #f0f8ff;border: 1px dotted black;border-radius: 0.25em;box-sizing: border-box;margin-bottom: 0.5em;}#sk-container-id-1 div.sk-estimator:hover {background-color: #d4ebff;}#sk-container-id-1 div.sk-parallel-item::after {content: \"\";width: 100%;border-bottom: 1px solid gray;flex-grow: 1;}#sk-container-id-1 div.sk-label:hover label.sk-toggleable__label {background-color: #d4ebff;}#sk-container-id-1 div.sk-serial::before {content: \"\";position: absolute;border-left: 1px solid gray;box-sizing: border-box;top: 0;bottom: 0;left: 50%;z-index: 0;}#sk-container-id-1 div.sk-serial {display: flex;flex-direction: column;align-items: center;background-color: white;padding-right: 0.2em;padding-left: 0.2em;position: relative;}#sk-container-id-1 div.sk-item {position: relative;z-index: 1;}#sk-container-id-1 div.sk-parallel {display: flex;align-items: stretch;justify-content: center;background-color: white;position: relative;}#sk-container-id-1 div.sk-item::before, #sk-container-id-1 div.sk-parallel-item::before {content: \"\";position: absolute;border-left: 1px solid gray;box-sizing: border-box;top: 0;bottom: 0;left: 50%;z-index: -1;}#sk-container-id-1 div.sk-parallel-item {display: flex;flex-direction: column;z-index: 1;position: relative;background-color: white;}#sk-container-id-1 div.sk-parallel-item:first-child::after {align-self: flex-end;width: 50%;}#sk-container-id-1 div.sk-parallel-item:last-child::after {align-self: flex-start;width: 50%;}#sk-container-id-1 div.sk-parallel-item:only-child::after {width: 0;}#sk-container-id-1 div.sk-dashed-wrapped {border: 1px dashed gray;margin: 0 0.4em 0.5em 0.4em;box-sizing: border-box;padding-bottom: 0.4em;background-color: white;}#sk-container-id-1 div.sk-label label {font-family: monospace;font-weight: bold;display: inline-block;line-height: 1.2em;}#sk-container-id-1 div.sk-label-container {text-align: center;}#sk-container-id-1 div.sk-container {/* jupyter's `normalize.less` sets `[hidden] { display: none; }` but bootstrap.min.css set `[hidden] { display: none !important; }` so we also need the `!important` here to be able to override the default hidden behavior on the sphinx rendered scikit-learn.org. See: https://github.com/scikit-learn/scikit-learn/issues/21755 */display: inline-block !important;position: relative;}#sk-container-id-1 div.sk-text-repr-fallback {display: none;}</style><div id=\"sk-container-id-1\" class=\"sk-top-container\"><div class=\"sk-text-repr-fallback\"><pre>KNeighborsClassifier(n_neighbors=11)</pre><b>In a Jupyter environment, please rerun this cell to show the HTML representation or trust the notebook. <br />On GitHub, the HTML representation is unable to render, please try loading this page with nbviewer.org.</b></div><div class=\"sk-container\" hidden><div class=\"sk-item\"><div class=\"sk-estimator sk-toggleable\"><input class=\"sk-toggleable__control sk-hidden--visually\" id=\"sk-estimator-id-1\" type=\"checkbox\" checked><label for=\"sk-estimator-id-1\" class=\"sk-toggleable__label sk-toggleable__label-arrow\">KNeighborsClassifier</label><div class=\"sk-toggleable__content\"><pre>KNeighborsClassifier(n_neighbors=11)</pre></div></div></div></div></div>"
      ],
      "text/plain": [
       "KNeighborsClassifier(n_neighbors=11)"
      ]
     },
     "execution_count": 15,
     "metadata": {},
     "output_type": "execute_result"
    }
   ],
   "source": [
    "from sklearn.neighbors import KNeighborsClassifier\n",
    "model = KNeighborsClassifier(n_neighbors=11)\n",
    "model.fit(X,y)"
   ]
  },
  {
   "cell_type": "code",
   "execution_count": 16,
   "id": "c3277cde-dbd7-418f-a686-b2af1e49b284",
   "metadata": {},
   "outputs": [
    {
     "data": {
      "text/html": [
       "<div>\n",
       "<style scoped>\n",
       "    .dataframe tbody tr th:only-of-type {\n",
       "        vertical-align: middle;\n",
       "    }\n",
       "\n",
       "    .dataframe tbody tr th {\n",
       "        vertical-align: top;\n",
       "    }\n",
       "\n",
       "    .dataframe thead th {\n",
       "        text-align: right;\n",
       "    }\n",
       "</style>\n",
       "<table border=\"1\" class=\"dataframe\">\n",
       "  <thead>\n",
       "    <tr style=\"text-align: right;\">\n",
       "      <th></th>\n",
       "      <th>Pregnancies</th>\n",
       "      <th>Glucose</th>\n",
       "      <th>BloodPressure</th>\n",
       "      <th>SkinThickness</th>\n",
       "      <th>Insulin</th>\n",
       "      <th>BMI</th>\n",
       "      <th>DiabetesPedigreeFunction</th>\n",
       "      <th>Age</th>\n",
       "    </tr>\n",
       "  </thead>\n",
       "  <tbody>\n",
       "    <tr>\n",
       "      <th>377</th>\n",
       "      <td>-1.098169</td>\n",
       "      <td>-0.719155</td>\n",
       "      <td>0.643647</td>\n",
       "      <td>-1.304485</td>\n",
       "      <td>-0.689453</td>\n",
       "      <td>0.245443</td>\n",
       "      <td>0.550153</td>\n",
       "      <td>-0.378449</td>\n",
       "    </tr>\n",
       "    <tr>\n",
       "      <th>231</th>\n",
       "      <td>0.544961</td>\n",
       "      <td>-0.429254</td>\n",
       "      <td>-0.773724</td>\n",
       "      <td>0.518099</td>\n",
       "      <td>0.128154</td>\n",
       "      <td>0.453549</td>\n",
       "      <td>0.211844</td>\n",
       "      <td>-0.122749</td>\n",
       "    </tr>\n",
       "    <tr>\n",
       "      <th>99</th>\n",
       "      <td>-0.769543</td>\n",
       "      <td>0.911536</td>\n",
       "      <td>0.316562</td>\n",
       "      <td>1.950130</td>\n",
       "      <td>1.320088</td>\n",
       "      <td>0.895773</td>\n",
       "      <td>-0.119832</td>\n",
       "      <td>-0.634148</td>\n",
       "    </tr>\n",
       "  </tbody>\n",
       "</table>\n",
       "</div>"
      ],
      "text/plain": [
       "     Pregnancies   Glucose  BloodPressure  SkinThickness   Insulin       BMI  \\\n",
       "377    -1.098169 -0.719155       0.643647      -1.304485 -0.689453  0.245443   \n",
       "231     0.544961 -0.429254      -0.773724       0.518099  0.128154  0.453549   \n",
       "99     -0.769543  0.911536       0.316562       1.950130  1.320088  0.895773   \n",
       "\n",
       "     DiabetesPedigreeFunction       Age  \n",
       "377                  0.550153 -0.378449  \n",
       "231                  0.211844 -0.122749  \n",
       "99                  -0.119832 -0.634148  "
      ]
     },
     "execution_count": 16,
     "metadata": {},
     "output_type": "execute_result"
    }
   ],
   "source": [
    "A = X.sample(3)\n",
    "A"
   ]
  },
  {
   "cell_type": "code",
   "execution_count": 17,
   "id": "90cb5726-3310-4721-854a-353f657df97c",
   "metadata": {},
   "outputs": [],
   "source": [
    "# model.predict(A)"
   ]
  },
  {
   "cell_type": "code",
   "execution_count": 18,
   "id": "001cb4bc-d23d-45d6-ba83-f08045811d13",
   "metadata": {},
   "outputs": [],
   "source": [
    "# y.loc[A.index]"
   ]
  },
  {
   "cell_type": "markdown",
   "id": "4c6d0697-7341-4f6b-89c0-1844dde19c9b",
   "metadata": {},
   "source": [
    "To see how good KNN is, we have to crossvalidate."
   ]
  },
  {
   "cell_type": "markdown",
   "id": "74dd53bc-2f87-47e6-94ff-f8fb7eee326e",
   "metadata": {},
   "source": [
    "## To cross-validate, what do we need?\n",
    "### A cross validator (e.g. ShuffleSplit, KFold)\n",
    "### A metric (e.g. accuracy)\n",
    "### A baseline"
   ]
  },
  {
   "cell_type": "code",
   "execution_count": 19,
   "id": "619cc39e-e2e7-4213-b01b-9b4c77f13b73",
   "metadata": {},
   "outputs": [],
   "source": [
    "from sklearn.model_selection import ShuffleSplit\n",
    "from sklearn.metrics import accuracy_score\n",
    "from sklearn.dummy import DummyClassifier\n",
    "\n",
    "from sklearn.model_selection import cross_validate\n",
    "\n"
   ]
  },
  {
   "cell_type": "code",
   "execution_count": 20,
   "id": "5dbe40c4-3ca8-4b4d-9b13-2623fea00a14",
   "metadata": {},
   "outputs": [],
   "source": [
    "from sklearn.preprocessing import StandardScaler\n",
    "\n",
    "y = df['Outcome']\n",
    "X = df.drop(columns=['Outcome'])\n",
    "X = pandas.DataFrame(\n",
    "    data = StandardScaler().fit_transform(X),\n",
    "    columns = X.columns,\n",
    ")\n",
    "\n",
    "from sklearn.neighbors import KNeighborsClassifier\n",
    "model = KNeighborsClassifier(n_neighbors=11)\n",
    "baseline = DummyClassifier()\n",
    "\n",
    "validator = ShuffleSplit(n_splits=100, test_size=0.05)\n",
    "\n",
    "result = cross_validate(model, X, y, cv=validator, scoring=['accuracy'])\n",
    "\n",
    "baseline_result = cross_validate(baseline, X, y, cv=validator, scoring=['accuracy'])"
   ]
  },
  {
   "cell_type": "code",
   "execution_count": 21,
   "id": "9a41c9cf-154d-4f7a-9984-3bd421d2301a",
   "metadata": {},
   "outputs": [
    {
     "data": {
      "text/plain": [
       "dict_keys(['fit_time', 'score_time', 'test_accuracy'])"
      ]
     },
     "execution_count": 21,
     "metadata": {},
     "output_type": "execute_result"
    }
   ],
   "source": [
    "result.keys()"
   ]
  },
  {
   "cell_type": "code",
   "execution_count": 22,
   "id": "0ce1cdab-70a4-4aed-aa64-5b9dcccabda4",
   "metadata": {},
   "outputs": [
    {
     "data": {
      "text/plain": [
       "0.96"
      ]
     },
     "execution_count": 22,
     "metadata": {},
     "output_type": "execute_result"
    }
   ],
   "source": [
    "result['test_accuracy'].mean().round(2)"
   ]
  },
  {
   "cell_type": "code",
   "execution_count": 23,
   "id": "ef977d09-9270-4c35-9b19-572e676dfc2d",
   "metadata": {},
   "outputs": [
    {
     "data": {
      "text/plain": [
       "0.96"
      ]
     },
     "execution_count": 23,
     "metadata": {},
     "output_type": "execute_result"
    }
   ],
   "source": [
    "baseline_result['test_accuracy'].mean().round(2)"
   ]
  },
  {
   "cell_type": "code",
   "execution_count": 24,
   "id": "e4f5caee-6244-45cf-8518-c19aa0fcf53e",
   "metadata": {},
   "outputs": [
    {
     "data": {
      "text/plain": [
       "0    500\n",
       "1     18\n",
       "Name: Outcome, dtype: int64"
      ]
     },
     "execution_count": 24,
     "metadata": {},
     "output_type": "execute_result"
    }
   ],
   "source": [
    "y.value_counts()"
   ]
  },
  {
   "cell_type": "code",
   "execution_count": 25,
   "id": "69c9ba0f-7ac8-4f8a-a94c-3fd6a11ec25f",
   "metadata": {},
   "outputs": [
    {
     "data": {
      "text/plain": [
       "0    0.97\n",
       "1    0.03\n",
       "Name: Outcome, dtype: float64"
      ]
     },
     "execution_count": 25,
     "metadata": {},
     "output_type": "execute_result"
    }
   ],
   "source": [
    "y.value_counts(1).round(2)"
   ]
  },
  {
   "cell_type": "markdown",
   "id": "53154ac4-dab9-4b3a-b30e-596c363d9ded",
   "metadata": {},
   "source": [
    "For very imbalanced datasets (the distribution of y is very skewed), accuracy is not a meaningful metric."
   ]
  },
  {
   "cell_type": "markdown",
   "id": "7e396cea-09e2-44f1-84ef-851e675b8c75",
   "metadata": {},
   "source": [
    "### Performance metrics\n",
    "\n",
    "##### Accuracy"
   ]
  },
  {
   "cell_type": "markdown",
   "id": "bb320af4-5e96-4afe-8d3d-1e0522811ad1",
   "metadata": {},
   "source": [
    "+ How good a model is.\n",
    "+ The percentage of correction predictions."
   ]
  },
  {
   "cell_type": "markdown",
   "id": "b52ca44a-3881-4d78-b29e-4edc37662310",
   "metadata": {},
   "source": [
    "Key terminologies:\n",
    "+ True positive\n",
    "+ False positive\n",
    "+ True negative\n",
    "+ False negative\n",
    "\n",
    "Conventionally, we set up a model to learn y, and predict value 1 of y (class 1).\n",
    "\n",
    "A positive is a prediction of class 1.\n",
    "\n",
    "A negative is a prediction of class 0.\n",
    "\n",
    "A \"True\" prediction is a correction prediction.\n",
    "\n",
    "A \"False\" prediction is a incorrection prediction."
   ]
  },
  {
   "cell_type": "markdown",
   "id": "1f219d8a-3fb7-43af-94d7-d2895a1afd18",
   "metadata": {},
   "source": [
    "```\n",
    "    Accuracy = total correct predictions / total predictions\n",
    "             = (TP + TN) / (TP + FP + TN + FN)\n",
    "```"
   ]
  },
  {
   "cell_type": "code",
   "execution_count": 26,
   "id": "bbae4383-8eac-4bc1-8d4b-49d080b89861",
   "metadata": {},
   "outputs": [
    {
     "data": {
      "text/plain": [
       "0.7282051282051283"
      ]
     },
     "execution_count": 26,
     "metadata": {},
     "output_type": "execute_result"
    }
   ],
   "source": [
    "df = diabetes\n",
    "y = df['Outcome']\n",
    "X = df.drop(columns=['Outcome'])\n",
    "X = pandas.DataFrame(\n",
    "    data = StandardScaler().fit_transform(X),\n",
    "    columns = X.columns,\n",
    ")\n",
    "result = cross_validate(model, X, y, cv=validator, scoring=['accuracy'])\n",
    "result['test_accuracy'].mean()"
   ]
  },
  {
   "cell_type": "code",
   "execution_count": 27,
   "id": "6e5f4f85-7ec1-4537-9687-533b6a087e5c",
   "metadata": {},
   "outputs": [],
   "source": [
    "from sklearn.model_selection import train_test_split\n",
    "X_train, X_test, y_train, y_test = train_test_split(X, y, test_size=0.02)"
   ]
  },
  {
   "cell_type": "code",
   "execution_count": 28,
   "id": "f92cd254-f537-4ec4-8f77-87a34a138425",
   "metadata": {},
   "outputs": [],
   "source": [
    "model.fit(X_train, y_train)\n",
    "predictions = model.predict(X_test)"
   ]
  },
  {
   "cell_type": "code",
   "execution_count": 29,
   "id": "d3d84da5-b762-464e-9796-749a73d7bd84",
   "metadata": {},
   "outputs": [
    {
     "data": {
      "text/plain": [
       "array([1, 0, 0, 0, 0, 1, 1, 0, 0, 0, 1, 0, 0, 0, 1, 1])"
      ]
     },
     "execution_count": 29,
     "metadata": {},
     "output_type": "execute_result"
    }
   ],
   "source": [
    "predictions"
   ]
  },
  {
   "cell_type": "code",
   "execution_count": 30,
   "id": "ca9c2496-4f1c-450e-9fea-8aae8b8bb5b5",
   "metadata": {},
   "outputs": [
    {
     "data": {
      "text/plain": [
       "array([1, 0, 0, 0, 0, 1, 1, 0, 0, 0, 0, 0, 1, 0, 0, 0])"
      ]
     },
     "execution_count": 30,
     "metadata": {},
     "output_type": "execute_result"
    }
   ],
   "source": [
    "y_test.values"
   ]
  },
  {
   "cell_type": "markdown",
   "id": "02149f5f-25e6-4ef4-bea7-c8190554032e",
   "metadata": {},
   "source": [
    "```\n",
    "TP = 3\n",
    "FP = 3\n",
    "TN = 8\n",
    "FN = 2\n",
    "\n",
    "Accuracy = 11/16\n",
    "```\n"
   ]
  },
  {
   "cell_type": "markdown",
   "id": "679cd94a-d66a-4d5e-ae33-d151e9f3cb66",
   "metadata": {},
   "source": [
    "### Precision and Recall\n",
    "\n",
    "We know that how highly imbalanced data, accuracy is not very meaningful.\n",
    "\n",
    "It turns out that it's hard to use one metric for highly imbalanced data.\n",
    "\n",
    "```\n",
    "    Precision = TP / (TP + FP)\n",
    "    Recall = TP / (TP + FN)\n",
    "\n",
    "```"
   ]
  },
  {
   "cell_type": "markdown",
   "id": "c46bc18a-c898-4497-8770-01b184fce616",
   "metadata": {},
   "source": [
    "```\n",
    "TP = 3\n",
    "FP = 3\n",
    "TN = 8\n",
    "FN = 2\n",
    "\n",
    "Precision = 3/6\n",
    "\n",
    "Recall = 3/5\n",
    "```"
   ]
  },
  {
   "cell_type": "markdown",
   "id": "9beb4d87-c6cb-4dd4-a0db-1a6477b20703",
   "metadata": {},
   "source": [
    "Precision is essentially the probability that a positive prediction is correct.\n",
    "\n",
    "Recall is the probability that class 1 is correctly predicted.\n",
    "\n",
    "\n"
   ]
  },
  {
   "cell_type": "markdown",
   "id": "333067f1-810d-4107-b139-a0db08ba9350",
   "metadata": {
    "tags": []
   },
   "source": [
    "### Precision Recall tradeoff"
   ]
  },
  {
   "cell_type": "markdown",
   "id": "ed241532-99d8-4ddc-8456-babffd05138b",
   "metadata": {
    "jp-MarkdownHeadingCollapsed": true,
    "tags": []
   },
   "source": [
    "Predicting COVID infection\n",
    "\n",
    "\n",
    "Possibile features:\n",
    "1. **Fever**: A common symptom that is easy to measure and report.\n",
    "2. **Cough**: Persistent coughing, particularly dry cough, is frequently associated with COVID-19.\n",
    "3. **Shortness of Breath or Difficulty Breathing**: This symptom can indicate a more severe infection.\n",
    "4. **Fatigue**: General tiredness is a common symptom reported by many infected individuals.\n",
    "5. **Loss of Taste or Smell**: This symptom has been highlighted as particularly distinctive for COVID-19 compared to other respiratory viruses.\n",
    "6. **Sore Throat**: Often reported alongside other respiratory symptoms.\n",
    "7. **Congestion or Runny Nose**: Common in many respiratory infections but still relevant.\n",
    "8. **Muscle or Body Aches**: General body discomfort or pain.\n",
    "9. **Headache**: A frequently reported symptom that can be associated with many viral infections.\n",
    "10. **Chills**: Sometimes accompanied by shaking.\n",
    "11. **Nausea or Vomiting**: Gastrointestinal symptoms are less common but relevant.\n",
    "12. **In contact with a COVID affected person**\n",
    "\n",
    "\n",
    "What critria for making predictions?"
   ]
  },
  {
   "cell_type": "markdown",
   "id": "88424a59-e063-467c-b9d7-a40782035478",
   "metadata": {},
   "source": [
    "Consider two algorithms:\n",
    "\n",
    "+ **A** - if a person has all 12 symptoms, declare \"YES\" (a positive)\n",
    "+ **B** - if a person has the first 4 symptoms, declare \"YES\" (a positive)"
   ]
  },
  {
   "cell_type": "markdown",
   "id": "f92aacfb-7681-427e-b2ed-867e76c6ef76",
   "metadata": {},
   "source": [
    "In terms of FP and FN,  \n",
    "+ B has more FP than A has.\n",
    "+ B has fewer FN than A has.\n"
   ]
  },
  {
   "cell_type": "code",
   "execution_count": null,
   "id": "a74884a0-02e3-41a6-be6c-92d0dcbcb7f7",
   "metadata": {},
   "outputs": [],
   "source": []
  }
 ],
 "metadata": {
  "kernelspec": {
   "display_name": "Python 3 (ipykernel)",
   "language": "python",
   "name": "python3"
  },
  "language_info": {
   "codemirror_mode": {
    "name": "ipython",
    "version": 3
   },
   "file_extension": ".py",
   "mimetype": "text/x-python",
   "name": "python",
   "nbconvert_exporter": "python",
   "pygments_lexer": "ipython3",
   "version": "3.9.16"
  }
 },
 "nbformat": 4,
 "nbformat_minor": 5
}
