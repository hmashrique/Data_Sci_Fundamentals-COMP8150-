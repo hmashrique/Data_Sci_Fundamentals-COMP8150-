{
 "cells": [
  {
   "cell_type": "markdown",
   "id": "2be1bf28-b638-46a2-9dcd-cbf3505f5401",
   "metadata": {},
   "source": [
    "# Python"
   ]
  },
  {
   "cell_type": "markdown",
   "id": "d8b02bec-ec22-4b42-a118-4c4200863f08",
   "metadata": {},
   "source": [
    "To do:\n",
    "+ VPN: https://www.memphis.edu/umtech/solutions/vpn.php\n",
    "+ In-class exercises on JupyterHub: https://memphis.instructure.com/courses/114948/discussion_topics/504053\n",
    "+ Exercises Hub: http://141.225.10.176/hub/login\n",
    "    - If you can open the URL, good. Don't do anything yet. Wait for instruction.\n",
    "\n",
    "Big Idea:\n",
    "+ Review/intro to Python.  Assumption is that you can code. Drop this class. Take COMP 6001, first.\n",
    "    + Learning how to do things in Python\n",
    "+ A little about data analytics.\n",
    "\n",
    "Learning goals:\n",
    "+ Understand basic Python concepts: Blocks, lack of semicolons and curly brackets, etc.\n",
    "+ How to use basic data structures: list, tuple, set, dictionary.\n",
    "+ How to use control structures: iterative and conditional.\n",
    "+ How to define and invoke functions.\n",
    "\n",
    "---"
   ]
  },
  {
   "cell_type": "markdown",
   "id": "4b4848de-6f02-41af-8a55-f8f143902d9f",
   "metadata": {},
   "source": [
    "### The iris dataset\n",
    "\n",
    "Most popular dataset in Data Science.\n",
    "\n",
    "150 data points.\n",
    "\n",
    "Each data point has information about: sepal and petal and species of an iris flower.\n"
   ]
  },
  {
   "cell_type": "markdown",
   "id": "bc474e3a-d1f8-45ca-a672-662facdd4702",
   "metadata": {},
   "source": [
    "\n",
    "<img src=\"https://machinelearninghd.com/wp-content/uploads/2021/03/iris-dataset.png\">"
   ]
  },
  {
   "cell_type": "markdown",
   "id": "67ede031-4f6e-4965-88eb-ae2df30c5187",
   "metadata": {},
   "source": [
    "### Reading one line at a time from a data file"
   ]
  },
  {
   "cell_type": "code",
   "execution_count": null,
   "id": "0ea06ec2-852c-4182-84b8-59107e78ffda",
   "metadata": {
    "tags": []
   },
   "outputs": [],
   "source": [
    "with open('../Datasets/iris.csv') as fp:\n",
    "    # reading one line at a time\n",
    "    line = fp.readline().strip()\n",
    "    while line!='':\n",
    "        print(line)\n",
    "        line = fp.readline().strip()\n"
   ]
  },
  {
   "cell_type": "markdown",
   "id": "e68e3db9-f796-4bb3-99ea-e764819ceecd",
   "metadata": {},
   "source": [
    "### Processing each line\n",
    "\n",
    "We want to process each line.  When unprocessed, each line is a string.\n",
    "\n",
    "Can you tell me what we should do with each line (each data point)?"
   ]
  },
  {
   "cell_type": "code",
   "execution_count": null,
   "id": "33a1f1e4-2a97-4d74-b031-78c6e3b17be9",
   "metadata": {},
   "outputs": [],
   "source": [
    "line = '5.1,3.5,1.4,0.2,setosa'\n",
    "items = line.split(',')\n",
    "items"
   ]
  },
  {
   "cell_type": "markdown",
   "id": "173ac032-8cc8-49af-b261-384b84360d3c",
   "metadata": {},
   "source": [
    "Side note:\n",
    "+ You should the power of interactive programming of Jupyter notebooks."
   ]
  },
  {
   "cell_type": "markdown",
   "id": "f9f93f7e-0b54-42ff-9eb1-1c861d99923f",
   "metadata": {},
   "source": [
    "What should we do with this \"items\" list?"
   ]
  },
  {
   "cell_type": "markdown",
   "id": "d3e5ed86-5125-449e-afc0-bd5ea471ed58",
   "metadata": {},
   "source": [
    "A special feature of Python: **list comprehension**"
   ]
  },
  {
   "cell_type": "code",
   "execution_count": null,
   "id": "71ab493f-c930-42f5-92c0-45a4f88f0906",
   "metadata": {},
   "outputs": [],
   "source": [
    "items"
   ]
  },
  {
   "cell_type": "markdown",
   "id": "b6e093ee-f0e8-4a94-9aeb-b732270c4e09",
   "metadata": {},
   "source": [
    "In English:\n",
    "* processed_items is a list in which each x in the first 4 items is converted into a number."
   ]
  },
  {
   "cell_type": "code",
   "execution_count": null,
   "id": "eff1db96-03c0-4e0c-9ef5-1b534f43dcf4",
   "metadata": {},
   "outputs": [],
   "source": [
    "# In Python\n",
    "processed_items = [ float(x) for x in items[0:4] ]\n",
    "processed_items.append(items[4])\n",
    "processed_items"
   ]
  },
  {
   "cell_type": "markdown",
   "id": "7fa48da3-326c-490e-8311-75bf8a4fd7fd",
   "metadata": {},
   "source": [
    "**Summary of key things we do here**\n",
    "\n",
    "+ How to define and call a function in Python.\n",
    "    * A function can return more than one things.\n",
    "+ When a function returns something, you have to save them.\n",
    "+ The concept of \"blocks\" in Python. Blocks are defined by indentations.\n",
    "+ Open and read a file line by line.\n",
    "+ String processing\n",
    "+ Conditional: if\n",
    "\n",
    "\n",
    "Action items for you:\n",
    "+ Go through this example, and make sure you understand everything."
   ]
  },
  {
   "cell_type": "code",
   "execution_count": null,
   "id": "a341aee8-bf06-4202-a204-758b659789b5",
   "metadata": {},
   "outputs": [],
   "source": [
    "def get_iris_data():\n",
    "    data = []\n",
    "    with open('../Datasets/iris.csv') as fp:\n",
    "        # reading one line at a time\n",
    "        line = fp.readline().strip()\n",
    "        header = line.split(',')\n",
    "        while line!='':\n",
    "            line = fp.readline().strip()\n",
    "            if line!= '':\n",
    "                # process each data point\n",
    "                items = line.split(',')\n",
    "                processed_items = [ float(x) for x in items[0:4] ]\n",
    "                processed_items.append(items[4])\n",
    "\n",
    "                # save the data\n",
    "                data.append(processed_items)\n",
    "\n",
    "    return header, data\n",
    "\n",
    "header, data = get_iris_data()"
   ]
  },
  {
   "cell_type": "code",
   "execution_count": null,
   "id": "8fa3b68c-2a5e-46c1-97b0-ff3f0a1def11",
   "metadata": {},
   "outputs": [],
   "source": [
    "header"
   ]
  },
  {
   "cell_type": "code",
   "execution_count": null,
   "id": "214e881f-692b-4d1d-84e0-233100d89d5d",
   "metadata": {},
   "outputs": [],
   "source": [
    "data"
   ]
  },
  {
   "cell_type": "markdown",
   "id": "cff1086b-d964-40e3-9d17-65c190d6fd39",
   "metadata": {},
   "source": [
    "---\n",
    "#### Warm-up exercises"
   ]
  },
  {
   "cell_type": "markdown",
   "id": "db4464a0-20d1-4136-a7a4-e673cee37238",
   "metadata": {},
   "source": [
    "Objective: Introduce basic file reading and string processing.\n",
    "\n",
    "Task: Write a script to read the \"tips\" dataset from a file line by line, splitting each line into a list of strings using a chosen delimiter (e.g., comma, tab).\n",
    "\n",
    "Learning Outcome: Students refresh basic coding skills, learn file operations, and practice string splitting.\n"
   ]
  },
  {
   "cell_type": "markdown",
   "id": "2a76dda6-23e3-4a00-98d4-be8159cb4f31",
   "metadata": {},
   "source": [
    "### Questions:\n",
    "+ How do the features affect the bill amount?\n",
    "+ How many data points do we have?\n",
    "+ What's average total bill for each day of the week? <----\n",
    "+ What are the genders? two\n",
    "+ What are the days of the week? 7"
   ]
  },
  {
   "cell_type": "code",
   "execution_count": 24,
   "id": "229c08d8-8b50-4108-8e9c-90f1fb327669",
   "metadata": {
    "scrolled": true
   },
   "outputs": [
    {
     "name": "stdout",
     "output_type": "stream",
     "text": [
      "header: \"total_bill\",\"tip\",\"sex\",\"smoker\",\"day\",\"time\",\"size\"\n",
      "[16.99, 1.01, '\"Female\"', '\"No\"', '\"Sun\"', '\"Dinner\"', 2]\n",
      "244\n"
     ]
    }
   ],
   "source": [
    "#\n",
    "# Task: read the \"tips\" dataset from a file line by line, \n",
    "#       splitting each line into a list of strings using comma\n",
    "#\n",
    "with open('../Datasets/tips.csv') as fp:\n",
    "    line = fp.readline().strip()\n",
    "    header = line\n",
    "    print('header:', header)\n",
    "    count = 0\n",
    "    days = {}\n",
    "    while line!='':\n",
    "        line = fp.readline().strip()\n",
    "        if line!='':\n",
    "            row = line.split(',')\n",
    "            row[0] = float(row[0])\n",
    "            row[1] = float(row[1])\n",
    "            row[-1] = int(row[-1])\n",
    "            day = row[4]\n",
    "            if day not in days:\n",
    "                days[day] = [row[0]]\n",
    "            else:\n",
    "                days[day].append(row[0])\n",
    "                \n",
    "            count += 1\n",
    "            if count==1:\n",
    "                print(row)\n",
    "                \n",
    "    print(count)\n"
   ]
  },
  {
   "cell_type": "code",
   "execution_count": 25,
   "id": "00c44170-73fd-4b6f-ae23-f2db15080efc",
   "metadata": {},
   "outputs": [
    {
     "name": "stdout",
     "output_type": "stream",
     "text": [
      "244\n"
     ]
    }
   ],
   "source": [
    "print(count)"
   ]
  },
  {
   "cell_type": "code",
   "execution_count": 27,
   "id": "83f6ffd2-e2f3-4eac-a56d-ff343f514f07",
   "metadata": {},
   "outputs": [
    {
     "data": {
      "text/plain": [
       "dict_keys(['\"Sun\"', '\"Sat\"', '\"Thur\"', '\"Fri\"'])"
      ]
     },
     "execution_count": 27,
     "metadata": {},
     "output_type": "execute_result"
    }
   ],
   "source": [
    "days.keys()"
   ]
  },
  {
   "cell_type": "code",
   "execution_count": 32,
   "id": "b7f6c398-7679-4ce1-a7e7-bb7a76355181",
   "metadata": {},
   "outputs": [
    {
     "name": "stdout",
     "output_type": "stream",
     "text": [
      "\"Sun\" 48.17 21.410000000000004 1627.1600000000003\n",
      "\"Sat\" 50.81 20.441379310344825 1778.3999999999996\n",
      "\"Thur\" 43.11 17.682741935483865 1096.3299999999997\n",
      "\"Fri\" 40.17 17.151578947368417 325.87999999999994\n"
     ]
    }
   ],
   "source": [
    "for day in days:\n",
    "    print(day, max(days[day]), sum(days[day])/len(days[day]), sum(days[day]))"
   ]
  },
  {
   "cell_type": "markdown",
   "id": "c34df57e-6865-45de-aad6-4fcddec5567a",
   "metadata": {},
   "source": [
    "In this dataset, there are 4 days of the week. People spent most on Sunday, on average."
   ]
  },
  {
   "cell_type": "markdown",
   "id": "0845d9f2-1035-4a9d-91f3-40e5427025c4",
   "metadata": {},
   "source": [
    "### Summary"
   ]
  },
  {
   "cell_type": "markdown",
   "id": "68902e8a-546f-4cbb-aeed-dfb78c2bf212",
   "metadata": {},
   "source": [
    "Make sure you understand these key technical things for Python:\n",
    "* Open and read data from a file.  Know where it is. And how to access it.\n",
    "* Process each line of the data (stripping, splitting, coverting strings to numbers)\n",
    "* Know how to use lists and dictionaries."
   ]
  },
  {
   "cell_type": "code",
   "execution_count": null,
   "id": "20e4eaaa-c1b4-4f9f-b2a8-2955c8995cc0",
   "metadata": {},
   "outputs": [],
   "source": []
  }
 ],
 "metadata": {
  "kernelspec": {
   "display_name": "Python 3 (ipykernel)",
   "language": "python",
   "name": "python3"
  },
  "language_info": {
   "codemirror_mode": {
    "name": "ipython",
    "version": 3
   },
   "file_extension": ".py",
   "mimetype": "text/x-python",
   "name": "python",
   "nbconvert_exporter": "python",
   "pygments_lexer": "ipython3",
   "version": "3.9.16"
  }
 },
 "nbformat": 4,
 "nbformat_minor": 5
}
