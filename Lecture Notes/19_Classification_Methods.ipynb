{
 "cells": [
  {
   "cell_type": "markdown",
   "id": "782ab67b-6c3e-4871-97a5-86d905c5d0de",
   "metadata": {},
   "source": [
    "# Classification Methods\n",
    "\n",
    "* Dummy Baseline\n",
    "* K Nearest Neigbhor\n",
    "* Decision Tree: gini impurity\n",
    "* Random Forest\n",
    "* Support Vector\n",
    "* Logistic Regression"
   ]
  },
  {
   "cell_type": "code",
   "execution_count": null,
   "id": "35e56706-81ad-4835-ab03-9bfefd2b7be2",
   "metadata": {},
   "outputs": [],
   "source": []
  },
  {
   "cell_type": "code",
   "execution_count": 1,
   "id": "b4ebf827-440d-43e5-878d-51a3037b69bf",
   "metadata": {},
   "outputs": [
    {
     "data": {
      "text/html": [
       "<div>\n",
       "<style scoped>\n",
       "    .dataframe tbody tr th:only-of-type {\n",
       "        vertical-align: middle;\n",
       "    }\n",
       "\n",
       "    .dataframe tbody tr th {\n",
       "        vertical-align: top;\n",
       "    }\n",
       "\n",
       "    .dataframe thead th {\n",
       "        text-align: right;\n",
       "    }\n",
       "</style>\n",
       "<table border=\"1\" class=\"dataframe\">\n",
       "  <thead>\n",
       "    <tr style=\"text-align: right;\">\n",
       "      <th></th>\n",
       "      <th>Pregnancies</th>\n",
       "      <th>Glucose</th>\n",
       "      <th>BloodPressure</th>\n",
       "      <th>SkinThickness</th>\n",
       "      <th>Insulin</th>\n",
       "      <th>BMI</th>\n",
       "      <th>DiabetesPedigreeFunction</th>\n",
       "      <th>Age</th>\n",
       "      <th>Outcome</th>\n",
       "    </tr>\n",
       "  </thead>\n",
       "  <tbody>\n",
       "    <tr>\n",
       "      <th>524</th>\n",
       "      <td>3</td>\n",
       "      <td>125</td>\n",
       "      <td>58</td>\n",
       "      <td>0</td>\n",
       "      <td>0</td>\n",
       "      <td>31.6</td>\n",
       "      <td>0.151</td>\n",
       "      <td>24</td>\n",
       "      <td>0</td>\n",
       "    </tr>\n",
       "    <tr>\n",
       "      <th>760</th>\n",
       "      <td>2</td>\n",
       "      <td>88</td>\n",
       "      <td>58</td>\n",
       "      <td>26</td>\n",
       "      <td>16</td>\n",
       "      <td>28.4</td>\n",
       "      <td>0.766</td>\n",
       "      <td>22</td>\n",
       "      <td>0</td>\n",
       "    </tr>\n",
       "    <tr>\n",
       "      <th>575</th>\n",
       "      <td>1</td>\n",
       "      <td>119</td>\n",
       "      <td>44</td>\n",
       "      <td>47</td>\n",
       "      <td>63</td>\n",
       "      <td>35.5</td>\n",
       "      <td>0.280</td>\n",
       "      <td>25</td>\n",
       "      <td>0</td>\n",
       "    </tr>\n",
       "  </tbody>\n",
       "</table>\n",
       "</div>"
      ],
      "text/plain": [
       "     Pregnancies  Glucose  BloodPressure  SkinThickness  Insulin   BMI  \\\n",
       "524            3      125             58              0        0  31.6   \n",
       "760            2       88             58             26       16  28.4   \n",
       "575            1      119             44             47       63  35.5   \n",
       "\n",
       "     DiabetesPedigreeFunction  Age  Outcome  \n",
       "524                     0.151   24        0  \n",
       "760                     0.766   22        0  \n",
       "575                     0.280   25        0  "
      ]
     },
     "execution_count": 1,
     "metadata": {},
     "output_type": "execute_result"
    }
   ],
   "source": [
    "import pandas\n",
    "from sklearn.preprocessing import StandardScaler\n",
    "\n",
    "diabetes = pandas.read_csv('../Datasets/diabetes.csv')\n",
    "diabetes.sample(3)\n"
   ]
  },
  {
   "cell_type": "code",
   "execution_count": 2,
   "id": "fd43b212-7bfd-4c1c-8a7c-d48b1a053a83",
   "metadata": {},
   "outputs": [],
   "source": [
    "from sklearn.preprocessing import StandardScaler\n",
    "\n",
    "y = diabetes['Outcome']\n",
    "X = diabetes.drop(columns=['Outcome'])\n",
    "X = pandas.DataFrame(\n",
    "    data = StandardScaler().fit_transform(X),\n",
    "    columns = X.columns,\n",
    ")"
   ]
  },
  {
   "cell_type": "markdown",
   "id": "66e91b49-e3e9-48a2-8cf0-2eb4d557cabd",
   "metadata": {},
   "source": [
    "### Baseline Classifier"
   ]
  },
  {
   "cell_type": "code",
   "execution_count": 3,
   "id": "c1799a24-02e4-4f9c-bac1-306756139caa",
   "metadata": {},
   "outputs": [
    {
     "data": {
      "text/plain": [
       "0.66"
      ]
     },
     "execution_count": 3,
     "metadata": {},
     "output_type": "execute_result"
    }
   ],
   "source": [
    "from sklearn.dummy import DummyClassifier\n",
    "from sklearn.model_selection import cross_validate, ShuffleSplit\n",
    "from sklearn.metrics import accuracy_score\n",
    "\n",
    "baseline = DummyClassifier(strategy='most_frequent')\n",
    "validator = ShuffleSplit(n_splits=100, test_size=0.05)\n",
    "result = cross_validate(baseline, X, y, cv=validator, scoring=['accuracy'])\n",
    "result['test_accuracy'].mean().round(2)"
   ]
  },
  {
   "cell_type": "markdown",
   "id": "afcef6af-3fa9-4c5e-bbab-68993289f639",
   "metadata": {},
   "source": [
    "### Decision Tree Classification"
   ]
  },
  {
   "cell_type": "code",
   "execution_count": 4,
   "id": "e150ccc8-a808-4b44-b0ac-d2b454e52893",
   "metadata": {},
   "outputs": [],
   "source": [
    "X1 = diabetes.drop(columns=['Outcome','Glucose'])\n",
    "X2 = diabetes.drop(columns=['Outcome','BloodPressure'])"
   ]
  },
  {
   "cell_type": "code",
   "execution_count": 5,
   "id": "ec14b4c6-dfcc-4cfa-9c7f-b661883f7af8",
   "metadata": {},
   "outputs": [
    {
     "data": {
      "text/html": [
       "<style>#sk-container-id-1 {color: black;}#sk-container-id-1 pre{padding: 0;}#sk-container-id-1 div.sk-toggleable {background-color: white;}#sk-container-id-1 label.sk-toggleable__label {cursor: pointer;display: block;width: 100%;margin-bottom: 0;padding: 0.3em;box-sizing: border-box;text-align: center;}#sk-container-id-1 label.sk-toggleable__label-arrow:before {content: \"▸\";float: left;margin-right: 0.25em;color: #696969;}#sk-container-id-1 label.sk-toggleable__label-arrow:hover:before {color: black;}#sk-container-id-1 div.sk-estimator:hover label.sk-toggleable__label-arrow:before {color: black;}#sk-container-id-1 div.sk-toggleable__content {max-height: 0;max-width: 0;overflow: hidden;text-align: left;background-color: #f0f8ff;}#sk-container-id-1 div.sk-toggleable__content pre {margin: 0.2em;color: black;border-radius: 0.25em;background-color: #f0f8ff;}#sk-container-id-1 input.sk-toggleable__control:checked~div.sk-toggleable__content {max-height: 200px;max-width: 100%;overflow: auto;}#sk-container-id-1 input.sk-toggleable__control:checked~label.sk-toggleable__label-arrow:before {content: \"▾\";}#sk-container-id-1 div.sk-estimator input.sk-toggleable__control:checked~label.sk-toggleable__label {background-color: #d4ebff;}#sk-container-id-1 div.sk-label input.sk-toggleable__control:checked~label.sk-toggleable__label {background-color: #d4ebff;}#sk-container-id-1 input.sk-hidden--visually {border: 0;clip: rect(1px 1px 1px 1px);clip: rect(1px, 1px, 1px, 1px);height: 1px;margin: -1px;overflow: hidden;padding: 0;position: absolute;width: 1px;}#sk-container-id-1 div.sk-estimator {font-family: monospace;background-color: #f0f8ff;border: 1px dotted black;border-radius: 0.25em;box-sizing: border-box;margin-bottom: 0.5em;}#sk-container-id-1 div.sk-estimator:hover {background-color: #d4ebff;}#sk-container-id-1 div.sk-parallel-item::after {content: \"\";width: 100%;border-bottom: 1px solid gray;flex-grow: 1;}#sk-container-id-1 div.sk-label:hover label.sk-toggleable__label {background-color: #d4ebff;}#sk-container-id-1 div.sk-serial::before {content: \"\";position: absolute;border-left: 1px solid gray;box-sizing: border-box;top: 0;bottom: 0;left: 50%;z-index: 0;}#sk-container-id-1 div.sk-serial {display: flex;flex-direction: column;align-items: center;background-color: white;padding-right: 0.2em;padding-left: 0.2em;position: relative;}#sk-container-id-1 div.sk-item {position: relative;z-index: 1;}#sk-container-id-1 div.sk-parallel {display: flex;align-items: stretch;justify-content: center;background-color: white;position: relative;}#sk-container-id-1 div.sk-item::before, #sk-container-id-1 div.sk-parallel-item::before {content: \"\";position: absolute;border-left: 1px solid gray;box-sizing: border-box;top: 0;bottom: 0;left: 50%;z-index: -1;}#sk-container-id-1 div.sk-parallel-item {display: flex;flex-direction: column;z-index: 1;position: relative;background-color: white;}#sk-container-id-1 div.sk-parallel-item:first-child::after {align-self: flex-end;width: 50%;}#sk-container-id-1 div.sk-parallel-item:last-child::after {align-self: flex-start;width: 50%;}#sk-container-id-1 div.sk-parallel-item:only-child::after {width: 0;}#sk-container-id-1 div.sk-dashed-wrapped {border: 1px dashed gray;margin: 0 0.4em 0.5em 0.4em;box-sizing: border-box;padding-bottom: 0.4em;background-color: white;}#sk-container-id-1 div.sk-label label {font-family: monospace;font-weight: bold;display: inline-block;line-height: 1.2em;}#sk-container-id-1 div.sk-label-container {text-align: center;}#sk-container-id-1 div.sk-container {/* jupyter's `normalize.less` sets `[hidden] { display: none; }` but bootstrap.min.css set `[hidden] { display: none !important; }` so we also need the `!important` here to be able to override the default hidden behavior on the sphinx rendered scikit-learn.org. See: https://github.com/scikit-learn/scikit-learn/issues/21755 */display: inline-block !important;position: relative;}#sk-container-id-1 div.sk-text-repr-fallback {display: none;}</style><div id=\"sk-container-id-1\" class=\"sk-top-container\"><div class=\"sk-text-repr-fallback\"><pre>DecisionTreeClassifier(max_depth=2)</pre><b>In a Jupyter environment, please rerun this cell to show the HTML representation or trust the notebook. <br />On GitHub, the HTML representation is unable to render, please try loading this page with nbviewer.org.</b></div><div class=\"sk-container\" hidden><div class=\"sk-item\"><div class=\"sk-estimator sk-toggleable\"><input class=\"sk-toggleable__control sk-hidden--visually\" id=\"sk-estimator-id-1\" type=\"checkbox\" checked><label for=\"sk-estimator-id-1\" class=\"sk-toggleable__label sk-toggleable__label-arrow\">DecisionTreeClassifier</label><div class=\"sk-toggleable__content\"><pre>DecisionTreeClassifier(max_depth=2)</pre></div></div></div></div></div>"
      ],
      "text/plain": [
       "DecisionTreeClassifier(max_depth=2)"
      ]
     },
     "execution_count": 5,
     "metadata": {},
     "output_type": "execute_result"
    }
   ],
   "source": [
    "from sklearn.tree import DecisionTreeClassifier\n",
    "model = DecisionTreeClassifier(max_depth=2)\n",
    "model.fit(X1,y)"
   ]
  },
  {
   "cell_type": "code",
   "execution_count": 6,
   "id": "509e44c5-5b9a-409c-a445-f8b132c13afa",
   "metadata": {},
   "outputs": [
    {
     "data": {
      "text/plain": [
       "[Text(0.5, 0.8333333333333334, 'Age <= 28.5\\ngini = 0.454\\nsamples = 768\\nvalue = [500, 268]\\nclass = no'),\n",
       " Text(0.25, 0.5, 'BMI <= 30.95\\ngini = 0.312\\nsamples = 367\\nvalue = [296, 71]\\nclass = no'),\n",
       " Text(0.125, 0.16666666666666666, 'gini = 0.095\\nsamples = 181\\nvalue = [172, 9]\\nclass = no'),\n",
       " Text(0.375, 0.16666666666666666, 'gini = 0.444\\nsamples = 186\\nvalue = [124, 62]\\nclass = no'),\n",
       " Text(0.75, 0.5, 'BMI <= 27.35\\ngini = 0.5\\nsamples = 401\\nvalue = [204, 197]\\nclass = no'),\n",
       " Text(0.625, 0.16666666666666666, 'gini = 0.332\\nsamples = 76\\nvalue = [60, 16]\\nclass = no'),\n",
       " Text(0.875, 0.16666666666666666, 'gini = 0.494\\nsamples = 325\\nvalue = [144, 181]\\nclass = yes')]"
      ]
     },
     "execution_count": 6,
     "metadata": {},
     "output_type": "execute_result"
    },
    {
     "data": {
      "image/png": "[encoded data removed]",
      "text/plain": [
       "<Figure size 640x480 with 1 Axes>"
      ]
     },
     "metadata": {},
     "output_type": "display_data"
    }
   ],
   "source": [
    "from sklearn.tree import plot_tree\n",
    "plot_tree(model, feature_names=list(X1.columns), class_names=['no','yes'])"
   ]
  },
  {
   "cell_type": "code",
   "execution_count": 7,
   "id": "ffc9ae5a-8009-4ec3-8a08-ea0a11c883cd",
   "metadata": {},
   "outputs": [
    {
     "data": {
      "text/html": [
       "<div>\n",
       "<style scoped>\n",
       "    .dataframe tbody tr th:only-of-type {\n",
       "        vertical-align: middle;\n",
       "    }\n",
       "\n",
       "    .dataframe tbody tr th {\n",
       "        vertical-align: top;\n",
       "    }\n",
       "\n",
       "    .dataframe thead th {\n",
       "        text-align: right;\n",
       "    }\n",
       "</style>\n",
       "<table border=\"1\" class=\"dataframe\">\n",
       "  <thead>\n",
       "    <tr style=\"text-align: right;\">\n",
       "      <th></th>\n",
       "      <th>Pregnancies</th>\n",
       "      <th>BloodPressure</th>\n",
       "      <th>SkinThickness</th>\n",
       "      <th>Insulin</th>\n",
       "      <th>BMI</th>\n",
       "      <th>DiabetesPedigreeFunction</th>\n",
       "      <th>Age</th>\n",
       "    </tr>\n",
       "  </thead>\n",
       "  <tbody>\n",
       "    <tr>\n",
       "      <th>283</th>\n",
       "      <td>7</td>\n",
       "      <td>86</td>\n",
       "      <td>0</td>\n",
       "      <td>0</td>\n",
       "      <td>30.4</td>\n",
       "      <td>0.165</td>\n",
       "      <td>47</td>\n",
       "    </tr>\n",
       "    <tr>\n",
       "      <th>649</th>\n",
       "      <td>0</td>\n",
       "      <td>60</td>\n",
       "      <td>25</td>\n",
       "      <td>0</td>\n",
       "      <td>26.4</td>\n",
       "      <td>0.133</td>\n",
       "      <td>23</td>\n",
       "    </tr>\n",
       "    <tr>\n",
       "      <th>453</th>\n",
       "      <td>2</td>\n",
       "      <td>0</td>\n",
       "      <td>0</td>\n",
       "      <td>0</td>\n",
       "      <td>19.6</td>\n",
       "      <td>0.832</td>\n",
       "      <td>72</td>\n",
       "    </tr>\n",
       "    <tr>\n",
       "      <th>410</th>\n",
       "      <td>6</td>\n",
       "      <td>90</td>\n",
       "      <td>39</td>\n",
       "      <td>0</td>\n",
       "      <td>35.7</td>\n",
       "      <td>0.674</td>\n",
       "      <td>28</td>\n",
       "    </tr>\n",
       "    <tr>\n",
       "      <th>307</th>\n",
       "      <td>0</td>\n",
       "      <td>68</td>\n",
       "      <td>14</td>\n",
       "      <td>148</td>\n",
       "      <td>24.8</td>\n",
       "      <td>0.143</td>\n",
       "      <td>21</td>\n",
       "    </tr>\n",
       "    <tr>\n",
       "      <th>342</th>\n",
       "      <td>1</td>\n",
       "      <td>68</td>\n",
       "      <td>35</td>\n",
       "      <td>0</td>\n",
       "      <td>32.0</td>\n",
       "      <td>0.389</td>\n",
       "      <td>22</td>\n",
       "    </tr>\n",
       "    <tr>\n",
       "      <th>632</th>\n",
       "      <td>2</td>\n",
       "      <td>60</td>\n",
       "      <td>0</td>\n",
       "      <td>0</td>\n",
       "      <td>26.2</td>\n",
       "      <td>0.343</td>\n",
       "      <td>23</td>\n",
       "    </tr>\n",
       "    <tr>\n",
       "      <th>498</th>\n",
       "      <td>7</td>\n",
       "      <td>70</td>\n",
       "      <td>33</td>\n",
       "      <td>145</td>\n",
       "      <td>25.1</td>\n",
       "      <td>0.163</td>\n",
       "      <td>55</td>\n",
       "    </tr>\n",
       "    <tr>\n",
       "      <th>32</th>\n",
       "      <td>3</td>\n",
       "      <td>58</td>\n",
       "      <td>11</td>\n",
       "      <td>54</td>\n",
       "      <td>24.8</td>\n",
       "      <td>0.267</td>\n",
       "      <td>22</td>\n",
       "    </tr>\n",
       "    <tr>\n",
       "      <th>536</th>\n",
       "      <td>0</td>\n",
       "      <td>90</td>\n",
       "      <td>0</td>\n",
       "      <td>0</td>\n",
       "      <td>29.6</td>\n",
       "      <td>0.197</td>\n",
       "      <td>46</td>\n",
       "    </tr>\n",
       "  </tbody>\n",
       "</table>\n",
       "</div>"
      ],
      "text/plain": [
       "     Pregnancies  BloodPressure  SkinThickness  Insulin   BMI  \\\n",
       "283            7             86              0        0  30.4   \n",
       "649            0             60             25        0  26.4   \n",
       "453            2              0              0        0  19.6   \n",
       "410            6             90             39        0  35.7   \n",
       "307            0             68             14      148  24.8   \n",
       "342            1             68             35        0  32.0   \n",
       "632            2             60              0        0  26.2   \n",
       "498            7             70             33      145  25.1   \n",
       "32             3             58             11       54  24.8   \n",
       "536            0             90              0        0  29.6   \n",
       "\n",
       "     DiabetesPedigreeFunction  Age  \n",
       "283                     0.165   47  \n",
       "649                     0.133   23  \n",
       "453                     0.832   72  \n",
       "410                     0.674   28  \n",
       "307                     0.143   21  \n",
       "342                     0.389   22  \n",
       "632                     0.343   23  \n",
       "498                     0.163   55  \n",
       "32                      0.267   22  \n",
       "536                     0.197   46  "
      ]
     },
     "execution_count": 7,
     "metadata": {},
     "output_type": "execute_result"
    }
   ],
   "source": [
    "new_data=X1.sample(10)\n",
    "new_data"
   ]
  },
  {
   "cell_type": "code",
   "execution_count": 8,
   "id": "18f8a3a5-bc12-4f9b-8114-5991fe6587e6",
   "metadata": {},
   "outputs": [
    {
     "data": {
      "text/plain": [
       "array([1, 0, 0, 0, 0, 0, 0, 0, 0, 1])"
      ]
     },
     "execution_count": 8,
     "metadata": {},
     "output_type": "execute_result"
    }
   ],
   "source": [
    "model.predict(new_data)"
   ]
  },
  {
   "cell_type": "markdown",
   "id": "1a218c62-2fa2-44ae-810d-064d39f5426c",
   "metadata": {},
   "source": [
    "### Compare KNN and Decision Trees"
   ]
  },
  {
   "cell_type": "code",
   "execution_count": 9,
   "id": "2f288373-ffa6-4765-afb5-e0dfae1f1d9b",
   "metadata": {},
   "outputs": [],
   "source": [
    "from sklearn.neighbors import KNeighborsClassifier\n",
    "from sklearn.tree import DecisionTreeClassifier\n",
    "\n",
    "knn = KNeighborsClassifier()\n",
    "dt = DecisionTreeClassifier()"
   ]
  },
  {
   "cell_type": "markdown",
   "id": "ca8c7b52-1d9f-4068-a5f6-b967bead2886",
   "metadata": {},
   "source": [
    "What do we need to compare these two models?\n",
    "\n",
    "+ baseline\n",
    "+ metric (precision, recall)\n",
    "+ cross validator"
   ]
  },
  {
   "cell_type": "code",
   "execution_count": 10,
   "id": "945649e4-d656-4ea5-a03b-986b613399c8",
   "metadata": {},
   "outputs": [],
   "source": [
    "from sklearn.dummy import DummyClassifier\n",
    "from sklearn.model_selection import cross_validate, ShuffleSplit\n",
    "\n",
    "baseline = DummyClassifier(strategy='stratified')\n",
    "ss = ShuffleSplit(n_splits=100)\n"
   ]
  },
  {
   "cell_type": "code",
   "execution_count": 11,
   "id": "b9079600-5f6b-4e6b-adb1-be3307feb0b0",
   "metadata": {},
   "outputs": [
    {
     "name": "stdout",
     "output_type": "stream",
     "text": [
      "0.33\n"
     ]
    }
   ],
   "source": [
    "X = diabetes.drop(columns=['Outcome'])\n",
    "y = diabetes['Outcome']\n",
    "result_baseline = cross_validate(baseline, X, y, cv=ss, scoring=['f1'])\n",
    "print(result_baseline['test_f1'].mean().round(2))"
   ]
  },
  {
   "cell_type": "code",
   "execution_count": 12,
   "id": "b30c01ea-8db5-40de-a3a4-de6e5c8f74b3",
   "metadata": {},
   "outputs": [
    {
     "name": "stdout",
     "output_type": "stream",
     "text": [
      "0.6\n"
     ]
    }
   ],
   "source": [
    "from sklearn.preprocessing import StandardScaler\n",
    "knn = KNeighborsClassifier()\n",
    "X = diabetes.drop(columns=['Outcome'])\n",
    "X = StandardScaler().fit_transform(X)\n",
    "y = diabetes['Outcome']\n",
    "result_baseline = cross_validate(knn, X, y, cv=ss, scoring=['f1'])\n",
    "print(result_baseline['test_f1'].mean().round(2))\n"
   ]
  },
  {
   "cell_type": "code",
   "execution_count": 13,
   "id": "28da6a5a-5641-4f6e-ae33-20b89144f182",
   "metadata": {},
   "outputs": [
    {
     "name": "stdout",
     "output_type": "stream",
     "text": [
      "0.57\n"
     ]
    }
   ],
   "source": [
    "dt = DecisionTreeClassifier()\n",
    "X = diabetes.drop(columns=['Outcome'])\n",
    "y = diabetes['Outcome']\n",
    "result_baseline = cross_validate(dt, X, y, cv=ss, scoring=['f1'])\n",
    "print(result_baseline['test_f1'].mean().round(2))\n"
   ]
  },
  {
   "cell_type": "markdown",
   "id": "bc024eba-c42f-4ecd-b64f-204f80120d42",
   "metadata": {},
   "source": [
    "#### Finding the right max depth for DT"
   ]
  },
  {
   "cell_type": "code",
   "execution_count": 14,
   "id": "b13e4bb3-cd96-4f4e-93b8-98772a7d9fcb",
   "metadata": {},
   "outputs": [
    {
     "name": "stdout",
     "output_type": "stream",
     "text": [
      "3 0.57\n",
      "4 0.6\n",
      "5 0.61\n",
      "6 0.59\n",
      "7 0.58\n",
      "8 0.58\n",
      "9 0.58\n",
      "10 0.57\n",
      "11 0.57\n",
      "12 0.59\n",
      "13 0.59\n",
      "14 0.59\n",
      "15 0.58\n",
      "16 0.57\n",
      "17 0.57\n",
      "18 0.58\n",
      "19 0.57\n"
     ]
    }
   ],
   "source": [
    "for d in range(3,20):\n",
    "    dt = DecisionTreeClassifier(max_depth=d)\n",
    "    X = diabetes.drop(columns=['Outcome'])\n",
    "    y = diabetes['Outcome']\n",
    "    result_baseline = cross_validate(dt, X, y, cv=ss, scoring=['f1'])\n",
    "    print(d, result_baseline['test_f1'].mean().round(2))\n"
   ]
  },
  {
   "cell_type": "markdown",
   "id": "1a5cd1f4-9380-49e0-ab18-0df35e8e71e1",
   "metadata": {},
   "source": [
    "### Random Forest"
   ]
  },
  {
   "cell_type": "code",
   "execution_count": 15,
   "id": "3e388de0-cd14-4089-b331-26168846e764",
   "metadata": {},
   "outputs": [
    {
     "name": "stdout",
     "output_type": "stream",
     "text": [
      "0.61\n"
     ]
    }
   ],
   "source": [
    "from sklearn.ensemble import RandomForestClassifier\n",
    "rf = RandomForestClassifier(max_depth=5)\n",
    "X = diabetes.drop(columns=['Outcome'])\n",
    "y = diabetes['Outcome']\n",
    "result = cross_validate(rf, X, y, cv=ss, scoring=['f1'])\n",
    "print(result['test_f1'].mean().round(2))\n"
   ]
  },
  {
   "cell_type": "code",
   "execution_count": 16,
   "id": "c8f5eac4-1bf9-418c-a59b-d00cf05b27b0",
   "metadata": {},
   "outputs": [
    {
     "data": {
      "text/html": [
       "<style>#sk-container-id-2 {color: black;}#sk-container-id-2 pre{padding: 0;}#sk-container-id-2 div.sk-toggleable {background-color: white;}#sk-container-id-2 label.sk-toggleable__label {cursor: pointer;display: block;width: 100%;margin-bottom: 0;padding: 0.3em;box-sizing: border-box;text-align: center;}#sk-container-id-2 label.sk-toggleable__label-arrow:before {content: \"▸\";float: left;margin-right: 0.25em;color: #696969;}#sk-container-id-2 label.sk-toggleable__label-arrow:hover:before {color: black;}#sk-container-id-2 div.sk-estimator:hover label.sk-toggleable__label-arrow:before {color: black;}#sk-container-id-2 div.sk-toggleable__content {max-height: 0;max-width: 0;overflow: hidden;text-align: left;background-color: #f0f8ff;}#sk-container-id-2 div.sk-toggleable__content pre {margin: 0.2em;color: black;border-radius: 0.25em;background-color: #f0f8ff;}#sk-container-id-2 input.sk-toggleable__control:checked~div.sk-toggleable__content {max-height: 200px;max-width: 100%;overflow: auto;}#sk-container-id-2 input.sk-toggleable__control:checked~label.sk-toggleable__label-arrow:before {content: \"▾\";}#sk-container-id-2 div.sk-estimator input.sk-toggleable__control:checked~label.sk-toggleable__label {background-color: #d4ebff;}#sk-container-id-2 div.sk-label input.sk-toggleable__control:checked~label.sk-toggleable__label {background-color: #d4ebff;}#sk-container-id-2 input.sk-hidden--visually {border: 0;clip: rect(1px 1px 1px 1px);clip: rect(1px, 1px, 1px, 1px);height: 1px;margin: -1px;overflow: hidden;padding: 0;position: absolute;width: 1px;}#sk-container-id-2 div.sk-estimator {font-family: monospace;background-color: #f0f8ff;border: 1px dotted black;border-radius: 0.25em;box-sizing: border-box;margin-bottom: 0.5em;}#sk-container-id-2 div.sk-estimator:hover {background-color: #d4ebff;}#sk-container-id-2 div.sk-parallel-item::after {content: \"\";width: 100%;border-bottom: 1px solid gray;flex-grow: 1;}#sk-container-id-2 div.sk-label:hover label.sk-toggleable__label {background-color: #d4ebff;}#sk-container-id-2 div.sk-serial::before {content: \"\";position: absolute;border-left: 1px solid gray;box-sizing: border-box;top: 0;bottom: 0;left: 50%;z-index: 0;}#sk-container-id-2 div.sk-serial {display: flex;flex-direction: column;align-items: center;background-color: white;padding-right: 0.2em;padding-left: 0.2em;position: relative;}#sk-container-id-2 div.sk-item {position: relative;z-index: 1;}#sk-container-id-2 div.sk-parallel {display: flex;align-items: stretch;justify-content: center;background-color: white;position: relative;}#sk-container-id-2 div.sk-item::before, #sk-container-id-2 div.sk-parallel-item::before {content: \"\";position: absolute;border-left: 1px solid gray;box-sizing: border-box;top: 0;bottom: 0;left: 50%;z-index: -1;}#sk-container-id-2 div.sk-parallel-item {display: flex;flex-direction: column;z-index: 1;position: relative;background-color: white;}#sk-container-id-2 div.sk-parallel-item:first-child::after {align-self: flex-end;width: 50%;}#sk-container-id-2 div.sk-parallel-item:last-child::after {align-self: flex-start;width: 50%;}#sk-container-id-2 div.sk-parallel-item:only-child::after {width: 0;}#sk-container-id-2 div.sk-dashed-wrapped {border: 1px dashed gray;margin: 0 0.4em 0.5em 0.4em;box-sizing: border-box;padding-bottom: 0.4em;background-color: white;}#sk-container-id-2 div.sk-label label {font-family: monospace;font-weight: bold;display: inline-block;line-height: 1.2em;}#sk-container-id-2 div.sk-label-container {text-align: center;}#sk-container-id-2 div.sk-container {/* jupyter's `normalize.less` sets `[hidden] { display: none; }` but bootstrap.min.css set `[hidden] { display: none !important; }` so we also need the `!important` here to be able to override the default hidden behavior on the sphinx rendered scikit-learn.org. See: https://github.com/scikit-learn/scikit-learn/issues/21755 */display: inline-block !important;position: relative;}#sk-container-id-2 div.sk-text-repr-fallback {display: none;}</style><div id=\"sk-container-id-2\" class=\"sk-top-container\"><div class=\"sk-text-repr-fallback\"><pre>RandomForestClassifier(max_depth=5)</pre><b>In a Jupyter environment, please rerun this cell to show the HTML representation or trust the notebook. <br />On GitHub, the HTML representation is unable to render, please try loading this page with nbviewer.org.</b></div><div class=\"sk-container\" hidden><div class=\"sk-item\"><div class=\"sk-estimator sk-toggleable\"><input class=\"sk-toggleable__control sk-hidden--visually\" id=\"sk-estimator-id-2\" type=\"checkbox\" checked><label for=\"sk-estimator-id-2\" class=\"sk-toggleable__label sk-toggleable__label-arrow\">RandomForestClassifier</label><div class=\"sk-toggleable__content\"><pre>RandomForestClassifier(max_depth=5)</pre></div></div></div></div></div>"
      ],
      "text/plain": [
       "RandomForestClassifier(max_depth=5)"
      ]
     },
     "execution_count": 16,
     "metadata": {},
     "output_type": "execute_result"
    }
   ],
   "source": [
    "rf.fit(X,y)"
   ]
  },
  {
   "cell_type": "code",
   "execution_count": 17,
   "id": "fd6a1ed6-4282-4657-99b7-66045618b996",
   "metadata": {},
   "outputs": [
    {
     "data": {
      "text/html": [
       "<div>\n",
       "<style scoped>\n",
       "    .dataframe tbody tr th:only-of-type {\n",
       "        vertical-align: middle;\n",
       "    }\n",
       "\n",
       "    .dataframe tbody tr th {\n",
       "        vertical-align: top;\n",
       "    }\n",
       "\n",
       "    .dataframe thead th {\n",
       "        text-align: right;\n",
       "    }\n",
       "</style>\n",
       "<table border=\"1\" class=\"dataframe\">\n",
       "  <thead>\n",
       "    <tr style=\"text-align: right;\">\n",
       "      <th></th>\n",
       "      <th>Pregnancies</th>\n",
       "      <th>Glucose</th>\n",
       "      <th>BloodPressure</th>\n",
       "      <th>SkinThickness</th>\n",
       "      <th>Insulin</th>\n",
       "      <th>BMI</th>\n",
       "      <th>DiabetesPedigreeFunction</th>\n",
       "      <th>Age</th>\n",
       "    </tr>\n",
       "  </thead>\n",
       "  <tbody>\n",
       "    <tr>\n",
       "      <th>22</th>\n",
       "      <td>7</td>\n",
       "      <td>196</td>\n",
       "      <td>90</td>\n",
       "      <td>0</td>\n",
       "      <td>0</td>\n",
       "      <td>39.8</td>\n",
       "      <td>0.451</td>\n",
       "      <td>41</td>\n",
       "    </tr>\n",
       "    <tr>\n",
       "      <th>612</th>\n",
       "      <td>7</td>\n",
       "      <td>168</td>\n",
       "      <td>88</td>\n",
       "      <td>42</td>\n",
       "      <td>321</td>\n",
       "      <td>38.2</td>\n",
       "      <td>0.787</td>\n",
       "      <td>40</td>\n",
       "    </tr>\n",
       "    <tr>\n",
       "      <th>613</th>\n",
       "      <td>6</td>\n",
       "      <td>105</td>\n",
       "      <td>80</td>\n",
       "      <td>28</td>\n",
       "      <td>0</td>\n",
       "      <td>32.5</td>\n",
       "      <td>0.878</td>\n",
       "      <td>26</td>\n",
       "    </tr>\n",
       "    <tr>\n",
       "      <th>602</th>\n",
       "      <td>1</td>\n",
       "      <td>124</td>\n",
       "      <td>74</td>\n",
       "      <td>36</td>\n",
       "      <td>0</td>\n",
       "      <td>27.8</td>\n",
       "      <td>0.100</td>\n",
       "      <td>30</td>\n",
       "    </tr>\n",
       "    <tr>\n",
       "      <th>208</th>\n",
       "      <td>1</td>\n",
       "      <td>96</td>\n",
       "      <td>64</td>\n",
       "      <td>27</td>\n",
       "      <td>87</td>\n",
       "      <td>33.2</td>\n",
       "      <td>0.289</td>\n",
       "      <td>21</td>\n",
       "    </tr>\n",
       "  </tbody>\n",
       "</table>\n",
       "</div>"
      ],
      "text/plain": [
       "     Pregnancies  Glucose  BloodPressure  SkinThickness  Insulin   BMI  \\\n",
       "22             7      196             90              0        0  39.8   \n",
       "612            7      168             88             42      321  38.2   \n",
       "613            6      105             80             28        0  32.5   \n",
       "602            1      124             74             36        0  27.8   \n",
       "208            1       96             64             27       87  33.2   \n",
       "\n",
       "     DiabetesPedigreeFunction  Age  \n",
       "22                      0.451   41  \n",
       "612                     0.787   40  \n",
       "613                     0.878   26  \n",
       "602                     0.100   30  \n",
       "208                     0.289   21  "
      ]
     },
     "execution_count": 17,
     "metadata": {},
     "output_type": "execute_result"
    }
   ],
   "source": [
    "new_data = X.sample(5)\n",
    "new_data"
   ]
  },
  {
   "cell_type": "code",
   "execution_count": 18,
   "id": "a8aa3609-230d-43ee-8521-924f61343a62",
   "metadata": {},
   "outputs": [
    {
     "data": {
      "text/plain": [
       "array([1, 1, 0, 0, 0])"
      ]
     },
     "execution_count": 18,
     "metadata": {},
     "output_type": "execute_result"
    }
   ],
   "source": [
    "rf.predict(new_data)"
   ]
  },
  {
   "cell_type": "code",
   "execution_count": 19,
   "id": "065d7071-8dd8-4bdc-b711-6803ec7cdb03",
   "metadata": {},
   "outputs": [
    {
     "data": {
      "text/plain": [
       "array([[0.18, 0.82],\n",
       "       [0.13, 0.87],\n",
       "       [0.71, 0.29],\n",
       "       [0.73, 0.27],\n",
       "       [0.9 , 0.1 ]])"
      ]
     },
     "execution_count": 19,
     "metadata": {},
     "output_type": "execute_result"
    }
   ],
   "source": [
    "rf.predict_proba(new_data).round(2)"
   ]
  },
  {
   "cell_type": "code",
   "execution_count": 20,
   "id": "a0f02754-2494-4891-83ad-13da74979a3f",
   "metadata": {},
   "outputs": [
    {
     "data": {
      "text/plain": [
       "array([0.07570361, 0.36603087, 0.04511425, 0.04357959, 0.06594219,\n",
       "       0.16523928, 0.1004724 , 0.13791781])"
      ]
     },
     "execution_count": 20,
     "metadata": {},
     "output_type": "execute_result"
    }
   ],
   "source": [
    "rf.feature_importances_"
   ]
  },
  {
   "cell_type": "code",
   "execution_count": 24,
   "id": "c6f2c4f5-77c0-427a-bbd9-349874a63c9f",
   "metadata": {},
   "outputs": [
    {
     "data": {
      "text/plain": [
       "Index(['Pregnancies', 'Glucose', 'BloodPressure', 'SkinThickness', 'Insulin',\n",
       "       'BMI', 'DiabetesPedigreeFunction', 'Age'],\n",
       "      dtype='object')"
      ]
     },
     "execution_count": 24,
     "metadata": {},
     "output_type": "execute_result"
    }
   ],
   "source": [
    "X.columns"
   ]
  },
  {
   "cell_type": "code",
   "execution_count": 21,
   "id": "62320826-8ec1-483b-8920-e05f2fe935ff",
   "metadata": {},
   "outputs": [
    {
     "data": {
      "text/plain": [
       "[(0.04357959371394262, 'SkinThickness'),\n",
       " (0.045114253801029146, 'BloodPressure'),\n",
       " (0.06594218539032182, 'Insulin'),\n",
       " (0.0757036070318749, 'Pregnancies'),\n",
       " (0.1004724026137598, 'DiabetesPedigreeFunction'),\n",
       " (0.13791780514268512, 'Age'),\n",
       " (0.16523927870307437, 'BMI'),\n",
       " (0.3660308736033122, 'Glucose')]"
      ]
     },
     "execution_count": 21,
     "metadata": {},
     "output_type": "execute_result"
    }
   ],
   "source": [
    "sorted(list(zip(rf.feature_importances_, X.columns)))"
   ]
  },
  {
   "cell_type": "code",
   "execution_count": 22,
   "id": "2cf74350-f8d0-4625-ba04-3f4bf863ca7e",
   "metadata": {},
   "outputs": [
    {
     "data": {
      "text/plain": [
       "[Text(0.5510204081632653, 0.9166666666666666, 'Glucose <= 132.5\\ngini = 0.454\\nsamples = 487\\nvalue = [500, 268]'),\n",
       " Text(0.32142857142857145, 0.75, 'Insulin <= 145.0\\ngini = 0.299\\nsamples = 326\\nvalue = [432, 97]'),\n",
       " Text(0.16326530612244897, 0.5833333333333334, 'Glucose <= 111.5\\ngini = 0.27\\nsamples = 282\\nvalue = [385, 74]'),\n",
       " Text(0.08163265306122448, 0.4166666666666667, 'BMI <= 28.95\\ngini = 0.173\\nsamples = 192\\nvalue = [284, 30]'),\n",
       " Text(0.04081632653061224, 0.25, 'Pregnancies <= 6.5\\ngini = 0.017\\nsamples = 79\\nvalue = [118, 1]'),\n",
       " Text(0.02040816326530612, 0.08333333333333333, 'gini = 0.0\\nsamples = 74\\nvalue = [113, 0]'),\n",
       " Text(0.061224489795918366, 0.08333333333333333, 'gini = 0.278\\nsamples = 5\\nvalue = [5, 1]'),\n",
       " Text(0.12244897959183673, 0.25, 'BloodPressure <= 51.0\\ngini = 0.253\\nsamples = 113\\nvalue = [166, 29]'),\n",
       " Text(0.10204081632653061, 0.08333333333333333, 'gini = 0.5\\nsamples = 6\\nvalue = [4, 4]'),\n",
       " Text(0.14285714285714285, 0.08333333333333333, 'gini = 0.232\\nsamples = 107\\nvalue = [162, 25]'),\n",
       " Text(0.24489795918367346, 0.4166666666666667, 'BMI <= 26.15\\ngini = 0.423\\nsamples = 90\\nvalue = [101, 44]'),\n",
       " Text(0.20408163265306123, 0.25, 'BMI <= 10.4\\ngini = 0.056\\nsamples = 18\\nvalue = [34, 1]'),\n",
       " Text(0.1836734693877551, 0.08333333333333333, 'gini = 0.32\\nsamples = 3\\nvalue = [4, 1]'),\n",
       " Text(0.22448979591836735, 0.08333333333333333, 'gini = 0.0\\nsamples = 15\\nvalue = [30, 0]'),\n",
       " Text(0.2857142857142857, 0.25, 'SkinThickness <= 8.5\\ngini = 0.476\\nsamples = 72\\nvalue = [67, 43]'),\n",
       " Text(0.2653061224489796, 0.08333333333333333, 'gini = 0.5\\nsamples = 35\\nvalue = [24, 25]'),\n",
       " Text(0.30612244897959184, 0.08333333333333333, 'gini = 0.416\\nsamples = 37\\nvalue = [43, 18]'),\n",
       " Text(0.47959183673469385, 0.5833333333333334, 'Pregnancies <= 5.0\\ngini = 0.441\\nsamples = 44\\nvalue = [47, 23]'),\n",
       " Text(0.40816326530612246, 0.4166666666666667, 'Glucose <= 97.0\\ngini = 0.32\\nsamples = 36\\nvalue = [44, 11]'),\n",
       " Text(0.3673469387755102, 0.25, 'Glucose <= 92.0\\ngini = 0.48\\nsamples = 3\\nvalue = [2, 3]'),\n",
       " Text(0.3469387755102041, 0.08333333333333333, 'gini = 0.0\\nsamples = 1\\nvalue = [2, 0]'),\n",
       " Text(0.3877551020408163, 0.08333333333333333, 'gini = 0.0\\nsamples = 2\\nvalue = [0, 3]'),\n",
       " Text(0.4489795918367347, 0.25, 'BloodPressure <= 89.0\\ngini = 0.269\\nsamples = 33\\nvalue = [42, 8]'),\n",
       " Text(0.42857142857142855, 0.08333333333333333, 'gini = 0.219\\nsamples = 32\\nvalue = [42, 6]'),\n",
       " Text(0.46938775510204084, 0.08333333333333333, 'gini = 0.0\\nsamples = 1\\nvalue = [0, 2]'),\n",
       " Text(0.5510204081632653, 0.4166666666666667, 'SkinThickness <= 42.5\\ngini = 0.32\\nsamples = 8\\nvalue = [3, 12]'),\n",
       " Text(0.5306122448979592, 0.25, 'Insulin <= 199.5\\ngini = 0.245\\nsamples = 7\\nvalue = [2, 12]'),\n",
       " Text(0.5102040816326531, 0.08333333333333333, 'gini = 0.0\\nsamples = 3\\nvalue = [0, 9]'),\n",
       " Text(0.5510204081632653, 0.08333333333333333, 'gini = 0.48\\nsamples = 4\\nvalue = [2, 3]'),\n",
       " Text(0.5714285714285714, 0.25, 'gini = 0.0\\nsamples = 1\\nvalue = [1, 0]'),\n",
       " Text(0.7806122448979592, 0.75, 'BMI <= 29.95\\ngini = 0.407\\nsamples = 161\\nvalue = [68, 171]'),\n",
       " Text(0.673469387755102, 0.5833333333333334, 'Age <= 27.0\\ngini = 0.488\\nsamples = 37\\nvalue = [30, 22]'),\n",
       " Text(0.6326530612244898, 0.4166666666666667, 'Glucose <= 135.5\\ngini = 0.142\\nsamples = 11\\nvalue = [12, 1]'),\n",
       " Text(0.6122448979591837, 0.25, 'gini = 0.0\\nsamples = 1\\nvalue = [0, 1]'),\n",
       " Text(0.6530612244897959, 0.25, 'gini = 0.0\\nsamples = 10\\nvalue = [12, 0]'),\n",
       " Text(0.7142857142857143, 0.4166666666666667, 'BMI <= 29.6\\ngini = 0.497\\nsamples = 26\\nvalue = [18, 21]'),\n",
       " Text(0.6938775510204082, 0.25, 'Pregnancies <= 6.5\\ngini = 0.472\\nsamples = 23\\nvalue = [13, 21]'),\n",
       " Text(0.673469387755102, 0.08333333333333333, 'gini = 0.417\\nsamples = 17\\nvalue = [8, 19]'),\n",
       " Text(0.7142857142857143, 0.08333333333333333, 'gini = 0.408\\nsamples = 6\\nvalue = [5, 2]'),\n",
       " Text(0.7346938775510204, 0.25, 'gini = 0.0\\nsamples = 3\\nvalue = [5, 0]'),\n",
       " Text(0.8877551020408163, 0.5833333333333334, 'Age <= 37.5\\ngini = 0.324\\nsamples = 124\\nvalue = [38, 149]'),\n",
       " Text(0.8163265306122449, 0.4166666666666667, 'DiabetesPedigreeFunction <= 0.699\\ngini = 0.422\\nsamples = 72\\nvalue = [32, 74]'),\n",
       " Text(0.7755102040816326, 0.25, 'DiabetesPedigreeFunction <= 0.686\\ngini = 0.467\\nsamples = 53\\nvalue = [29, 49]'),\n",
       " Text(0.7551020408163265, 0.08333333333333333, 'gini = 0.428\\nsamples = 50\\nvalue = [22, 49]'),\n",
       " Text(0.7959183673469388, 0.08333333333333333, 'gini = 0.0\\nsamples = 3\\nvalue = [7, 0]'),\n",
       " Text(0.8571428571428571, 0.25, 'BloodPressure <= 83.0\\ngini = 0.191\\nsamples = 19\\nvalue = [3, 25]'),\n",
       " Text(0.8367346938775511, 0.08333333333333333, 'gini = 0.0\\nsamples = 16\\nvalue = [0, 24]'),\n",
       " Text(0.8775510204081632, 0.08333333333333333, 'gini = 0.375\\nsamples = 3\\nvalue = [3, 1]'),\n",
       " Text(0.9591836734693877, 0.4166666666666667, 'DiabetesPedigreeFunction <= 1.567\\ngini = 0.137\\nsamples = 52\\nvalue = [6, 75]'),\n",
       " Text(0.9387755102040817, 0.25, 'Age <= 39.5\\ngini = 0.117\\nsamples = 51\\nvalue = [5, 75]'),\n",
       " Text(0.9183673469387755, 0.08333333333333333, 'gini = 0.278\\nsamples = 5\\nvalue = [1, 5]'),\n",
       " Text(0.9591836734693877, 0.08333333333333333, 'gini = 0.102\\nsamples = 46\\nvalue = [4, 70]'),\n",
       " Text(0.9795918367346939, 0.25, 'gini = 0.0\\nsamples = 1\\nvalue = [1, 0]')]"
      ]
     },
     "execution_count": 22,
     "metadata": {},
     "output_type": "execute_result"
    },
    {
     "data": {
      "image/png": "[encoded data removed]",
      "text/plain": [
       "<Figure size 640x480 with 1 Axes>"
      ]
     },
     "metadata": {},
     "output_type": "display_data"
    }
   ],
   "source": [
    "plot_tree(rf.estimators_[0], feature_names=list(X.columns))"
   ]
  },
  {
   "cell_type": "markdown",
   "id": "18c66ad3-ca0f-4742-aa42-4c103b3c3803",
   "metadata": {},
   "source": [
    "There are modules like dtreeviz that allows you to visualize decision trees. "
   ]
  },
  {
   "cell_type": "markdown",
   "id": "410016f6-e063-43c4-9d6e-f2dcd9313745",
   "metadata": {},
   "source": [
    "## F1 score formula:\n",
    "\n",
    "F1= (2×precision×recall)/ (precision+recall)\n",
    "\n",
    "\n"
   ]
  }
 ],
 "metadata": {
  "kernelspec": {
   "display_name": "Python 3 (ipykernel)",
   "language": "python",
   "name": "python3"
  },
  "language_info": {
   "codemirror_mode": {
    "name": "ipython",
    "version": 3
   },
   "file_extension": ".py",
   "mimetype": "text/x-python",
   "name": "python",
   "nbconvert_exporter": "python",
   "pygments_lexer": "ipython3",
   "version": "3.9.16"
  }
 },
 "nbformat": 4,
 "nbformat_minor": 5
}
