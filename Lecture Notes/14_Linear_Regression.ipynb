{
 "cells": [
  {
   "cell_type": "markdown",
   "id": "03674ffc-bad6-474b-907e-096770424f3b",
   "metadata": {},
   "source": [
    "# Linear Regression\n",
    "\n",
    "* R = Pearson correlation\n",
    "* R-squared (R2)"
   ]
  },
  {
   "cell_type": "markdown",
   "id": "08f5f7f5-d72a-4e6b-94f9-fb2a33761451",
   "metadata": {},
   "source": [
    "### Pearson Correlation Coefficient \n",
    "\n",
    "This is a measure of the linear correlation between two variables \\(X\\) and \\(Y\\), providing information about the strength and direction of their linear relationship. The value of \\(r\\) ranges from -1 to 1, where:\n",
    "   - 1 indicates a perfect positive linear relationship,\n",
    "   - -1 indicates a perfect negative linear relationship, and\n",
    "   - 0 indicates no linear relationship.\n",
    "   \n",
    "R is calculated as the covariance of the two variables divided by the product of their standard deviations. It gives the degree to which two variables are linearly related, without providing information about the slope of the line or its intercept.\n"
   ]
  },
  {
   "cell_type": "markdown",
   "id": "3e33c34b-af2c-47cb-a535-45ad6def919a",
   "metadata": {},
   "source": [
    "<img src=\"pearson1.png\" width=\"30%\">\n",
    "<img src=\"pearson2.png\" width=\"30%\">"
   ]
  },
  {
   "cell_type": "code",
   "execution_count": 1,
   "id": "0f1f47c4-cb0d-402f-985f-eae03db4dfa1",
   "metadata": {},
   "outputs": [],
   "source": [
    "import warnings\n",
    "warnings.filterwarnings('ignore')"
   ]
  },
  {
   "cell_type": "code",
   "execution_count": 2,
   "id": "23822e55-e3a5-4e82-b3d7-be519f972d80",
   "metadata": {},
   "outputs": [
    {
     "data": {
      "text/plain": [
       "PearsonRResult(statistic=0.9628654314027962, pvalue=4.675003907326548e-86)"
      ]
     },
     "execution_count": 2,
     "metadata": {},
     "output_type": "execute_result"
    }
   ],
   "source": [
    "import pandas\n",
    "from scipy.stats import pearsonr\n",
    "\n",
    "iris = pandas.read_csv('../Datasets/iris.csv')\n",
    "abalone = pandas.read_csv('../Datasets/abalone.csv')\n",
    "\n",
    "pearsonr(iris['PetalWidth'], iris['PetalLength'])"
   ]
  },
  {
   "cell_type": "code",
   "execution_count": 3,
   "id": "c9f21225-0c30-420a-befe-97a647ffcfdb",
   "metadata": {},
   "outputs": [
    {
     "data": {
      "text/html": [
       "<div>\n",
       "<style scoped>\n",
       "    .dataframe tbody tr th:only-of-type {\n",
       "        vertical-align: middle;\n",
       "    }\n",
       "\n",
       "    .dataframe tbody tr th {\n",
       "        vertical-align: top;\n",
       "    }\n",
       "\n",
       "    .dataframe thead th {\n",
       "        text-align: right;\n",
       "    }\n",
       "</style>\n",
       "<table border=\"1\" class=\"dataframe\">\n",
       "  <thead>\n",
       "    <tr style=\"text-align: right;\">\n",
       "      <th></th>\n",
       "      <th>SepalLength</th>\n",
       "      <th>SepalWidth</th>\n",
       "      <th>PetalLength</th>\n",
       "      <th>PetalWidth</th>\n",
       "    </tr>\n",
       "  </thead>\n",
       "  <tbody>\n",
       "    <tr>\n",
       "      <th>SepalLength</th>\n",
       "      <td>1.00</td>\n",
       "      <td>-0.12</td>\n",
       "      <td>0.87</td>\n",
       "      <td>0.82</td>\n",
       "    </tr>\n",
       "    <tr>\n",
       "      <th>SepalWidth</th>\n",
       "      <td>-0.12</td>\n",
       "      <td>1.00</td>\n",
       "      <td>-0.43</td>\n",
       "      <td>-0.37</td>\n",
       "    </tr>\n",
       "    <tr>\n",
       "      <th>PetalLength</th>\n",
       "      <td>0.87</td>\n",
       "      <td>-0.43</td>\n",
       "      <td>1.00</td>\n",
       "      <td>0.96</td>\n",
       "    </tr>\n",
       "    <tr>\n",
       "      <th>PetalWidth</th>\n",
       "      <td>0.82</td>\n",
       "      <td>-0.37</td>\n",
       "      <td>0.96</td>\n",
       "      <td>1.00</td>\n",
       "    </tr>\n",
       "  </tbody>\n",
       "</table>\n",
       "</div>"
      ],
      "text/plain": [
       "             SepalLength  SepalWidth  PetalLength  PetalWidth\n",
       "SepalLength         1.00       -0.12         0.87        0.82\n",
       "SepalWidth         -0.12        1.00        -0.43       -0.37\n",
       "PetalLength         0.87       -0.43         1.00        0.96\n",
       "PetalWidth          0.82       -0.37         0.96        1.00"
      ]
     },
     "execution_count": 3,
     "metadata": {},
     "output_type": "execute_result"
    }
   ],
   "source": [
    "iris.drop(columns=['Species']).corr().round(2)"
   ]
  },
  {
   "cell_type": "markdown",
   "id": "35d4e52f-2752-478e-b179-1dcd31016c10",
   "metadata": {},
   "source": [
    "---\n",
    "\n",
    "### Coefficient of Determination $(R^2)$\n",
    "\n",
    "This measures the proportion of the variance in the dependent variable that is predictable from the independent variable(s) in a regression model. It is a key output of regression analysis. $R^2$ ranges from 0 to 1, where:\n",
    "   - 0 indicates that the model explains none of the variability of the response data around its mean, and\n",
    "   - 1 indicates that the model explains all the variability of the response data around its mean.\n",
    "   \n",
    "$R^2$ provides information about the goodness of fit of a model. \n",
    "\n",
    "In simple linear regression, $R^2$ is the square of the Pearson correlation coefficient, indicating how much of the variance in the dependent variable is explained by the model. \n"
   ]
  },
  {
   "cell_type": "markdown",
   "id": "5b2550d1-f805-4d2c-b2f6-6c1eedd26467",
   "metadata": {},
   "source": [
    "### Pearson coefficient vs $R^2$\n",
    "\n",
    "- **Purpose**: The Pearson correlation coefficient measures the strength and direction of a linear relationship between two variables, while $R^2$ measures how well a regression model fits the data.\n",
    "- **Interpretation**: Pearson correlation coefficient reflects correlation without implying causation, and its square  can be interpreted as the proportion of variance shared by the two variables. $R^2$, however, indicates the proportion of the variance in the dependent variable that is predictable from the independent variable(s).\n",
    "\n",
    "Understanding the distinctions between these two measures is crucial for accurately interpreting the relationship between variables and the performance of regression models."
   ]
  },
  {
   "cell_type": "markdown",
   "id": "e5f1cfb5-0218-4bf9-8b51-dba64054c485",
   "metadata": {},
   "source": [
    "### Examples"
   ]
  },
  {
   "cell_type": "code",
   "execution_count": 4,
   "id": "b72b371e-d3ba-4701-984a-59ab98180abe",
   "metadata": {},
   "outputs": [],
   "source": [
    "from sklearn.linear_model import LinearRegression\n",
    "from sklearn.preprocessing import StandardScaler\n",
    "from sklearn.metrics import r2_score\n"
   ]
  },
  {
   "cell_type": "markdown",
   "id": "1b7312b7-156e-4238-9247-71e1dc272163",
   "metadata": {},
   "source": [
    "Here, we create a linear model, which learns y from X. (line 4)"
   ]
  },
  {
   "cell_type": "code",
   "execution_count": 5,
   "id": "992b7af7-ee03-4b35-bed0-d2be3f359411",
   "metadata": {},
   "outputs": [
    {
     "data": {
      "text/html": [
       "<style>#sk-container-id-1 {color: black;}#sk-container-id-1 pre{padding: 0;}#sk-container-id-1 div.sk-toggleable {background-color: white;}#sk-container-id-1 label.sk-toggleable__label {cursor: pointer;display: block;width: 100%;margin-bottom: 0;padding: 0.3em;box-sizing: border-box;text-align: center;}#sk-container-id-1 label.sk-toggleable__label-arrow:before {content: \"▸\";float: left;margin-right: 0.25em;color: #696969;}#sk-container-id-1 label.sk-toggleable__label-arrow:hover:before {color: black;}#sk-container-id-1 div.sk-estimator:hover label.sk-toggleable__label-arrow:before {color: black;}#sk-container-id-1 div.sk-toggleable__content {max-height: 0;max-width: 0;overflow: hidden;text-align: left;background-color: #f0f8ff;}#sk-container-id-1 div.sk-toggleable__content pre {margin: 0.2em;color: black;border-radius: 0.25em;background-color: #f0f8ff;}#sk-container-id-1 input.sk-toggleable__control:checked~div.sk-toggleable__content {max-height: 200px;max-width: 100%;overflow: auto;}#sk-container-id-1 input.sk-toggleable__control:checked~label.sk-toggleable__label-arrow:before {content: \"▾\";}#sk-container-id-1 div.sk-estimator input.sk-toggleable__control:checked~label.sk-toggleable__label {background-color: #d4ebff;}#sk-container-id-1 div.sk-label input.sk-toggleable__control:checked~label.sk-toggleable__label {background-color: #d4ebff;}#sk-container-id-1 input.sk-hidden--visually {border: 0;clip: rect(1px 1px 1px 1px);clip: rect(1px, 1px, 1px, 1px);height: 1px;margin: -1px;overflow: hidden;padding: 0;position: absolute;width: 1px;}#sk-container-id-1 div.sk-estimator {font-family: monospace;background-color: #f0f8ff;border: 1px dotted black;border-radius: 0.25em;box-sizing: border-box;margin-bottom: 0.5em;}#sk-container-id-1 div.sk-estimator:hover {background-color: #d4ebff;}#sk-container-id-1 div.sk-parallel-item::after {content: \"\";width: 100%;border-bottom: 1px solid gray;flex-grow: 1;}#sk-container-id-1 div.sk-label:hover label.sk-toggleable__label {background-color: #d4ebff;}#sk-container-id-1 div.sk-serial::before {content: \"\";position: absolute;border-left: 1px solid gray;box-sizing: border-box;top: 0;bottom: 0;left: 50%;z-index: 0;}#sk-container-id-1 div.sk-serial {display: flex;flex-direction: column;align-items: center;background-color: white;padding-right: 0.2em;padding-left: 0.2em;position: relative;}#sk-container-id-1 div.sk-item {position: relative;z-index: 1;}#sk-container-id-1 div.sk-parallel {display: flex;align-items: stretch;justify-content: center;background-color: white;position: relative;}#sk-container-id-1 div.sk-item::before, #sk-container-id-1 div.sk-parallel-item::before {content: \"\";position: absolute;border-left: 1px solid gray;box-sizing: border-box;top: 0;bottom: 0;left: 50%;z-index: -1;}#sk-container-id-1 div.sk-parallel-item {display: flex;flex-direction: column;z-index: 1;position: relative;background-color: white;}#sk-container-id-1 div.sk-parallel-item:first-child::after {align-self: flex-end;width: 50%;}#sk-container-id-1 div.sk-parallel-item:last-child::after {align-self: flex-start;width: 50%;}#sk-container-id-1 div.sk-parallel-item:only-child::after {width: 0;}#sk-container-id-1 div.sk-dashed-wrapped {border: 1px dashed gray;margin: 0 0.4em 0.5em 0.4em;box-sizing: border-box;padding-bottom: 0.4em;background-color: white;}#sk-container-id-1 div.sk-label label {font-family: monospace;font-weight: bold;display: inline-block;line-height: 1.2em;}#sk-container-id-1 div.sk-label-container {text-align: center;}#sk-container-id-1 div.sk-container {/* jupyter's `normalize.less` sets `[hidden] { display: none; }` but bootstrap.min.css set `[hidden] { display: none !important; }` so we also need the `!important` here to be able to override the default hidden behavior on the sphinx rendered scikit-learn.org. See: https://github.com/scikit-learn/scikit-learn/issues/21755 */display: inline-block !important;position: relative;}#sk-container-id-1 div.sk-text-repr-fallback {display: none;}</style><div id=\"sk-container-id-1\" class=\"sk-top-container\"><div class=\"sk-text-repr-fallback\"><pre>LinearRegression()</pre><b>In a Jupyter environment, please rerun this cell to show the HTML representation or trust the notebook. <br />On GitHub, the HTML representation is unable to render, please try loading this page with nbviewer.org.</b></div><div class=\"sk-container\" hidden><div class=\"sk-item\"><div class=\"sk-estimator sk-toggleable\"><input class=\"sk-toggleable__control sk-hidden--visually\" id=\"sk-estimator-id-1\" type=\"checkbox\" checked><label for=\"sk-estimator-id-1\" class=\"sk-toggleable__label sk-toggleable__label-arrow\">LinearRegression</label><div class=\"sk-toggleable__content\"><pre>LinearRegression()</pre></div></div></div></div></div>"
      ],
      "text/plain": [
       "LinearRegression()"
      ]
     },
     "execution_count": 5,
     "metadata": {},
     "output_type": "execute_result"
    }
   ],
   "source": [
    "X = iris[['PetalLength']]\n",
    "y = iris['PetalWidth']\n",
    "model = LinearRegression()\n",
    "model.fit(X,y)\n"
   ]
  },
  {
   "cell_type": "markdown",
   "id": "f06cba3d-619b-480b-b402-356ede28061e",
   "metadata": {},
   "source": [
    "y is a linear function of X.\n",
    "```python\n",
    "y = X*coef + intercept\n",
    "```"
   ]
  },
  {
   "cell_type": "code",
   "execution_count": 6,
   "id": "554b33e6-a4c1-49ef-9850-965d650b8954",
   "metadata": {},
   "outputs": [
    {
     "data": {
      "text/plain": [
       "array([1.17521952])"
      ]
     },
     "execution_count": 6,
     "metadata": {},
     "output_type": "execute_result"
    }
   ],
   "source": [
    "model.coef_*3.7 + model.intercept_"
   ]
  },
  {
   "cell_type": "code",
   "execution_count": 7,
   "id": "f96d20c0-d143-453e-b03f-ef4df7b0c1fe",
   "metadata": {},
   "outputs": [
    {
     "data": {
      "text/plain": [
       "array([1.09206844, 1.17521952])"
      ]
     },
     "execution_count": 7,
     "metadata": {},
     "output_type": "execute_result"
    }
   ],
   "source": [
    "some_data = [\n",
    "    [3.5],\n",
    "    [3.7],\n",
    "]\n",
    "model.predict(some_data)"
   ]
  },
  {
   "cell_type": "code",
   "execution_count": 8,
   "id": "ddf76e19-9705-4d53-9658-378317e21803",
   "metadata": {},
   "outputs": [
    {
     "name": "stdout",
     "output_type": "stream",
     "text": [
      "R^2:  0.9271098389904927\n"
     ]
    }
   ],
   "source": [
    "print('R^2: ',model.score(X,y))"
   ]
  },
  {
   "cell_type": "code",
   "execution_count": 9,
   "id": "50004769-0c9d-4b70-8609-960b0c0c4d7c",
   "metadata": {},
   "outputs": [
    {
     "name": "stdout",
     "output_type": "stream",
     "text": [
      "0.9628654314027962 0.9271098389904929 4.675003907326548e-86\n"
     ]
    }
   ],
   "source": [
    "r, pvalue = pearsonr(X['PetalLength'],y)\n",
    "print(r, r*r, pvalue)"
   ]
  },
  {
   "cell_type": "markdown",
   "id": "15f15796-add5-4023-951d-ef786fddb3f5",
   "metadata": {},
   "source": [
    "### Understanding R-squared\n",
    "\n",
    "R-squared can be viewed as how good the model is compared to a baseline model.\n"
   ]
  },
  {
   "cell_type": "markdown",
   "id": "b6240e2d-48e1-43c1-8dac-f18e4efb4e1d",
   "metadata": {
    "tags": []
   },
   "source": [
    "##### How R2 is calculated\n",
    "\n",
    "$R^2 = 1 - {\\sum_i (y_i-f_i)^2 \\over \\sum_i (y_i - \\mu_y)^2}$\n",
    "$= {\\sum_i (y_i - \\mu_y)^2 - \\sum_i (y_i-f_i)^2 \\over \\sum_i (y_i - \\mu_y)^2}$\n",
    "\n",
    "\n",
    "$f_i = f(X_i)$ is the predicted value of $y_i$.\n"
   ]
  },
  {
   "cell_type": "markdown",
   "id": "45e4b48a-7b3d-46a4-8cba-18e305e84984",
   "metadata": {},
   "source": [
    "#### Concept of a baseline model\n",
    "\n",
    "Here's a baseline model: always predict average value of `y`.\n",
    "\n"
   ]
  },
  {
   "cell_type": "code",
   "execution_count": null,
   "id": "4ab69f76-bc6e-4b8d-aec4-680913f9eb29",
   "metadata": {},
   "outputs": [],
   "source": []
  },
  {
   "cell_type": "markdown",
   "id": "af9f1084-8853-4f73-b9d0-e12d3412b6fe",
   "metadata": {},
   "source": [
    "### Multi-variable Regression"
   ]
  },
  {
   "cell_type": "code",
   "execution_count": 10,
   "id": "bea3b193-0cb1-42b7-863d-e93bd87f5b0f",
   "metadata": {},
   "outputs": [
    {
     "name": "stdout",
     "output_type": "stream",
     "text": [
      "[ 0.54177715 -0.31955056] 4.190582428651588\n"
     ]
    }
   ],
   "source": [
    "import pandas\n",
    "from sklearn.linear_model import LinearRegression\n",
    "\n",
    "iris = pandas.read_csv('../Datasets/iris.csv')\n",
    "X = iris[['PetalLength','PetalWidth']]\n",
    "y = iris['SepalLength']\n",
    "model = LinearRegression()\n",
    "model.fit(X,y)\n",
    "print(model.coef_, model.intercept_)"
   ]
  },
  {
   "cell_type": "code",
   "execution_count": 11,
   "id": "cc6db2c7-c1dd-4614-81da-9c91631f6d0d",
   "metadata": {},
   "outputs": [
    {
     "data": {
      "text/plain": [
       "array([5.3962815])"
      ]
     },
     "execution_count": 11,
     "metadata": {},
     "output_type": "execute_result"
    }
   ],
   "source": [
    "model.predict([\n",
    "    (3.7,2.5)\n",
    "])"
   ]
  },
  {
   "cell_type": "markdown",
   "id": "6d19689b-663f-4b6d-a743-2d8629d24556",
   "metadata": {},
   "source": [
    "### Exercises"
   ]
  },
  {
   "cell_type": "code",
   "execution_count": 12,
   "id": "ec96d5f4-4bc6-4695-9898-21e0d6dc6f1d",
   "metadata": {},
   "outputs": [
    {
     "data": {
      "text/html": [
       "<div>\n",
       "<style scoped>\n",
       "    .dataframe tbody tr th:only-of-type {\n",
       "        vertical-align: middle;\n",
       "    }\n",
       "\n",
       "    .dataframe tbody tr th {\n",
       "        vertical-align: top;\n",
       "    }\n",
       "\n",
       "    .dataframe thead th {\n",
       "        text-align: right;\n",
       "    }\n",
       "</style>\n",
       "<table border=\"1\" class=\"dataframe\">\n",
       "  <thead>\n",
       "    <tr style=\"text-align: right;\">\n",
       "      <th></th>\n",
       "      <th>Sex</th>\n",
       "      <th>Length</th>\n",
       "      <th>Diameter</th>\n",
       "      <th>Height</th>\n",
       "      <th>Whole weight</th>\n",
       "      <th>Shucked weight</th>\n",
       "      <th>Viscera weight</th>\n",
       "      <th>Shell weight</th>\n",
       "      <th>Rings</th>\n",
       "    </tr>\n",
       "  </thead>\n",
       "  <tbody>\n",
       "    <tr>\n",
       "      <th>1013</th>\n",
       "      <td>F</td>\n",
       "      <td>0.625</td>\n",
       "      <td>0.475</td>\n",
       "      <td>0.175</td>\n",
       "      <td>1.1435</td>\n",
       "      <td>0.4755</td>\n",
       "      <td>0.2475</td>\n",
       "      <td>0.349</td>\n",
       "      <td>10</td>\n",
       "    </tr>\n",
       "    <tr>\n",
       "      <th>2301</th>\n",
       "      <td>F</td>\n",
       "      <td>0.520</td>\n",
       "      <td>0.425</td>\n",
       "      <td>0.150</td>\n",
       "      <td>0.8130</td>\n",
       "      <td>0.3850</td>\n",
       "      <td>0.2015</td>\n",
       "      <td>0.230</td>\n",
       "      <td>10</td>\n",
       "    </tr>\n",
       "    <tr>\n",
       "      <th>2562</th>\n",
       "      <td>I</td>\n",
       "      <td>0.440</td>\n",
       "      <td>0.325</td>\n",
       "      <td>0.100</td>\n",
       "      <td>0.4165</td>\n",
       "      <td>0.1850</td>\n",
       "      <td>0.0865</td>\n",
       "      <td>0.110</td>\n",
       "      <td>6</td>\n",
       "    </tr>\n",
       "  </tbody>\n",
       "</table>\n",
       "</div>"
      ],
      "text/plain": [
       "     Sex  Length  Diameter  Height  Whole weight  Shucked weight  \\\n",
       "1013   F   0.625     0.475   0.175        1.1435          0.4755   \n",
       "2301   F   0.520     0.425   0.150        0.8130          0.3850   \n",
       "2562   I   0.440     0.325   0.100        0.4165          0.1850   \n",
       "\n",
       "      Viscera weight  Shell weight  Rings  \n",
       "1013          0.2475         0.349     10  \n",
       "2301          0.2015         0.230     10  \n",
       "2562          0.0865         0.110      6  "
      ]
     },
     "execution_count": 12,
     "metadata": {},
     "output_type": "execute_result"
    }
   ],
   "source": [
    "abalone = pandas.read_csv('../Datasets/abalone.csv')\n",
    "abalone.sample(3)"
   ]
  },
  {
   "cell_type": "code",
   "execution_count": 13,
   "id": "1ef82154-aef2-4567-84a9-fc6567fb4450",
   "metadata": {},
   "outputs": [
    {
     "data": {
      "text/html": [
       "<style>#sk-container-id-2 {color: black;}#sk-container-id-2 pre{padding: 0;}#sk-container-id-2 div.sk-toggleable {background-color: white;}#sk-container-id-2 label.sk-toggleable__label {cursor: pointer;display: block;width: 100%;margin-bottom: 0;padding: 0.3em;box-sizing: border-box;text-align: center;}#sk-container-id-2 label.sk-toggleable__label-arrow:before {content: \"▸\";float: left;margin-right: 0.25em;color: #696969;}#sk-container-id-2 label.sk-toggleable__label-arrow:hover:before {color: black;}#sk-container-id-2 div.sk-estimator:hover label.sk-toggleable__label-arrow:before {color: black;}#sk-container-id-2 div.sk-toggleable__content {max-height: 0;max-width: 0;overflow: hidden;text-align: left;background-color: #f0f8ff;}#sk-container-id-2 div.sk-toggleable__content pre {margin: 0.2em;color: black;border-radius: 0.25em;background-color: #f0f8ff;}#sk-container-id-2 input.sk-toggleable__control:checked~div.sk-toggleable__content {max-height: 200px;max-width: 100%;overflow: auto;}#sk-container-id-2 input.sk-toggleable__control:checked~label.sk-toggleable__label-arrow:before {content: \"▾\";}#sk-container-id-2 div.sk-estimator input.sk-toggleable__control:checked~label.sk-toggleable__label {background-color: #d4ebff;}#sk-container-id-2 div.sk-label input.sk-toggleable__control:checked~label.sk-toggleable__label {background-color: #d4ebff;}#sk-container-id-2 input.sk-hidden--visually {border: 0;clip: rect(1px 1px 1px 1px);clip: rect(1px, 1px, 1px, 1px);height: 1px;margin: -1px;overflow: hidden;padding: 0;position: absolute;width: 1px;}#sk-container-id-2 div.sk-estimator {font-family: monospace;background-color: #f0f8ff;border: 1px dotted black;border-radius: 0.25em;box-sizing: border-box;margin-bottom: 0.5em;}#sk-container-id-2 div.sk-estimator:hover {background-color: #d4ebff;}#sk-container-id-2 div.sk-parallel-item::after {content: \"\";width: 100%;border-bottom: 1px solid gray;flex-grow: 1;}#sk-container-id-2 div.sk-label:hover label.sk-toggleable__label {background-color: #d4ebff;}#sk-container-id-2 div.sk-serial::before {content: \"\";position: absolute;border-left: 1px solid gray;box-sizing: border-box;top: 0;bottom: 0;left: 50%;z-index: 0;}#sk-container-id-2 div.sk-serial {display: flex;flex-direction: column;align-items: center;background-color: white;padding-right: 0.2em;padding-left: 0.2em;position: relative;}#sk-container-id-2 div.sk-item {position: relative;z-index: 1;}#sk-container-id-2 div.sk-parallel {display: flex;align-items: stretch;justify-content: center;background-color: white;position: relative;}#sk-container-id-2 div.sk-item::before, #sk-container-id-2 div.sk-parallel-item::before {content: \"\";position: absolute;border-left: 1px solid gray;box-sizing: border-box;top: 0;bottom: 0;left: 50%;z-index: -1;}#sk-container-id-2 div.sk-parallel-item {display: flex;flex-direction: column;z-index: 1;position: relative;background-color: white;}#sk-container-id-2 div.sk-parallel-item:first-child::after {align-self: flex-end;width: 50%;}#sk-container-id-2 div.sk-parallel-item:last-child::after {align-self: flex-start;width: 50%;}#sk-container-id-2 div.sk-parallel-item:only-child::after {width: 0;}#sk-container-id-2 div.sk-dashed-wrapped {border: 1px dashed gray;margin: 0 0.4em 0.5em 0.4em;box-sizing: border-box;padding-bottom: 0.4em;background-color: white;}#sk-container-id-2 div.sk-label label {font-family: monospace;font-weight: bold;display: inline-block;line-height: 1.2em;}#sk-container-id-2 div.sk-label-container {text-align: center;}#sk-container-id-2 div.sk-container {/* jupyter's `normalize.less` sets `[hidden] { display: none; }` but bootstrap.min.css set `[hidden] { display: none !important; }` so we also need the `!important` here to be able to override the default hidden behavior on the sphinx rendered scikit-learn.org. See: https://github.com/scikit-learn/scikit-learn/issues/21755 */display: inline-block !important;position: relative;}#sk-container-id-2 div.sk-text-repr-fallback {display: none;}</style><div id=\"sk-container-id-2\" class=\"sk-top-container\"><div class=\"sk-text-repr-fallback\"><pre>LinearRegression()</pre><b>In a Jupyter environment, please rerun this cell to show the HTML representation or trust the notebook. <br />On GitHub, the HTML representation is unable to render, please try loading this page with nbviewer.org.</b></div><div class=\"sk-container\" hidden><div class=\"sk-item\"><div class=\"sk-estimator sk-toggleable\"><input class=\"sk-toggleable__control sk-hidden--visually\" id=\"sk-estimator-id-2\" type=\"checkbox\" checked><label for=\"sk-estimator-id-2\" class=\"sk-toggleable__label sk-toggleable__label-arrow\">LinearRegression</label><div class=\"sk-toggleable__content\"><pre>LinearRegression()</pre></div></div></div></div></div>"
      ],
      "text/plain": [
       "LinearRegression()"
      ]
     },
     "execution_count": 13,
     "metadata": {},
     "output_type": "execute_result"
    }
   ],
   "source": [
    "#PID:15\n",
    "#\n",
    "# Exercise: use a linear regression to model Rings using Length, and Whole weight \n",
    "#\n",
    "\n",
    "import pandas\n",
    "from sklearn.linear_model import LinearRegression\n",
    "\n",
    "abalone = pandas.read_csv('../Datasets/abalone.csv')\n",
    "X = abalone[['Length','Whole weight']]\n",
    "y = abalone['Rings']\n",
    "model = LinearRegression()\n",
    "model.fit(X,y)"
   ]
  },
  {
   "cell_type": "code",
   "execution_count": null,
   "id": "7bc9ed36-6136-45ad-b568-dbdc0968c981",
   "metadata": {},
   "outputs": [],
   "source": []
  },
  {
   "cell_type": "code",
   "execution_count": null,
   "id": "1d4850f2-9607-461c-b007-dd6bb2b71893",
   "metadata": {},
   "outputs": [],
   "source": []
  },
  {
   "cell_type": "code",
   "execution_count": 14,
   "id": "696bc4b3-1354-47b6-a20b-3e691d9b9e12",
   "metadata": {},
   "outputs": [
    {
     "data": {
      "text/html": [
       "<style>#sk-container-id-3 {color: black;}#sk-container-id-3 pre{padding: 0;}#sk-container-id-3 div.sk-toggleable {background-color: white;}#sk-container-id-3 label.sk-toggleable__label {cursor: pointer;display: block;width: 100%;margin-bottom: 0;padding: 0.3em;box-sizing: border-box;text-align: center;}#sk-container-id-3 label.sk-toggleable__label-arrow:before {content: \"▸\";float: left;margin-right: 0.25em;color: #696969;}#sk-container-id-3 label.sk-toggleable__label-arrow:hover:before {color: black;}#sk-container-id-3 div.sk-estimator:hover label.sk-toggleable__label-arrow:before {color: black;}#sk-container-id-3 div.sk-toggleable__content {max-height: 0;max-width: 0;overflow: hidden;text-align: left;background-color: #f0f8ff;}#sk-container-id-3 div.sk-toggleable__content pre {margin: 0.2em;color: black;border-radius: 0.25em;background-color: #f0f8ff;}#sk-container-id-3 input.sk-toggleable__control:checked~div.sk-toggleable__content {max-height: 200px;max-width: 100%;overflow: auto;}#sk-container-id-3 input.sk-toggleable__control:checked~label.sk-toggleable__label-arrow:before {content: \"▾\";}#sk-container-id-3 div.sk-estimator input.sk-toggleable__control:checked~label.sk-toggleable__label {background-color: #d4ebff;}#sk-container-id-3 div.sk-label input.sk-toggleable__control:checked~label.sk-toggleable__label {background-color: #d4ebff;}#sk-container-id-3 input.sk-hidden--visually {border: 0;clip: rect(1px 1px 1px 1px);clip: rect(1px, 1px, 1px, 1px);height: 1px;margin: -1px;overflow: hidden;padding: 0;position: absolute;width: 1px;}#sk-container-id-3 div.sk-estimator {font-family: monospace;background-color: #f0f8ff;border: 1px dotted black;border-radius: 0.25em;box-sizing: border-box;margin-bottom: 0.5em;}#sk-container-id-3 div.sk-estimator:hover {background-color: #d4ebff;}#sk-container-id-3 div.sk-parallel-item::after {content: \"\";width: 100%;border-bottom: 1px solid gray;flex-grow: 1;}#sk-container-id-3 div.sk-label:hover label.sk-toggleable__label {background-color: #d4ebff;}#sk-container-id-3 div.sk-serial::before {content: \"\";position: absolute;border-left: 1px solid gray;box-sizing: border-box;top: 0;bottom: 0;left: 50%;z-index: 0;}#sk-container-id-3 div.sk-serial {display: flex;flex-direction: column;align-items: center;background-color: white;padding-right: 0.2em;padding-left: 0.2em;position: relative;}#sk-container-id-3 div.sk-item {position: relative;z-index: 1;}#sk-container-id-3 div.sk-parallel {display: flex;align-items: stretch;justify-content: center;background-color: white;position: relative;}#sk-container-id-3 div.sk-item::before, #sk-container-id-3 div.sk-parallel-item::before {content: \"\";position: absolute;border-left: 1px solid gray;box-sizing: border-box;top: 0;bottom: 0;left: 50%;z-index: -1;}#sk-container-id-3 div.sk-parallel-item {display: flex;flex-direction: column;z-index: 1;position: relative;background-color: white;}#sk-container-id-3 div.sk-parallel-item:first-child::after {align-self: flex-end;width: 50%;}#sk-container-id-3 div.sk-parallel-item:last-child::after {align-self: flex-start;width: 50%;}#sk-container-id-3 div.sk-parallel-item:only-child::after {width: 0;}#sk-container-id-3 div.sk-dashed-wrapped {border: 1px dashed gray;margin: 0 0.4em 0.5em 0.4em;box-sizing: border-box;padding-bottom: 0.4em;background-color: white;}#sk-container-id-3 div.sk-label label {font-family: monospace;font-weight: bold;display: inline-block;line-height: 1.2em;}#sk-container-id-3 div.sk-label-container {text-align: center;}#sk-container-id-3 div.sk-container {/* jupyter's `normalize.less` sets `[hidden] { display: none; }` but bootstrap.min.css set `[hidden] { display: none !important; }` so we also need the `!important` here to be able to override the default hidden behavior on the sphinx rendered scikit-learn.org. See: https://github.com/scikit-learn/scikit-learn/issues/21755 */display: inline-block !important;position: relative;}#sk-container-id-3 div.sk-text-repr-fallback {display: none;}</style><div id=\"sk-container-id-3\" class=\"sk-top-container\"><div class=\"sk-text-repr-fallback\"><pre>LinearRegression()</pre><b>In a Jupyter environment, please rerun this cell to show the HTML representation or trust the notebook. <br />On GitHub, the HTML representation is unable to render, please try loading this page with nbviewer.org.</b></div><div class=\"sk-container\" hidden><div class=\"sk-item\"><div class=\"sk-estimator sk-toggleable\"><input class=\"sk-toggleable__control sk-hidden--visually\" id=\"sk-estimator-id-3\" type=\"checkbox\" checked><label for=\"sk-estimator-id-3\" class=\"sk-toggleable__label sk-toggleable__label-arrow\">LinearRegression</label><div class=\"sk-toggleable__content\"><pre>LinearRegression()</pre></div></div></div></div></div>"
      ],
      "text/plain": [
       "LinearRegression()"
      ]
     },
     "execution_count": 14,
     "metadata": {},
     "output_type": "execute_result"
    }
   ],
   "source": [
    "#PID:16\n",
    "#\n",
    "# Exercise: use a linear regression to model Rings using Sex, Length, and Whole weight \n",
    "#\n",
    "\n",
    "import pandas\n",
    "from sklearn.linear_model import LinearRegression\n",
    "\n",
    "abalone = pandas.read_csv('../Datasets/abalone.csv')\n",
    "X = abalone[['Sex','Length','Whole weight']]\n",
    "X = pandas.get_dummies(X)\n",
    "y = abalone['Rings']\n",
    "model = LinearRegression()\n",
    "model.fit(X,y)\n"
   ]
  },
  {
   "cell_type": "code",
   "execution_count": null,
   "id": "a3782907-3c9a-4b01-add1-f7b60e93d3eb",
   "metadata": {},
   "outputs": [],
   "source": []
  },
  {
   "cell_type": "code",
   "execution_count": null,
   "id": "4018627b-c484-4de4-8f0f-7c2fc64ecb73",
   "metadata": {},
   "outputs": [],
   "source": []
  },
  {
   "cell_type": "code",
   "execution_count": 15,
   "id": "a0c0852e-a400-4d50-b087-fe9355f71c4d",
   "metadata": {},
   "outputs": [
    {
     "data": {
      "text/plain": [
       "Sex                  M\n",
       "Length           0.545\n",
       "Whole weight    0.8395\n",
       "Name: 2024, dtype: object"
      ]
     },
     "execution_count": 15,
     "metadata": {},
     "output_type": "execute_result"
    }
   ],
   "source": [
    "abalone.iloc[2024][['Sex','Length','Whole weight']]"
   ]
  },
  {
   "cell_type": "code",
   "execution_count": 16,
   "id": "2808a9fb-6901-4bc4-a86d-0d86e7d80f78",
   "metadata": {},
   "outputs": [
    {
     "data": {
      "text/plain": [
       "array([10.96875])"
      ]
     },
     "execution_count": 16,
     "metadata": {},
     "output_type": "execute_result"
    }
   ],
   "source": [
    "#PID:17\n",
    "#\n",
    "# Exercise: use a linear regression to model Rings using Sex, Length, and Whole weight \n",
    "# and predict the number of rings of a male abalone with length 0.6 and weight 0.75.\n",
    "#\n",
    "\n",
    "import pandas\n",
    "from sklearn.linear_model import LinearRegression\n",
    "\n",
    "abalone = pandas.read_csv('../Datasets/abalone.csv')\n",
    "X = abalone[['Sex','Length','Whole weight']]\n",
    "X = pandas.get_dummies(X)\n",
    "y = abalone['Rings']\n",
    "model = LinearRegression()\n",
    "model.fit(X,y)\n",
    "\n",
    "data = [\n",
    "    [0.6, 0.75, 0, 0, 1],\n",
    "]\n",
    "# X.head()\n",
    "model.predict(data)"
   ]
  },
  {
   "cell_type": "code",
   "execution_count": 17,
   "id": "35c81453-78f2-4556-96db-e331e81f3ea3",
   "metadata": {},
   "outputs": [
    {
     "data": {
      "text/plain": [
       "Sex                    M\n",
       "Length             0.545\n",
       "Diameter            0.44\n",
       "Height              0.14\n",
       "Whole weight      0.8395\n",
       "Shucked weight     0.356\n",
       "Viscera weight    0.1905\n",
       "Shell weight      0.2385\n",
       "Rings                 11\n",
       "Name: 2024, dtype: object"
      ]
     },
     "execution_count": 17,
     "metadata": {},
     "output_type": "execute_result"
    }
   ],
   "source": [
    "abalone.loc[2024]"
   ]
  },
  {
   "cell_type": "code",
   "execution_count": 18,
   "id": "0c525c21-d270-44fe-b5fa-39bbdd6da34b",
   "metadata": {},
   "outputs": [
    {
     "name": "stdout",
     "output_type": "stream",
     "text": [
      "Index(['Length', 'Whole weight', 'Sex_F', 'Sex_I', 'Sex_M'], dtype='object')\n",
      "[6.88611732e+00 2.57252052e+00 1.43096619e+14 1.43096619e+14\n",
      " 1.43096619e+14]\n"
     ]
    },
    {
     "data": {
      "text/plain": [
       "'\\ny  =  X * model.coef_ + model.intercept_\\n\\nAfter normalization, length is the most impactful/important feature because \\nit has the largest coefficient.\\n'"
      ]
     },
     "execution_count": 18,
     "metadata": {},
     "output_type": "execute_result"
    }
   ],
   "source": [
    "#PID:18\n",
    "#\n",
    "# Exercise: use a linear regression to model Rings using Sex, Length, and Whole weight \n",
    "# and identify the most important feature in this modeling\n",
    "#\n",
    "\n",
    "import pandas\n",
    "from sklearn.linear_model import LinearRegression\n",
    "from sklearn.preprocessing import MinMaxScaler\n",
    "\n",
    "abalone = pandas.read_csv('../Datasets/abalone.csv')\n",
    "X = abalone[['Sex','Length','Whole weight']]\n",
    "X = pandas.get_dummies(X)\n",
    "print(X.columns)\n",
    "X = MinMaxScaler().fit_transform(X)\n",
    "y = abalone['Rings']\n",
    "model = LinearRegression()\n",
    "model.fit(X,y)\n",
    "\n",
    "print(model.coef_)\n",
    "\"\"\"\n",
    "y  =  X * model.coef_ + model.intercept_\n",
    "\n",
    "After normalization, length is the most impactful/important feature because \n",
    "it has the largest coefficient.\n",
    "\"\"\"\n",
    "\n"
   ]
  },
  {
   "cell_type": "markdown",
   "id": "1d854a4e-21ea-45b2-99cf-d3fa76b982b8",
   "metadata": {},
   "source": [
    "```python\n",
    "y = 2*x1 + 10*x2 + 3*x3  + b\n",
    "```\n"
   ]
  },
  {
   "cell_type": "code",
   "execution_count": null,
   "id": "9ef91a86-7fac-41cf-8e0e-30749129cafb",
   "metadata": {},
   "outputs": [],
   "source": []
  }
 ],
 "metadata": {
  "kernelspec": {
   "display_name": "Python 3 (ipykernel)",
   "language": "python",
   "name": "python3"
  },
  "language_info": {
   "codemirror_mode": {
    "name": "ipython",
    "version": 3
   },
   "file_extension": ".py",
   "mimetype": "text/x-python",
   "name": "python",
   "nbconvert_exporter": "python",
   "pygments_lexer": "ipython3",
   "version": "3.9.16"
  }
 },
 "nbformat": 4,
 "nbformat_minor": 5
}
