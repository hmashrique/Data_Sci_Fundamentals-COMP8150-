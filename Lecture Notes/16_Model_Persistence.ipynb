{
 "cells": [
  {
   "cell_type": "markdown",
   "id": "c61992e6-029a-4e06-b375-5e6cb67af918",
   "metadata": {},
   "source": [
    "# Model Persistence\n",
    "\n",
    "Reload the model for prediction of new data.\n",
    "\n",
    "Review the previous notebook."
   ]
  },
  {
   "cell_type": "code",
   "execution_count": 1,
   "id": "4dd055fd-200e-42ef-b664-0df10f96451f",
   "metadata": {},
   "outputs": [],
   "source": [
    "new_data = [ \n",
    "    [0.72,0.55,1.4],\n",
    "]"
   ]
  },
  {
   "cell_type": "code",
   "execution_count": 2,
   "id": "06351b01-f892-46fb-a1d2-71e332badde8",
   "metadata": {},
   "outputs": [],
   "source": [
    "import joblib\n",
    "model = joblib.load('11nn.joblib')\n",
    "scaler = joblib.load('mm-scaler.joblib')"
   ]
  },
  {
   "cell_type": "code",
   "execution_count": 5,
   "id": "5193b1d0-0dae-4957-b576-d5622195491c",
   "metadata": {},
   "outputs": [
    {
     "name": "stderr",
     "output_type": "stream",
     "text": [
      "/Users/vphan/anaconda3/lib/python3.11/site-packages/sklearn/base.py:464: UserWarning: X does not have valid feature names, but MinMaxScaler was fitted with feature names\n",
      "  warnings.warn(\n"
     ]
    }
   ],
   "source": [
    "scaled_data = scaler.transform(new_data)"
   ]
  },
  {
   "cell_type": "code",
   "execution_count": 7,
   "id": "81cf6822-4c7d-44e6-bcf9-d93400fc8d95",
   "metadata": {},
   "outputs": [
    {
     "data": {
      "text/plain": [
       "array([[0.87162162, 0.83193277, 0.49513016]])"
      ]
     },
     "execution_count": 7,
     "metadata": {},
     "output_type": "execute_result"
    }
   ],
   "source": [
    "scaled_data"
   ]
  },
  {
   "cell_type": "code",
   "execution_count": 8,
   "id": "55148f48-f352-4201-a028-7cb10fa22dea",
   "metadata": {},
   "outputs": [
    {
     "data": {
      "text/plain": [
       "array([11.])"
      ]
     },
     "execution_count": 8,
     "metadata": {},
     "output_type": "execute_result"
    }
   ],
   "source": [
    "model.predict(scaled_data)"
   ]
  },
  {
   "cell_type": "code",
   "execution_count": null,
   "id": "2041e2b8-e83e-4864-97f9-4616569ffb9b",
   "metadata": {},
   "outputs": [],
   "source": []
  }
 ],
 "metadata": {
  "kernelspec": {
   "display_name": "Python 3 (ipykernel)",
   "language": "python",
   "name": "python3"
  },
  "language_info": {
   "codemirror_mode": {
    "name": "ipython",
    "version": 3
   },
   "file_extension": ".py",
   "mimetype": "text/x-python",
   "name": "python",
   "nbconvert_exporter": "python",
   "pygments_lexer": "ipython3",
   "version": "3.9.16"
  }
 },
 "nbformat": 4,
 "nbformat_minor": 5
}
