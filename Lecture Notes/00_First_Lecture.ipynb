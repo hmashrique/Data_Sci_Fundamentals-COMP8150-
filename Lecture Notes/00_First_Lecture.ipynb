{
 "cells": [
  {
   "cell_type": "markdown",
   "id": "208a40af-a36a-4b6a-8c75-e2b435246d91",
   "metadata": {},
   "source": [
    "# First Lecture"
   ]
  },
  {
   "cell_type": "markdown",
   "id": "164bc6a2-31f2-418e-9c4f-2d810ea93f29",
   "metadata": {},
   "source": [
    "* If you have questions, ask me immediately.\n",
    "    + In my experience, students who don't ask questions don't do very well.\n",
    "* Get familiar with Canvas (memphis.instructure.com)\n",
    "    + Files folder: lectures, assignments, datasets, exams, syllabus.\n",
    "* Kritish Pahi is the course TA.\n",
    "* What are the prerequisites?\n",
    "    + Very familiar with computers (where files are, how to upload things, etc.)\n",
    "          - Jupyterlab, Anaconda, etc.\n",
    "          - this is a hard prereq. If you don't know your ways around computers/software, you should not be here.\n",
    "    + One at one or two semesters of programming experience (all of CS majors should have this).\n",
    "    + If you are DS grad student, you need COMP 6001 (or similar programming experience) before this course.  If not, you should not be in this course.\n",
    "\n",
    "  "
   ]
  },
  {
   "cell_type": "markdown",
   "id": "ab4a71a2-7ba7-4e54-85fe-f7e5bea49cbb",
   "metadata": {},
   "source": [
    "# Organizing course materials"
   ]
  },
  {
   "cell_type": "markdown",
   "id": "ec4dd2c9-1450-4f09-b9c7-f90b8f82a760",
   "metadata": {},
   "source": [
    "These are the things that you should follow my suggestions.\n",
    "\n",
    "1. I will ask you to organize the materials (lectures, assignments, data, etc.) on your laptops in a specific way. It's not complicated. It's simple and makes sense.  If you don't follow my suggestions, then you should know are doing.\n",
    "   \n",
    "+ Create a COMP7150 directory/folder and put course materials there.\n",
    "+ Under this directory/folder\n",
    "    + MyLectureNotes: this is your own notes that you take during lectures.\n",
    "    + InstructorLectureNotes: this is my lecture notes that you can download, review, study, use, etc.\n",
    "    + Assignments\n",
    "    + Datasets\n",
    "    + Exams\n",
    "\n",
    "3. I don't recommend that you use Colab.  There are reasons.\n",
    "\n",
    "If you don't follow these suggestions, there will likely be some technical problems somewhere down the line. And mid semester, it's harder to switch.\n",
    "\n",
    "\n"
   ]
  },
  {
   "cell_type": "code",
   "execution_count": null,
   "id": "79668d35-0b06-4313-ae40-57fd967129a5",
   "metadata": {},
   "outputs": [],
   "source": []
  }
 ],
 "metadata": {
  "kernelspec": {
   "display_name": "Python 3 (ipykernel)",
   "language": "python",
   "name": "python3"
  },
  "language_info": {
   "codemirror_mode": {
    "name": "ipython",
    "version": 3
   },
   "file_extension": ".py",
   "mimetype": "text/x-python",
   "name": "python",
   "nbconvert_exporter": "python",
   "pygments_lexer": "ipython3",
   "version": "3.11.5"
  }
 },
 "nbformat": 4,
 "nbformat_minor": 5
}
