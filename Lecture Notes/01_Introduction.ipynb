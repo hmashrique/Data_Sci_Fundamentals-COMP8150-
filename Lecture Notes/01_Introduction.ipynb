{
 "cells": [
  {
   "cell_type": "markdown",
   "metadata": {},
   "source": [
    "# Introduction\n",
    "\n",
    "* What you need to know about Jupyter notebooks?\n",
    "    + Create, edit, rename, delete a new notebook.\n",
    "    + Download and upload a notebook.\n",
    "    + Know where your notebooks are on your computer.  They should be in COMP7150/MyLectureNotes.\n",
    "    + Store the instructor's lecture notes in a separate folder, e.g. COMP7150/InstructorLectureNotes.\n",
    "\n",
    "### Carpo\n",
    "+ Carpo allows me/TA to help you during in-class exercises.\n",
    "+ Student hub: http://141.225.10.176/  (this a server in my lab in Dunn Hall)\n",
    "+ If you are at school (UoM), you don't need to use a VPN.\n",
    "+ If you are at home, you will need a VPN (Cisco Anyconnect).\n",
    "+ Almost all the time, you use this during class on ground, then there's no need for a VPN.\n",
    "\n",
    "----\n",
    "\n",
    "* Expectation\n",
    "    + You will code in-class, along side with me.\n",
    "    + It can be challenging to multi-task: listen, think, and code.\n",
    "    + Do not skip lectures.\n",
    "    + Ask questions if you are confused.\n",
    "    + Reach out to me if you are not sure about my expectations.\n",
    "    + Reach out to me if the course/instruction does not meet your expeactations in any way.\n",
    "    + Reach out to me if you need assisstance."
   ]
  },
  {
   "cell_type": "markdown",
   "metadata": {
    "jp-MarkdownHeadingCollapsed": true
   },
   "source": [
    "### Today's learning goals\n",
    "\n",
    "* Understand Anaconda\n",
    "* Understand Jupyter Lab\n",
    "* Understand Jupyter Notebooks\n",
    "* Organize notebooks\n",
    "* Edit notebooks\n"
   ]
  },
  {
   "cell_type": "markdown",
   "metadata": {},
   "source": [
    "# A few technical things and concepts"
   ]
  },
  {
   "cell_type": "markdown",
   "metadata": {},
   "source": [
    "+ Anaconda is a webapp that happens to run on your laptop.\n",
    "+ Anaconda allows you to use Python, together with many useful scientific Python libraries.  \n",
    "+ Jupyterlab is an app within Anaconda.\n",
    "+ Jupyterlab has Jupyter notebooks.  A Jupyter notebook is a document that has Python code and regular texts.\n",
    "+ Data scientists (and many others) use Jupyter notebooks extensively to write code and develop their ideas about how to solve problems.\n",
    "+ In this course, we use Jupyter notebooks to write Python code, and explanations/thoughts about our code."
   ]
  },
  {
   "cell_type": "markdown",
   "metadata": {},
   "source": [
    "+ Computer Scientists are used to pure \"programs\" (Python files or Java files). These programs are written exclusively in a programming language (e.g. Python).\n",
    "\n",
    "+ So, the idea that texts and code are mixed together within one document is not comfortable to many traditional coders."
   ]
  },
  {
   "cell_type": "markdown",
   "metadata": {},
   "source": [
    "* It's, however, extremely useful to be able to mix texts and code together in one document.\n",
    "\n",
    "* We use documents (Python files, jupyter notebooks, etc.) to communicate with people and *ourselves*.\n",
    "\n",
    "* And as programmers, you are actually bilingual.  You know Python and you know English. So in your head, you are thinking in both languages.  Each has specical unique constructs that are uniquely useful to capture ideas.\n",
    "\n",
    "* So, it's very useful to be able to write in both languages in one document."
   ]
  },
  {
   "cell_type": "markdown",
   "metadata": {},
   "source": [
    "# Jupyter Notebooks\n",
    "\n",
    "Learning objectives:\n",
    "* Know how to use Jupyter lab and Jupyter notebooks\n",
    "* Understand basic concepts about Jupyter notebooks.\n",
    "    * Blocks\n",
    "    * HTML, Markdown\n",
    "    * Python"
   ]
  },
  {
   "cell_type": "markdown",
   "metadata": {},
   "source": [
    "### What is a Jupyter Notebook and what is it for?\n",
    "\n",
    "A traditional IDE is used to keep code, not regular text.\n",
    "\n",
    "A Jupyter notebook is a \"computational\" notebook. It has both code and regular text.\n",
    "\n",
    "A Jupyter notebook is a list of blocks.\n",
    "\n",
    "Each block is either code (written in Python syntax) or regular text (written in Markdown syntax).\n",
    "\n",
    "To view a block, i.e. see the true output of a block, you must \"run\" it.\n",
    "\n",
    "---\n",
    "\n",
    "My favorite fruits:\n",
    "+ Apple\n",
    "+ Orange\n",
    "+ Grape\n",
    "+ Strawberry"
   ]
  },
  {
   "cell_type": "code",
   "execution_count": null,
   "metadata": {},
   "outputs": [],
   "source": []
  },
  {
   "cell_type": "code",
   "execution_count": 1,
   "metadata": {},
   "outputs": [
    {
     "name": "stdout",
     "output_type": "stream",
     "text": [
      "hello\n"
     ]
    }
   ],
   "source": [
    "print('hello')"
   ]
  },
  {
   "cell_type": "markdown",
   "metadata": {},
   "source": [
    "\n",
    "this is Markdown.\n"
   ]
  },
  {
   "cell_type": "markdown",
   "metadata": {},
   "source": []
  },
  {
   "cell_type": "code",
   "execution_count": 2,
   "metadata": {},
   "outputs": [
    {
     "data": {
      "text/plain": [
       "2566"
      ]
     },
     "execution_count": 2,
     "metadata": {},
     "output_type": "execute_result"
    }
   ],
   "source": [
    "# here is a Python block:\n",
    "3*9+2 + 10 + 7 + 2520"
   ]
  },
  {
   "cell_type": "markdown",
   "metadata": {},
   "source": [
    "### Summary of key concepts"
   ]
  },
  {
   "cell_type": "markdown",
   "metadata": {},
   "source": [
    "+ A juptyer notebook allows you to write code and texts.\n",
    "+ Code is written in Python syntax.\n",
    "+ Texts are written in Markdown syntax, which allows to format nicely, headers, lists, etc."
   ]
  },
  {
   "cell_type": "markdown",
   "metadata": {},
   "source": [
    "## This is a second-level header\n",
    "\n",
    "First-level headers have the largest font size.\n",
    "\n",
    "This is a list (prefixing a list with \"+\" or \"-\" or \"*\":\n",
    "- one\n",
    "- two\n",
    "- three\n"
   ]
  },
  {
   "cell_type": "code",
   "execution_count": 3,
   "metadata": {},
   "outputs": [
    {
     "name": "stdout",
     "output_type": "stream",
     "text": [
      "1\n",
      "5\n",
      "10\n"
     ]
    }
   ],
   "source": [
    "for x in [1,5,10]:\n",
    "    print(x)"
   ]
  },
  {
   "cell_type": "markdown",
   "metadata": {},
   "source": [
    "# Key concepts for Jupyter notebooks\n",
    "\n",
    "+ Code block (Python) versus text block (Markdown)\n",
    "+ Syntax for text blocks\n",
    "    + Headings (#)\n",
    "    + Lists (+ or - or *)\n",
    "+ Syntax for code blocks\n",
    "    + Python\n",
    "+ How to execute a block\n",
    "+ Keyboard shortcuts\n",
    "    + Shift + Return -- execute block\n",
    "    + Esc + M -- change block to Markdown (text)\n",
    "    + Esc + Y -- change block to Python (code)"
   ]
  },
  {
   "cell_type": "markdown",
   "metadata": {},
   "source": [
    "A jupyter notebook consists of a list of blocks.  Each block can be:\n",
    "\n",
    "+ Raw -- no syntax\n",
    "+ Markdown -- simplified HTML\n",
    "+ Python -- code\n",
    "\n"
   ]
  },
  {
   "cell_type": "code",
   "execution_count": null,
   "metadata": {},
   "outputs": [],
   "source": []
  },
  {
   "cell_type": "code",
   "execution_count": 2,
   "metadata": {},
   "outputs": [
    {
     "name": "stdout",
     "output_type": "stream",
     "text": [
      "5\n"
     ]
    }
   ],
   "source": [
    "# this is a code block (language is Python)\n",
    "x=5\n",
    "print(x)"
   ]
  },
  {
   "cell_type": "code",
   "execution_count": 2,
   "metadata": {},
   "outputs": [
    {
     "data": {
      "text/plain": [
       "25"
      ]
     },
     "execution_count": 2,
     "metadata": {},
     "output_type": "execute_result"
    }
   ],
   "source": [
    "5 + 10* 2"
   ]
  },
  {
   "cell_type": "markdown",
   "metadata": {},
   "source": [
    "# Markdown\n",
    "\n",
    "Markdown has simple syntax that allows you to specifiy:\n",
    "\n",
    "+ Bold or italicized texts.\n",
    "+ Headers\n",
    "+ Lists (unordered or ordered)\n",
    "+ Verbatim\n",
    "\n",
    "\n",
    "**this is bold**\n",
    "\n",
    "*this is italicized*\n",
    "\n",
    "# This Is a Header (h1)\n",
    "\n",
    "## This Is a second-level header (h2)\n",
    "\n",
    "This is verbatim/quoted text\n",
    "\n",
    "```\n",
    "for x in L:\n",
    "   print(x)\n",
    "\n",
    "```\n",
    "\n",
    "Regular HTML code will work too (I think, most of the time).\n",
    "\n",
    "<a href=\"https://www.memphis.edu\">U of M</a>\n",
    "\n",
    "I think you can use most HTML tags:\n",
    "+ a -- hyperlinks\n",
    "+ img -- inline images\n",
    "\n",
    "---"
   ]
  },
  {
   "cell_type": "code",
   "execution_count": 3,
   "metadata": {},
   "outputs": [
    {
     "name": "stdout",
     "output_type": "stream",
     "text": [
      "hello world\n"
     ]
    }
   ],
   "source": [
    "print('hello world')"
   ]
  },
  {
   "cell_type": "markdown",
   "metadata": {},
   "source": [
    "### Summary\n",
    "\n",
    "+ You should now undestand what Jupyter notebooks are and how to work with them.\n",
    "\n",
    "+ Organize your notebooks effectively.  Do not use the Downloads folder to store your notebooks.\n",
    "\n",
    "+ Create a subfolder in the Jupyter Lab root folder for COMP 7150.\n",
    "\n"
   ]
  },
  {
   "cell_type": "markdown",
   "metadata": {},
   "source": [
    "### Quick Exercise\n",
    "\n",
    "Create a new notebook.  In it, write a Python function to sum all numbers in a list of numbers.  And show that it works for this list below.\n",
    "\n",
    "```\n",
    "L = [1, 3, 5, 7, 9]\n",
    "```"
   ]
  },
  {
   "cell_type": "markdown",
   "metadata": {},
   "source": [
    "### Todo at home\n",
    "\n",
    "+ Make sure you have Jupyter Lab up and running. Know how to work with Jupyter notebooks.\n",
    "\n",
    "+ Bring a fully charged laptop with you next week.\n",
    "\n",
    "+ Review Python.\n"
   ]
  },
  {
   "cell_type": "code",
   "execution_count": 7,
   "metadata": {},
   "outputs": [],
   "source": [
    "import pandas\n",
    "df = pandas.read_csv('../Datasets/tips.csv')"
   ]
  },
  {
   "cell_type": "code",
   "execution_count": 8,
   "metadata": {},
   "outputs": [
    {
     "data": {
      "text/html": [
       "<div>\n",
       "<style scoped>\n",
       "    .dataframe tbody tr th:only-of-type {\n",
       "        vertical-align: middle;\n",
       "    }\n",
       "\n",
       "    .dataframe tbody tr th {\n",
       "        vertical-align: top;\n",
       "    }\n",
       "\n",
       "    .dataframe thead th {\n",
       "        text-align: right;\n",
       "    }\n",
       "</style>\n",
       "<table border=\"1\" class=\"dataframe\">\n",
       "  <thead>\n",
       "    <tr style=\"text-align: right;\">\n",
       "      <th></th>\n",
       "      <th>total_bill</th>\n",
       "      <th>tip</th>\n",
       "      <th>sex</th>\n",
       "      <th>smoker</th>\n",
       "      <th>day</th>\n",
       "      <th>time</th>\n",
       "      <th>size</th>\n",
       "    </tr>\n",
       "  </thead>\n",
       "  <tbody>\n",
       "    <tr>\n",
       "      <th>0</th>\n",
       "      <td>16.99</td>\n",
       "      <td>1.01</td>\n",
       "      <td>Female</td>\n",
       "      <td>No</td>\n",
       "      <td>Sun</td>\n",
       "      <td>Dinner</td>\n",
       "      <td>2</td>\n",
       "    </tr>\n",
       "    <tr>\n",
       "      <th>1</th>\n",
       "      <td>10.34</td>\n",
       "      <td>1.66</td>\n",
       "      <td>Male</td>\n",
       "      <td>No</td>\n",
       "      <td>Sun</td>\n",
       "      <td>Dinner</td>\n",
       "      <td>3</td>\n",
       "    </tr>\n",
       "    <tr>\n",
       "      <th>2</th>\n",
       "      <td>21.01</td>\n",
       "      <td>3.50</td>\n",
       "      <td>Male</td>\n",
       "      <td>No</td>\n",
       "      <td>Sun</td>\n",
       "      <td>Dinner</td>\n",
       "      <td>3</td>\n",
       "    </tr>\n",
       "    <tr>\n",
       "      <th>3</th>\n",
       "      <td>23.68</td>\n",
       "      <td>3.31</td>\n",
       "      <td>Male</td>\n",
       "      <td>No</td>\n",
       "      <td>Sun</td>\n",
       "      <td>Dinner</td>\n",
       "      <td>2</td>\n",
       "    </tr>\n",
       "    <tr>\n",
       "      <th>4</th>\n",
       "      <td>24.59</td>\n",
       "      <td>3.61</td>\n",
       "      <td>Female</td>\n",
       "      <td>No</td>\n",
       "      <td>Sun</td>\n",
       "      <td>Dinner</td>\n",
       "      <td>4</td>\n",
       "    </tr>\n",
       "    <tr>\n",
       "      <th>...</th>\n",
       "      <td>...</td>\n",
       "      <td>...</td>\n",
       "      <td>...</td>\n",
       "      <td>...</td>\n",
       "      <td>...</td>\n",
       "      <td>...</td>\n",
       "      <td>...</td>\n",
       "    </tr>\n",
       "    <tr>\n",
       "      <th>239</th>\n",
       "      <td>29.03</td>\n",
       "      <td>5.92</td>\n",
       "      <td>Male</td>\n",
       "      <td>No</td>\n",
       "      <td>Sat</td>\n",
       "      <td>Dinner</td>\n",
       "      <td>3</td>\n",
       "    </tr>\n",
       "    <tr>\n",
       "      <th>240</th>\n",
       "      <td>27.18</td>\n",
       "      <td>2.00</td>\n",
       "      <td>Female</td>\n",
       "      <td>Yes</td>\n",
       "      <td>Sat</td>\n",
       "      <td>Dinner</td>\n",
       "      <td>2</td>\n",
       "    </tr>\n",
       "    <tr>\n",
       "      <th>241</th>\n",
       "      <td>22.67</td>\n",
       "      <td>2.00</td>\n",
       "      <td>Male</td>\n",
       "      <td>Yes</td>\n",
       "      <td>Sat</td>\n",
       "      <td>Dinner</td>\n",
       "      <td>2</td>\n",
       "    </tr>\n",
       "    <tr>\n",
       "      <th>242</th>\n",
       "      <td>17.82</td>\n",
       "      <td>1.75</td>\n",
       "      <td>Male</td>\n",
       "      <td>No</td>\n",
       "      <td>Sat</td>\n",
       "      <td>Dinner</td>\n",
       "      <td>2</td>\n",
       "    </tr>\n",
       "    <tr>\n",
       "      <th>243</th>\n",
       "      <td>18.78</td>\n",
       "      <td>3.00</td>\n",
       "      <td>Female</td>\n",
       "      <td>No</td>\n",
       "      <td>Thur</td>\n",
       "      <td>Dinner</td>\n",
       "      <td>2</td>\n",
       "    </tr>\n",
       "  </tbody>\n",
       "</table>\n",
       "<p>244 rows × 7 columns</p>\n",
       "</div>"
      ],
      "text/plain": [
       "     total_bill   tip     sex smoker   day    time  size\n",
       "0         16.99  1.01  Female     No   Sun  Dinner     2\n",
       "1         10.34  1.66    Male     No   Sun  Dinner     3\n",
       "2         21.01  3.50    Male     No   Sun  Dinner     3\n",
       "3         23.68  3.31    Male     No   Sun  Dinner     2\n",
       "4         24.59  3.61  Female     No   Sun  Dinner     4\n",
       "..          ...   ...     ...    ...   ...     ...   ...\n",
       "239       29.03  5.92    Male     No   Sat  Dinner     3\n",
       "240       27.18  2.00  Female    Yes   Sat  Dinner     2\n",
       "241       22.67  2.00    Male    Yes   Sat  Dinner     2\n",
       "242       17.82  1.75    Male     No   Sat  Dinner     2\n",
       "243       18.78  3.00  Female     No  Thur  Dinner     2\n",
       "\n",
       "[244 rows x 7 columns]"
      ]
     },
     "execution_count": 8,
     "metadata": {},
     "output_type": "execute_result"
    }
   ],
   "source": [
    "df"
   ]
  },
  {
   "cell_type": "code",
   "execution_count": null,
   "metadata": {},
   "outputs": [],
   "source": []
  }
 ],
 "metadata": {
  "kernelspec": {
   "display_name": "Python 3 (ipykernel)",
   "language": "python",
   "name": "python3"
  },
  "language_info": {
   "codemirror_mode": {
    "name": "ipython",
    "version": 3
   },
   "file_extension": ".py",
   "mimetype": "text/x-python",
   "name": "python",
   "nbconvert_exporter": "python",
   "pygments_lexer": "ipython3",
   "version": "3.11.5"
  }
 },
 "nbformat": 4,
 "nbformat_minor": 4
}
